{
 "cells": [
  {
   "cell_type": "markdown",
   "metadata": {},
   "source": [
    "# Problem: Recommend Movies or Shows to Users"
   ]
  },
  {
   "cell_type": "markdown",
   "metadata": {},
   "source": [
    "Modified from:\n",
    "- [Implementing a Recommender System with SageMaker, MXNet, and Gluon](https://github.com/awslabs/amazon-sagemaker-examples/blob/master/introduction_to_applying_machine_learning/gluon_recommender_system/gluon_recommender_system.ipynb)\n",
    "- [An Introduction to Factorization Machines with MNIST](https://github.com/awslabs/amazon-sagemaker-examples/blob/master/introduction_to_amazon_algorithms/factorization_machines_mnist/factorization_machines_mnist.ipynb)\n",
    "- [Extending Amazon SageMaker Factorization Machines Algorithm to Predict Top X Recommendations](https://aws.amazon.com/blogs/machine-learning/extending-amazon-sagemaker-factorization-machines-algorithm-to-predict-top-x-recommendations/)"
   ]
  },
  {
   "cell_type": "markdown",
   "metadata": {},
   "source": [
    "## Introduction to business scenario\n",
    "\n",
    "You work for a startup that focuses on delivering on-demand video streaming services to users. The company wants to introduce movie/show recommendations for their users based on their viewing history.\n",
    "\n",
    "You are tasked with solving part of this problem by leveraging machine learning to create a recommendation engine to be used on the user website. You are given access to the dataset of historical user preferences and the movies they watched. You can use this to train a machine learning model to recommend movies/shows to watch.\n",
    "\n",
    "## About this dataset  \n",
    "The Amazon Customer Reviews Dataset is a collection of reviews on different products from the Amazon.com marketplace from 1995 until 2015. Customer reviews are one of the most important data types at Amazon. Collecting and showing reviews has been part of the Amazon culture since the beginning of the company and is arguably one important source of innovation. For more details on this dataset, see [Amazon Customer Reviews Dataset](https://s3.amazonaws.com/amazon-reviews-pds/readme.html).\n",
    "\n",
    "This exercise focuses on reviews of videos. The videos dataset contains 1- to 5-star ratings from over 2M Amazon customers on 160K digital videos."
   ]
  },
  {
   "cell_type": "markdown",
   "metadata": {},
   "source": [
    "### Features\n",
    "\n",
    "**Data columns**\n",
    "\n",
    "- `marketplace`: Two-letter country code (in this case, all \"US\")\n",
    "- `customer_id`: Random identifier that can be used to aggregate reviews written by a single author\n",
    "- `review_id`: Unique ID for the review\n",
    "- `product_id`: Amazon Standard Identification Number (ASIN). http://www.amazon.com/dp/<ASIN\\> links to the product's detail page.\n",
    "- `product_parent`: The parent of that ASIN. Multiple ASINs (color or format variations of the same product) can roll up into a single parent.\n",
    "- `product_title`: Title description of the product\n",
    "- `product_category`: Broad product category that can be used to group reviews (in this case, digital videos)\n",
    "- `star_rating`: Product's rating (1 to 5 stars)\n",
    "- `helpful_votes`: Number of helpful votes for the review\n",
    "- `total_votes`: Number of total votes the review received\n",
    "- `vine`: Was the review written as part of the Vine program?\n",
    "- `verified_purchase`: Was the review from a verified purchase?\n",
    "- `review_headline`: Title of the review itself\n",
    "- `review_body`: Text of the review\n",
    "- `review_date`: Date the review was written\n",
    "\n",
    "\n",
    "**Data format**\n",
    "- Tab `\\t` separated text file, without quote or escape characters\n",
    "- First line in each file is header; 1 line corresponds to 1 record\n",
    "\n",
    "### Dataset attributions\n",
    "\n",
    "Website: https://s3.amazonaws.com/amazon-reviews-pds/readme.html\n",
    "\n",
    "This dataset is being provided to you by permission of Amazon and is subject to the terms of the AWS Digital Training Service Agreement (available at https://aws.amazon.com/training/digital-training-agreement). You are expressly prohibited from copying, modifying, selling, exporting, or using this dataset in any way other than for the purpose of completing this lab."
   ]
  },
  {
   "cell_type": "markdown",
   "metadata": {},
   "source": [
    "## Brainstorming and designing a question...\n",
    "\n",
    "...That you can answer with machine learning. \n",
    "\n",
    "The first step in most projects is to think about the question you want to ask, how the data available supports this question, and which tool (in this case, machine learning model) you are going to use to answer the question. This is an important step because it helps narrow the scope of exploration and gives clarity on the features that you are going to use. \n",
    "\n",
    "Take a moment to write your thoughts regarding the dataset in the cell below. What are the things you can predict with machine learning? Why may that be relevant from a business/client perspective? Explain why you consider these thoughts important."
   ]
  },
  {
   "cell_type": "code",
   "execution_count": null,
   "metadata": {},
   "outputs": [],
   "source": [
    "# Write your thoughts here"
   ]
  },
  {
   "cell_type": "markdown",
   "metadata": {},
   "source": [
    "There might be several ideas about what to do with the data, but for now we are all going to work on recommending a video to a particular user."
   ]
  },
  {
   "cell_type": "markdown",
   "metadata": {},
   "source": [
    "## Recommendation and factorization machines\n",
    "\n",
    "In many ways, recommender systems were a catalyst for the current popularity of machine learning. One of Amazon's earliest successes was the \"Customers who bought this, also bought...\" feature. The million dollar Netflix Prize spurred research, raised public awareness, and inspired numerous other data science competitions.\n",
    "\n",
    "Recommender systems can utilize a multitude of data sources and machine learning algorithms. Most combine various unsupervised, supervised, and reinforcement learning techniques into a holistic framework. However, the core component is almost always a model that predicts a user's rating (or purchase) for a certain item based on that user's historical ratings of similar items as well as the behavior of other similar users. The minimal required dataset for this is a history of user item ratings (which we have).\n",
    "\n",
    "The method that you'll use is a factorization machine. A factorization machine is a general-purpose supervised learning algorithm that you can use for both classification and regression tasks. It is an extension of a linear model and is designed to parsimoniously (simply) capture interactions between features in high-dimensional sparse datasets. This makes it a good candidate to handle data patterns with features such as click prediction and item recommendation."
   ]
  },
  {
   "cell_type": "markdown",
   "metadata": {},
   "source": [
    "# Step 1: Problem formulation and data collection\n",
    "\n",
    "Start this project off by writing a few sentences below that summarize the business problem and the business goal you're trying to achieve in this scenario. Include a business metric you would like your team to aspire toward. With that information defined, clearly write out the machine learning problem statement. Finally, add a comment or two about the type of machine learning this represents.\n",
    "\n",
    "#### <span style=\"color: blue;\">Project presentation: Include a summary of these details in your project presentations.</span>"
   ]
  },
  {
   "cell_type": "markdown",
   "metadata": {},
   "source": [
    "### Read through a business scenario and:\n",
    "\n",
    "### 1. Determine if and why ML is an appropriate solution to deploy."
   ]
  },
  {
   "cell_type": "markdown",
   "metadata": {},
   "source": [
    "We can’t simply code a general rule that covers all cases. Also, there are a lot of prediction labels."
   ]
  },
  {
   "cell_type": "markdown",
   "metadata": {},
   "source": [
    "### 2. Formulate the business problem, success metrics, and desired ML output."
   ]
  },
  {
   "cell_type": "markdown",
   "metadata": {},
   "source": [
    "Users take a lot of time while surfing the Amazon.com website until they get their selected items. "
   ]
  },
  {
   "cell_type": "markdown",
   "metadata": {},
   "source": [
    "### 3. Identify the type of ML problem you’re dealing with."
   ]
  },
  {
   "cell_type": "markdown",
   "metadata": {},
   "source": [
    "Semi-supervised learning."
   ]
  },
  {
   "cell_type": "markdown",
   "metadata": {},
   "source": [
    "### 4. Analyze the appropriateness of the data you’re working with."
   ]
  },
  {
   "cell_type": "code",
   "execution_count": null,
   "metadata": {},
   "outputs": [],
   "source": [
    "# Write your answer here"
   ]
  },
  {
   "cell_type": "markdown",
   "metadata": {},
   "source": [
    "### Setup\n",
    "\n",
    "Now that we have decided where to focus our energy, let's set things up so you can start working on solving the problem.\n",
    "\n",
    "**Note:** This notebook was created and tested on an `ml.m4.xlarge` notebook instance. \n",
    "\n",
    "Start by specifying:\n",
    "- The Amazon Simple Storage Service (Amazon S3) bucket and prefix(?) that you want to use for training and model data. This should be within the same Region as the Notebook Instance, training, and hosting.\n",
    "- The AWS Identity and Access Management (IAM) role [Amazon Resource Name (ARN)](https://docs.aws.amazon.com/general/latest/gr/aws-arns-and-namespaces.html) used to give training and hosting access to your data. See the documentation for how to create these.\n",
    "\n",
    "**Note:** If more than one role is required for notebook instances, training, and/or hosting, replace the `get_execution_role()` call with the appropriate full IAM role ARN string(s)."
   ]
  },
  {
   "cell_type": "markdown",
   "metadata": {},
   "source": [
    "Replace **`<LabBucketName>`** with the resource name that was provided with your lab account."
   ]
  },
  {
   "cell_type": "code",
   "execution_count": 1,
   "metadata": {},
   "outputs": [],
   "source": [
    "# Change the bucket and prefix according to your information\n",
    "bucket = 'qls-4279222-10873a7655e1b13e-labbucket-1l60tfo955a52'\n",
    "prefix = 'sagemaker-fm' \n",
    "\n",
    "import sagemaker\n",
    "role = sagemaker.get_execution_role()"
   ]
  },
  {
   "cell_type": "markdown",
   "metadata": {},
   "source": [
    "Now, load some Python libraries you'll need for the remainder of this example notebook."
   ]
  },
  {
   "cell_type": "code",
   "execution_count": 2,
   "metadata": {},
   "outputs": [
    {
     "name": "stderr",
     "output_type": "stream",
     "text": [
      "Matplotlib is building the font cache; this may take a moment.\n"
     ]
    }
   ],
   "source": [
    "import os, subprocess\n",
    "import warnings\n",
    "import pandas as pd\n",
    "import numpy as np\n",
    "import sagemaker\n",
    "from sagemaker.mxnet import MXNet\n",
    "import boto3\n",
    "import json\n",
    "import matplotlib.pyplot as plt\n",
    "import seaborn as sns\n",
    "\n",
    "# Add this to display all the outputs in the cell and not just the last one\n",
    "from IPython.core.interactiveshell import InteractiveShell\n",
    "InteractiveShell.ast_node_interactivity = \"all\"\n",
    "\n",
    "# Ignore warnings\n",
    "warnings.filterwarnings(\"ignore\")"
   ]
  },
  {
   "cell_type": "markdown",
   "metadata": {},
   "source": [
    "# Step 2: Data preprocessing and visualization \n",
    "In this data preprocessing phase, you should take the opportunity to explore and visualize your data to better understand it. First, import the necessary libraries and read the data into a Pandas dataframe. After that, explore your data. Look for the shape of the dataset and explore your columns and the types of columns you're working with (numerical, categorical). Consider performing basic statistics on the features to get a sense of feature means and ranges. Take a close look at your target column and determine its distribution.\n",
    "\n",
    "### Specific questions to consider\n",
    "1. What can you deduce from the basic statistics you ran on the features? \n",
    "\n",
    "2. What can you deduce from the distributions of the target classes?\n",
    "\n",
    "3. Is there anything else you deduced from exploring the data?\n",
    "\n",
    "#### <span style=\"color: blue;\">Project presentation: Include a summary of your answers to these and other similar questions in your project presentations.</span>\n",
    "\n",
    "Start by bringing in the dataset from an Amazon S3 public bucket to this notebook environment."
   ]
  },
  {
   "cell_type": "code",
   "execution_count": 3,
   "metadata": {},
   "outputs": [
    {
     "data": {
      "text/plain": [
       "CompletedProcess(args=['mkdir', '-p', '/home/ec2-user/SageMaker/project/data/AmazonReviews'], returncode=0)"
      ]
     },
     "execution_count": 3,
     "metadata": {},
     "output_type": "execute_result"
    },
    {
     "data": {
      "text/plain": [
       "CompletedProcess(args=['aws', 's3', 'cp', 's3://amazon-reviews-pds/tsv/amazon_reviews_us_Digital_Video_Download_v1_00.tsv.gz', '/home/ec2-user/SageMaker/project/data/AmazonReviews'], returncode=0)"
      ]
     },
     "execution_count": 3,
     "metadata": {},
     "output_type": "execute_result"
    }
   ],
   "source": [
    "# Check whether the file is already in the desired path or if it needs to be downloaded\n",
    "\n",
    "base_path = '/home/ec2-user/SageMaker/project/data/AmazonReviews'\n",
    "file_path = '/amazon_reviews_us_Digital_Video_Download_v1_00.tsv.gz'\n",
    "\n",
    "if not os.path.isfile(base_path + file_path):\n",
    "    subprocess.run(['mkdir', '-p', base_path])\n",
    "    subprocess.run(['aws', 's3', 'cp', 's3://amazon-reviews-pds/tsv' + file_path, base_path])\n",
    "else:\n",
    "    print('File already downloaded!')"
   ]
  },
  {
   "cell_type": "markdown",
   "metadata": {},
   "source": [
    "### Reading the dataset\n",
    "\n",
    "Read the data into a Pandas dataframe so that you can know what you are dealing with.\n",
    "\n",
    "**Note:** You'll set `error_bad_lines=False` when reading the file in, because there appear to be a very small number of records that would create a problem otherwise.\n",
    "\n",
    "**Hint:** You can use the built-in Python `read_csv` function ([documentation](https://pandas.pydata.org/pandas-docs/stable/reference/api/pandas.read_csv.html)). You can use the file path directly with Pandas `read_csv` with `delimiter='\\t'`.\n",
    "\n",
    "For example: `pd.read_csv('filename.tar.gz', delimiter = '\\t', error_bad_lines=False)`"
   ]
  },
  {
   "cell_type": "code",
   "execution_count": 4,
   "metadata": {},
   "outputs": [
    {
     "name": "stderr",
     "output_type": "stream",
     "text": [
      "b'Skipping line 92523: expected 15 fields, saw 22\\n'\n",
      "b'Skipping line 343254: expected 15 fields, saw 22\\n'\n",
      "b'Skipping line 524626: expected 15 fields, saw 22\\n'\n",
      "b'Skipping line 623024: expected 15 fields, saw 22\\n'\n",
      "b'Skipping line 977412: expected 15 fields, saw 22\\n'\n",
      "b'Skipping line 1496867: expected 15 fields, saw 22\\n'\n",
      "b'Skipping line 1711638: expected 15 fields, saw 22\\n'\n",
      "b'Skipping line 1787213: expected 15 fields, saw 22\\n'\n",
      "b'Skipping line 2395306: expected 15 fields, saw 22\\n'\n",
      "b'Skipping line 2527690: expected 15 fields, saw 22\\n'\n"
     ]
    }
   ],
   "source": [
    "df = pd.read_csv(base_path + file_path,\n",
    "                 delimiter = '\\t',\n",
    "                 error_bad_lines=False)"
   ]
  },
  {
   "cell_type": "markdown",
   "metadata": {},
   "source": [
    "Print the first few rows of your dataset.  \n",
    "\n",
    "**Hint**: Use the `pandas.head(<number>)` function to print the rows."
   ]
  },
  {
   "cell_type": "code",
   "execution_count": 5,
   "metadata": {
    "scrolled": true
   },
   "outputs": [
    {
     "data": {
      "text/html": [
       "<div>\n",
       "<style scoped>\n",
       "    .dataframe tbody tr th:only-of-type {\n",
       "        vertical-align: middle;\n",
       "    }\n",
       "\n",
       "    .dataframe tbody tr th {\n",
       "        vertical-align: top;\n",
       "    }\n",
       "\n",
       "    .dataframe thead th {\n",
       "        text-align: right;\n",
       "    }\n",
       "</style>\n",
       "<table border=\"1\" class=\"dataframe\">\n",
       "  <thead>\n",
       "    <tr style=\"text-align: right;\">\n",
       "      <th></th>\n",
       "      <th>marketplace</th>\n",
       "      <th>customer_id</th>\n",
       "      <th>review_id</th>\n",
       "      <th>product_id</th>\n",
       "      <th>product_parent</th>\n",
       "      <th>product_title</th>\n",
       "      <th>product_category</th>\n",
       "      <th>star_rating</th>\n",
       "      <th>helpful_votes</th>\n",
       "      <th>total_votes</th>\n",
       "      <th>vine</th>\n",
       "      <th>verified_purchase</th>\n",
       "      <th>review_headline</th>\n",
       "      <th>review_body</th>\n",
       "      <th>review_date</th>\n",
       "    </tr>\n",
       "  </thead>\n",
       "  <tbody>\n",
       "    <tr>\n",
       "      <th>0</th>\n",
       "      <td>US</td>\n",
       "      <td>12190288</td>\n",
       "      <td>R3FU16928EP5TC</td>\n",
       "      <td>B00AYB1482</td>\n",
       "      <td>668895143</td>\n",
       "      <td>Enlightened: Season 1</td>\n",
       "      <td>Digital_Video_Download</td>\n",
       "      <td>5</td>\n",
       "      <td>0</td>\n",
       "      <td>0</td>\n",
       "      <td>N</td>\n",
       "      <td>Y</td>\n",
       "      <td>I loved it and I wish there was a season 3</td>\n",
       "      <td>I loved it and I wish there was a season 3... ...</td>\n",
       "      <td>2015-08-31</td>\n",
       "    </tr>\n",
       "    <tr>\n",
       "      <th>1</th>\n",
       "      <td>US</td>\n",
       "      <td>30549954</td>\n",
       "      <td>R1IZHHS1MH3AQ4</td>\n",
       "      <td>B00KQD28OM</td>\n",
       "      <td>246219280</td>\n",
       "      <td>Vicious</td>\n",
       "      <td>Digital_Video_Download</td>\n",
       "      <td>5</td>\n",
       "      <td>0</td>\n",
       "      <td>0</td>\n",
       "      <td>N</td>\n",
       "      <td>Y</td>\n",
       "      <td>As always it seems that the best shows come fr...</td>\n",
       "      <td>As always it seems that the best shows come fr...</td>\n",
       "      <td>2015-08-31</td>\n",
       "    </tr>\n",
       "    <tr>\n",
       "      <th>2</th>\n",
       "      <td>US</td>\n",
       "      <td>52895410</td>\n",
       "      <td>R52R85WC6TIAH</td>\n",
       "      <td>B01489L5LQ</td>\n",
       "      <td>534732318</td>\n",
       "      <td>After Words</td>\n",
       "      <td>Digital_Video_Download</td>\n",
       "      <td>4</td>\n",
       "      <td>17</td>\n",
       "      <td>18</td>\n",
       "      <td>N</td>\n",
       "      <td>Y</td>\n",
       "      <td>Charming movie</td>\n",
       "      <td>This movie isn't perfect, but it gets a lot of...</td>\n",
       "      <td>2015-08-31</td>\n",
       "    </tr>\n",
       "    <tr>\n",
       "      <th>3</th>\n",
       "      <td>US</td>\n",
       "      <td>27072354</td>\n",
       "      <td>R7HOOYTVIB0DS</td>\n",
       "      <td>B008LOVIIK</td>\n",
       "      <td>239012694</td>\n",
       "      <td>Masterpiece: Inspector Lewis Season 5</td>\n",
       "      <td>Digital_Video_Download</td>\n",
       "      <td>5</td>\n",
       "      <td>0</td>\n",
       "      <td>0</td>\n",
       "      <td>N</td>\n",
       "      <td>Y</td>\n",
       "      <td>Five Stars</td>\n",
       "      <td>excellant this is what tv should be</td>\n",
       "      <td>2015-08-31</td>\n",
       "    </tr>\n",
       "    <tr>\n",
       "      <th>4</th>\n",
       "      <td>US</td>\n",
       "      <td>26939022</td>\n",
       "      <td>R1XQ2N5CDOZGNX</td>\n",
       "      <td>B0094LZMT0</td>\n",
       "      <td>535858974</td>\n",
       "      <td>On The Waterfront</td>\n",
       "      <td>Digital_Video_Download</td>\n",
       "      <td>5</td>\n",
       "      <td>0</td>\n",
       "      <td>0</td>\n",
       "      <td>N</td>\n",
       "      <td>Y</td>\n",
       "      <td>Brilliant film from beginning to end</td>\n",
       "      <td>Brilliant film from beginning to end. All of t...</td>\n",
       "      <td>2015-08-31</td>\n",
       "    </tr>\n",
       "  </tbody>\n",
       "</table>\n",
       "</div>"
      ],
      "text/plain": [
       "  marketplace  customer_id       review_id  product_id  product_parent  \\\n",
       "0          US     12190288  R3FU16928EP5TC  B00AYB1482       668895143   \n",
       "1          US     30549954  R1IZHHS1MH3AQ4  B00KQD28OM       246219280   \n",
       "2          US     52895410   R52R85WC6TIAH  B01489L5LQ       534732318   \n",
       "3          US     27072354   R7HOOYTVIB0DS  B008LOVIIK       239012694   \n",
       "4          US     26939022  R1XQ2N5CDOZGNX  B0094LZMT0       535858974   \n",
       "\n",
       "                           product_title        product_category  star_rating  \\\n",
       "0                  Enlightened: Season 1  Digital_Video_Download            5   \n",
       "1                                Vicious  Digital_Video_Download            5   \n",
       "2                            After Words  Digital_Video_Download            4   \n",
       "3  Masterpiece: Inspector Lewis Season 5  Digital_Video_Download            5   \n",
       "4                      On The Waterfront  Digital_Video_Download            5   \n",
       "\n",
       "   helpful_votes  total_votes vine verified_purchase  \\\n",
       "0              0            0    N                 Y   \n",
       "1              0            0    N                 Y   \n",
       "2             17           18    N                 Y   \n",
       "3              0            0    N                 Y   \n",
       "4              0            0    N                 Y   \n",
       "\n",
       "                                     review_headline  \\\n",
       "0         I loved it and I wish there was a season 3   \n",
       "1  As always it seems that the best shows come fr...   \n",
       "2                                     Charming movie   \n",
       "3                                         Five Stars   \n",
       "4               Brilliant film from beginning to end   \n",
       "\n",
       "                                         review_body review_date  \n",
       "0  I loved it and I wish there was a season 3... ...  2015-08-31  \n",
       "1  As always it seems that the best shows come fr...  2015-08-31  \n",
       "2  This movie isn't perfect, but it gets a lot of...  2015-08-31  \n",
       "3                excellant this is what tv should be  2015-08-31  \n",
       "4  Brilliant film from beginning to end. All of t...  2015-08-31  "
      ]
     },
     "execution_count": 5,
     "metadata": {},
     "output_type": "execute_result"
    }
   ],
   "source": [
    "df.head()"
   ]
  },
  {
   "cell_type": "markdown",
   "metadata": {},
   "source": [
    "Now what is the information contained in all the columns?"
   ]
  },
  {
   "cell_type": "markdown",
   "metadata": {},
   "source": [
    "### Anatomy of the dataset\n",
    "\n",
    "Get a little more comfortable with the data and see what features are at hand.\n",
    "\n",
    "- `marketplace`: Two-letter country code (in this case, all \"US\")\n",
    "- `customer_id`: Random identifier that can be used to aggregate reviews written by a single author\n",
    "- `review_id`: Unique ID for the review\n",
    "- `product_id`: Amazon Standard Identification Number (ASIN). http://www.amazon.com/dp/<ASIN\\> links to the product's detail page.\n",
    "- `product_parent`: The parent of that ASIN. Multiple ASINs (color or format variations of the same product) can roll up into a single parent.\n",
    "- `product_title`: Title description of the product\n",
    "- `product_category`: Broad product category that can be used to group reviews (in this case, digital videos)\n",
    "- `star_rating`: Product's rating (1 to 5 stars)\n",
    "- `helpful_votes`: Number of helpful votes for the review\n",
    "- `total_votes`: Number of total votes the review received\n",
    "- `vine`: Was the review written as part of the Vine program?\n",
    "- `verified_purchase`: Was the review from a verified purchase?\n",
    "- `review_headline`: Title of the review itself\n",
    "- `review_body`: Text of the review\n",
    "- `review_date`: Date the review was written"
   ]
  },
  {
   "cell_type": "markdown",
   "metadata": {},
   "source": [
    "### Analyzing and understanding the dataset\n",
    "\n",
    "#### Exploring the data"
   ]
  },
  {
   "cell_type": "markdown",
   "metadata": {},
   "source": [
    "**Hint:** You can refer [here](https://pandas.pydata.org/pandas-docs/stable/reference/frame.html) to answer the following questions. \n",
    "\n",
    "**Question:** How many rows and columns do you have in the dataset?"
   ]
  },
  {
   "cell_type": "markdown",
   "metadata": {},
   "source": [
    "Check the size of the dataset.  \n",
    "\n",
    "**Hint**: Use the `<dataframe>.shape` function to check the size of your dataframe"
   ]
  },
  {
   "cell_type": "code",
   "execution_count": 6,
   "metadata": {},
   "outputs": [
    {
     "data": {
      "text/plain": [
       "(3998345, 15)"
      ]
     },
     "execution_count": 6,
     "metadata": {},
     "output_type": "execute_result"
    }
   ],
   "source": [
    "# Enter your code here\n",
    "df.shape"
   ]
  },
  {
   "cell_type": "code",
   "execution_count": null,
   "metadata": {},
   "outputs": [],
   "source": [
    "# Enter your Answer here\n",
    "# 3998345 rows, 15 coulmns"
   ]
  },
  {
   "cell_type": "markdown",
   "metadata": {},
   "source": [
    "**Question:** Which columns contain null values, and how many null values do they contain?"
   ]
  },
  {
   "cell_type": "markdown",
   "metadata": {},
   "source": [
    "Print a summary of the dataset.  \n",
    "\n",
    "**Hint**: Use `<dataframe>.info` function using the keyword arguments `null_counts = True`"
   ]
  },
  {
   "cell_type": "code",
   "execution_count": 7,
   "metadata": {
    "scrolled": true
   },
   "outputs": [
    {
     "name": "stdout",
     "output_type": "stream",
     "text": [
      "<class 'pandas.core.frame.DataFrame'>\n",
      "RangeIndex: 3998345 entries, 0 to 3998344\n",
      "Data columns (total 15 columns):\n",
      " #   Column             Non-Null Count    Dtype \n",
      "---  ------             --------------    ----- \n",
      " 0   marketplace        3998345 non-null  object\n",
      " 1   customer_id        3998345 non-null  int64 \n",
      " 2   review_id          3998345 non-null  object\n",
      " 3   product_id         3998345 non-null  object\n",
      " 4   product_parent     3998345 non-null  int64 \n",
      " 5   product_title      3998345 non-null  object\n",
      " 6   product_category   3998345 non-null  object\n",
      " 7   star_rating        3998345 non-null  int64 \n",
      " 8   helpful_votes      3998345 non-null  int64 \n",
      " 9   total_votes        3998345 non-null  int64 \n",
      " 10  vine               3998345 non-null  object\n",
      " 11  verified_purchase  3998345 non-null  object\n",
      " 12  review_headline    3998320 non-null  object\n",
      " 13  review_body        3998267 non-null  object\n",
      " 14  review_date        3998207 non-null  object\n",
      "dtypes: int64(5), object(10)\n",
      "memory usage: 457.6+ MB\n"
     ]
    }
   ],
   "source": [
    "df.info(null_counts = True)"
   ]
  },
  {
   "cell_type": "code",
   "execution_count": null,
   "metadata": {},
   "outputs": [],
   "source": [
    "# Enter your Answer here"
   ]
  },
  {
   "cell_type": "markdown",
   "metadata": {},
   "source": [
    "**Question:** Are there any duplicate rows? If yes, how many are there?  \n",
    "\n",
    "**Hint**: Filter the dataframe using `dataframe.duplicated()` ([documentation](https://pandas.pydata.org/pandas-docs/stable/reference/api/pandas.DataFrame.duplicated.html#pandas.DataFrame.duplicated)) and check the length of the new dataframe."
   ]
  },
  {
   "cell_type": "code",
   "execution_count": 8,
   "metadata": {},
   "outputs": [
    {
     "data": {
      "text/plain": [
       "0"
      ]
     },
     "execution_count": 8,
     "metadata": {},
     "output_type": "execute_result"
    }
   ],
   "source": [
    "duplicates = df[df.duplicated()]\n",
    "\n",
    "len(duplicates)"
   ]
  },
  {
   "cell_type": "code",
   "execution_count": null,
   "metadata": {},
   "outputs": [],
   "source": [
    "# Enter your Answer here"
   ]
  },
  {
   "cell_type": "markdown",
   "metadata": {},
   "source": [
    "### Data preprocessing\n",
    "\n",
    "Now it's time to decide what features you are going to use and how you are going to prepare them for your model. For this example, limit yourself to `customer_id`, `product_id`, `product_title`, and `star_rating`. Including additional features in the recommendation system could be beneficial but would require substantial processing (particularly the text data), which would be beyond the scope of this notebook.\n",
    "\n",
    "Reduce this dataset and only use the columns mentioned.  \n",
    "\n",
    "**Hint**: Select multiple columns as a dataframe by passing the columns as a list. For example: `df[['column_name 1', 'column_name 2']]`"
   ]
  },
  {
   "cell_type": "code",
   "execution_count": 9,
   "metadata": {},
   "outputs": [],
   "source": [
    "df_reduced = df[['customer_id', 'product_id', 'star_rating', 'product_title']]"
   ]
  },
  {
   "cell_type": "markdown",
   "metadata": {},
   "source": [
    "Check again if you have duplicates after reducing the dataset. "
   ]
  },
  {
   "cell_type": "code",
   "execution_count": 10,
   "metadata": {},
   "outputs": [
    {
     "data": {
      "text/plain": [
       "131"
      ]
     },
     "execution_count": 10,
     "metadata": {},
     "output_type": "execute_result"
    }
   ],
   "source": [
    "duplicates = df_reduced[df_reduced.duplicated()]\n",
    "\n",
    "len(duplicates)"
   ]
  },
  {
   "cell_type": "code",
   "execution_count": null,
   "metadata": {},
   "outputs": [],
   "source": [
    "# Enter your Answer here"
   ]
  },
  {
   "cell_type": "markdown",
   "metadata": {},
   "source": [
    "**Question:** Why do you have duplicates in your dataset now? What changed after you reduced the dataset? Review the first 20 lines of the duplicates. \n",
    "\n",
    "**Hint**: Use the `pandas.head(<number>)` function to print the rows."
   ]
  },
  {
   "cell_type": "code",
   "execution_count": 11,
   "metadata": {},
   "outputs": [
    {
     "data": {
      "text/html": [
       "<div>\n",
       "<style scoped>\n",
       "    .dataframe tbody tr th:only-of-type {\n",
       "        vertical-align: middle;\n",
       "    }\n",
       "\n",
       "    .dataframe tbody tr th {\n",
       "        vertical-align: top;\n",
       "    }\n",
       "\n",
       "    .dataframe thead th {\n",
       "        text-align: right;\n",
       "    }\n",
       "</style>\n",
       "<table border=\"1\" class=\"dataframe\">\n",
       "  <thead>\n",
       "    <tr style=\"text-align: right;\">\n",
       "      <th></th>\n",
       "      <th>customer_id</th>\n",
       "      <th>product_id</th>\n",
       "      <th>star_rating</th>\n",
       "      <th>product_title</th>\n",
       "    </tr>\n",
       "  </thead>\n",
       "  <tbody>\n",
       "    <tr>\n",
       "      <th>565194</th>\n",
       "      <td>41454255</td>\n",
       "      <td>B00Y2UYRFS</td>\n",
       "      <td>1</td>\n",
       "      <td>unseen 2</td>\n",
       "    </tr>\n",
       "    <tr>\n",
       "      <th>594322</th>\n",
       "      <td>17570065</td>\n",
       "      <td>B00R3EEO2G</td>\n",
       "      <td>2</td>\n",
       "      <td>The Maze Runner</td>\n",
       "    </tr>\n",
       "    <tr>\n",
       "      <th>611264</th>\n",
       "      <td>15703996</td>\n",
       "      <td>B00I3MQNWG</td>\n",
       "      <td>5</td>\n",
       "      <td>Bosch Season 1</td>\n",
       "    </tr>\n",
       "    <tr>\n",
       "      <th>612471</th>\n",
       "      <td>28456429</td>\n",
       "      <td>B008Y6W7J4</td>\n",
       "      <td>5</td>\n",
       "      <td>Rabbit Hole</td>\n",
       "    </tr>\n",
       "    <tr>\n",
       "      <th>613791</th>\n",
       "      <td>52388381</td>\n",
       "      <td>B00YORA25I</td>\n",
       "      <td>5</td>\n",
       "      <td>McFarland, USA (Theatrical)</td>\n",
       "    </tr>\n",
       "  </tbody>\n",
       "</table>\n",
       "</div>"
      ],
      "text/plain": [
       "        customer_id  product_id  star_rating                product_title\n",
       "565194     41454255  B00Y2UYRFS            1                     unseen 2\n",
       "594322     17570065  B00R3EEO2G            2              The Maze Runner\n",
       "611264     15703996  B00I3MQNWG            5               Bosch Season 1\n",
       "612471     28456429  B008Y6W7J4            5                  Rabbit Hole\n",
       "613791     52388381  B00YORA25I            5  McFarland, USA (Theatrical)"
      ]
     },
     "execution_count": 11,
     "metadata": {},
     "output_type": "execute_result"
    }
   ],
   "source": [
    "duplicates.head()"
   ]
  },
  {
   "cell_type": "markdown",
   "metadata": {},
   "source": [
    "**Hint:** Take a look at the first two elements in the duplicates dataframe, and query the original dataframe df to see what the data looks like. You can use the `query` function ([documentation](https://pandas.pydata.org/pandas-docs/stable/reference/api/pandas.DataFrame.query.html)).\n",
    "\n",
    "For example:\n",
    "\n",
    "```\n",
    "df_eg = pd.DataFrame({\n",
    "            'A': [1,2,3,4],\n",
    "            'B': [\n",
    "        })\n",
    "df_eg.query('A > 1 & B > 0')\n",
    "```"
   ]
  },
  {
   "cell_type": "code",
   "execution_count": 12,
   "metadata": {},
   "outputs": [
    {
     "data": {
      "text/html": [
       "<div>\n",
       "<style scoped>\n",
       "    .dataframe tbody tr th:only-of-type {\n",
       "        vertical-align: middle;\n",
       "    }\n",
       "\n",
       "    .dataframe tbody tr th {\n",
       "        vertical-align: top;\n",
       "    }\n",
       "\n",
       "    .dataframe thead th {\n",
       "        text-align: right;\n",
       "    }\n",
       "</style>\n",
       "<table border=\"1\" class=\"dataframe\">\n",
       "  <thead>\n",
       "    <tr style=\"text-align: right;\">\n",
       "      <th></th>\n",
       "      <th>marketplace</th>\n",
       "      <th>customer_id</th>\n",
       "      <th>review_id</th>\n",
       "      <th>product_id</th>\n",
       "      <th>product_parent</th>\n",
       "      <th>product_title</th>\n",
       "      <th>product_category</th>\n",
       "      <th>star_rating</th>\n",
       "      <th>helpful_votes</th>\n",
       "      <th>total_votes</th>\n",
       "      <th>vine</th>\n",
       "      <th>verified_purchase</th>\n",
       "      <th>review_headline</th>\n",
       "      <th>review_body</th>\n",
       "      <th>review_date</th>\n",
       "    </tr>\n",
       "  </thead>\n",
       "  <tbody>\n",
       "    <tr>\n",
       "      <th>588857</th>\n",
       "      <td>US</td>\n",
       "      <td>17570065</td>\n",
       "      <td>RZ0MXSMTR2WQP</td>\n",
       "      <td>B00R3EEO2G</td>\n",
       "      <td>226574237</td>\n",
       "      <td>The Maze Runner</td>\n",
       "      <td>Digital_Video_Download</td>\n",
       "      <td>2</td>\n",
       "      <td>0</td>\n",
       "      <td>0</td>\n",
       "      <td>N</td>\n",
       "      <td>Y</td>\n",
       "      <td>Two Stars</td>\n",
       "      <td>Simply doesn't engage the audience.</td>\n",
       "      <td>2015-06-08</td>\n",
       "    </tr>\n",
       "    <tr>\n",
       "      <th>594322</th>\n",
       "      <td>US</td>\n",
       "      <td>17570065</td>\n",
       "      <td>R26IBV6N1BV1VN</td>\n",
       "      <td>B00R3EEO2G</td>\n",
       "      <td>226574237</td>\n",
       "      <td>The Maze Runner</td>\n",
       "      <td>Digital_Video_Download</td>\n",
       "      <td>2</td>\n",
       "      <td>0</td>\n",
       "      <td>0</td>\n",
       "      <td>N</td>\n",
       "      <td>Y</td>\n",
       "      <td>Two Stars</td>\n",
       "      <td>Simply doesn't engage the audience.</td>\n",
       "      <td>2015-06-08</td>\n",
       "    </tr>\n",
       "  </tbody>\n",
       "</table>\n",
       "</div>"
      ],
      "text/plain": [
       "       marketplace  customer_id       review_id  product_id  product_parent  \\\n",
       "588857          US     17570065   RZ0MXSMTR2WQP  B00R3EEO2G       226574237   \n",
       "594322          US     17570065  R26IBV6N1BV1VN  B00R3EEO2G       226574237   \n",
       "\n",
       "          product_title        product_category  star_rating  helpful_votes  \\\n",
       "588857  The Maze Runner  Digital_Video_Download            2              0   \n",
       "594322  The Maze Runner  Digital_Video_Download            2              0   \n",
       "\n",
       "        total_votes vine verified_purchase review_headline  \\\n",
       "588857            0    N                 Y       Two Stars   \n",
       "594322            0    N                 Y       Two Stars   \n",
       "\n",
       "                                review_body review_date  \n",
       "588857  Simply doesn't engage the audience.  2015-06-08  \n",
       "594322  Simply doesn't engage the audience.  2015-06-08  "
      ]
     },
     "execution_count": 12,
     "metadata": {},
     "output_type": "execute_result"
    }
   ],
   "source": [
    "df.query(\"customer_id == 17570065 & product_id == 'B00R3EEO2G'\")"
   ]
  },
  {
   "cell_type": "code",
   "execution_count": null,
   "metadata": {},
   "outputs": [],
   "source": [
    "# Enter your Answer here"
   ]
  },
  {
   "cell_type": "markdown",
   "metadata": {},
   "source": [
    "Before continuing, remove the duplicate rows.\n",
    "\n",
    "**Hint**: Use the `~` operator to select all the rows that aren't duplicated. For example:\n",
    "    \n",
    "```\n",
    "df_eg = pd.DataFrame({\n",
    "            'A': [1,2,3,4],\n",
    "            'B': [2,0,5,2]\n",
    "        })\n",
    "df_eg[~(df_eg['B'] > 0)]\n",
    "```"
   ]
  },
  {
   "cell_type": "code",
   "execution_count": 13,
   "metadata": {},
   "outputs": [],
   "source": [
    "df_reduced = df_reduced[~df_reduced.duplicated()]"
   ]
  },
  {
   "cell_type": "markdown",
   "metadata": {},
   "source": [
    "### Visualize some of the rows in the dataset\n",
    "If you haven't done so in the above, you can use the space below to further visualize some of your data. Look specifically at the distribution of features like `star_rating`, `customer_id`, and `product_id`.\n",
    "\n",
    "**Specific questions to consider**\n",
    "\n",
    "1. After looking at the distributions of features, to what extent might those features help your model? Is there anything you can deduce from those distributions that might be helpful in better understanding your data? \n",
    "\n",
    "2. Should you use all the data? What features should you use?\n",
    "\n",
    "3. What month has the highest count of user ratings?\n",
    "\n",
    "Use the cells below to visualize your data and answer these and other questions that might be of interest to you. Insert and delete cells where needed.\n",
    "\n",
    "#### <span style=\"color: blue;\">Project presentation: Include a summary of your answers to these and similar questions in your project presentations.</span>"
   ]
  },
  {
   "cell_type": "markdown",
   "metadata": {},
   "source": [
    "Use `sns.barplot` ([documentation](https://seaborn.pydata.org/generated/seaborn.barplot.html)) to plot the `star_rating` density and distribution."
   ]
  },
  {
   "cell_type": "code",
   "execution_count": 14,
   "metadata": {},
   "outputs": [
    {
     "data": {
      "text/html": [
       "<div>\n",
       "<style scoped>\n",
       "    .dataframe tbody tr th:only-of-type {\n",
       "        vertical-align: middle;\n",
       "    }\n",
       "\n",
       "    .dataframe tbody tr th {\n",
       "        vertical-align: top;\n",
       "    }\n",
       "\n",
       "    .dataframe thead th {\n",
       "        text-align: right;\n",
       "    }\n",
       "</style>\n",
       "<table border=\"1\" class=\"dataframe\">\n",
       "  <thead>\n",
       "    <tr style=\"text-align: right;\">\n",
       "      <th></th>\n",
       "      <th>index</th>\n",
       "      <th>star_rating</th>\n",
       "    </tr>\n",
       "  </thead>\n",
       "  <tbody>\n",
       "    <tr>\n",
       "      <th>0</th>\n",
       "      <td>5</td>\n",
       "      <td>2410533</td>\n",
       "    </tr>\n",
       "    <tr>\n",
       "      <th>1</th>\n",
       "      <td>4</td>\n",
       "      <td>756423</td>\n",
       "    </tr>\n",
       "    <tr>\n",
       "      <th>2</th>\n",
       "      <td>3</td>\n",
       "      <td>345891</td>\n",
       "    </tr>\n",
       "    <tr>\n",
       "      <th>3</th>\n",
       "      <td>1</td>\n",
       "      <td>289731</td>\n",
       "    </tr>\n",
       "    <tr>\n",
       "      <th>4</th>\n",
       "      <td>2</td>\n",
       "      <td>195767</td>\n",
       "    </tr>\n",
       "  </tbody>\n",
       "</table>\n",
       "</div>"
      ],
      "text/plain": [
       "   index  star_rating\n",
       "0      5      2410533\n",
       "1      4       756423\n",
       "2      3       345891\n",
       "3      1       289731\n",
       "4      2       195767"
      ]
     },
     "execution_count": 14,
     "metadata": {},
     "output_type": "execute_result"
    },
    {
     "data": {
      "text/plain": [
       "<AxesSubplot:xlabel='index', ylabel='star_rating'>"
      ]
     },
     "execution_count": 14,
     "metadata": {},
     "output_type": "execute_result"
    },
    {
     "data": {
      "image/png": "[encoded data removed]",
      "text/plain": [
       "<Figure size 432x288 with 1 Axes>"
      ]
     },
     "metadata": {
      "needs_background": "light"
     },
     "output_type": "display_data"
    }
   ],
   "source": [
    "# Count the number of reviews with a specific rating\n",
    "df['star_rating'].value_counts().reset_index()\n",
    "sns.barplot(\n",
    "    x='index', \n",
    "    y='star_rating', \n",
    "    data=_,  # The underscore symbol in Python is used to store the output of the last operation\n",
    "    palette='GnBu_d'\n",
    ")"
   ]
  },
  {
   "cell_type": "markdown",
   "metadata": {},
   "source": [
    "**Question:** What month contains the highest count of user ratings?  \n",
    "\n",
    "**Hint**:  \n",
    "1. Use `pd.to_datetime` to convert the `review_date` column to a datetime column.  \n",
    "2. Use the month from the `review_date` column. You can access it for a datetime column using `<column_name>.dt.month`.  \n",
    "3. Use the `groupby` function using `idxmax`.  "
   ]
  },
  {
   "cell_type": "code",
   "execution_count": 15,
   "metadata": {},
   "outputs": [
    {
     "data": {
      "text/html": [
       "<div>\n",
       "<style scoped>\n",
       "    .dataframe tbody tr th:only-of-type {\n",
       "        vertical-align: middle;\n",
       "    }\n",
       "\n",
       "    .dataframe tbody tr th {\n",
       "        vertical-align: top;\n",
       "    }\n",
       "\n",
       "    .dataframe thead th {\n",
       "        text-align: right;\n",
       "    }\n",
       "</style>\n",
       "<table border=\"1\" class=\"dataframe\">\n",
       "  <thead>\n",
       "    <tr style=\"text-align: right;\">\n",
       "      <th></th>\n",
       "      <th>review_date</th>\n",
       "      <th>star_rating</th>\n",
       "    </tr>\n",
       "  </thead>\n",
       "  <tbody>\n",
       "    <tr>\n",
       "      <th>0</th>\n",
       "      <td>1.0</td>\n",
       "      <td>309083</td>\n",
       "    </tr>\n",
       "    <tr>\n",
       "      <th>1</th>\n",
       "      <td>2.0</td>\n",
       "      <td>369059</td>\n",
       "    </tr>\n",
       "    <tr>\n",
       "      <th>2</th>\n",
       "      <td>3.0</td>\n",
       "      <td>432084</td>\n",
       "    </tr>\n",
       "    <tr>\n",
       "      <th>3</th>\n",
       "      <td>4.0</td>\n",
       "      <td>363611</td>\n",
       "    </tr>\n",
       "    <tr>\n",
       "      <th>4</th>\n",
       "      <td>5.0</td>\n",
       "      <td>339285</td>\n",
       "    </tr>\n",
       "    <tr>\n",
       "      <th>5</th>\n",
       "      <td>6.0</td>\n",
       "      <td>328114</td>\n",
       "    </tr>\n",
       "    <tr>\n",
       "      <th>6</th>\n",
       "      <td>7.0</td>\n",
       "      <td>417844</td>\n",
       "    </tr>\n",
       "    <tr>\n",
       "      <th>7</th>\n",
       "      <td>8.0</td>\n",
       "      <td>464912</td>\n",
       "    </tr>\n",
       "    <tr>\n",
       "      <th>8</th>\n",
       "      <td>9.0</td>\n",
       "      <td>206453</td>\n",
       "    </tr>\n",
       "    <tr>\n",
       "      <th>9</th>\n",
       "      <td>10.0</td>\n",
       "      <td>218583</td>\n",
       "    </tr>\n",
       "    <tr>\n",
       "      <th>10</th>\n",
       "      <td>11.0</td>\n",
       "      <td>219316</td>\n",
       "    </tr>\n",
       "    <tr>\n",
       "      <th>11</th>\n",
       "      <td>12.0</td>\n",
       "      <td>329863</td>\n",
       "    </tr>\n",
       "  </tbody>\n",
       "</table>\n",
       "</div>"
      ],
      "text/plain": [
       "    review_date  star_rating\n",
       "0           1.0       309083\n",
       "1           2.0       369059\n",
       "2           3.0       432084\n",
       "3           4.0       363611\n",
       "4           5.0       339285\n",
       "5           6.0       328114\n",
       "6           7.0       417844\n",
       "7           8.0       464912\n",
       "8           9.0       206453\n",
       "9          10.0       218583\n",
       "10         11.0       219316\n",
       "11         12.0       329863"
      ]
     },
     "execution_count": 15,
     "metadata": {},
     "output_type": "execute_result"
    },
    {
     "data": {
      "text/plain": [
       "<AxesSubplot:xlabel='review_date', ylabel='star_rating'>"
      ]
     },
     "execution_count": 15,
     "metadata": {},
     "output_type": "execute_result"
    },
    {
     "data": {
      "image/png": "[encoded data removed]",
      "text/plain": [
       "<Figure size 432x288 with 1 Axes>"
      ]
     },
     "metadata": {
      "needs_background": "light"
     },
     "output_type": "display_data"
    }
   ],
   "source": [
    "# Convert the review date to a datetime type and count the number of ratings by month\n",
    "df['review_date'] = pd.to_datetime(df.review_date)\n",
    "df.groupby(df.review_date.dt.month).star_rating.count().reset_index()\n",
    "sns.barplot(x='review_date', y='star_rating', data=_, palette='GnBu_d')"
   ]
  },
  {
   "cell_type": "code",
   "execution_count": 16,
   "metadata": {},
   "outputs": [
    {
     "name": "stdout",
     "output_type": "stream",
     "text": [
      "The month with the most reviews is: 8.0\n"
     ]
    }
   ],
   "source": [
    "max_month = df.groupby(df.review_date.dt.month).star_rating.count().idxmax()\n",
    "print(f'The month with the most reviews is: {max_month}')"
   ]
  },
  {
   "cell_type": "code",
   "execution_count": null,
   "metadata": {},
   "outputs": [],
   "source": [
    "# Enter your Answer here"
   ]
  },
  {
   "cell_type": "markdown",
   "metadata": {},
   "source": [
    "**Bonus question (optional):** Which years have the most and least reviews?"
   ]
  },
  {
   "cell_type": "code",
   "execution_count": 17,
   "metadata": {},
   "outputs": [
    {
     "data": {
      "text/html": [
       "<div>\n",
       "<style scoped>\n",
       "    .dataframe tbody tr th:only-of-type {\n",
       "        vertical-align: middle;\n",
       "    }\n",
       "\n",
       "    .dataframe tbody tr th {\n",
       "        vertical-align: top;\n",
       "    }\n",
       "\n",
       "    .dataframe thead th {\n",
       "        text-align: right;\n",
       "    }\n",
       "</style>\n",
       "<table border=\"1\" class=\"dataframe\">\n",
       "  <thead>\n",
       "    <tr style=\"text-align: right;\">\n",
       "      <th></th>\n",
       "      <th>review_date</th>\n",
       "      <th>star_rating</th>\n",
       "    </tr>\n",
       "  </thead>\n",
       "  <tbody>\n",
       "    <tr>\n",
       "      <th>0</th>\n",
       "      <td>2000.0</td>\n",
       "      <td>1</td>\n",
       "    </tr>\n",
       "    <tr>\n",
       "      <th>1</th>\n",
       "      <td>2001.0</td>\n",
       "      <td>1</td>\n",
       "    </tr>\n",
       "    <tr>\n",
       "      <th>2</th>\n",
       "      <td>2002.0</td>\n",
       "      <td>5</td>\n",
       "    </tr>\n",
       "    <tr>\n",
       "      <th>3</th>\n",
       "      <td>2003.0</td>\n",
       "      <td>4</td>\n",
       "    </tr>\n",
       "    <tr>\n",
       "      <th>4</th>\n",
       "      <td>2004.0</td>\n",
       "      <td>6</td>\n",
       "    </tr>\n",
       "    <tr>\n",
       "      <th>5</th>\n",
       "      <td>2005.0</td>\n",
       "      <td>11</td>\n",
       "    </tr>\n",
       "    <tr>\n",
       "      <th>6</th>\n",
       "      <td>2006.0</td>\n",
       "      <td>185</td>\n",
       "    </tr>\n",
       "    <tr>\n",
       "      <th>7</th>\n",
       "      <td>2007.0</td>\n",
       "      <td>2597</td>\n",
       "    </tr>\n",
       "    <tr>\n",
       "      <th>8</th>\n",
       "      <td>2008.0</td>\n",
       "      <td>3079</td>\n",
       "    </tr>\n",
       "    <tr>\n",
       "      <th>9</th>\n",
       "      <td>2009.0</td>\n",
       "      <td>3262</td>\n",
       "    </tr>\n",
       "    <tr>\n",
       "      <th>10</th>\n",
       "      <td>2010.0</td>\n",
       "      <td>6091</td>\n",
       "    </tr>\n",
       "    <tr>\n",
       "      <th>11</th>\n",
       "      <td>2011.0</td>\n",
       "      <td>20890</td>\n",
       "    </tr>\n",
       "    <tr>\n",
       "      <th>12</th>\n",
       "      <td>2012.0</td>\n",
       "      <td>142466</td>\n",
       "    </tr>\n",
       "    <tr>\n",
       "      <th>13</th>\n",
       "      <td>2013.0</td>\n",
       "      <td>721748</td>\n",
       "    </tr>\n",
       "    <tr>\n",
       "      <th>14</th>\n",
       "      <td>2014.0</td>\n",
       "      <td>1543049</td>\n",
       "    </tr>\n",
       "    <tr>\n",
       "      <th>15</th>\n",
       "      <td>2015.0</td>\n",
       "      <td>1554812</td>\n",
       "    </tr>\n",
       "  </tbody>\n",
       "</table>\n",
       "</div>"
      ],
      "text/plain": [
       "    review_date  star_rating\n",
       "0        2000.0            1\n",
       "1        2001.0            1\n",
       "2        2002.0            5\n",
       "3        2003.0            4\n",
       "4        2004.0            6\n",
       "5        2005.0           11\n",
       "6        2006.0          185\n",
       "7        2007.0         2597\n",
       "8        2008.0         3079\n",
       "9        2009.0         3262\n",
       "10       2010.0         6091\n",
       "11       2011.0        20890\n",
       "12       2012.0       142466\n",
       "13       2013.0       721748\n",
       "14       2014.0      1543049\n",
       "15       2015.0      1554812"
      ]
     },
     "execution_count": 17,
     "metadata": {},
     "output_type": "execute_result"
    },
    {
     "data": {
      "text/plain": [
       "<AxesSubplot:xlabel='review_date', ylabel='star_rating'>"
      ]
     },
     "execution_count": 17,
     "metadata": {},
     "output_type": "execute_result"
    },
    {
     "data": {
      "image/png": "[encoded data removed]",
      "text/plain": [
       "<Figure size 720x360 with 1 Axes>"
      ]
     },
     "metadata": {
      "needs_background": "light"
     },
     "output_type": "display_data"
    }
   ],
   "source": [
    "df.groupby(df.review_date.dt.year).star_rating.count().reset_index()\n",
    "fig = plt.gcf()\n",
    "fig.set_size_inches(10, 5)\n",
    "sns.barplot(x='review_date', y='star_rating', data=_, palette='GnBu_d')"
   ]
  },
  {
   "cell_type": "code",
   "execution_count": null,
   "metadata": {},
   "outputs": [],
   "source": [
    "# Enter your Answer here"
   ]
  },
  {
   "cell_type": "markdown",
   "metadata": {},
   "source": [
    "### Cleaning data"
   ]
  },
  {
   "cell_type": "markdown",
   "metadata": {},
   "source": [
    "**Question**: How heterogeneous are the number of reviews per customer and reviews per video? Use quantiles to find out.\n",
    "\n",
    "**Hint**: Use `<dataframe>['columns_name'].value_counts()` for the customers and products dataframe, and use `<dataframe>.quantile(<list>)` to find the relationship."
   ]
  },
  {
   "cell_type": "code",
   "execution_count": 18,
   "metadata": {},
   "outputs": [
    {
     "name": "stdout",
     "output_type": "stream",
     "text": [
      "customers\n",
      " 0.000       1.0\n",
      "0.010       1.0\n",
      "0.020       1.0\n",
      "0.030       1.0\n",
      "0.040       1.0\n",
      "0.050       1.0\n",
      "0.100       1.0\n",
      "0.250       1.0\n",
      "0.500       1.0\n",
      "0.750       2.0\n",
      "0.900       4.0\n",
      "0.950       5.0\n",
      "0.960       6.0\n",
      "0.970       7.0\n",
      "0.980       9.0\n",
      "0.990      13.0\n",
      "0.995      18.0\n",
      "0.999      37.0\n",
      "1.000    2704.0\n",
      "Name: customer_id, dtype: float64\n",
      "products\n",
      " 0.000        1.000\n",
      "0.010        1.000\n",
      "0.020        1.000\n",
      "0.030        1.000\n",
      "0.040        1.000\n",
      "0.050        1.000\n",
      "0.100        1.000\n",
      "0.250        1.000\n",
      "0.500        3.000\n",
      "0.750        9.000\n",
      "0.900       31.000\n",
      "0.950       73.000\n",
      "0.960       95.000\n",
      "0.970      130.000\n",
      "0.980      199.000\n",
      "0.990      386.670\n",
      "0.995      699.000\n",
      "0.999     1993.901\n",
      "1.000    32790.000\n",
      "Name: product_id, dtype: float64\n"
     ]
    }
   ],
   "source": [
    "customers = df['customer_id'].value_counts()\n",
    "products = df['product_id'].value_counts()\n",
    "\n",
    "quantiles = [0, 0.01, 0.02, 0.03, 0.04, 0.05, 0.1, 0.25, 0.5, \n",
    "             0.75, 0.9, 0.95, 0.96, 0.97, 0.98, 0.99, 0.995, \n",
    "             0.999, 1]\n",
    "print('customers\\n', customers.quantile(quantiles))\n",
    "print('products\\n', products.quantile(quantiles))"
   ]
  },
  {
   "cell_type": "code",
   "execution_count": null,
   "metadata": {},
   "outputs": [],
   "source": [
    "# Enter your Answer here"
   ]
  },
  {
   "cell_type": "markdown",
   "metadata": {},
   "source": [
    "Filter out this long tail. Select the customers that have rated 18 or more videos and the products that have more than 95 reviews. "
   ]
  },
  {
   "cell_type": "code",
   "execution_count": 19,
   "metadata": {},
   "outputs": [],
   "source": [
    "customers1 = customers[customers >= 18]\n",
    "products1 = products[products >= 95]\n",
    "\n",
    "reduced_df = (\n",
    "    df_reduced.merge(pd.DataFrame({'customer_id': customers1.index}))\n",
    "              .merge(pd.DataFrame({'product_id': products1.index}))\n",
    ")"
   ]
  },
  {
   "cell_type": "markdown",
   "metadata": {},
   "source": [
    "**Question:** What is the shape of `customers1`, `products1`, and the new dataframe reduced_df?  \n",
    "\n",
    "**Note**: Use f-strings for this:\n",
    "```\n",
    "x= 3\n",
    "print(f'X = {x}')\n",
    "```"
   ]
  },
  {
   "cell_type": "code",
   "execution_count": 20,
   "metadata": {},
   "outputs": [
    {
     "name": "stdout",
     "output_type": "stream",
     "text": [
      "Number of users is 10538 and number of items is 6683.\n",
      "Length of reduced df is 173500.\n"
     ]
    }
   ],
   "source": [
    "print(f'Number of users is {customers1.shape[0]} and number of items is {products1.shape[0]}.')\n",
    "print(f'Length of reduced df is {reduced_df.shape[0]}.')"
   ]
  },
  {
   "cell_type": "markdown",
   "metadata": {},
   "source": [
    "Print the first 5 columns of the dataframe."
   ]
  },
  {
   "cell_type": "code",
   "execution_count": null,
   "metadata": {},
   "outputs": [],
   "source": [
    "# Enter your code here"
   ]
  },
  {
   "cell_type": "markdown",
   "metadata": {},
   "source": [
    "**Question:** Does `reduced_df` maintain the same ratio of ratings?"
   ]
  },
  {
   "cell_type": "code",
   "execution_count": 21,
   "metadata": {},
   "outputs": [
    {
     "data": {
      "text/html": [
       "<div>\n",
       "<style scoped>\n",
       "    .dataframe tbody tr th:only-of-type {\n",
       "        vertical-align: middle;\n",
       "    }\n",
       "\n",
       "    .dataframe tbody tr th {\n",
       "        vertical-align: top;\n",
       "    }\n",
       "\n",
       "    .dataframe thead th {\n",
       "        text-align: right;\n",
       "    }\n",
       "</style>\n",
       "<table border=\"1\" class=\"dataframe\">\n",
       "  <thead>\n",
       "    <tr style=\"text-align: right;\">\n",
       "      <th></th>\n",
       "      <th>index</th>\n",
       "      <th>star_rating</th>\n",
       "    </tr>\n",
       "  </thead>\n",
       "  <tbody>\n",
       "    <tr>\n",
       "      <th>0</th>\n",
       "      <td>5</td>\n",
       "      <td>86200</td>\n",
       "    </tr>\n",
       "    <tr>\n",
       "      <th>1</th>\n",
       "      <td>4</td>\n",
       "      <td>42668</td>\n",
       "    </tr>\n",
       "    <tr>\n",
       "      <th>2</th>\n",
       "      <td>3</td>\n",
       "      <td>24470</td>\n",
       "    </tr>\n",
       "    <tr>\n",
       "      <th>3</th>\n",
       "      <td>2</td>\n",
       "      <td>10803</td>\n",
       "    </tr>\n",
       "    <tr>\n",
       "      <th>4</th>\n",
       "      <td>1</td>\n",
       "      <td>9359</td>\n",
       "    </tr>\n",
       "  </tbody>\n",
       "</table>\n",
       "</div>"
      ],
      "text/plain": [
       "   index  star_rating\n",
       "0      5        86200\n",
       "1      4        42668\n",
       "2      3        24470\n",
       "3      2        10803\n",
       "4      1         9359"
      ]
     },
     "execution_count": 21,
     "metadata": {},
     "output_type": "execute_result"
    },
    {
     "data": {
      "text/plain": [
       "<AxesSubplot:xlabel='index', ylabel='star_rating'>"
      ]
     },
     "execution_count": 21,
     "metadata": {},
     "output_type": "execute_result"
    },
    {
     "data": {
      "image/png": "[encoded data removed]",
      "text/plain": [
       "<Figure size 432x288 with 1 Axes>"
      ]
     },
     "metadata": {
      "needs_background": "light"
     },
     "output_type": "display_data"
    }
   ],
   "source": [
    "reduced_df['star_rating'].value_counts().reset_index()\n",
    "sns.barplot(x='index', y='star_rating', data=_, palette='GnBu_d')"
   ]
  },
  {
   "cell_type": "code",
   "execution_count": null,
   "metadata": {},
   "outputs": [],
   "source": [
    "# Enter your Answer here"
   ]
  },
  {
   "cell_type": "markdown",
   "metadata": {},
   "source": [
    "Now, recreate the customer and product distributions of count per customer and product.\n",
    "\n",
    "**Hint**: Use the `value_counts()` function on the `customer_id` and `product_id` columns."
   ]
  },
  {
   "cell_type": "code",
   "execution_count": 22,
   "metadata": {},
   "outputs": [
    {
     "data": {
      "text/plain": [
       "Text(0.5, 0.98, 'Distribution of counts per customer and product')"
      ]
     },
     "execution_count": 22,
     "metadata": {},
     "output_type": "execute_result"
    },
    {
     "data": {
      "text/plain": [
       "<AxesSubplot:xlabel='customer_id'>"
      ]
     },
     "execution_count": 22,
     "metadata": {},
     "output_type": "execute_result"
    },
    {
     "data": {
      "text/plain": [
       "<AxesSubplot:xlabel='product_id'>"
      ]
     },
     "execution_count": 22,
     "metadata": {},
     "output_type": "execute_result"
    },
    {
     "data": {
      "image/png": "[encoded data removed]",
      "text/plain": [
       "<Figure size 1440x360 with 2 Axes>"
      ]
     },
     "metadata": {
      "needs_background": "light"
     },
     "output_type": "display_data"
    }
   ],
   "source": [
    "customers = reduced_df['customer_id'].value_counts()\n",
    "products = reduced_df['product_id'].value_counts()\n",
    "\n",
    "fig, axs = plt.subplots(1, 2, figsize=(20, 5))\n",
    "fig.suptitle('Distribution of counts per customer and product')\n",
    "sns.distplot(customers, kde=False, ax=axs[0], color='teal')\n",
    "sns.distplot(products, kde=False, ax=axs[1])"
   ]
  },
  {
   "cell_type": "markdown",
   "metadata": {},
   "source": [
    "Next, number each user and item, giving them their own sequential index. This will allow you to hold the information in a sparse format where the sequential indices indicate the row and column in the ratings matrix.\n",
    "\n",
    "To create the `customer_index` and `product_index`, create a new dataframe with `customer_id` as the index value and a sequential counter/values for the user and item number. Once you are finished creating both indexes, use the Pandas `merge` function to merge `customer_index` with `product_index`.\n",
    "\n",
    "**Hint**: Use the `shape` function to generate the total number of customers and products. Use `np.arange` to generate a list of numbers from 0 to the number of customers and products."
   ]
  },
  {
   "cell_type": "code",
   "execution_count": 23,
   "metadata": {},
   "outputs": [
    {
     "data": {
      "text/html": [
       "<div>\n",
       "<style scoped>\n",
       "    .dataframe tbody tr th:only-of-type {\n",
       "        vertical-align: middle;\n",
       "    }\n",
       "\n",
       "    .dataframe tbody tr th {\n",
       "        vertical-align: top;\n",
       "    }\n",
       "\n",
       "    .dataframe thead th {\n",
       "        text-align: right;\n",
       "    }\n",
       "</style>\n",
       "<table border=\"1\" class=\"dataframe\">\n",
       "  <thead>\n",
       "    <tr style=\"text-align: right;\">\n",
       "      <th></th>\n",
       "      <th>customer_id</th>\n",
       "      <th>product_id</th>\n",
       "      <th>star_rating</th>\n",
       "      <th>product_title</th>\n",
       "      <th>user</th>\n",
       "      <th>item</th>\n",
       "    </tr>\n",
       "  </thead>\n",
       "  <tbody>\n",
       "    <tr>\n",
       "      <th>0</th>\n",
       "      <td>11763902</td>\n",
       "      <td>B00PSLQYWE</td>\n",
       "      <td>4</td>\n",
       "      <td>Downton Abbey Season 5</td>\n",
       "      <td>3065</td>\n",
       "      <td>103</td>\n",
       "    </tr>\n",
       "    <tr>\n",
       "      <th>1</th>\n",
       "      <td>1411480</td>\n",
       "      <td>B00PSLQYWE</td>\n",
       "      <td>5</td>\n",
       "      <td>Downton Abbey Season 5</td>\n",
       "      <td>130</td>\n",
       "      <td>103</td>\n",
       "    </tr>\n",
       "    <tr>\n",
       "      <th>2</th>\n",
       "      <td>35303629</td>\n",
       "      <td>B00PSLQYWE</td>\n",
       "      <td>5</td>\n",
       "      <td>Downton Abbey Season 5</td>\n",
       "      <td>4682</td>\n",
       "      <td>103</td>\n",
       "    </tr>\n",
       "    <tr>\n",
       "      <th>3</th>\n",
       "      <td>21285980</td>\n",
       "      <td>B00PSLQYWE</td>\n",
       "      <td>5</td>\n",
       "      <td>Downton Abbey Season 5</td>\n",
       "      <td>449</td>\n",
       "      <td>103</td>\n",
       "    </tr>\n",
       "    <tr>\n",
       "      <th>4</th>\n",
       "      <td>29260449</td>\n",
       "      <td>B00PSLQYWE</td>\n",
       "      <td>5</td>\n",
       "      <td>Downton Abbey Season 5</td>\n",
       "      <td>131</td>\n",
       "      <td>103</td>\n",
       "    </tr>\n",
       "  </tbody>\n",
       "</table>\n",
       "</div>"
      ],
      "text/plain": [
       "   customer_id  product_id  star_rating           product_title  user  item\n",
       "0     11763902  B00PSLQYWE            4  Downton Abbey Season 5  3065   103\n",
       "1      1411480  B00PSLQYWE            5  Downton Abbey Season 5   130   103\n",
       "2     35303629  B00PSLQYWE            5  Downton Abbey Season 5  4682   103\n",
       "3     21285980  B00PSLQYWE            5  Downton Abbey Season 5   449   103\n",
       "4     29260449  B00PSLQYWE            5  Downton Abbey Season 5   131   103"
      ]
     },
     "execution_count": 23,
     "metadata": {},
     "output_type": "execute_result"
    }
   ],
   "source": [
    "customer_index = pd.DataFrame({'customer_id': customers.index, \n",
    "                               'user': np.arange(customers.shape[0])})\n",
    "product_index = pd.DataFrame({'product_id': products.index, \n",
    "                              'item': np.arange(products.shape[0])})\n",
    "\n",
    "reduced_df = reduced_df.merge(customer_index).merge(product_index)\n",
    "reduced_df.head()"
   ]
  },
  {
   "cell_type": "markdown",
   "metadata": {},
   "source": [
    "Sample answer:\n",
    "<div class=\"output_subarea\"><div>\n",
    "\n",
    "<table class=\"dataframe\" border=\"1\">\n",
    "  <thead>\n",
    "    <tr style=\"text-align: right\">\n",
    "      <th></th>\n",
    "      <th>customer_id</th>\n",
    "      <th>product_id</th>\n",
    "      <th>star_rating</th>\n",
    "      <th>product_title</th>\n",
    "      <th>user</th>\n",
    "      <th>item</th>\n",
    "    </tr>\n",
    "  </thead>\n",
    "  <tbody>\n",
    "    <tr>\n",
    "      <th>0</th>\n",
    "      <td>11763902</td>\n",
    "      <td>B00PSLQYWE</td>\n",
    "      <td>4</td>\n",
    "      <td>Downton Abbey Season 5</td>\n",
    "      <td>3065</td>\n",
    "      <td>103</td>\n",
    "    </tr>\n",
    "    <tr>\n",
    "      <th>1</th>\n",
    "      <td>1411480</td>\n",
    "      <td>B00PSLQYWE</td>\n",
    "      <td>5</td>\n",
    "      <td>Downton Abbey Season 5</td>\n",
    "      <td>130</td>\n",
    "      <td>103</td>\n",
    "    </tr>\n",
    "    <tr>\n",
    "      <th>2</th>\n",
    "      <td>35303629</td>\n",
    "      <td>B00PSLQYWE</td>\n",
    "      <td>5</td>\n",
    "      <td>Downton Abbey Season 5</td>\n",
    "      <td>4683</td>\n",
    "      <td>103</td>\n",
    "    </tr>\n",
    "    <tr>\n",
    "      <th>3</th>\n",
    "      <td>21285980</td>\n",
    "      <td>B00PSLQYWE</td>\n",
    "      <td>5</td>\n",
    "      <td>Downton Abbey Season 5</td>\n",
    "      <td>449</td>\n",
    "      <td>103</td>\n",
    "    </tr>\n",
    "    <tr>\n",
    "      <th>4</th>\n",
    "      <td>29260449</td>\n",
    "      <td>B00PSLQYWE</td>\n",
    "      <td>5</td>\n",
    "      <td>Downton Abbey Season 5</td>\n",
    "      <td>131</td>\n",
    "      <td>103</td>\n",
    "    </tr>\n",
    "  </tbody>\n",
    "</table>\n",
    "</div></div>"
   ]
  },
  {
   "cell_type": "markdown",
   "metadata": {},
   "source": [
    "## <span style=\"color:red\"> End of Lab 2 </span>\n",
    "\n",
    "Save the project file to your local computer. Follow these steps:\n",
    "\n",
    "1. At the top of the page, click the **File** menu. \n",
    "\n",
    "1. Select **Download as**, and click **Notebook(.ipynb)**.  \n",
    "\n",
    "This downloads the current notebook to the default download folder on your computer."
   ]
  },
  {
   "cell_type": "markdown",
   "metadata": {},
   "source": [
    "# Step 3: Model training and evaluation\n",
    "\n",
    "There are some preliminary steps that you must include when converting the dataset from a dataframe to a format that a machine learning algorithm can use. For Amazon SageMaker, here are the steps you need to take:\n",
    "\n",
    "1. Split the data into `train_data` and `test_data`.    \n",
    "2. Convert the dataset to an appropriate file format that the Amazon SageMaker training job can use. This can be either a CSV file or record protobuf. For more information, see [Common Data Formats for Training](https://docs.aws.amazon.com/sagemaker/latest/dg/cdf-training.html). For this problem, the data will be sparse, so you can use the `scipy.sparse.lilmatrix` function and then convert the function to the `RecordIO protobuf` format using `sagemaker.amazon.common.write_spmatrix_to_sparse_tensor`.    \n",
    "3. Upload the data to your Amazon S3 bucket. If you have not created one before, see [Create a Bucket](https://docs.aws.amazon.com/AmazonS3/latest/gsg/CreatingABucket.html).    \n",
    "\n",
    "Use the following cells to complete these steps. Insert and delete cells where needed.\n",
    "\n",
    "#### <span style=\"color: blue;\">Project presentation: Take note of the key decisions you've made in this phase in your project presentations.</span>"
   ]
  },
  {
   "cell_type": "markdown",
   "metadata": {},
   "source": [
    "### Prepare the data\n",
    "\n",
    "You are at a point where you can start preparing the dataset as input for your model. Every model has different input needs. Some of the algorithms implemented in Amazon SageMaker require the data to be in the recordIO-wrapped protobuf form. You will take care of that in the following cells.\n",
    "\n",
    "First, split the dataset into training and test sets. This will allow you to estimate the model's accuracy on videos that customers rated but that weren't included in the training.\n",
    "\n",
    "Start with creation of the `test_df` dataframe. Create the dataframe by grouping the dataframe on `customer_id` and using the `last` function, similar to `pd.groupby('  ').last()`."
   ]
  },
  {
   "cell_type": "code",
   "execution_count": 24,
   "metadata": {},
   "outputs": [],
   "source": [
    "test_df = reduced_df.groupby('customer_id').last().reset_index()"
   ]
  },
  {
   "cell_type": "markdown",
   "metadata": {},
   "source": [
    "To create the training data, remove the values present in `test_df` from the `reduced_df` dataframe.\n",
    "\n",
    "**Hint**: Merge the `reduced_df` dataframe with the `test_df` dataset with `customer_id` and `product_id` columns as an outer join."
   ]
  },
  {
   "cell_type": "code",
   "execution_count": 25,
   "metadata": {},
   "outputs": [],
   "source": [
    "train_df = reduced_df.merge(test_df[['customer_id', 'product_id']], \n",
    "                            on=['customer_id', 'product_id'], \n",
    "                            how='outer', \n",
    "                            indicator=True)\n",
    "train_df = train_df[(train_df['_merge'] == 'left_only')].reset_index()"
   ]
  },
  {
   "cell_type": "code",
   "execution_count": 26,
   "metadata": {},
   "outputs": [
    {
     "data": {
      "text/html": [
       "<div>\n",
       "<style scoped>\n",
       "    .dataframe tbody tr th:only-of-type {\n",
       "        vertical-align: middle;\n",
       "    }\n",
       "\n",
       "    .dataframe tbody tr th {\n",
       "        vertical-align: top;\n",
       "    }\n",
       "\n",
       "    .dataframe thead th {\n",
       "        text-align: right;\n",
       "    }\n",
       "</style>\n",
       "<table border=\"1\" class=\"dataframe\">\n",
       "  <thead>\n",
       "    <tr style=\"text-align: right;\">\n",
       "      <th></th>\n",
       "      <th>customer_id</th>\n",
       "      <th>product_id</th>\n",
       "      <th>star_rating</th>\n",
       "      <th>product_title</th>\n",
       "      <th>user</th>\n",
       "      <th>item</th>\n",
       "    </tr>\n",
       "  </thead>\n",
       "  <tbody>\n",
       "    <tr>\n",
       "      <th>0</th>\n",
       "      <td>10981</td>\n",
       "      <td>B00D6BQG1W</td>\n",
       "      <td>5</td>\n",
       "      <td>Warm Bodies</td>\n",
       "      <td>1859</td>\n",
       "      <td>3753</td>\n",
       "    </tr>\n",
       "    <tr>\n",
       "      <th>1</th>\n",
       "      <td>12783</td>\n",
       "      <td>B001GQK56G</td>\n",
       "      <td>4</td>\n",
       "      <td>Inspector Morse Season 1</td>\n",
       "      <td>1951</td>\n",
       "      <td>2838</td>\n",
       "    </tr>\n",
       "    <tr>\n",
       "      <th>2</th>\n",
       "      <td>17106</td>\n",
       "      <td>B00RPNBLWG</td>\n",
       "      <td>5</td>\n",
       "      <td>A Most Violent Year</td>\n",
       "      <td>10337</td>\n",
       "      <td>2034</td>\n",
       "    </tr>\n",
       "    <tr>\n",
       "      <th>3</th>\n",
       "      <td>19462</td>\n",
       "      <td>B00DFFI7K2</td>\n",
       "      <td>1</td>\n",
       "      <td>G.I. Joe: Retaliation</td>\n",
       "      <td>9030</td>\n",
       "      <td>631</td>\n",
       "    </tr>\n",
       "    <tr>\n",
       "      <th>4</th>\n",
       "      <td>54160</td>\n",
       "      <td>B005OPTSIQ</td>\n",
       "      <td>2</td>\n",
       "      <td>Workaholics Season 2</td>\n",
       "      <td>7309</td>\n",
       "      <td>3782</td>\n",
       "    </tr>\n",
       "  </tbody>\n",
       "</table>\n",
       "</div>"
      ],
      "text/plain": [
       "   customer_id  product_id  star_rating             product_title   user  item\n",
       "0        10981  B00D6BQG1W            5               Warm Bodies   1859  3753\n",
       "1        12783  B001GQK56G            4  Inspector Morse Season 1   1951  2838\n",
       "2        17106  B00RPNBLWG            5       A Most Violent Year  10337  2034\n",
       "3        19462  B00DFFI7K2            1     G.I. Joe: Retaliation   9030   631\n",
       "4        54160  B005OPTSIQ            2      Workaholics Season 2   7309  3782"
      ]
     },
     "execution_count": 26,
     "metadata": {},
     "output_type": "execute_result"
    }
   ],
   "source": [
    "test_df.head()"
   ]
  },
  {
   "cell_type": "markdown",
   "metadata": {},
   "source": [
    "Now you can look at some basic characteristics of the data that will later help you convert the features to an appropriate format for training your model.\n",
    "\n",
    "Create two variables `nb_rating_test` and `nb_ratings_train` for the length of the test and training datasets."
   ]
  },
  {
   "cell_type": "code",
   "execution_count": 27,
   "metadata": {},
   "outputs": [
    {
     "name": "stdout",
     "output_type": "stream",
     "text": [
      " Training Count: 163064\n",
      " Test Count: 10436\n"
     ]
    }
   ],
   "source": [
    "nb_ratings_test = len(test_df.index)\n",
    "nb_ratings_train = len(train_df.index)\n",
    "print(f\" Training Count: {nb_ratings_train}\")\n",
    "print(f\" Test Count: {nb_ratings_test}\")"
   ]
  },
  {
   "cell_type": "markdown",
   "metadata": {},
   "source": [
    "### Data conversion\n",
    "\n",
    "Now, you can convert your Pandas dataframes into a sparse matrix. This process is the same for both train and test. The Amazon SageMaker implementation of factorization machines takes recordIO-wrapped protobuf, where the data you have today is a Pandas dataframe on disk. Therefore, you are going to convert the data to a sparse matrix to express the relationships between each user and each movie."
   ]
  },
  {
   "cell_type": "code",
   "execution_count": 28,
   "metadata": {
    "scrolled": true
   },
   "outputs": [],
   "source": [
    "# First convert data to sparse fomat with scipy lil_matrix\n",
    "\n",
    "from scipy.sparse import lil_matrix\n",
    "\n",
    "def loadDataset(df, lines, columns, regressor=True):\n",
    "    \"\"\"\n",
    "    Convert the pandas dataframe into sparse matrix\n",
    "    \n",
    "    Args:\n",
    "        df: DataFrame\n",
    "        lines: number of rows of the final sparse matrix\n",
    "        columns: number of columns of final sparse matrix\n",
    "        regressor: Boolean value to check if we are using regression\n",
    "                  or classification\n",
    "    Returns:\n",
    "        X: Feature vector\n",
    "        Y: Label vector\n",
    "    \"\"\"\n",
    "    # Features are one-hot encoded in a sparse matrix\n",
    "    # Use scipy.sparse.lil_matrix to create the feature vector X of type float32\n",
    "    X = lil_matrix((len(df), lines + columns)).astype('float32')\n",
    "    \n",
    "    # Labels are stored in a vector. Instantiate an empty label vector Y.\n",
    "    Y = []\n",
    "    \n",
    "    line = 0\n",
    "    \n",
    "    # For each row in the dataframe, use 1 for the item and product number\n",
    "    for index, row in df.iterrows():\n",
    "        X[line,row['user']] = 1\n",
    "        X[line, lines + (row['item'])] = 1\n",
    "        line += 1\n",
    "\n",
    "        if regressor:\n",
    "            # If using regression, append the star_rating\n",
    "            Y.append(row['star_rating'])\n",
    "        else:\n",
    "            # Use 1 for star_rating 5 else use 0\n",
    "            if int(row['star_rating']) >= 5:\n",
    "                Y.append(1)\n",
    "            else:\n",
    "                Y.append(0)\n",
    "    \n",
    "    # Convert the list into NumPy array of type float32  \n",
    "    Y = np.array(Y).astype('float32')\n",
    "    return X, Y"
   ]
  },
  {
   "cell_type": "markdown",
   "metadata": {},
   "source": [
    "Use the `loadDataset` function to create the training and test sets."
   ]
  },
  {
   "cell_type": "code",
   "execution_count": 29,
   "metadata": {},
   "outputs": [
    {
     "name": "stdout",
     "output_type": "stream",
     "text": [
      "10436 6659 17095\n"
     ]
    }
   ],
   "source": [
    "print(customers.shape[0], \n",
    "      products.shape[0],\n",
    "      customers.shape[0] + products.shape[0])\n",
    "\n",
    "X_train, Y_train = loadDataset(train_df, customers.shape[0], \n",
    "                               products.shape[0])\n",
    "X_test, Y_test = loadDataset(test_df, customers.shape[0], \n",
    "                             products.shape[0])"
   ]
  },
  {
   "cell_type": "markdown",
   "metadata": {},
   "source": [
    "Now that your data is in a sparse format, save it as a protobuf format and upload it to Amazon S3. This step might look intimidating, but most of the conversion effort is handled by the Amazon SageMaker Python SDK, imported as SageMaker below."
   ]
  },
  {
   "cell_type": "code",
   "execution_count": 30,
   "metadata": {},
   "outputs": [
    {
     "name": "stdout",
     "output_type": "stream",
     "text": [
      "Training data S3 path:  s3://qls-4279222-10873a7655e1b13e-labbucket-1l60tfo955a52/sagemaker-fm/train\n",
      "Test data S3 path:  s3://qls-4279222-10873a7655e1b13e-labbucket-1l60tfo955a52/sagemaker-fm/test\n"
     ]
    }
   ],
   "source": [
    "import io \n",
    "import sagemaker.amazon.common as smac\n",
    "\n",
    "def writeDatasetToProtobuf(X, bucket, prefix, key, d_type, Y=None):\n",
    "    buf = io.BytesIO()\n",
    "    if d_type == \"sparse\":\n",
    "        smac.write_spmatrix_to_sparse_tensor(buf, X, labels=Y)\n",
    "    else:\n",
    "        smac.write_numpy_to_dense_tensor(buf, X, labels=Y)\n",
    "        \n",
    "    buf.seek(0)\n",
    "    obj = '{}/{}'.format(prefix, key)\n",
    "    boto3.resource('s3').Bucket(bucket).Object(obj).upload_fileobj(buf)\n",
    "    return 's3://{}/{}'.format(bucket,obj)\n",
    "    \n",
    "fm_train_data_path = writeDatasetToProtobuf(X_train, bucket, prefix, 'train', \"sparse\", Y_train)    \n",
    "fm_test_data_path  = writeDatasetToProtobuf(X_test, bucket, prefix, 'test', \"sparse\", Y_test)    \n",
    "  \n",
    "print(\"Training data S3 path: \", fm_train_data_path)\n",
    "print(\"Test data S3 path: \", fm_test_data_path)"
   ]
  },
  {
   "cell_type": "markdown",
   "metadata": {},
   "source": [
    "You are finally finished with data preparation. Hooray! As you can see, it takes a lot of time and effort to clean and prepare the data for modeling. This is true for every single data science project, and this step has a high impact on the outcome. Make sure you spend enough time understanding and preparing your data for training in all future machine learning dventures!"
   ]
  },
  {
   "cell_type": "markdown",
   "metadata": {},
   "source": [
    "## Training the model\n",
    "\n",
    "Now it's time to train the model. You will use an Amazon SageMaker training job for that. Amazon SageMaker training jobs are an easy way to create models, as you don't really have to write all the code for training. That is already handled for you in a nice container format.\n",
    "\n",
    "The general workflow for creating training jobs from the notebook is to instantiate the predictor, pass some hyperparameters, and then pass the data in the correct format. This is what happens in the following cell.\n",
    "\n",
    "For more more information about FM estimator, see [FactorizationMachines](https://sagemaker.readthedocs.io/en/stable/factorization_machines.html).\n",
    "\n",
    "For more information about hyperparameters, see [Factorization Machines Hyperparameters](https://docs.aws.amazon.com/sagemaker/latest/dg/fact-machines-hyperparameters.html).\n",
    "\n",
    "**Hint**: Example:\n",
    "\n",
    "```\n",
    "sess = sagemaker.Session()\n",
    "\n",
    "pca = sagemaker.estimator.Estimator(containers[boto3.Session().region_name],\n",
    "                                    role,\n",
    "                                    instance_count=1,\n",
    "                                    instance_type='ml.m4.xlarge',\n",
    "                                    output_path=output_location,\n",
    "                                    sagemaker_session=sess)\n",
    "                                    \n",
    "pca.set_hyperparameters(featuer_dim=50000,\n",
    "                        num_components=10,\n",
    "                        subtract_mean=True,\n",
    "                        algorithm_mode='randomized',\n",
    "                        mini_batch_size=200)\n",
    "                        \n",
    "pca.fit({'train': s3_train_data})\n",
    "```"
   ]
  },
  {
   "cell_type": "code",
   "execution_count": 31,
   "metadata": {},
   "outputs": [
    {
     "name": "stdout",
     "output_type": "stream",
     "text": [
      "2021-05-27 11:48:22 Starting - Starting the training job...\n",
      "2021-05-27 11:48:47 Starting - Launching requested ML instancesProfilerReport-1622116102: InProgress\n",
      ".........\n",
      "2021-05-27 11:50:07 Starting - Preparing the instances for training......\n",
      "2021-05-27 11:51:11 Downloading - Downloading input data\n",
      "2021-05-27 11:51:11 Training - Downloading the training image.....\u001b[34mDocker entrypoint called with argument(s): train\u001b[0m\n",
      "\u001b[34mRunning default environment configuration script\u001b[0m\n",
      "\u001b[34m/opt/amazon/lib/python3.7/site-packages/jsonref.py:8: DeprecationWarning: Using or importing the ABCs from 'collections' instead of from 'collections.abc' is deprecated since Python 3.3,and in 3.9 it will stop working\n",
      "  from collections import Mapping, MutableMapping, Sequence\u001b[0m\n",
      "\u001b[34m/opt/amazon/lib/python3.7/site-packages/algorithm/network_builder.py:87: DeprecationWarning: invalid escape sequence \\s\n",
      "  \"\"\"\u001b[0m\n",
      "\u001b[34m/opt/amazon/lib/python3.7/site-packages/algorithm/network_builder.py:120: DeprecationWarning: invalid escape sequence \\s\n",
      "  \"\"\"\u001b[0m\n",
      "\u001b[34m[05/27/2021 11:52:06 INFO 140456583870272] Reading default configuration from /opt/amazon/lib/python3.7/site-packages/algorithm/resources/default-conf.json: {'epochs': 1, 'mini_batch_size': '1000', 'use_bias': 'true', 'use_linear': 'true', 'bias_lr': '0.1', 'linear_lr': '0.001', 'factors_lr': '0.0001', 'bias_wd': '0.01', 'linear_wd': '0.001', 'factors_wd': '0.00001', 'bias_init_method': 'normal', 'bias_init_sigma': '0.01', 'linear_init_method': 'normal', 'linear_init_sigma': '0.01', 'factors_init_method': 'normal', 'factors_init_sigma': '0.001', 'batch_metrics_publish_interval': '500', '_data_format': 'record', '_kvstore': 'auto', '_learning_rate': '1.0', '_log_level': 'info', '_num_gpus': 'auto', '_num_kv_servers': 'auto', '_optimizer': 'adam', '_tuning_objective_metric': '', '_use_full_symbolic': 'true', '_wd': '1.0'}\u001b[0m\n",
      "\u001b[34m[05/27/2021 11:52:06 INFO 140456583870272] Merging with provided configuration from /opt/ml/input/config/hyperparameters.json: {'feature_dim': '17095', 'predictor_type': 'regressor', 'rescale_grad': '0.0078125', 'clip_gradient': '5.0', 'num_factors': '64', 'epochs': '25', 'mini_batch_size': '128'}\u001b[0m\n",
      "\u001b[34m[05/27/2021 11:52:06 INFO 140456583870272] Final configuration: {'epochs': '25', 'mini_batch_size': '128', 'use_bias': 'true', 'use_linear': 'true', 'bias_lr': '0.1', 'linear_lr': '0.001', 'factors_lr': '0.0001', 'bias_wd': '0.01', 'linear_wd': '0.001', 'factors_wd': '0.00001', 'bias_init_method': 'normal', 'bias_init_sigma': '0.01', 'linear_init_method': 'normal', 'linear_init_sigma': '0.01', 'factors_init_method': 'normal', 'factors_init_sigma': '0.001', 'batch_metrics_publish_interval': '500', '_data_format': 'record', '_kvstore': 'auto', '_learning_rate': '1.0', '_log_level': 'info', '_num_gpus': 'auto', '_num_kv_servers': 'auto', '_optimizer': 'adam', '_tuning_objective_metric': '', '_use_full_symbolic': 'true', '_wd': '1.0', 'feature_dim': '17095', 'predictor_type': 'regressor', 'rescale_grad': '0.0078125', 'clip_gradient': '5.0', 'num_factors': '64'}\u001b[0m\n",
      "\u001b[34m[05/27/2021 11:52:06 WARNING 140456583870272] Loggers have already been setup.\u001b[0m\n",
      "\u001b[34mProcess 1 is a worker.\u001b[0m\n",
      "\u001b[34m[05/27/2021 11:52:06 INFO 140456583870272] Using default worker.\u001b[0m\n",
      "\u001b[34m[05/27/2021 11:52:06 INFO 140456583870272] Checkpoint loading and saving are disabled.\u001b[0m\n",
      "\u001b[34m[2021-05-27 11:52:06.802] [tensorio] [warning] TensorIO is already initialized; ignoring the initialization routine.\u001b[0m\n",
      "\u001b[34m[2021-05-27 11:52:06.804] [tensorio] [info] epoch_stats={\"data_pipeline\": \"/opt/ml/input/data/train\", \"epoch\": 0, \"duration\": 5, \"num_examples\": 1, \"num_bytes\": 8192}\u001b[0m\n",
      "\u001b[34m[05/27/2021 11:52:06 INFO 140456583870272] nvidia-smi: took 0.031 seconds to run.\u001b[0m\n",
      "\u001b[34m[05/27/2021 11:52:06 INFO 140456583870272] nvidia-smi identified 0 GPUs.\u001b[0m\n",
      "\u001b[34m[05/27/2021 11:52:06 INFO 140456583870272] Number of GPUs being used: 0\u001b[0m\n",
      "\u001b[34m[05/27/2021 11:52:06 INFO 140456583870272] [Sparse network] Building a sparse network.\u001b[0m\n",
      "\u001b[34m[05/27/2021 11:52:06 INFO 140456583870272] Create Store: local\u001b[0m\n",
      "\u001b[34m#metrics {\"StartTime\": 1622116326.798349, \"EndTime\": 1622116326.8420372, \"Dimensions\": {\"Algorithm\": \"factorization-machines\", \"Host\": \"algo-1\", \"Operation\": \"training\"}, \"Metrics\": {\"initialize.time\": {\"sum\": 38.36822509765625, \"count\": 1, \"min\": 38.36822509765625, \"max\": 38.36822509765625}}}\n",
      "\u001b[0m\n",
      "\u001b[34m#metrics {\"StartTime\": 1622116326.8422418, \"EndTime\": 1622116326.8422985, \"Dimensions\": {\"Algorithm\": \"factorization-machines\", \"Host\": \"algo-1\", \"Operation\": \"training\", \"Meta\": \"init_train_data_iter\"}, \"Metrics\": {\"Total Records Seen\": {\"sum\": 128.0, \"count\": 1, \"min\": 128, \"max\": 128}, \"Total Batches Seen\": {\"sum\": 1.0, \"count\": 1, \"min\": 1, \"max\": 1}, \"Max Records Seen Between Resets\": {\"sum\": 128.0, \"count\": 1, \"min\": 128, \"max\": 128}, \"Max Batches Seen Between Resets\": {\"sum\": 1.0, \"count\": 1, \"min\": 1, \"max\": 1}, \"Reset Count\": {\"sum\": 1.0, \"count\": 1, \"min\": 1, \"max\": 1}, \"Number of Records Since Last Reset\": {\"sum\": 0.0, \"count\": 1, \"min\": 0, \"max\": 0}, \"Number of Batches Since Last Reset\": {\"sum\": 0.0, \"count\": 1, \"min\": 0, \"max\": 0}}}\n",
      "\u001b[0m\n",
      "\u001b[34m[11:52:06] /opt/brazil-pkg-cache/packages/AIAlgorithmsMXNet/AIAlgorithmsMXNet-1.1.x.204642.0/AL2_x86_64/generic-flavor/src/src/kvstore/./kvstore_local.h:280: Warning: non-default weights detected during kvstore pull. This call has been ignored. Please make sure to use row_sparse_pull with row_ids.\u001b[0m\n",
      "\u001b[34m[11:52:06] /opt/brazil-pkg-cache/packages/AIAlgorithmsMXNet/AIAlgorithmsMXNet-1.1.x.204642.0/AL2_x86_64/generic-flavor/src/src/kvstore/./kvstore_local.h:280: Warning: non-default weights detected during kvstore pull. This call has been ignored. Please make sure to use row_sparse_pull with row_ids.\u001b[0m\n",
      "\u001b[34m[05/27/2021 11:52:06 INFO 140456583870272] #quality_metric: host=algo-1, epoch=0, batch=0 train rmse <loss>=4.81953510464214\u001b[0m\n",
      "\u001b[34m[05/27/2021 11:52:06 INFO 140456583870272] #quality_metric: host=algo-1, epoch=0, batch=0 train mse <loss>=23.22791862487793\u001b[0m\n",
      "\u001b[34m[05/27/2021 11:52:06 INFO 140456583870272] #quality_metric: host=algo-1, epoch=0, batch=0 train absolute_loss <loss>=4.791240215301514\u001b[0m\n",
      "\u001b[34m[05/27/2021 11:52:08 INFO 140456583870272] Iter[0] Batch [500]#011Speed: 41782.30 samples/sec\u001b[0m\n",
      "\u001b[34m[05/27/2021 11:52:08 INFO 140456583870272] #quality_metric: host=algo-1, epoch=0, batch=500 train rmse <loss>=1.3383109976539915\u001b[0m\n",
      "\u001b[34m[05/27/2021 11:52:08 INFO 140456583870272] #quality_metric: host=algo-1, epoch=0, batch=500 train mse <loss>=1.791076326441622\u001b[0m\n",
      "\u001b[34m[05/27/2021 11:52:08 INFO 140456583870272] #quality_metric: host=algo-1, epoch=0, batch=500 train absolute_loss <loss>=1.0248439361949166\u001b[0m\n",
      "\n",
      "2021-05-27 11:52:08 Training - Training image download completed. Training in progress.\u001b[34m[05/27/2021 11:52:10 INFO 140456583870272] Iter[0] Batch [1000]#011Speed: 42245.78 samples/sec\u001b[0m\n",
      "\u001b[34m[05/27/2021 11:52:10 INFO 140456583870272] #quality_metric: host=algo-1, epoch=0, batch=1000 train rmse <loss>=1.2615853623506645\u001b[0m\n",
      "\u001b[34m[05/27/2021 11:52:10 INFO 140456583870272] #quality_metric: host=algo-1, epoch=0, batch=1000 train mse <loss>=1.5915976264974574\u001b[0m\n",
      "\u001b[34m[05/27/2021 11:52:10 INFO 140456583870272] #quality_metric: host=algo-1, epoch=0, batch=1000 train absolute_loss <loss>=0.9861012126182342\u001b[0m\n",
      "\u001b[34m[2021-05-27 11:52:10.718] [tensorio] [info] epoch_stats={\"data_pipeline\": \"/opt/ml/input/data/train\", \"epoch\": 2, \"duration\": 3790, \"num_examples\": 1274, \"num_bytes\": 10436096}\u001b[0m\n",
      "\u001b[34m[05/27/2021 11:52:10 INFO 140456583870272] #quality_metric: host=algo-1, epoch=0, train rmse <loss>=1.2505452391821055\u001b[0m\n",
      "\u001b[34m[05/27/2021 11:52:10 INFO 140456583870272] #quality_metric: host=algo-1, epoch=0, train mse <loss>=1.5638633952410292\u001b[0m\n",
      "\u001b[34m[05/27/2021 11:52:10 INFO 140456583870272] #quality_metric: host=algo-1, epoch=0, train absolute_loss <loss>=0.9846115265760916\u001b[0m\n",
      "\u001b[34m#metrics {\"StartTime\": 1622116326.8421707, \"EndTime\": 1622116330.7196772, \"Dimensions\": {\"Algorithm\": \"factorization-machines\", \"Host\": \"algo-1\", \"Operation\": \"training\"}, \"Metrics\": {\"epochs\": {\"sum\": 25.0, \"count\": 1, \"min\": 25, \"max\": 25}, \"update.time\": {\"sum\": 3877.028465270996, \"count\": 1, \"min\": 3877.028465270996, \"max\": 3877.028465270996}}}\n",
      "\u001b[0m\n",
      "\u001b[34m[05/27/2021 11:52:10 INFO 140456583870272] #progress_metric: host=algo-1, completed 4.0 % of epochs\u001b[0m\n",
      "\u001b[34m#metrics {\"StartTime\": 1622116326.8426082, \"EndTime\": 1622116330.719977, \"Dimensions\": {\"Algorithm\": \"factorization-machines\", \"Host\": \"algo-1\", \"Operation\": \"training\", \"epoch\": 0, \"Meta\": \"training_data_iter\"}, \"Metrics\": {\"Total Records Seen\": {\"sum\": 163192.0, \"count\": 1, \"min\": 163192, \"max\": 163192}, \"Total Batches Seen\": {\"sum\": 1275.0, \"count\": 1, \"min\": 1275, \"max\": 1275}, \"Max Records Seen Between Resets\": {\"sum\": 163064.0, \"count\": 1, \"min\": 163064, \"max\": 163064}, \"Max Batches Seen Between Resets\": {\"sum\": 1274.0, \"count\": 1, \"min\": 1274, \"max\": 1274}, \"Reset Count\": {\"sum\": 2.0, \"count\": 1, \"min\": 2, \"max\": 2}, \"Number of Records Since Last Reset\": {\"sum\": 163064.0, \"count\": 1, \"min\": 163064, \"max\": 163064}, \"Number of Batches Since Last Reset\": {\"sum\": 1274.0, \"count\": 1, \"min\": 1274, \"max\": 1274}}}\n",
      "\u001b[0m\n",
      "\u001b[34m[05/27/2021 11:52:10 INFO 140456583870272] #throughput_metric: host=algo-1, train throughput=42053.68805427812 records/second\u001b[0m\n",
      "\u001b[34m[05/27/2021 11:52:10 INFO 140456583870272] #quality_metric: host=algo-1, epoch=1, batch=0 train rmse <loss>=0.8574269844198383\u001b[0m\n",
      "\u001b[34m[05/27/2021 11:52:10 INFO 140456583870272] #quality_metric: host=algo-1, epoch=1, batch=0 train mse <loss>=0.7351810336112976\u001b[0m\n",
      "\u001b[34m[05/27/2021 11:52:10 INFO 140456583870272] #quality_metric: host=algo-1, epoch=1, batch=0 train absolute_loss <loss>=0.8110343217849731\u001b[0m\n",
      "\u001b[34m[05/27/2021 11:52:11 INFO 140456583870272] Iter[1] Batch [500]#011Speed: 52138.95 samples/sec\u001b[0m\n",
      "\u001b[34m[05/27/2021 11:52:11 INFO 140456583870272] #quality_metric: host=algo-1, epoch=1, batch=500 train rmse <loss>=1.107955211519729\u001b[0m\n",
      "\u001b[34m[05/27/2021 11:52:11 INFO 140456583870272] #quality_metric: host=algo-1, epoch=1, batch=500 train mse <loss>=1.2275647507337277\u001b[0m\n",
      "\u001b[34m[05/27/2021 11:52:11 INFO 140456583870272] #quality_metric: host=algo-1, epoch=1, batch=500 train absolute_loss <loss>=0.883625750770112\u001b[0m\n",
      "\u001b[34m[05/27/2021 11:52:13 INFO 140456583870272] Iter[1] Batch [1000]#011Speed: 52218.14 samples/sec\u001b[0m\n",
      "\u001b[34m[05/27/2021 11:52:13 INFO 140456583870272] #quality_metric: host=algo-1, epoch=1, batch=1000 train rmse <loss>=1.134450549042628\u001b[0m\n",
      "\u001b[34m[05/27/2021 11:52:13 INFO 140456583870272] #quality_metric: host=algo-1, epoch=1, batch=1000 train mse <loss>=1.2869780482231201\u001b[0m\n",
      "\u001b[34m[05/27/2021 11:52:13 INFO 140456583870272] #quality_metric: host=algo-1, epoch=1, batch=1000 train absolute_loss <loss>=0.9083249712442899\u001b[0m\n",
      "\u001b[34m[2021-05-27 11:52:13.861] [tensorio] [info] epoch_stats={\"data_pipeline\": \"/opt/ml/input/data/train\", \"epoch\": 4, \"duration\": 3138, \"num_examples\": 1274, \"num_bytes\": 10436096}\u001b[0m\n",
      "\u001b[34m[05/27/2021 11:52:13 INFO 140456583870272] #quality_metric: host=algo-1, epoch=1, train rmse <loss>=1.1461391578638276\u001b[0m\n",
      "\u001b[34m[05/27/2021 11:52:13 INFO 140456583870272] #quality_metric: host=algo-1, epoch=1, train mse <loss>=1.313634969188804\u001b[0m\n",
      "\u001b[34m[05/27/2021 11:52:13 INFO 140456583870272] #quality_metric: host=algo-1, epoch=1, train absolute_loss <loss>=0.9198557479040963\u001b[0m\n",
      "\u001b[34m#metrics {\"StartTime\": 1622116330.7197776, \"EndTime\": 1622116333.8618543, \"Dimensions\": {\"Algorithm\": \"factorization-machines\", \"Host\": \"algo-1\", \"Operation\": \"training\"}, \"Metrics\": {\"update.time\": {\"sum\": 3140.8791542053223, \"count\": 1, \"min\": 3140.8791542053223, \"max\": 3140.8791542053223}}}\n",
      "\u001b[0m\n",
      "\u001b[34m[05/27/2021 11:52:13 INFO 140456583870272] #progress_metric: host=algo-1, completed 8.0 % of epochs\u001b[0m\n",
      "\u001b[34m#metrics {\"StartTime\": 1622116330.7209392, \"EndTime\": 1622116333.8621988, \"Dimensions\": {\"Algorithm\": \"factorization-machines\", \"Host\": \"algo-1\", \"Operation\": \"training\", \"epoch\": 1, \"Meta\": \"training_data_iter\"}, \"Metrics\": {\"Total Records Seen\": {\"sum\": 326256.0, \"count\": 1, \"min\": 326256, \"max\": 326256}, \"Total Batches Seen\": {\"sum\": 2549.0, \"count\": 1, \"min\": 2549, \"max\": 2549}, \"Max Records Seen Between Resets\": {\"sum\": 163064.0, \"count\": 1, \"min\": 163064, \"max\": 163064}, \"Max Batches Seen Between Resets\": {\"sum\": 1274.0, \"count\": 1, \"min\": 1274, \"max\": 1274}, \"Reset Count\": {\"sum\": 3.0, \"count\": 1, \"min\": 3, \"max\": 3}, \"Number of Records Since Last Reset\": {\"sum\": 163064.0, \"count\": 1, \"min\": 163064, \"max\": 163064}, \"Number of Batches Since Last Reset\": {\"sum\": 1274.0, \"count\": 1, \"min\": 1274, \"max\": 1274}}}\n",
      "\u001b[0m\n",
      "\u001b[34m[05/27/2021 11:52:13 INFO 140456583870272] #throughput_metric: host=algo-1, train throughput=51908.415461018296 records/second\u001b[0m\n",
      "\u001b[34m[05/27/2021 11:52:13 INFO 140456583870272] #quality_metric: host=algo-1, epoch=2, batch=0 train rmse <loss>=0.8637421012219146\u001b[0m\n",
      "\u001b[34m[05/27/2021 11:52:13 INFO 140456583870272] #quality_metric: host=algo-1, epoch=2, batch=0 train mse <loss>=0.7460504174232483\u001b[0m\n",
      "\u001b[34m[05/27/2021 11:52:13 INFO 140456583870272] #quality_metric: host=algo-1, epoch=2, batch=0 train absolute_loss <loss>=0.8153643012046814\u001b[0m\n",
      "\u001b[34m[05/27/2021 11:52:15 INFO 140456583870272] Iter[2] Batch [500]#011Speed: 47394.74 samples/sec\u001b[0m\n",
      "\u001b[34m[05/27/2021 11:52:15 INFO 140456583870272] #quality_metric: host=algo-1, epoch=2, batch=500 train rmse <loss>=1.0907799256967725\u001b[0m\n",
      "\u001b[34m[05/27/2021 11:52:15 INFO 140456583870272] #quality_metric: host=algo-1, epoch=2, batch=500 train mse <loss>=1.1898008463030565\u001b[0m\n",
      "\u001b[34m[05/27/2021 11:52:15 INFO 140456583870272] #quality_metric: host=algo-1, epoch=2, batch=500 train absolute_loss <loss>=0.8680961455651623\u001b[0m\n",
      "\u001b[34m[05/27/2021 11:52:16 INFO 140456583870272] Iter[2] Batch [1000]#011Speed: 53549.79 samples/sec\u001b[0m\n",
      "\u001b[34m[05/27/2021 11:52:16 INFO 140456583870272] #quality_metric: host=algo-1, epoch=2, batch=1000 train rmse <loss>=1.1168075884616333\u001b[0m\n",
      "\u001b[34m[05/27/2021 11:52:16 INFO 140456583870272] #quality_metric: host=algo-1, epoch=2, batch=1000 train mse <loss>=1.247259189645489\u001b[0m\n",
      "\u001b[34m[05/27/2021 11:52:16 INFO 140456583870272] #quality_metric: host=algo-1, epoch=2, batch=1000 train absolute_loss <loss>=0.8930500752918727\u001b[0m\n",
      "\u001b[34m[2021-05-27 11:52:17.080] [tensorio] [info] epoch_stats={\"data_pipeline\": \"/opt/ml/input/data/train\", \"epoch\": 6, \"duration\": 3215, \"num_examples\": 1274, \"num_bytes\": 10436096}\u001b[0m\n",
      "\u001b[34m[05/27/2021 11:52:17 INFO 140456583870272] #quality_metric: host=algo-1, epoch=2, train rmse <loss>=1.128407924912479\u001b[0m\n",
      "\u001b[34m[05/27/2021 11:52:17 INFO 140456583870272] #quality_metric: host=algo-1, epoch=2, train mse <loss>=1.2733044450052866\u001b[0m\n",
      "\u001b[34m[05/27/2021 11:52:17 INFO 140456583870272] #quality_metric: host=algo-1, epoch=2, train absolute_loss <loss>=0.9047194372166644\u001b[0m\n",
      "\u001b[34m#metrics {\"StartTime\": 1622116333.861947, \"EndTime\": 1622116337.0809953, \"Dimensions\": {\"Algorithm\": \"factorization-machines\", \"Host\": \"algo-1\", \"Operation\": \"training\"}, \"Metrics\": {\"update.time\": {\"sum\": 3217.89288520813, \"count\": 1, \"min\": 3217.89288520813, \"max\": 3217.89288520813}}}\n",
      "\u001b[0m\n",
      "\u001b[34m[05/27/2021 11:52:17 INFO 140456583870272] #progress_metric: host=algo-1, completed 12.0 % of epochs\u001b[0m\n",
      "\u001b[34m#metrics {\"StartTime\": 1622116333.8630679, \"EndTime\": 1622116337.081265, \"Dimensions\": {\"Algorithm\": \"factorization-machines\", \"Host\": \"algo-1\", \"Operation\": \"training\", \"epoch\": 2, \"Meta\": \"training_data_iter\"}, \"Metrics\": {\"Total Records Seen\": {\"sum\": 489320.0, \"count\": 1, \"min\": 489320, \"max\": 489320}, \"Total Batches Seen\": {\"sum\": 3823.0, \"count\": 1, \"min\": 3823, \"max\": 3823}, \"Max Records Seen Between Resets\": {\"sum\": 163064.0, \"count\": 1, \"min\": 163064, \"max\": 163064}, \"Max Batches Seen Between Resets\": {\"sum\": 1274.0, \"count\": 1, \"min\": 1274, \"max\": 1274}, \"Reset Count\": {\"sum\": 4.0, \"count\": 1, \"min\": 4, \"max\": 4}, \"Number of Records Since Last Reset\": {\"sum\": 163064.0, \"count\": 1, \"min\": 163064, \"max\": 163064}, \"Number of Batches Since Last Reset\": {\"sum\": 1274.0, \"count\": 1, \"min\": 1274, \"max\": 1274}}}\n",
      "\u001b[0m\n",
      "\u001b[34m[05/27/2021 11:52:17 INFO 140456583870272] #throughput_metric: host=algo-1, train throughput=50667.44191612632 records/second\u001b[0m\n",
      "\u001b[34m[05/27/2021 11:52:17 INFO 140456583870272] #quality_metric: host=algo-1, epoch=3, batch=0 train rmse <loss>=0.8597154116493462\u001b[0m\n",
      "\u001b[34m[05/27/2021 11:52:17 INFO 140456583870272] #quality_metric: host=algo-1, epoch=3, batch=0 train mse <loss>=0.7391105890274048\u001b[0m\n",
      "\u001b[34m[05/27/2021 11:52:17 INFO 140456583870272] #quality_metric: host=algo-1, epoch=3, batch=0 train absolute_loss <loss>=0.8094183802604675\u001b[0m\n",
      "\u001b[34m[05/27/2021 11:52:18 INFO 140456583870272] Iter[3] Batch [500]#011Speed: 51579.86 samples/sec\u001b[0m\n",
      "\u001b[34m[05/27/2021 11:52:18 INFO 140456583870272] #quality_metric: host=algo-1, epoch=3, batch=500 train rmse <loss>=1.0752197416488565\u001b[0m\n",
      "\u001b[34m[05/27/2021 11:52:18 INFO 140456583870272] #quality_metric: host=algo-1, epoch=3, batch=500 train mse <loss>=1.1560974928314338\u001b[0m\n",
      "\u001b[34m[05/27/2021 11:52:18 INFO 140456583870272] #quality_metric: host=algo-1, epoch=3, batch=500 train absolute_loss <loss>=0.85378319584205\u001b[0m\n",
      "\u001b[34m[05/27/2021 11:52:19 INFO 140456583870272] Iter[3] Batch [1000]#011Speed: 50456.49 samples/sec\u001b[0m\n",
      "\u001b[34m[05/27/2021 11:52:19 INFO 140456583870272] #quality_metric: host=algo-1, epoch=3, batch=1000 train rmse <loss>=1.1013161407289513\u001b[0m\n",
      "\u001b[34m[05/27/2021 11:52:19 INFO 140456583870272] #quality_metric: host=algo-1, epoch=3, batch=1000 train mse <loss>=1.2128972418301112\u001b[0m\n",
      "\u001b[34m[05/27/2021 11:52:19 INFO 140456583870272] #quality_metric: host=algo-1, epoch=3, batch=1000 train absolute_loss <loss>=0.8794121603508452\u001b[0m\n",
      "\u001b[34m[2021-05-27 11:52:20.267] [tensorio] [info] epoch_stats={\"data_pipeline\": \"/opt/ml/input/data/train\", \"epoch\": 8, \"duration\": 3183, \"num_examples\": 1274, \"num_bytes\": 10436096}\u001b[0m\n",
      "\u001b[34m[05/27/2021 11:52:20 INFO 140456583870272] #quality_metric: host=algo-1, epoch=3, train rmse <loss>=1.1130592395044334\u001b[0m\n",
      "\u001b[34m[05/27/2021 11:52:20 INFO 140456583870272] #quality_metric: host=algo-1, epoch=3, train mse <loss>=1.2389008706461877\u001b[0m\n",
      "\u001b[34m[05/27/2021 11:52:20 INFO 140456583870272] #quality_metric: host=algo-1, epoch=3, train absolute_loss <loss>=0.8914125530835785\u001b[0m\n",
      "\u001b[34m#metrics {\"StartTime\": 1622116337.0810773, \"EndTime\": 1622116340.2681127, \"Dimensions\": {\"Algorithm\": \"factorization-machines\", \"Host\": \"algo-1\", \"Operation\": \"training\"}, \"Metrics\": {\"update.time\": {\"sum\": 3185.9400272369385, \"count\": 1, \"min\": 3185.9400272369385, \"max\": 3185.9400272369385}}}\n",
      "\u001b[0m\n",
      "\u001b[34m[05/27/2021 11:52:20 INFO 140456583870272] #progress_metric: host=algo-1, completed 16.0 % of epochs\u001b[0m\n",
      "\u001b[34m#metrics {\"StartTime\": 1622116337.082116, \"EndTime\": 1622116340.2683995, \"Dimensions\": {\"Algorithm\": \"factorization-machines\", \"Host\": \"algo-1\", \"Operation\": \"training\", \"epoch\": 3, \"Meta\": \"training_data_iter\"}, \"Metrics\": {\"Total Records Seen\": {\"sum\": 652384.0, \"count\": 1, \"min\": 652384, \"max\": 652384}, \"Total Batches Seen\": {\"sum\": 5097.0, \"count\": 1, \"min\": 5097, \"max\": 5097}, \"Max Records Seen Between Resets\": {\"sum\": 163064.0, \"count\": 1, \"min\": 163064, \"max\": 163064}, \"Max Batches Seen Between Resets\": {\"sum\": 1274.0, \"count\": 1, \"min\": 1274, \"max\": 1274}, \"Reset Count\": {\"sum\": 5.0, \"count\": 1, \"min\": 5, \"max\": 5}, \"Number of Records Since Last Reset\": {\"sum\": 163064.0, \"count\": 1, \"min\": 163064, \"max\": 163064}, \"Number of Batches Since Last Reset\": {\"sum\": 1274.0, \"count\": 1, \"min\": 1274, \"max\": 1274}}}\n",
      "\u001b[0m\n",
      "\u001b[34m[05/27/2021 11:52:20 INFO 140456583870272] #throughput_metric: host=algo-1, train throughput=51174.28253615661 records/second\u001b[0m\n",
      "\u001b[34m[05/27/2021 11:52:20 INFO 140456583870272] #quality_metric: host=algo-1, epoch=4, batch=0 train rmse <loss>=0.8541112083171273\u001b[0m\n",
      "\u001b[34m[05/27/2021 11:52:20 INFO 140456583870272] #quality_metric: host=algo-1, epoch=4, batch=0 train mse <loss>=0.7295059561729431\u001b[0m\n",
      "\u001b[34m[05/27/2021 11:52:20 INFO 140456583870272] #quality_metric: host=algo-1, epoch=4, batch=0 train absolute_loss <loss>=0.8017212152481079\u001b[0m\n",
      "\u001b[34m[05/27/2021 11:52:21 INFO 140456583870272] Iter[4] Batch [500]#011Speed: 51911.12 samples/sec\u001b[0m\n",
      "\u001b[34m[05/27/2021 11:52:21 INFO 140456583870272] #quality_metric: host=algo-1, epoch=4, batch=500 train rmse <loss>=1.0618880065142453\u001b[0m\n",
      "\u001b[34m[05/27/2021 11:52:21 INFO 140456583870272] #quality_metric: host=algo-1, epoch=4, batch=500 train mse <loss>=1.127606138378798\u001b[0m\n",
      "\u001b[34m[05/27/2021 11:52:21 INFO 140456583870272] #quality_metric: host=algo-1, epoch=4, batch=500 train absolute_loss <loss>=0.8414699662469343\u001b[0m\n",
      "\u001b[34m[05/27/2021 11:52:22 INFO 140456583870272] Iter[4] Batch [1000]#011Speed: 53276.13 samples/sec\u001b[0m\n",
      "\u001b[34m[05/27/2021 11:52:22 INFO 140456583870272] #quality_metric: host=algo-1, epoch=4, batch=1000 train rmse <loss>=1.0880700064489013\u001b[0m\n",
      "\u001b[34m[05/27/2021 11:52:22 INFO 140456583870272] #quality_metric: host=algo-1, epoch=4, batch=1000 train mse <loss>=1.1838963389337123\u001b[0m\n",
      "\u001b[34m[05/27/2021 11:52:22 INFO 140456583870272] #quality_metric: host=algo-1, epoch=4, batch=1000 train absolute_loss <loss>=0.8677156929607753\u001b[0m\n",
      "\u001b[34m[2021-05-27 11:52:23.416] [tensorio] [info] epoch_stats={\"data_pipeline\": \"/opt/ml/input/data/train\", \"epoch\": 10, \"duration\": 3144, \"num_examples\": 1274, \"num_bytes\": 10436096}\u001b[0m\n",
      "\u001b[34m[05/27/2021 11:52:23 INFO 140456583870272] #quality_metric: host=algo-1, epoch=4, train rmse <loss>=1.0999599407483753\u001b[0m\n",
      "\u001b[34m[05/27/2021 11:52:23 INFO 140456583870272] #quality_metric: host=algo-1, epoch=4, train mse <loss>=1.2099118712511692\u001b[0m\n",
      "\u001b[34m[05/27/2021 11:52:23 INFO 140456583870272] #quality_metric: host=algo-1, epoch=4, train absolute_loss <loss>=0.8799937565341662\u001b[0m\n",
      "\u001b[34m#metrics {\"StartTime\": 1622116340.2682006, \"EndTime\": 1622116343.417168, \"Dimensions\": {\"Algorithm\": \"factorization-machines\", \"Host\": \"algo-1\", \"Operation\": \"training\"}, \"Metrics\": {\"update.time\": {\"sum\": 3147.514581680298, \"count\": 1, \"min\": 3147.514581680298, \"max\": 3147.514581680298}}}\n",
      "\u001b[0m\n",
      "\u001b[34m[05/27/2021 11:52:23 INFO 140456583870272] #progress_metric: host=algo-1, completed 20.0 % of epochs\u001b[0m\n",
      "\u001b[34m#metrics {\"StartTime\": 1622116340.269613, \"EndTime\": 1622116343.4174378, \"Dimensions\": {\"Algorithm\": \"factorization-machines\", \"Host\": \"algo-1\", \"Operation\": \"training\", \"epoch\": 4, \"Meta\": \"training_data_iter\"}, \"Metrics\": {\"Total Records Seen\": {\"sum\": 815448.0, \"count\": 1, \"min\": 815448, \"max\": 815448}, \"Total Batches Seen\": {\"sum\": 6371.0, \"count\": 1, \"min\": 6371, \"max\": 6371}, \"Max Records Seen Between Resets\": {\"sum\": 163064.0, \"count\": 1, \"min\": 163064, \"max\": 163064}, \"Max Batches Seen Between Resets\": {\"sum\": 1274.0, \"count\": 1, \"min\": 1274, \"max\": 1274}, \"Reset Count\": {\"sum\": 6.0, \"count\": 1, \"min\": 6, \"max\": 6}, \"Number of Records Since Last Reset\": {\"sum\": 163064.0, \"count\": 1, \"min\": 163064, \"max\": 163064}, \"Number of Batches Since Last Reset\": {\"sum\": 1274.0, \"count\": 1, \"min\": 1274, \"max\": 1274}}}\n",
      "\u001b[0m\n",
      "\u001b[34m[05/27/2021 11:52:23 INFO 140456583870272] #throughput_metric: host=algo-1, train throughput=51799.50435157803 records/second\u001b[0m\n",
      "\u001b[34m[05/27/2021 11:52:23 INFO 140456583870272] #quality_metric: host=algo-1, epoch=5, batch=0 train rmse <loss>=0.8485407982426941\u001b[0m\n",
      "\u001b[34m[05/27/2021 11:52:23 INFO 140456583870272] #quality_metric: host=algo-1, epoch=5, batch=0 train mse <loss>=0.7200214862823486\u001b[0m\n",
      "\u001b[34m[05/27/2021 11:52:23 INFO 140456583870272] #quality_metric: host=algo-1, epoch=5, batch=0 train absolute_loss <loss>=0.7943793535232544\u001b[0m\n",
      "\u001b[34m[05/27/2021 11:52:24 INFO 140456583870272] Iter[5] Batch [500]#011Speed: 51784.06 samples/sec\u001b[0m\n",
      "\u001b[34m[05/27/2021 11:52:24 INFO 140456583870272] #quality_metric: host=algo-1, epoch=5, batch=500 train rmse <loss>=1.050331397703064\u001b[0m\n",
      "\u001b[34m[05/27/2021 11:52:24 INFO 140456583870272] #quality_metric: host=algo-1, epoch=5, batch=500 train mse <loss>=1.103196045000872\u001b[0m\n",
      "\u001b[34m[05/27/2021 11:52:24 INFO 140456583870272] #quality_metric: host=algo-1, epoch=5, batch=500 train absolute_loss <loss>=0.8307646475509255\u001b[0m\n",
      "\u001b[34m[05/27/2021 11:52:25 INFO 140456583870272] Iter[5] Batch [1000]#011Speed: 48499.75 samples/sec\u001b[0m\n",
      "\u001b[34m[05/27/2021 11:52:25 INFO 140456583870272] #quality_metric: host=algo-1, epoch=5, batch=1000 train rmse <loss>=1.0765663512240007\u001b[0m\n",
      "\u001b[34m[05/27/2021 11:52:25 INFO 140456583870272] #quality_metric: host=algo-1, epoch=5, batch=1000 train mse <loss>=1.1589951085877586\u001b[0m\n",
      "\u001b[34m[05/27/2021 11:52:25 INFO 140456583870272] #quality_metric: host=algo-1, epoch=5, batch=1000 train absolute_loss <loss>=0.8575198439272729\u001b[0m\n",
      "\u001b[34m[2021-05-27 11:52:26.660] [tensorio] [info] epoch_stats={\"data_pipeline\": \"/opt/ml/input/data/train\", \"epoch\": 12, \"duration\": 3240, \"num_examples\": 1274, \"num_bytes\": 10436096}\u001b[0m\n",
      "\u001b[34m[05/27/2021 11:52:26 INFO 140456583870272] #quality_metric: host=algo-1, epoch=5, train rmse <loss>=1.0885735465089077\u001b[0m\n",
      "\u001b[34m[05/27/2021 11:52:26 INFO 140456583870272] #quality_metric: host=algo-1, epoch=5, train mse <loss>=1.184992366158981\u001b[0m\n",
      "\u001b[34m[05/27/2021 11:52:26 INFO 140456583870272] #quality_metric: host=algo-1, epoch=5, train absolute_loss <loss>=0.8700047252550605\u001b[0m\n",
      "\u001b[34m#metrics {\"StartTime\": 1622116343.4172573, \"EndTime\": 1622116346.6615067, \"Dimensions\": {\"Algorithm\": \"factorization-machines\", \"Host\": \"algo-1\", \"Operation\": \"training\"}, \"Metrics\": {\"update.time\": {\"sum\": 3243.2165145874023, \"count\": 1, \"min\": 3243.2165145874023, \"max\": 3243.2165145874023}}}\n",
      "\u001b[0m\n",
      "\u001b[34m[05/27/2021 11:52:26 INFO 140456583870272] #progress_metric: host=algo-1, completed 24.0 % of epochs\u001b[0m\n",
      "\u001b[34m#metrics {\"StartTime\": 1622116343.4182558, \"EndTime\": 1622116346.661802, \"Dimensions\": {\"Algorithm\": \"factorization-machines\", \"Host\": \"algo-1\", \"Operation\": \"training\", \"epoch\": 5, \"Meta\": \"training_data_iter\"}, \"Metrics\": {\"Total Records Seen\": {\"sum\": 978512.0, \"count\": 1, \"min\": 978512, \"max\": 978512}, \"Total Batches Seen\": {\"sum\": 7645.0, \"count\": 1, \"min\": 7645, \"max\": 7645}, \"Max Records Seen Between Resets\": {\"sum\": 163064.0, \"count\": 1, \"min\": 163064, \"max\": 163064}, \"Max Batches Seen Between Resets\": {\"sum\": 1274.0, \"count\": 1, \"min\": 1274, \"max\": 1274}, \"Reset Count\": {\"sum\": 7.0, \"count\": 1, \"min\": 7, \"max\": 7}, \"Number of Records Since Last Reset\": {\"sum\": 163064.0, \"count\": 1, \"min\": 163064, \"max\": 163064}, \"Number of Batches Since Last Reset\": {\"sum\": 1274.0, \"count\": 1, \"min\": 1274, \"max\": 1274}}}\n",
      "\u001b[0m\n",
      "\u001b[34m[05/27/2021 11:52:26 INFO 140456583870272] #throughput_metric: host=algo-1, train throughput=50271.47046266233 records/second\u001b[0m\n",
      "\u001b[34m[05/27/2021 11:52:26 INFO 140456583870272] #quality_metric: host=algo-1, epoch=6, batch=0 train rmse <loss>=0.8432260935403212\u001b[0m\n",
      "\u001b[34m[05/27/2021 11:52:26 INFO 140456583870272] #quality_metric: host=algo-1, epoch=6, batch=0 train mse <loss>=0.7110302448272705\u001b[0m\n",
      "\u001b[34m[05/27/2021 11:52:26 INFO 140456583870272] #quality_metric: host=algo-1, epoch=6, batch=0 train absolute_loss <loss>=0.7877106666564941\u001b[0m\n",
      "\u001b[34m[05/27/2021 11:52:27 INFO 140456583870272] Iter[6] Batch [500]#011Speed: 52861.46 samples/sec\u001b[0m\n",
      "\u001b[34m[05/27/2021 11:52:27 INFO 140456583870272] #quality_metric: host=algo-1, epoch=6, batch=500 train rmse <loss>=1.0401243400960891\u001b[0m\n",
      "\u001b[34m[05/27/2021 11:52:27 INFO 140456583870272] #quality_metric: host=algo-1, epoch=6, batch=500 train mse <loss>=1.081858642860325\u001b[0m\n",
      "\u001b[34m[05/27/2021 11:52:27 INFO 140456583870272] #quality_metric: host=algo-1, epoch=6, batch=500 train absolute_loss <loss>=0.8213017189098214\u001b[0m\n",
      "\u001b[34m[05/27/2021 11:52:29 INFO 140456583870272] Iter[6] Batch [1000]#011Speed: 52878.44 samples/sec\u001b[0m\n",
      "\u001b[34m[05/27/2021 11:52:29 INFO 140456583870272] #quality_metric: host=algo-1, epoch=6, batch=1000 train rmse <loss>=1.066382898698579\u001b[0m\n",
      "\u001b[34m[05/27/2021 11:52:29 INFO 140456583870272] #quality_metric: host=algo-1, epoch=6, batch=1000 train mse <loss>=1.1371724866367838\u001b[0m\n",
      "\u001b[34m[05/27/2021 11:52:29 INFO 140456583870272] #quality_metric: host=algo-1, epoch=6, batch=1000 train absolute_loss <loss>=0.8484426932139592\u001b[0m\n",
      "\u001b[34m[2021-05-27 11:52:29.771] [tensorio] [info] epoch_stats={\"data_pipeline\": \"/opt/ml/input/data/train\", \"epoch\": 14, \"duration\": 3107, \"num_examples\": 1274, \"num_bytes\": 10436096}\u001b[0m\n",
      "\u001b[34m[05/27/2021 11:52:29 INFO 140456583870272] #quality_metric: host=algo-1, epoch=6, train rmse <loss>=1.0784784139429509\u001b[0m\n",
      "\u001b[34m[05/27/2021 11:52:29 INFO 140456583870272] #quality_metric: host=algo-1, epoch=6, train mse <loss>=1.163115689340903\u001b[0m\n",
      "\u001b[34m[05/27/2021 11:52:29 INFO 140456583870272] #quality_metric: host=algo-1, epoch=6, train absolute_loss <loss>=0.8610789220973124\u001b[0m\n",
      "\u001b[34m#metrics {\"StartTime\": 1622116346.661601, \"EndTime\": 1622116349.772221, \"Dimensions\": {\"Algorithm\": \"factorization-machines\", \"Host\": \"algo-1\", \"Operation\": \"training\"}, \"Metrics\": {\"update.time\": {\"sum\": 3109.567403793335, \"count\": 1, \"min\": 3109.567403793335, \"max\": 3109.567403793335}}}\n",
      "\u001b[0m\n",
      "\u001b[34m[05/27/2021 11:52:29 INFO 140456583870272] #progress_metric: host=algo-1, completed 28.0 % of epochs\u001b[0m\n",
      "\u001b[34m#metrics {\"StartTime\": 1622116346.6626284, \"EndTime\": 1622116349.7725163, \"Dimensions\": {\"Algorithm\": \"factorization-machines\", \"Host\": \"algo-1\", \"Operation\": \"training\", \"epoch\": 6, \"Meta\": \"training_data_iter\"}, \"Metrics\": {\"Total Records Seen\": {\"sum\": 1141576.0, \"count\": 1, \"min\": 1141576, \"max\": 1141576}, \"Total Batches Seen\": {\"sum\": 8919.0, \"count\": 1, \"min\": 8919, \"max\": 8919}, \"Max Records Seen Between Resets\": {\"sum\": 163064.0, \"count\": 1, \"min\": 163064, \"max\": 163064}, \"Max Batches Seen Between Resets\": {\"sum\": 1274.0, \"count\": 1, \"min\": 1274, \"max\": 1274}, \"Reset Count\": {\"sum\": 8.0, \"count\": 1, \"min\": 8, \"max\": 8}, \"Number of Records Since Last Reset\": {\"sum\": 163064.0, \"count\": 1, \"min\": 163064, \"max\": 163064}, \"Number of Batches Since Last Reset\": {\"sum\": 1274.0, \"count\": 1, \"min\": 1274, \"max\": 1274}}}\n",
      "\u001b[0m\n",
      "\u001b[34m[05/27/2021 11:52:29 INFO 140456583870272] #throughput_metric: host=algo-1, train throughput=52431.63759261244 records/second\u001b[0m\n",
      "\u001b[34m[05/27/2021 11:52:29 INFO 140456583870272] #quality_metric: host=algo-1, epoch=7, batch=0 train rmse <loss>=0.8381883852414056\u001b[0m\n",
      "\u001b[34m[05/27/2021 11:52:29 INFO 140456583870272] #quality_metric: host=algo-1, epoch=7, batch=0 train mse <loss>=0.702559769153595\u001b[0m\n",
      "\u001b[34m[05/27/2021 11:52:29 INFO 140456583870272] #quality_metric: host=algo-1, epoch=7, batch=0 train absolute_loss <loss>=0.7812764644622803\u001b[0m\n",
      "\u001b[34m[05/27/2021 11:52:31 INFO 140456583870272] Iter[7] Batch [500]#011Speed: 51356.83 samples/sec\u001b[0m\n",
      "\u001b[34m[05/27/2021 11:52:31 INFO 140456583870272] #quality_metric: host=algo-1, epoch=7, batch=500 train rmse <loss>=1.0309623119011253\u001b[0m\n",
      "\u001b[34m[05/27/2021 11:52:31 INFO 140456583870272] #quality_metric: host=algo-1, epoch=7, batch=500 train mse <loss>=1.0628832885605133\u001b[0m\n",
      "\u001b[34m[05/27/2021 11:52:31 INFO 140456583870272] #quality_metric: host=algo-1, epoch=7, batch=500 train absolute_loss <loss>=0.812786980422433\u001b[0m\n",
      "\u001b[34m[05/27/2021 11:52:32 INFO 140456583870272] Iter[7] Batch [1000]#011Speed: 47186.37 samples/sec\u001b[0m\n",
      "\u001b[34m[05/27/2021 11:52:32 INFO 140456583870272] #quality_metric: host=algo-1, epoch=7, batch=1000 train rmse <loss>=1.0572224727088102\u001b[0m\n",
      "\u001b[34m[05/27/2021 11:52:32 INFO 140456583870272] #quality_metric: host=algo-1, epoch=7, batch=1000 train mse <loss>=1.117719356800531\u001b[0m\n",
      "\u001b[34m[05/27/2021 11:52:32 INFO 140456583870272] #quality_metric: host=algo-1, epoch=7, batch=1000 train absolute_loss <loss>=0.8402091086982609\u001b[0m\n",
      "\u001b[34m[2021-05-27 11:52:33.055] [tensorio] [info] epoch_stats={\"data_pipeline\": \"/opt/ml/input/data/train\", \"epoch\": 16, \"duration\": 3278, \"num_examples\": 1274, \"num_bytes\": 10436096}\u001b[0m\n",
      "\u001b[34m[05/27/2021 11:52:33 INFO 140456583870272] #quality_metric: host=algo-1, epoch=7, train rmse <loss>=1.0693823631979655\u001b[0m\n",
      "\u001b[34m[05/27/2021 11:52:33 INFO 140456583870272] #quality_metric: host=algo-1, epoch=7, train mse <loss>=1.1435786387188656\u001b[0m\n",
      "\u001b[34m[05/27/2021 11:52:33 INFO 140456583870272] #quality_metric: host=algo-1, epoch=7, train absolute_loss <loss>=0.8529569875080507\u001b[0m\n",
      "\u001b[34m#metrics {\"StartTime\": 1622116349.7723074, \"EndTime\": 1622116353.056635, \"Dimensions\": {\"Algorithm\": \"factorization-machines\", \"Host\": \"algo-1\", \"Operation\": \"training\"}, \"Metrics\": {\"update.time\": {\"sum\": 3283.2517623901367, \"count\": 1, \"min\": 3283.2517623901367, \"max\": 3283.2517623901367}}}\n",
      "\u001b[0m\n",
      "\u001b[34m[05/27/2021 11:52:33 INFO 140456583870272] #progress_metric: host=algo-1, completed 32.0 % of epochs\u001b[0m\n",
      "\u001b[34m#metrics {\"StartTime\": 1622116349.773349, \"EndTime\": 1622116353.0569148, \"Dimensions\": {\"Algorithm\": \"factorization-machines\", \"Host\": \"algo-1\", \"Operation\": \"training\", \"epoch\": 7, \"Meta\": \"training_data_iter\"}, \"Metrics\": {\"Total Records Seen\": {\"sum\": 1304640.0, \"count\": 1, \"min\": 1304640, \"max\": 1304640}, \"Total Batches Seen\": {\"sum\": 10193.0, \"count\": 1, \"min\": 10193, \"max\": 10193}, \"Max Records Seen Between Resets\": {\"sum\": 163064.0, \"count\": 1, \"min\": 163064, \"max\": 163064}, \"Max Batches Seen Between Resets\": {\"sum\": 1274.0, \"count\": 1, \"min\": 1274, \"max\": 1274}, \"Reset Count\": {\"sum\": 9.0, \"count\": 1, \"min\": 9, \"max\": 9}, \"Number of Records Since Last Reset\": {\"sum\": 163064.0, \"count\": 1, \"min\": 163064, \"max\": 163064}, \"Number of Batches Since Last Reset\": {\"sum\": 1274.0, \"count\": 1, \"min\": 1274, \"max\": 1274}}}\n",
      "\u001b[0m\n",
      "\u001b[34m[05/27/2021 11:52:33 INFO 140456583870272] #throughput_metric: host=algo-1, train throughput=49658.67826012961 records/second\u001b[0m\n",
      "\u001b[34m[05/27/2021 11:52:33 INFO 140456583870272] #quality_metric: host=algo-1, epoch=8, batch=0 train rmse <loss>=0.8334191079500801\u001b[0m\n",
      "\u001b[34m[05/27/2021 11:52:33 INFO 140456583870272] #quality_metric: host=algo-1, epoch=8, batch=0 train mse <loss>=0.6945874094963074\u001b[0m\n",
      "\u001b[34m[05/27/2021 11:52:33 INFO 140456583870272] #quality_metric: host=algo-1, epoch=8, batch=0 train absolute_loss <loss>=0.7753776907920837\u001b[0m\n",
      "\u001b[34m[05/27/2021 11:52:34 INFO 140456583870272] Iter[8] Batch [500]#011Speed: 51691.64 samples/sec\u001b[0m\n",
      "\u001b[34m[05/27/2021 11:52:34 INFO 140456583870272] #quality_metric: host=algo-1, epoch=8, batch=500 train rmse <loss>=1.0226326000076587\u001b[0m\n",
      "\u001b[34m[05/27/2021 11:52:34 INFO 140456583870272] #quality_metric: host=algo-1, epoch=8, batch=500 train mse <loss>=1.045777434598424\u001b[0m\n",
      "\u001b[34m[05/27/2021 11:52:34 INFO 140456583870272] #quality_metric: host=algo-1, epoch=8, batch=500 train absolute_loss <loss>=0.8050293884948342\u001b[0m\n",
      "\u001b[34m[05/27/2021 11:52:35 INFO 140456583870272] Iter[8] Batch [1000]#011Speed: 50194.50 samples/sec\u001b[0m\n",
      "\u001b[34m[05/27/2021 11:52:35 INFO 140456583870272] #quality_metric: host=algo-1, epoch=8, batch=1000 train rmse <loss>=1.0488781259444706\u001b[0m\n",
      "\u001b[34m[05/27/2021 11:52:35 INFO 140456583870272] #quality_metric: host=algo-1, epoch=8, batch=1000 train mse <loss>=1.1001453230847846\u001b[0m\n",
      "\u001b[34m[05/27/2021 11:52:35 INFO 140456583870272] #quality_metric: host=algo-1, epoch=8, batch=1000 train absolute_loss <loss>=0.8326588021470355\u001b[0m\n",
      "\u001b[34m[2021-05-27 11:52:36.246] [tensorio] [info] epoch_stats={\"data_pipeline\": \"/opt/ml/input/data/train\", \"epoch\": 18, \"duration\": 3186, \"num_examples\": 1274, \"num_bytes\": 10436096}\u001b[0m\n",
      "\u001b[34m[05/27/2021 11:52:36 INFO 140456583870272] #quality_metric: host=algo-1, epoch=8, train rmse <loss>=1.061082765777191\u001b[0m\n",
      "\u001b[34m[05/27/2021 11:52:36 INFO 140456583870272] #quality_metric: host=algo-1, epoch=8, train mse <loss>=1.1258966358293732\u001b[0m\n",
      "\u001b[34m[05/27/2021 11:52:36 INFO 140456583870272] #quality_metric: host=algo-1, epoch=8, train absolute_loss <loss>=0.8454813709485475\u001b[0m\n",
      "\u001b[34m#metrics {\"StartTime\": 1622116353.0567179, \"EndTime\": 1622116356.247038, \"Dimensions\": {\"Algorithm\": \"factorization-machines\", \"Host\": \"algo-1\", \"Operation\": \"training\"}, \"Metrics\": {\"update.time\": {\"sum\": 3189.2545223236084, \"count\": 1, \"min\": 3189.2545223236084, \"max\": 3189.2545223236084}}}\n",
      "\u001b[0m\n",
      "\u001b[34m[05/27/2021 11:52:36 INFO 140456583870272] #progress_metric: host=algo-1, completed 36.0 % of epochs\u001b[0m\n",
      "\u001b[34m#metrics {\"StartTime\": 1622116353.0577488, \"EndTime\": 1622116356.2473142, \"Dimensions\": {\"Algorithm\": \"factorization-machines\", \"Host\": \"algo-1\", \"Operation\": \"training\", \"epoch\": 8, \"Meta\": \"training_data_iter\"}, \"Metrics\": {\"Total Records Seen\": {\"sum\": 1467704.0, \"count\": 1, \"min\": 1467704, \"max\": 1467704}, \"Total Batches Seen\": {\"sum\": 11467.0, \"count\": 1, \"min\": 11467, \"max\": 11467}, \"Max Records Seen Between Resets\": {\"sum\": 163064.0, \"count\": 1, \"min\": 163064, \"max\": 163064}, \"Max Batches Seen Between Resets\": {\"sum\": 1274.0, \"count\": 1, \"min\": 1274, \"max\": 1274}, \"Reset Count\": {\"sum\": 10.0, \"count\": 1, \"min\": 10, \"max\": 10}, \"Number of Records Since Last Reset\": {\"sum\": 163064.0, \"count\": 1, \"min\": 163064, \"max\": 163064}, \"Number of Batches Since Last Reset\": {\"sum\": 1274.0, \"count\": 1, \"min\": 1274, \"max\": 1274}}}\n",
      "\u001b[0m\n",
      "\u001b[34m[05/27/2021 11:52:36 INFO 140456583870272] #throughput_metric: host=algo-1, train throughput=51122.01649622008 records/second\u001b[0m\n",
      "\u001b[34m[05/27/2021 11:52:36 INFO 140456583870272] #quality_metric: host=algo-1, epoch=9, batch=0 train rmse <loss>=0.8288981229651552\u001b[0m\n",
      "\u001b[34m[05/27/2021 11:52:36 INFO 140456583870272] #quality_metric: host=algo-1, epoch=9, batch=0 train mse <loss>=0.6870720982551575\u001b[0m\n",
      "\u001b[34m[05/27/2021 11:52:36 INFO 140456583870272] #quality_metric: host=algo-1, epoch=9, batch=0 train absolute_loss <loss>=0.7697165012359619\u001b[0m\n",
      "\u001b[34m[05/27/2021 11:52:37 INFO 140456583870272] Iter[9] Batch [500]#011Speed: 52351.60 samples/sec\u001b[0m\n",
      "\u001b[34m[05/27/2021 11:52:37 INFO 140456583870272] #quality_metric: host=algo-1, epoch=9, batch=500 train rmse <loss>=1.0149830350333138\u001b[0m\n",
      "\u001b[34m[05/27/2021 11:52:37 INFO 140456583870272] #quality_metric: host=algo-1, epoch=9, batch=500 train mse <loss>=1.030190561405437\u001b[0m\n",
      "\u001b[34m[05/27/2021 11:52:37 INFO 140456583870272] #quality_metric: host=algo-1, epoch=9, batch=500 train absolute_loss <loss>=0.797877494030132\u001b[0m\n",
      "\u001b[34m[05/27/2021 11:52:38 INFO 140456583870272] Iter[9] Batch [1000]#011Speed: 50960.59 samples/sec\u001b[0m\n",
      "\u001b[34m[05/27/2021 11:52:38 INFO 140456583870272] #quality_metric: host=algo-1, epoch=9, batch=1000 train rmse <loss>=1.041201850364531\u001b[0m\n",
      "\u001b[34m[05/27/2021 11:52:38 INFO 140456583870272] #quality_metric: host=algo-1, epoch=9, batch=1000 train mse <loss>=1.0841012932025231\u001b[0m\n",
      "\u001b[34m[05/27/2021 11:52:38 INFO 140456583870272] #quality_metric: host=algo-1, epoch=9, batch=1000 train absolute_loss <loss>=0.8256563012535636\u001b[0m\n",
      "\u001b[34m[2021-05-27 11:52:39.381] [tensorio] [info] epoch_stats={\"data_pipeline\": \"/opt/ml/input/data/train\", \"epoch\": 20, \"duration\": 3131, \"num_examples\": 1274, \"num_bytes\": 10436096}\u001b[0m\n",
      "\u001b[34m[05/27/2021 11:52:39 INFO 140456583870272] #quality_metric: host=algo-1, epoch=9, train rmse <loss>=1.0534348471595862\u001b[0m\n",
      "\u001b[34m[05/27/2021 11:52:39 INFO 140456583870272] #quality_metric: host=algo-1, epoch=9, train mse <loss>=1.1097249772101407\u001b[0m\n",
      "\u001b[34m[05/27/2021 11:52:39 INFO 140456583870272] #quality_metric: host=algo-1, epoch=9, train absolute_loss <loss>=0.8385278583040792\u001b[0m\n",
      "\u001b[34m#metrics {\"StartTime\": 1622116356.247121, \"EndTime\": 1622116359.3822088, \"Dimensions\": {\"Algorithm\": \"factorization-machines\", \"Host\": \"algo-1\", \"Operation\": \"training\"}, \"Metrics\": {\"update.time\": {\"sum\": 3133.9926719665527, \"count\": 1, \"min\": 3133.9926719665527, \"max\": 3133.9926719665527}}}\n",
      "\u001b[0m\n",
      "\u001b[34m[05/27/2021 11:52:39 INFO 140456583870272] #progress_metric: host=algo-1, completed 40.0 % of epochs\u001b[0m\n",
      "\u001b[34m#metrics {\"StartTime\": 1622116356.2481854, \"EndTime\": 1622116359.3824546, \"Dimensions\": {\"Algorithm\": \"factorization-machines\", \"Host\": \"algo-1\", \"Operation\": \"training\", \"epoch\": 9, \"Meta\": \"training_data_iter\"}, \"Metrics\": {\"Total Records Seen\": {\"sum\": 1630768.0, \"count\": 1, \"min\": 1630768, \"max\": 1630768}, \"Total Batches Seen\": {\"sum\": 12741.0, \"count\": 1, \"min\": 12741, \"max\": 12741}, \"Max Records Seen Between Resets\": {\"sum\": 163064.0, \"count\": 1, \"min\": 163064, \"max\": 163064}, \"Max Batches Seen Between Resets\": {\"sum\": 1274.0, \"count\": 1, \"min\": 1274, \"max\": 1274}, \"Reset Count\": {\"sum\": 11.0, \"count\": 1, \"min\": 11, \"max\": 11}, \"Number of Records Since Last Reset\": {\"sum\": 163064.0, \"count\": 1, \"min\": 163064, \"max\": 163064}, \"Number of Batches Since Last Reset\": {\"sum\": 1274.0, \"count\": 1, \"min\": 1274, \"max\": 1274}}}\n",
      "\u001b[0m\n",
      "\u001b[34m[05/27/2021 11:52:39 INFO 140456583870272] #throughput_metric: host=algo-1, train throughput=52024.10840280569 records/second\u001b[0m\n",
      "\u001b[34m[05/27/2021 11:52:39 INFO 140456583870272] #quality_metric: host=algo-1, epoch=10, batch=0 train rmse <loss>=0.824602372263092\u001b[0m\n",
      "\u001b[34m[05/27/2021 11:52:39 INFO 140456583870272] #quality_metric: host=algo-1, epoch=10, batch=0 train mse <loss>=0.679969072341919\u001b[0m\n",
      "\u001b[34m[05/27/2021 11:52:39 INFO 140456583870272] #quality_metric: host=algo-1, epoch=10, batch=0 train absolute_loss <loss>=0.7642242908477783\u001b[0m\n",
      "\u001b[34m[05/27/2021 11:52:40 INFO 140456583870272] Iter[10] Batch [500]#011Speed: 51024.17 samples/sec\u001b[0m\n",
      "\u001b[34m[05/27/2021 11:52:40 INFO 140456583870272] #quality_metric: host=algo-1, epoch=10, batch=500 train rmse <loss>=1.0079010945438156\u001b[0m\n",
      "\u001b[34m[05/27/2021 11:52:40 INFO 140456583870272] #quality_metric: host=algo-1, epoch=10, batch=500 train mse <loss>=1.0158646163826217\u001b[0m\n",
      "\u001b[34m[05/27/2021 11:52:40 INFO 140456583870272] #quality_metric: host=algo-1, epoch=10, batch=500 train absolute_loss <loss>=0.7912143618760709\u001b[0m\n",
      "\u001b[34m[05/27/2021 11:52:41 INFO 140456583870272] Iter[10] Batch [1000]#011Speed: 52501.94 samples/sec\u001b[0m\n",
      "\u001b[34m[05/27/2021 11:52:41 INFO 140456583870272] #quality_metric: host=algo-1, epoch=10, batch=1000 train rmse <loss>=1.0340841613318252\u001b[0m\n",
      "\u001b[34m[05/27/2021 11:52:41 INFO 140456583870272] #quality_metric: host=algo-1, epoch=10, batch=1000 train mse <loss>=1.0693300527173442\u001b[0m\n",
      "\u001b[34m[05/27/2021 11:52:41 INFO 140456583870272] #quality_metric: host=algo-1, epoch=10, batch=1000 train absolute_loss <loss>=0.8191081636792773\u001b[0m\n",
      "\u001b[34m[2021-05-27 11:52:42.506] [tensorio] [info] epoch_stats={\"data_pipeline\": \"/opt/ml/input/data/train\", \"epoch\": 22, \"duration\": 3121, \"num_examples\": 1274, \"num_bytes\": 10436096}\u001b[0m\n",
      "\u001b[34m[05/27/2021 11:52:42 INFO 140456583870272] #quality_metric: host=algo-1, epoch=10, train rmse <loss>=1.046331556795528\u001b[0m\n",
      "\u001b[34m[05/27/2021 11:52:42 INFO 140456583870272] #quality_metric: host=algo-1, epoch=10, train mse <loss>=1.0948097267461534\u001b[0m\n",
      "\u001b[34m[05/27/2021 11:52:42 INFO 140456583870272] #quality_metric: host=algo-1, epoch=10, train absolute_loss <loss>=0.8320090245788849\u001b[0m\n",
      "\u001b[34m#metrics {\"StartTime\": 1622116359.3822954, \"EndTime\": 1622116362.5070286, \"Dimensions\": {\"Algorithm\": \"factorization-machines\", \"Host\": \"algo-1\", \"Operation\": \"training\"}, \"Metrics\": {\"update.time\": {\"sum\": 3123.5644817352295, \"count\": 1, \"min\": 3123.5644817352295, \"max\": 3123.5644817352295}}}\n",
      "\u001b[0m\n",
      "\u001b[34m[05/27/2021 11:52:42 INFO 140456583870272] #progress_metric: host=algo-1, completed 44.0 % of epochs\u001b[0m\n",
      "\u001b[34m#metrics {\"StartTime\": 1622116359.383433, \"EndTime\": 1622116362.5072641, \"Dimensions\": {\"Algorithm\": \"factorization-machines\", \"Host\": \"algo-1\", \"Operation\": \"training\", \"epoch\": 10, \"Meta\": \"training_data_iter\"}, \"Metrics\": {\"Total Records Seen\": {\"sum\": 1793832.0, \"count\": 1, \"min\": 1793832, \"max\": 1793832}, \"Total Batches Seen\": {\"sum\": 14015.0, \"count\": 1, \"min\": 14015, \"max\": 14015}, \"Max Records Seen Between Resets\": {\"sum\": 163064.0, \"count\": 1, \"min\": 163064, \"max\": 163064}, \"Max Batches Seen Between Resets\": {\"sum\": 1274.0, \"count\": 1, \"min\": 1274, \"max\": 1274}, \"Reset Count\": {\"sum\": 12.0, \"count\": 1, \"min\": 12, \"max\": 12}, \"Number of Records Since Last Reset\": {\"sum\": 163064.0, \"count\": 1, \"min\": 163064, \"max\": 163064}, \"Number of Batches Since Last Reset\": {\"sum\": 1274.0, \"count\": 1, \"min\": 1274, \"max\": 1274}}}\n",
      "\u001b[0m\n",
      "\u001b[34m[05/27/2021 11:52:42 INFO 140456583870272] #throughput_metric: host=algo-1, train throughput=52197.92683208094 records/second\u001b[0m\n",
      "\u001b[34m[05/27/2021 11:52:42 INFO 140456583870272] #quality_metric: host=algo-1, epoch=11, batch=0 train rmse <loss>=0.8205060094837627\u001b[0m\n",
      "\u001b[34m[05/27/2021 11:52:42 INFO 140456583870272] #quality_metric: host=algo-1, epoch=11, batch=0 train mse <loss>=0.6732301115989685\u001b[0m\n",
      "\u001b[34m[05/27/2021 11:52:42 INFO 140456583870272] #quality_metric: host=algo-1, epoch=11, batch=0 train absolute_loss <loss>=0.7590415477752686\u001b[0m\n",
      "\u001b[34m[05/27/2021 11:52:43 INFO 140456583870272] Iter[11] Batch [500]#011Speed: 51045.84 samples/sec\u001b[0m\n",
      "\u001b[34m[05/27/2021 11:52:43 INFO 140456583870272] #quality_metric: host=algo-1, epoch=11, batch=500 train rmse <loss>=1.0013008759971442\u001b[0m\n",
      "\u001b[34m[05/27/2021 11:52:43 INFO 140456583870272] #quality_metric: host=algo-1, epoch=11, batch=500 train mse <loss>=1.0026034442726486\u001b[0m\n",
      "\u001b[34m[05/27/2021 11:52:43 INFO 140456583870272] #quality_metric: host=algo-1, epoch=11, batch=500 train absolute_loss <loss>=0.7849632971538993\u001b[0m\n",
      "\u001b[34m[05/27/2021 11:52:44 INFO 140456583870272] Iter[11] Batch [1000]#011Speed: 53081.94 samples/sec\u001b[0m\n",
      "\u001b[34m[05/27/2021 11:52:44 INFO 140456583870272] #quality_metric: host=algo-1, epoch=11, batch=1000 train rmse <loss>=1.0274414472512392\u001b[0m\n",
      "\u001b[34m[05/27/2021 11:52:44 INFO 140456583870272] #quality_metric: host=algo-1, epoch=11, batch=1000 train mse <loss>=1.055635927529721\u001b[0m\n",
      "\u001b[34m[05/27/2021 11:52:44 INFO 140456583870272] #quality_metric: host=algo-1, epoch=11, batch=1000 train absolute_loss <loss>=0.8129468016869776\u001b[0m\n",
      "\u001b[34m[2021-05-27 11:52:45.670] [tensorio] [info] epoch_stats={\"data_pipeline\": \"/opt/ml/input/data/train\", \"epoch\": 24, \"duration\": 3160, \"num_examples\": 1274, \"num_bytes\": 10436096}\u001b[0m\n",
      "\u001b[34m[05/27/2021 11:52:45 INFO 140456583870272] #quality_metric: host=algo-1, epoch=11, train rmse <loss>=1.0396911867799075\u001b[0m\n",
      "\u001b[34m[05/27/2021 11:52:45 INFO 140456583870272] #quality_metric: host=algo-1, epoch=11, train mse <loss>=1.0809577638678125\u001b[0m\n",
      "\u001b[34m[05/27/2021 11:52:45 INFO 140456583870272] #quality_metric: host=algo-1, epoch=11, train absolute_loss <loss>=0.8258607147299514\u001b[0m\n",
      "\u001b[34m#metrics {\"StartTime\": 1622116362.5071084, \"EndTime\": 1622116365.6709678, \"Dimensions\": {\"Algorithm\": \"factorization-machines\", \"Host\": \"algo-1\", \"Operation\": \"training\"}, \"Metrics\": {\"update.time\": {\"sum\": 3162.7256870269775, \"count\": 1, \"min\": 3162.7256870269775, \"max\": 3162.7256870269775}}}\n",
      "\u001b[0m\n",
      "\u001b[34m[05/27/2021 11:52:45 INFO 140456583870272] #progress_metric: host=algo-1, completed 48.0 % of epochs\u001b[0m\n",
      "\u001b[34m#metrics {\"StartTime\": 1622116362.5082114, \"EndTime\": 1622116365.6712122, \"Dimensions\": {\"Algorithm\": \"factorization-machines\", \"Host\": \"algo-1\", \"Operation\": \"training\", \"epoch\": 11, \"Meta\": \"training_data_iter\"}, \"Metrics\": {\"Total Records Seen\": {\"sum\": 1956896.0, \"count\": 1, \"min\": 1956896, \"max\": 1956896}, \"Total Batches Seen\": {\"sum\": 15289.0, \"count\": 1, \"min\": 15289, \"max\": 15289}, \"Max Records Seen Between Resets\": {\"sum\": 163064.0, \"count\": 1, \"min\": 163064, \"max\": 163064}, \"Max Batches Seen Between Resets\": {\"sum\": 1274.0, \"count\": 1, \"min\": 1274, \"max\": 1274}, \"Reset Count\": {\"sum\": 13.0, \"count\": 1, \"min\": 13, \"max\": 13}, \"Number of Records Since Last Reset\": {\"sum\": 163064.0, \"count\": 1, \"min\": 163064, \"max\": 163064}, \"Number of Batches Since Last Reset\": {\"sum\": 1274.0, \"count\": 1, \"min\": 1274, \"max\": 1274}}}\n",
      "\u001b[0m\n",
      "\u001b[34m[05/27/2021 11:52:45 INFO 140456583870272] #throughput_metric: host=algo-1, train throughput=51551.266803098566 records/second\u001b[0m\n",
      "\u001b[34m[05/27/2021 11:52:45 INFO 140456583870272] #quality_metric: host=algo-1, epoch=12, batch=0 train rmse <loss>=0.8165847364187101\u001b[0m\n",
      "\u001b[34m[05/27/2021 11:52:45 INFO 140456583870272] #quality_metric: host=algo-1, epoch=12, batch=0 train mse <loss>=0.6668106317520142\u001b[0m\n",
      "\u001b[34m[05/27/2021 11:52:45 INFO 140456583870272] #quality_metric: host=algo-1, epoch=12, batch=0 train absolute_loss <loss>=0.7540526986122131\u001b[0m\n",
      "\u001b[34m[05/27/2021 11:52:46 INFO 140456583870272] Iter[12] Batch [500]#011Speed: 51545.73 samples/sec\u001b[0m\n",
      "\u001b[34m[05/27/2021 11:52:46 INFO 140456583870272] #quality_metric: host=algo-1, epoch=12, batch=500 train rmse <loss>=0.9951149296991476\u001b[0m\n",
      "\u001b[34m[05/27/2021 11:52:46 INFO 140456583870272] #quality_metric: host=algo-1, epoch=12, batch=500 train mse <loss>=0.9902537233101394\u001b[0m\n",
      "\u001b[34m[05/27/2021 11:52:46 INFO 140456583870272] #quality_metric: host=algo-1, epoch=12, batch=500 train absolute_loss <loss>=0.7790888816177726\u001b[0m\n",
      "\u001b[34m[05/27/2021 11:52:48 INFO 140456583870272] Iter[12] Batch [1000]#011Speed: 53630.00 samples/sec\u001b[0m\n",
      "\u001b[34m[05/27/2021 11:52:48 INFO 140456583870272] #quality_metric: host=algo-1, epoch=12, batch=1000 train rmse <loss>=1.0212079906806069\u001b[0m\n",
      "\u001b[34m[05/27/2021 11:52:48 INFO 140456583870272] #quality_metric: host=algo-1, epoch=12, batch=1000 train mse <loss>=1.0428657602299225\u001b[0m\n",
      "\u001b[34m[05/27/2021 11:52:48 INFO 140456583870272] #quality_metric: host=algo-1, epoch=12, batch=1000 train absolute_loss <loss>=0.8071257306800618\u001b[0m\n",
      "\u001b[34m[2021-05-27 11:52:48.799] [tensorio] [info] epoch_stats={\"data_pipeline\": \"/opt/ml/input/data/train\", \"epoch\": 26, \"duration\": 3125, \"num_examples\": 1274, \"num_bytes\": 10436096}\u001b[0m\n",
      "\u001b[34m[05/27/2021 11:52:48 INFO 140456583870272] #quality_metric: host=algo-1, epoch=12, train rmse <loss>=1.0334495774773251\u001b[0m\n",
      "\u001b[34m[05/27/2021 11:52:48 INFO 140456583870272] #quality_metric: host=algo-1, epoch=12, train mse <loss>=1.0680180291880619\u001b[0m\n",
      "\u001b[34m[05/27/2021 11:52:48 INFO 140456583870272] #quality_metric: host=algo-1, epoch=12, train absolute_loss <loss>=0.8200385203494381\u001b[0m\n",
      "\u001b[34m#metrics {\"StartTime\": 1622116365.671054, \"EndTime\": 1622116368.7996378, \"Dimensions\": {\"Algorithm\": \"factorization-machines\", \"Host\": \"algo-1\", \"Operation\": \"training\"}, \"Metrics\": {\"update.time\": {\"sum\": 3127.431631088257, \"count\": 1, \"min\": 3127.431631088257, \"max\": 3127.431631088257}}}\n",
      "\u001b[0m\n",
      "\u001b[34m[05/27/2021 11:52:48 INFO 140456583870272] #progress_metric: host=algo-1, completed 52.0 % of epochs\u001b[0m\n",
      "\u001b[34m#metrics {\"StartTime\": 1622116365.6721766, \"EndTime\": 1622116368.7998855, \"Dimensions\": {\"Algorithm\": \"factorization-machines\", \"Host\": \"algo-1\", \"Operation\": \"training\", \"epoch\": 12, \"Meta\": \"training_data_iter\"}, \"Metrics\": {\"Total Records Seen\": {\"sum\": 2119960.0, \"count\": 1, \"min\": 2119960, \"max\": 2119960}, \"Total Batches Seen\": {\"sum\": 16563.0, \"count\": 1, \"min\": 16563, \"max\": 16563}, \"Max Records Seen Between Resets\": {\"sum\": 163064.0, \"count\": 1, \"min\": 163064, \"max\": 163064}, \"Max Batches Seen Between Resets\": {\"sum\": 1274.0, \"count\": 1, \"min\": 1274, \"max\": 1274}, \"Reset Count\": {\"sum\": 14.0, \"count\": 1, \"min\": 14, \"max\": 14}, \"Number of Records Since Last Reset\": {\"sum\": 163064.0, \"count\": 1, \"min\": 163064, \"max\": 163064}, \"Number of Batches Since Last Reset\": {\"sum\": 1274.0, \"count\": 1, \"min\": 1274, \"max\": 1274}}}\n",
      "\u001b[0m\n",
      "\u001b[34m[05/27/2021 11:52:48 INFO 140456583870272] #throughput_metric: host=algo-1, train throughput=52133.1444476264 records/second\u001b[0m\n",
      "\u001b[34m[05/27/2021 11:52:48 INFO 140456583870272] #quality_metric: host=algo-1, epoch=13, batch=0 train rmse <loss>=0.8128140649483475\u001b[0m\n",
      "\u001b[34m[05/27/2021 11:52:48 INFO 140456583870272] #quality_metric: host=algo-1, epoch=13, batch=0 train mse <loss>=0.6606667041778564\u001b[0m\n",
      "\u001b[34m[05/27/2021 11:52:48 INFO 140456583870272] #quality_metric: host=algo-1, epoch=13, batch=0 train absolute_loss <loss>=0.7491600513458252\u001b[0m\n",
      "\u001b[34m[05/27/2021 11:52:50 INFO 140456583870272] Iter[13] Batch [500]#011Speed: 52870.67 samples/sec\u001b[0m\n",
      "\u001b[34m[05/27/2021 11:52:50 INFO 140456583870272] #quality_metric: host=algo-1, epoch=13, batch=500 train rmse <loss>=0.9892890381312054\u001b[0m\n",
      "\u001b[34m[05/27/2021 11:52:50 INFO 140456583870272] #quality_metric: host=algo-1, epoch=13, batch=500 train mse <loss>=0.9786928009665655\u001b[0m\n",
      "\u001b[34m[05/27/2021 11:52:50 INFO 140456583870272] #quality_metric: host=algo-1, epoch=13, batch=500 train absolute_loss <loss>=0.7735355523769964\u001b[0m\n",
      "\u001b[34m[05/27/2021 11:52:51 INFO 140456583870272] Iter[13] Batch [1000]#011Speed: 50503.90 samples/sec\u001b[0m\n",
      "\u001b[34m[05/27/2021 11:52:51 INFO 140456583870272] #quality_metric: host=algo-1, epoch=13, batch=1000 train rmse <loss>=1.0153309651926636\u001b[0m\n",
      "\u001b[34m[05/27/2021 11:52:51 INFO 140456583870272] #quality_metric: host=algo-1, epoch=13, batch=1000 train mse <loss>=1.0308969688790661\u001b[0m\n",
      "\u001b[34m[05/27/2021 11:52:51 INFO 140456583870272] #quality_metric: host=algo-1, epoch=13, batch=1000 train absolute_loss <loss>=0.8016009381362846\u001b[0m\n",
      "\u001b[34m[2021-05-27 11:52:51.963] [tensorio] [info] epoch_stats={\"data_pipeline\": \"/opt/ml/input/data/train\", \"epoch\": 28, \"duration\": 3160, \"num_examples\": 1274, \"num_bytes\": 10436096}\u001b[0m\n",
      "\u001b[34m[05/27/2021 11:52:51 INFO 140456583870272] #quality_metric: host=algo-1, epoch=13, train rmse <loss>=1.0275552181513716\u001b[0m\n",
      "\u001b[34m[05/27/2021 11:52:51 INFO 140456583870272] #quality_metric: host=algo-1, epoch=13, train mse <loss>=1.055869726350113\u001b[0m\n",
      "\u001b[34m[05/27/2021 11:52:51 INFO 140456583870272] #quality_metric: host=algo-1, epoch=13, train absolute_loss <loss>=0.81450085863588\u001b[0m\n",
      "\u001b[34m#metrics {\"StartTime\": 1622116368.7997167, \"EndTime\": 1622116371.963809, \"Dimensions\": {\"Algorithm\": \"factorization-machines\", \"Host\": \"algo-1\", \"Operation\": \"training\"}, \"Metrics\": {\"update.time\": {\"sum\": 3162.9459857940674, \"count\": 1, \"min\": 3162.9459857940674, \"max\": 3162.9459857940674}}}\n",
      "\u001b[0m\n",
      "\u001b[34m[05/27/2021 11:52:51 INFO 140456583870272] #progress_metric: host=algo-1, completed 56.0 % of epochs\u001b[0m\n",
      "\u001b[34m#metrics {\"StartTime\": 1622116368.800828, \"EndTime\": 1622116371.9640942, \"Dimensions\": {\"Algorithm\": \"factorization-machines\", \"Host\": \"algo-1\", \"Operation\": \"training\", \"epoch\": 13, \"Meta\": \"training_data_iter\"}, \"Metrics\": {\"Total Records Seen\": {\"sum\": 2283024.0, \"count\": 1, \"min\": 2283024, \"max\": 2283024}, \"Total Batches Seen\": {\"sum\": 17837.0, \"count\": 1, \"min\": 17837, \"max\": 17837}, \"Max Records Seen Between Resets\": {\"sum\": 163064.0, \"count\": 1, \"min\": 163064, \"max\": 163064}, \"Max Batches Seen Between Resets\": {\"sum\": 1274.0, \"count\": 1, \"min\": 1274, \"max\": 1274}, \"Reset Count\": {\"sum\": 15.0, \"count\": 1, \"min\": 15, \"max\": 15}, \"Number of Records Since Last Reset\": {\"sum\": 163064.0, \"count\": 1, \"min\": 163064, \"max\": 163064}, \"Number of Batches Since Last Reset\": {\"sum\": 1274.0, \"count\": 1, \"min\": 1274, \"max\": 1274}}}\n",
      "\u001b[0m\n",
      "\u001b[34m[05/27/2021 11:52:51 INFO 140456583870272] #throughput_metric: host=algo-1, train throughput=51547.22607167909 records/second\u001b[0m\n",
      "\u001b[34m[05/27/2021 11:52:51 INFO 140456583870272] #quality_metric: host=algo-1, epoch=14, batch=0 train rmse <loss>=0.8091718293512129\u001b[0m\n",
      "\u001b[34m[05/27/2021 11:52:51 INFO 140456583870272] #quality_metric: host=algo-1, epoch=14, batch=0 train mse <loss>=0.6547590494155884\u001b[0m\n",
      "\u001b[34m[05/27/2021 11:52:51 INFO 140456583870272] #quality_metric: host=algo-1, epoch=14, batch=0 train absolute_loss <loss>=0.744351863861084\u001b[0m\n",
      "\u001b[34m[05/27/2021 11:52:53 INFO 140456583870272] Iter[14] Batch [500]#011Speed: 53307.99 samples/sec\u001b[0m\n",
      "\u001b[34m[05/27/2021 11:52:53 INFO 140456583870272] #quality_metric: host=algo-1, epoch=14, batch=500 train rmse <loss>=0.9837787894647234\u001b[0m\n",
      "\u001b[34m[05/27/2021 11:52:53 INFO 140456583870272] #quality_metric: host=algo-1, epoch=14, batch=500 train mse <loss>=0.9678207066006765\u001b[0m\n",
      "\u001b[34m[05/27/2021 11:52:53 INFO 140456583870272] #quality_metric: host=algo-1, epoch=14, batch=500 train absolute_loss <loss>=0.7682531825201716\u001b[0m\n",
      "\u001b[34m[05/27/2021 11:52:54 INFO 140456583870272] Iter[14] Batch [1000]#011Speed: 52395.48 samples/sec\u001b[0m\n",
      "\u001b[34m[05/27/2021 11:52:54 INFO 140456583870272] #quality_metric: host=algo-1, epoch=14, batch=1000 train rmse <loss>=1.0097670349090375\u001b[0m\n",
      "\u001b[34m[05/27/2021 11:52:54 INFO 140456583870272] #quality_metric: host=algo-1, epoch=14, batch=1000 train mse <loss>=1.0196294647889894\u001b[0m\n",
      "\u001b[34m[05/27/2021 11:52:54 INFO 140456583870272] #quality_metric: host=algo-1, epoch=14, batch=1000 train absolute_loss <loss>=0.7963349366045142\u001b[0m\n",
      "\u001b[34m[2021-05-27 11:52:55.059] [tensorio] [info] epoch_stats={\"data_pipeline\": \"/opt/ml/input/data/train\", \"epoch\": 30, \"duration\": 3092, \"num_examples\": 1274, \"num_bytes\": 10436096}\u001b[0m\n",
      "\u001b[34m[05/27/2021 11:52:55 INFO 140456583870272] #quality_metric: host=algo-1, epoch=14, train rmse <loss>=1.021965924426965\u001b[0m\n",
      "\u001b[34m[05/27/2021 11:52:55 INFO 140456583870272] #quality_metric: host=algo-1, epoch=14, train mse <loss>=1.044414350689861\u001b[0m\n",
      "\u001b[34m[05/27/2021 11:52:55 INFO 140456583870272] #quality_metric: host=algo-1, epoch=14, train absolute_loss <loss>=0.8092133322353453\u001b[0m\n",
      "\u001b[34m#metrics {\"StartTime\": 1622116371.9639018, \"EndTime\": 1622116375.0599167, \"Dimensions\": {\"Algorithm\": \"factorization-machines\", \"Host\": \"algo-1\", \"Operation\": \"training\"}, \"Metrics\": {\"update.time\": {\"sum\": 3094.905376434326, \"count\": 1, \"min\": 3094.905376434326, \"max\": 3094.905376434326}}}\n",
      "\u001b[0m\n",
      "\u001b[34m[05/27/2021 11:52:55 INFO 140456583870272] #progress_metric: host=algo-1, completed 60.0 % of epochs\u001b[0m\n",
      "\u001b[34m#metrics {\"StartTime\": 1622116371.9649773, \"EndTime\": 1622116375.0602596, \"Dimensions\": {\"Algorithm\": \"factorization-machines\", \"Host\": \"algo-1\", \"Operation\": \"training\", \"epoch\": 14, \"Meta\": \"training_data_iter\"}, \"Metrics\": {\"Total Records Seen\": {\"sum\": 2446088.0, \"count\": 1, \"min\": 2446088, \"max\": 2446088}, \"Total Batches Seen\": {\"sum\": 19111.0, \"count\": 1, \"min\": 19111, \"max\": 19111}, \"Max Records Seen Between Resets\": {\"sum\": 163064.0, \"count\": 1, \"min\": 163064, \"max\": 163064}, \"Max Batches Seen Between Resets\": {\"sum\": 1274.0, \"count\": 1, \"min\": 1274, \"max\": 1274}, \"Reset Count\": {\"sum\": 16.0, \"count\": 1, \"min\": 16, \"max\": 16}, \"Number of Records Since Last Reset\": {\"sum\": 163064.0, \"count\": 1, \"min\": 163064, \"max\": 163064}, \"Number of Batches Since Last Reset\": {\"sum\": 1274.0, \"count\": 1, \"min\": 1274, \"max\": 1274}}}\n",
      "\u001b[0m\n",
      "\u001b[34m[05/27/2021 11:52:55 INFO 140456583870272] #throughput_metric: host=algo-1, train throughput=52678.76033659136 records/second\u001b[0m\n",
      "\u001b[34m[05/27/2021 11:52:55 INFO 140456583870272] #quality_metric: host=algo-1, epoch=15, batch=0 train rmse <loss>=0.8056368736534432\u001b[0m\n",
      "\u001b[34m[05/27/2021 11:52:55 INFO 140456583870272] #quality_metric: host=algo-1, epoch=15, batch=0 train mse <loss>=0.649050772190094\u001b[0m\n",
      "\u001b[34m[05/27/2021 11:52:55 INFO 140456583870272] #quality_metric: host=algo-1, epoch=15, batch=0 train absolute_loss <loss>=0.7396170496940613\u001b[0m\n",
      "\u001b[34m[05/27/2021 11:52:56 INFO 140456583870272] Iter[15] Batch [500]#011Speed: 50822.05 samples/sec\u001b[0m\n",
      "\u001b[34m[05/27/2021 11:52:56 INFO 140456583870272] #quality_metric: host=algo-1, epoch=15, batch=500 train rmse <loss>=0.9785472591607073\u001b[0m\n",
      "\u001b[34m[05/27/2021 11:52:56 INFO 140456583870272] #quality_metric: host=algo-1, epoch=15, batch=500 train mse <loss>=0.9575547384109325\u001b[0m\n",
      "\u001b[34m[05/27/2021 11:52:56 INFO 140456583870272] #quality_metric: host=algo-1, epoch=15, batch=500 train absolute_loss <loss>=0.763225204394963\u001b[0m\n",
      "\u001b[34m[05/27/2021 11:52:57 INFO 140456583870272] Iter[15] Batch [1000]#011Speed: 52170.77 samples/sec\u001b[0m\n",
      "\u001b[34m[05/27/2021 11:52:57 INFO 140456583870272] #quality_metric: host=algo-1, epoch=15, batch=1000 train rmse <loss>=1.004480152018578\u001b[0m\n",
      "\u001b[34m[05/27/2021 11:52:57 INFO 140456583870272] #quality_metric: host=algo-1, epoch=15, batch=1000 train mse <loss>=1.0089803757992657\u001b[0m\n",
      "\u001b[34m[05/27/2021 11:52:57 INFO 140456583870272] #quality_metric: host=algo-1, epoch=15, batch=1000 train absolute_loss <loss>=0.7913048944987736\u001b[0m\n",
      "\u001b[34m[2021-05-27 11:52:58.222] [tensorio] [info] epoch_stats={\"data_pipeline\": \"/opt/ml/input/data/train\", \"epoch\": 32, \"duration\": 3159, \"num_examples\": 1274, \"num_bytes\": 10436096}\u001b[0m\n",
      "\u001b[34m[05/27/2021 11:52:58 INFO 140456583870272] #quality_metric: host=algo-1, epoch=15, train rmse <loss>=1.0166466507964491\u001b[0m\n",
      "\u001b[34m[05/27/2021 11:52:58 INFO 140456583870272] #quality_metric: host=algo-1, epoch=15, train mse <loss>=1.033570412575637\u001b[0m\n",
      "\u001b[34m[05/27/2021 11:52:58 INFO 140456583870272] #quality_metric: host=algo-1, epoch=15, train absolute_loss <loss>=0.8041542440044637\u001b[0m\n",
      "\u001b[34m#metrics {\"StartTime\": 1622116375.060015, \"EndTime\": 1622116378.2227266, \"Dimensions\": {\"Algorithm\": \"factorization-machines\", \"Host\": \"algo-1\", \"Operation\": \"training\"}, \"Metrics\": {\"update.time\": {\"sum\": 3161.518096923828, \"count\": 1, \"min\": 3161.518096923828, \"max\": 3161.518096923828}}}\n",
      "\u001b[0m\n",
      "\u001b[34m[05/27/2021 11:52:58 INFO 140456583870272] #progress_metric: host=algo-1, completed 64.0 % of epochs\u001b[0m\n",
      "\u001b[34m#metrics {\"StartTime\": 1622116375.0611722, \"EndTime\": 1622116378.2230396, \"Dimensions\": {\"Algorithm\": \"factorization-machines\", \"Host\": \"algo-1\", \"Operation\": \"training\", \"epoch\": 15, \"Meta\": \"training_data_iter\"}, \"Metrics\": {\"Total Records Seen\": {\"sum\": 2609152.0, \"count\": 1, \"min\": 2609152, \"max\": 2609152}, \"Total Batches Seen\": {\"sum\": 20385.0, \"count\": 1, \"min\": 20385, \"max\": 20385}, \"Max Records Seen Between Resets\": {\"sum\": 163064.0, \"count\": 1, \"min\": 163064, \"max\": 163064}, \"Max Batches Seen Between Resets\": {\"sum\": 1274.0, \"count\": 1, \"min\": 1274, \"max\": 1274}, \"Reset Count\": {\"sum\": 17.0, \"count\": 1, \"min\": 17, \"max\": 17}, \"Number of Records Since Last Reset\": {\"sum\": 163064.0, \"count\": 1, \"min\": 163064, \"max\": 163064}, \"Number of Batches Since Last Reset\": {\"sum\": 1274.0, \"count\": 1, \"min\": 1274, \"max\": 1274}}}\n",
      "\u001b[0m\n",
      "\u001b[34m[05/27/2021 11:52:58 INFO 140456583870272] #throughput_metric: host=algo-1, train throughput=51569.66013260447 records/second\u001b[0m\n",
      "\u001b[34m[05/27/2021 11:52:58 INFO 140456583870272] #quality_metric: host=algo-1, epoch=16, batch=0 train rmse <loss>=0.8021913719901129\u001b[0m\n",
      "\u001b[34m[05/27/2021 11:52:58 INFO 140456583870272] #quality_metric: host=algo-1, epoch=16, batch=0 train mse <loss>=0.6435109972953796\u001b[0m\n",
      "\u001b[34m[05/27/2021 11:52:58 INFO 140456583870272] #quality_metric: host=algo-1, epoch=16, batch=0 train absolute_loss <loss>=0.7349461913108826\u001b[0m\n",
      "\u001b[34m[05/27/2021 11:52:59 INFO 140456583870272] Iter[16] Batch [500]#011Speed: 52132.96 samples/sec\u001b[0m\n",
      "\u001b[34m[05/27/2021 11:52:59 INFO 140456583870272] #quality_metric: host=algo-1, epoch=16, batch=500 train rmse <loss>=0.9735633313575809\u001b[0m\n",
      "\u001b[34m[05/27/2021 11:52:59 INFO 140456583870272] #quality_metric: host=algo-1, epoch=16, batch=500 train mse <loss>=0.9478255601640709\u001b[0m\n",
      "\u001b[34m[05/27/2021 11:52:59 INFO 140456583870272] #quality_metric: host=algo-1, epoch=16, batch=500 train absolute_loss <loss>=0.7584218414362796\u001b[0m\n",
      "\u001b[34m[05/27/2021 11:53:00 INFO 140456583870272] Iter[16] Batch [1000]#011Speed: 50947.27 samples/sec\u001b[0m\n",
      "\u001b[34m[05/27/2021 11:53:00 INFO 140456583870272] #quality_metric: host=algo-1, epoch=16, batch=1000 train rmse <loss>=0.9994399088019204\u001b[0m\n",
      "\u001b[34m[05/27/2021 11:53:00 INFO 140456583870272] #quality_metric: host=algo-1, epoch=16, batch=1000 train mse <loss>=0.9988801313059908\u001b[0m\n",
      "\u001b[34m[05/27/2021 11:53:00 INFO 140456583870272] #quality_metric: host=algo-1, epoch=16, batch=1000 train absolute_loss <loss>=0.7864860023830559\u001b[0m\n",
      "\u001b[34m[2021-05-27 11:53:01.370] [tensorio] [info] epoch_stats={\"data_pipeline\": \"/opt/ml/input/data/train\", \"epoch\": 34, \"duration\": 3144, \"num_examples\": 1274, \"num_bytes\": 10436096}\u001b[0m\n",
      "\u001b[34m[05/27/2021 11:53:01 INFO 140456583870272] #quality_metric: host=algo-1, epoch=16, train rmse <loss>=1.0115678681521039\u001b[0m\n",
      "\u001b[34m[05/27/2021 11:53:01 INFO 140456583870272] #quality_metric: host=algo-1, epoch=16, train mse <loss>=1.0232695518777921\u001b[0m\n",
      "\u001b[34m[05/27/2021 11:53:01 INFO 140456583870272] #quality_metric: host=algo-1, epoch=16, train absolute_loss <loss>=0.7993007766161834\u001b[0m\n",
      "\u001b[34m#metrics {\"StartTime\": 1622116378.2228074, \"EndTime\": 1622116381.3707812, \"Dimensions\": {\"Algorithm\": \"factorization-machines\", \"Host\": \"algo-1\", \"Operation\": \"training\"}, \"Metrics\": {\"update.time\": {\"sum\": 3146.8005180358887, \"count\": 1, \"min\": 3146.8005180358887, \"max\": 3146.8005180358887}}}\n",
      "\u001b[0m\n",
      "\u001b[34m[05/27/2021 11:53:01 INFO 140456583870272] #progress_metric: host=algo-1, completed 68.0 % of epochs\u001b[0m\n",
      "\u001b[34m#metrics {\"StartTime\": 1622116378.2239501, \"EndTime\": 1622116381.3710532, \"Dimensions\": {\"Algorithm\": \"factorization-machines\", \"Host\": \"algo-1\", \"Operation\": \"training\", \"epoch\": 16, \"Meta\": \"training_data_iter\"}, \"Metrics\": {\"Total Records Seen\": {\"sum\": 2772216.0, \"count\": 1, \"min\": 2772216, \"max\": 2772216}, \"Total Batches Seen\": {\"sum\": 21659.0, \"count\": 1, \"min\": 21659, \"max\": 21659}, \"Max Records Seen Between Resets\": {\"sum\": 163064.0, \"count\": 1, \"min\": 163064, \"max\": 163064}, \"Max Batches Seen Between Resets\": {\"sum\": 1274.0, \"count\": 1, \"min\": 1274, \"max\": 1274}, \"Reset Count\": {\"sum\": 18.0, \"count\": 1, \"min\": 18, \"max\": 18}, \"Number of Records Since Last Reset\": {\"sum\": 163064.0, \"count\": 1, \"min\": 163064, \"max\": 163064}, \"Number of Batches Since Last Reset\": {\"sum\": 1274.0, \"count\": 1, \"min\": 1274, \"max\": 1274}}}\n",
      "\u001b[0m\n",
      "\u001b[34m[05/27/2021 11:53:01 INFO 140456583870272] #throughput_metric: host=algo-1, train throughput=51811.93582483241 records/second\u001b[0m\n",
      "\u001b[34m[05/27/2021 11:53:01 INFO 140456583870272] #quality_metric: host=algo-1, epoch=17, batch=0 train rmse <loss>=0.7988199919121044\u001b[0m\n",
      "\u001b[34m[05/27/2021 11:53:01 INFO 140456583870272] #quality_metric: host=algo-1, epoch=17, batch=0 train mse <loss>=0.6381133794784546\u001b[0m\n",
      "\u001b[34m[05/27/2021 11:53:01 INFO 140456583870272] #quality_metric: host=algo-1, epoch=17, batch=0 train absolute_loss <loss>=0.7303306460380554\u001b[0m\n",
      "\u001b[34m[05/27/2021 11:53:02 INFO 140456583870272] Iter[17] Batch [500]#011Speed: 40020.54 samples/sec\u001b[0m\n",
      "\u001b[34m[05/27/2021 11:53:02 INFO 140456583870272] #quality_metric: host=algo-1, epoch=17, batch=500 train rmse <loss>=0.9688006148146787\u001b[0m\n",
      "\u001b[34m[05/27/2021 11:53:02 INFO 140456583870272] #quality_metric: host=algo-1, epoch=17, batch=500 train mse <loss>=0.9385746312652995\u001b[0m\n",
      "\u001b[34m[05/27/2021 11:53:02 INFO 140456583870272] #quality_metric: host=algo-1, epoch=17, batch=500 train absolute_loss <loss>=0.7538216198513845\u001b[0m\n",
      "\u001b[34m[05/27/2021 11:53:04 INFO 140456583870272] Iter[17] Batch [1000]#011Speed: 50198.82 samples/sec\u001b[0m\n",
      "\u001b[34m[05/27/2021 11:53:04 INFO 140456583870272] #quality_metric: host=algo-1, epoch=17, batch=1000 train rmse <loss>=0.9946204390492831\u001b[0m\n",
      "\u001b[34m[05/27/2021 11:53:04 INFO 140456583870272] #quality_metric: host=algo-1, epoch=17, batch=1000 train mse <loss>=0.9892698177745888\u001b[0m\n",
      "\u001b[34m[05/27/2021 11:53:04 INFO 140456583870272] #quality_metric: host=algo-1, epoch=17, batch=1000 train absolute_loss <loss>=0.7818589402840926\u001b[0m\n",
      "\u001b[34m[2021-05-27 11:53:05.187] [tensorio] [info] epoch_stats={\"data_pipeline\": \"/opt/ml/input/data/train\", \"epoch\": 36, \"duration\": 3813, \"num_examples\": 1274, \"num_bytes\": 10436096}\u001b[0m\n",
      "\u001b[34m[05/27/2021 11:53:05 INFO 140456583870272] #quality_metric: host=algo-1, epoch=17, train rmse <loss>=1.006704486228544\u001b[0m\n",
      "\u001b[34m[05/27/2021 11:53:05 INFO 140456583870272] #quality_metric: host=algo-1, epoch=17, train mse <loss>=1.0134539225926766\u001b[0m\n",
      "\u001b[34m[05/27/2021 11:53:05 INFO 140456583870272] #quality_metric: host=algo-1, epoch=17, train absolute_loss <loss>=0.7946329955216292\u001b[0m\n",
      "\u001b[34m#metrics {\"StartTime\": 1622116381.3708587, \"EndTime\": 1622116385.1880577, \"Dimensions\": {\"Algorithm\": \"factorization-machines\", \"Host\": \"algo-1\", \"Operation\": \"training\"}, \"Metrics\": {\"update.time\": {\"sum\": 3816.0033226013184, \"count\": 1, \"min\": 3816.0033226013184, \"max\": 3816.0033226013184}}}\n",
      "\u001b[0m\n",
      "\u001b[34m[05/27/2021 11:53:05 INFO 140456583870272] #progress_metric: host=algo-1, completed 72.0 % of epochs\u001b[0m\n",
      "\u001b[34m#metrics {\"StartTime\": 1622116381.3720233, \"EndTime\": 1622116385.1882908, \"Dimensions\": {\"Algorithm\": \"factorization-machines\", \"Host\": \"algo-1\", \"Operation\": \"training\", \"epoch\": 17, \"Meta\": \"training_data_iter\"}, \"Metrics\": {\"Total Records Seen\": {\"sum\": 2935280.0, \"count\": 1, \"min\": 2935280, \"max\": 2935280}, \"Total Batches Seen\": {\"sum\": 22933.0, \"count\": 1, \"min\": 22933, \"max\": 22933}, \"Max Records Seen Between Resets\": {\"sum\": 163064.0, \"count\": 1, \"min\": 163064, \"max\": 163064}, \"Max Batches Seen Between Resets\": {\"sum\": 1274.0, \"count\": 1, \"min\": 1274, \"max\": 1274}, \"Reset Count\": {\"sum\": 19.0, \"count\": 1, \"min\": 19, \"max\": 19}, \"Number of Records Since Last Reset\": {\"sum\": 163064.0, \"count\": 1, \"min\": 163064, \"max\": 163064}, \"Number of Batches Since Last Reset\": {\"sum\": 1274.0, \"count\": 1, \"min\": 1274, \"max\": 1274}}}\n",
      "\u001b[0m\n",
      "\u001b[34m[05/27/2021 11:53:05 INFO 140456583870272] #throughput_metric: host=algo-1, train throughput=42727.29965860141 records/second\u001b[0m\n",
      "\u001b[34m[05/27/2021 11:53:05 INFO 140456583870272] #quality_metric: host=algo-1, epoch=18, batch=0 train rmse <loss>=0.7955089154178459\u001b[0m\n",
      "\u001b[34m[05/27/2021 11:53:05 INFO 140456583870272] #quality_metric: host=algo-1, epoch=18, batch=0 train mse <loss>=0.6328344345092773\u001b[0m\n",
      "\u001b[34m[05/27/2021 11:53:05 INFO 140456583870272] #quality_metric: host=algo-1, epoch=18, batch=0 train absolute_loss <loss>=0.7257803082466125\u001b[0m\n",
      "\u001b[34m[05/27/2021 11:53:06 INFO 140456583870272] Iter[18] Batch [500]#011Speed: 39558.22 samples/sec\u001b[0m\n",
      "\u001b[34m[05/27/2021 11:53:06 INFO 140456583870272] #quality_metric: host=algo-1, epoch=18, batch=500 train rmse <loss>=0.9642364074541215\u001b[0m\n",
      "\u001b[34m[05/27/2021 11:53:06 INFO 140456583870272] #quality_metric: host=algo-1, epoch=18, batch=500 train mse <loss>=0.9297518494600308\u001b[0m\n",
      "\u001b[34m[05/27/2021 11:53:06 INFO 140456583870272] #quality_metric: host=algo-1, epoch=18, batch=500 train absolute_loss <loss>=0.7494005754798234\u001b[0m\n",
      "\u001b[34m[05/27/2021 11:53:08 INFO 140456583870272] Iter[18] Batch [1000]#011Speed: 41018.93 samples/sec\u001b[0m\n",
      "\u001b[34m[05/27/2021 11:53:08 INFO 140456583870272] #quality_metric: host=algo-1, epoch=18, batch=1000 train rmse <loss>=0.9899994915207581\u001b[0m\n",
      "\u001b[34m[05/27/2021 11:53:08 INFO 140456583870272] #quality_metric: host=algo-1, epoch=18, batch=1000 train mse <loss>=0.9800989932113594\u001b[0m\n",
      "\u001b[34m[05/27/2021 11:53:08 INFO 140456583870272] #quality_metric: host=algo-1, epoch=18, batch=1000 train absolute_loss <loss>=0.7774072183178855\u001b[0m\n",
      "\u001b[34m[2021-05-27 11:53:09.041] [tensorio] [info] epoch_stats={\"data_pipeline\": \"/opt/ml/input/data/train\", \"epoch\": 38, \"duration\": 3850, \"num_examples\": 1274, \"num_bytes\": 10436096}\u001b[0m\n",
      "\u001b[34m[05/27/2021 11:53:09 INFO 140456583870272] #quality_metric: host=algo-1, epoch=18, train rmse <loss>=1.0020349341987396\u001b[0m\n",
      "\u001b[34m[05/27/2021 11:53:09 INFO 140456583870272] #quality_metric: host=algo-1, epoch=18, train mse <loss>=1.0040740093546723\u001b[0m\n",
      "\u001b[34m[05/27/2021 11:53:09 INFO 140456583870272] #quality_metric: host=algo-1, epoch=18, train absolute_loss <loss>=0.7901370302895362\u001b[0m\n",
      "\u001b[34m#metrics {\"StartTime\": 1622116385.1881368, \"EndTime\": 1622116389.0421133, \"Dimensions\": {\"Algorithm\": \"factorization-machines\", \"Host\": \"algo-1\", \"Operation\": \"training\"}, \"Metrics\": {\"update.time\": {\"sum\": 3852.7631759643555, \"count\": 1, \"min\": 3852.7631759643555, \"max\": 3852.7631759643555}}}\n",
      "\u001b[0m\n",
      "\u001b[34m[05/27/2021 11:53:09 INFO 140456583870272] #progress_metric: host=algo-1, completed 76.0 % of epochs\u001b[0m\n",
      "\u001b[34m#metrics {\"StartTime\": 1622116385.1893184, \"EndTime\": 1622116389.0423498, \"Dimensions\": {\"Algorithm\": \"factorization-machines\", \"Host\": \"algo-1\", \"Operation\": \"training\", \"epoch\": 18, \"Meta\": \"training_data_iter\"}, \"Metrics\": {\"Total Records Seen\": {\"sum\": 3098344.0, \"count\": 1, \"min\": 3098344, \"max\": 3098344}, \"Total Batches Seen\": {\"sum\": 24207.0, \"count\": 1, \"min\": 24207, \"max\": 24207}, \"Max Records Seen Between Resets\": {\"sum\": 163064.0, \"count\": 1, \"min\": 163064, \"max\": 163064}, \"Max Batches Seen Between Resets\": {\"sum\": 1274.0, \"count\": 1, \"min\": 1274, \"max\": 1274}, \"Reset Count\": {\"sum\": 20.0, \"count\": 1, \"min\": 20, \"max\": 20}, \"Number of Records Since Last Reset\": {\"sum\": 163064.0, \"count\": 1, \"min\": 163064, \"max\": 163064}, \"Number of Batches Since Last Reset\": {\"sum\": 1274.0, \"count\": 1, \"min\": 1274, \"max\": 1274}}}\n",
      "\u001b[0m\n",
      "\u001b[34m[05/27/2021 11:53:09 INFO 140456583870272] #throughput_metric: host=algo-1, train throughput=42319.53604412508 records/second\u001b[0m\n",
      "\u001b[34m[05/27/2021 11:53:09 INFO 140456583870272] #quality_metric: host=algo-1, epoch=19, batch=0 train rmse <loss>=0.7922469739389695\u001b[0m\n",
      "\u001b[34m[05/27/2021 11:53:09 INFO 140456583870272] #quality_metric: host=algo-1, epoch=19, batch=0 train mse <loss>=0.6276552677154541\u001b[0m\n",
      "\u001b[34m[05/27/2021 11:53:09 INFO 140456583870272] #quality_metric: host=algo-1, epoch=19, batch=0 train absolute_loss <loss>=0.7212827801704407\u001b[0m\n",
      "\u001b[34m[05/27/2021 11:53:10 INFO 140456583870272] Iter[19] Batch [500]#011Speed: 52226.38 samples/sec\u001b[0m\n",
      "\u001b[34m[05/27/2021 11:53:10 INFO 140456583870272] #quality_metric: host=algo-1, epoch=19, batch=500 train rmse <loss>=0.9598510881224298\u001b[0m\n",
      "\u001b[34m[05/27/2021 11:53:10 INFO 140456583870272] #quality_metric: host=algo-1, epoch=19, batch=500 train mse <loss>=0.9213141113698126\u001b[0m\n",
      "\u001b[34m[05/27/2021 11:53:10 INFO 140456583870272] #quality_metric: host=algo-1, epoch=19, batch=500 train absolute_loss <loss>=0.7451459918907303\u001b[0m\n",
      "\u001b[34m[05/27/2021 11:53:11 INFO 140456583870272] Iter[19] Batch [1000]#011Speed: 51167.81 samples/sec\u001b[0m\n",
      "\u001b[34m[05/27/2021 11:53:11 INFO 140456583870272] #quality_metric: host=algo-1, epoch=19, batch=1000 train rmse <loss>=0.9855577885451116\u001b[0m\n",
      "\u001b[34m[05/27/2021 11:53:11 INFO 140456583870272] #quality_metric: host=algo-1, epoch=19, batch=1000 train mse <loss>=0.9713241545619308\u001b[0m\n",
      "\u001b[34m[05/27/2021 11:53:11 INFO 140456583870272] #quality_metric: host=algo-1, epoch=19, batch=1000 train absolute_loss <loss>=0.7731179791194694\u001b[0m\n",
      "\u001b[34m[2021-05-27 11:53:12.187] [tensorio] [info] epoch_stats={\"data_pipeline\": \"/opt/ml/input/data/train\", \"epoch\": 40, \"duration\": 3142, \"num_examples\": 1274, \"num_bytes\": 10436096}\u001b[0m\n",
      "\u001b[34m[05/27/2021 11:53:12 INFO 140456583870272] #quality_metric: host=algo-1, epoch=19, train rmse <loss>=0.9975405435420053\u001b[0m\n",
      "\u001b[34m[05/27/2021 11:53:12 INFO 140456583870272] #quality_metric: host=algo-1, epoch=19, train mse <loss>=0.9950871360100794\u001b[0m\n",
      "\u001b[34m[05/27/2021 11:53:12 INFO 140456583870272] #quality_metric: host=algo-1, epoch=19, train absolute_loss <loss>=0.7857974617737616\u001b[0m\n",
      "\u001b[34m#metrics {\"StartTime\": 1622116389.0421932, \"EndTime\": 1622116392.1887622, \"Dimensions\": {\"Algorithm\": \"factorization-machines\", \"Host\": \"algo-1\", \"Operation\": \"training\"}, \"Metrics\": {\"update.time\": {\"sum\": 3145.416736602783, \"count\": 1, \"min\": 3145.416736602783, \"max\": 3145.416736602783}}}\n",
      "\u001b[0m\n",
      "\u001b[34m[05/27/2021 11:53:12 INFO 140456583870272] #progress_metric: host=algo-1, completed 80.0 % of epochs\u001b[0m\n",
      "\u001b[34m#metrics {\"StartTime\": 1622116389.0433104, \"EndTime\": 1622116392.1890593, \"Dimensions\": {\"Algorithm\": \"factorization-machines\", \"Host\": \"algo-1\", \"Operation\": \"training\", \"epoch\": 19, \"Meta\": \"training_data_iter\"}, \"Metrics\": {\"Total Records Seen\": {\"sum\": 3261408.0, \"count\": 1, \"min\": 3261408, \"max\": 3261408}, \"Total Batches Seen\": {\"sum\": 25481.0, \"count\": 1, \"min\": 25481, \"max\": 25481}, \"Max Records Seen Between Resets\": {\"sum\": 163064.0, \"count\": 1, \"min\": 163064, \"max\": 163064}, \"Max Batches Seen Between Resets\": {\"sum\": 1274.0, \"count\": 1, \"min\": 1274, \"max\": 1274}, \"Reset Count\": {\"sum\": 21.0, \"count\": 1, \"min\": 21, \"max\": 21}, \"Number of Records Since Last Reset\": {\"sum\": 163064.0, \"count\": 1, \"min\": 163064, \"max\": 163064}, \"Number of Batches Since Last Reset\": {\"sum\": 1274.0, \"count\": 1, \"min\": 1274, \"max\": 1274}}}\n",
      "\u001b[0m\n",
      "\u001b[34m[05/27/2021 11:53:12 INFO 140456583870272] #throughput_metric: host=algo-1, train throughput=51833.791690056445 records/second\u001b[0m\n",
      "\u001b[34m[05/27/2021 11:53:12 INFO 140456583870272] #quality_metric: host=algo-1, epoch=20, batch=0 train rmse <loss>=0.7890251452980235\u001b[0m\n",
      "\u001b[34m[05/27/2021 11:53:12 INFO 140456583870272] #quality_metric: host=algo-1, epoch=20, batch=0 train mse <loss>=0.6225606799125671\u001b[0m\n",
      "\u001b[34m[05/27/2021 11:53:12 INFO 140456583870272] #quality_metric: host=algo-1, epoch=20, batch=0 train absolute_loss <loss>=0.7168170809745789\u001b[0m\n",
      "\u001b[34m[05/27/2021 11:53:13 INFO 140456583870272] Iter[20] Batch [500]#011Speed: 52903.14 samples/sec\u001b[0m\n",
      "\u001b[34m[05/27/2021 11:53:13 INFO 140456583870272] #quality_metric: host=algo-1, epoch=20, batch=500 train rmse <loss>=0.9556275586615817\u001b[0m\n",
      "\u001b[34m[05/27/2021 11:53:13 INFO 140456583870272] #quality_metric: host=algo-1, epoch=20, batch=500 train mse <loss>=0.9132240308734947\u001b[0m\n",
      "\u001b[34m[05/27/2021 11:53:13 INFO 140456583870272] #quality_metric: host=algo-1, epoch=20, batch=500 train absolute_loss <loss>=0.7410416772027691\u001b[0m\n",
      "\u001b[34m[05/27/2021 11:53:14 INFO 140456583870272] Iter[20] Batch [1000]#011Speed: 53465.53 samples/sec\u001b[0m\n",
      "\u001b[34m[05/27/2021 11:53:14 INFO 140456583870272] #quality_metric: host=algo-1, epoch=20, batch=1000 train rmse <loss>=0.9812785162150937\u001b[0m\n",
      "\u001b[34m[05/27/2021 11:53:14 INFO 140456583870272] #quality_metric: host=algo-1, epoch=20, batch=1000 train mse <loss>=0.9629075263852959\u001b[0m\n",
      "\u001b[34m[05/27/2021 11:53:14 INFO 140456583870272] #quality_metric: host=algo-1, epoch=20, batch=1000 train absolute_loss <loss>=0.7689752651975824\u001b[0m\n",
      "\u001b[34m[2021-05-27 11:53:15.247] [tensorio] [info] epoch_stats={\"data_pipeline\": \"/opt/ml/input/data/train\", \"epoch\": 42, \"duration\": 3055, \"num_examples\": 1274, \"num_bytes\": 10436096}\u001b[0m\n",
      "\u001b[34m[05/27/2021 11:53:15 INFO 140456583870272] #quality_metric: host=algo-1, epoch=20, train rmse <loss>=0.9932050348454098\u001b[0m\n",
      "\u001b[34m[05/27/2021 11:53:15 INFO 140456583870272] #quality_metric: host=algo-1, epoch=20, train mse <loss>=0.9864562412422717\u001b[0m\n",
      "\u001b[34m[05/27/2021 11:53:15 INFO 140456583870272] #quality_metric: host=algo-1, epoch=20, train absolute_loss <loss>=0.7816008363544847\u001b[0m\n",
      "\u001b[34m#metrics {\"StartTime\": 1622116392.188857, \"EndTime\": 1622116395.2483234, \"Dimensions\": {\"Algorithm\": \"factorization-machines\", \"Host\": \"algo-1\", \"Operation\": \"training\"}, \"Metrics\": {\"update.time\": {\"sum\": 3058.2823753356934, \"count\": 1, \"min\": 3058.2823753356934, \"max\": 3058.2823753356934}}}\n",
      "\u001b[0m\n",
      "\u001b[34m[05/27/2021 11:53:15 INFO 140456583870272] #progress_metric: host=algo-1, completed 84.0 % of epochs\u001b[0m\n",
      "\u001b[34m#metrics {\"StartTime\": 1622116392.1900096, \"EndTime\": 1622116395.2486126, \"Dimensions\": {\"Algorithm\": \"factorization-machines\", \"Host\": \"algo-1\", \"Operation\": \"training\", \"epoch\": 20, \"Meta\": \"training_data_iter\"}, \"Metrics\": {\"Total Records Seen\": {\"sum\": 3424472.0, \"count\": 1, \"min\": 3424472, \"max\": 3424472}, \"Total Batches Seen\": {\"sum\": 26755.0, \"count\": 1, \"min\": 26755, \"max\": 26755}, \"Max Records Seen Between Resets\": {\"sum\": 163064.0, \"count\": 1, \"min\": 163064, \"max\": 163064}, \"Max Batches Seen Between Resets\": {\"sum\": 1274.0, \"count\": 1, \"min\": 1274, \"max\": 1274}, \"Reset Count\": {\"sum\": 22.0, \"count\": 1, \"min\": 22, \"max\": 22}, \"Number of Records Since Last Reset\": {\"sum\": 163064.0, \"count\": 1, \"min\": 163064, \"max\": 163064}, \"Number of Batches Since Last Reset\": {\"sum\": 1274.0, \"count\": 1, \"min\": 1274, \"max\": 1274}}}\n",
      "\u001b[0m\n",
      "\u001b[34m[05/27/2021 11:53:15 INFO 140456583870272] #throughput_metric: host=algo-1, train throughput=53310.98342810504 records/second\u001b[0m\n",
      "\u001b[34m[05/27/2021 11:53:15 INFO 140456583870272] #quality_metric: host=algo-1, epoch=21, batch=0 train rmse <loss>=0.7858364897294096\u001b[0m\n",
      "\u001b[34m[05/27/2021 11:53:15 INFO 140456583870272] #quality_metric: host=algo-1, epoch=21, batch=0 train mse <loss>=0.6175389885902405\u001b[0m\n",
      "\u001b[34m[05/27/2021 11:53:15 INFO 140456583870272] #quality_metric: host=algo-1, epoch=21, batch=0 train absolute_loss <loss>=0.7123799324035645\u001b[0m\n",
      "\u001b[34m[05/27/2021 11:53:16 INFO 140456583870272] Iter[21] Batch [500]#011Speed: 50631.48 samples/sec\u001b[0m\n",
      "\u001b[34m[05/27/2021 11:53:16 INFO 140456583870272] #quality_metric: host=algo-1, epoch=21, batch=500 train rmse <loss>=0.9515508039618303\u001b[0m\n",
      "\u001b[34m[05/27/2021 11:53:16 INFO 140456583870272] #quality_metric: host=algo-1, epoch=21, batch=500 train mse <loss>=0.9054489325204057\u001b[0m\n",
      "\u001b[34m[05/27/2021 11:53:16 INFO 140456583870272] #quality_metric: host=algo-1, epoch=21, batch=500 train absolute_loss <loss>=0.737080735896162\u001b[0m\n",
      "\u001b[34m[05/27/2021 11:53:17 INFO 140456583870272] Iter[21] Batch [1000]#011Speed: 52124.66 samples/sec\u001b[0m\n",
      "\u001b[34m[05/27/2021 11:53:17 INFO 140456583870272] #quality_metric: host=algo-1, epoch=21, batch=1000 train rmse <loss>=0.9771469276471305\u001b[0m\n",
      "\u001b[34m[05/27/2021 11:53:17 INFO 140456583870272] #quality_metric: host=algo-1, epoch=21, batch=1000 train mse <loss>=0.9548161182102266\u001b[0m\n",
      "\u001b[34m[05/27/2021 11:53:17 INFO 140456583870272] #quality_metric: host=algo-1, epoch=21, batch=1000 train absolute_loss <loss>=0.7649726697376796\u001b[0m\n",
      "\u001b[34m[2021-05-27 11:53:18.405] [tensorio] [info] epoch_stats={\"data_pipeline\": \"/opt/ml/input/data/train\", \"epoch\": 44, \"duration\": 3153, \"num_examples\": 1274, \"num_bytes\": 10436096}\u001b[0m\n",
      "\u001b[34m[05/27/2021 11:53:18 INFO 140456583870272] #quality_metric: host=algo-1, epoch=21, train rmse <loss>=0.9890141343832107\u001b[0m\n",
      "\u001b[34m[05/27/2021 11:53:18 INFO 140456583870272] #quality_metric: host=algo-1, epoch=21, train mse <loss>=0.9781489580097715\u001b[0m\n",
      "\u001b[34m[05/27/2021 11:53:18 INFO 140456583870272] #quality_metric: host=algo-1, epoch=21, train absolute_loss <loss>=0.7775409566925684\u001b[0m\n",
      "\u001b[34m#metrics {\"StartTime\": 1622116395.248416, \"EndTime\": 1622116398.405716, \"Dimensions\": {\"Algorithm\": \"factorization-machines\", \"Host\": \"algo-1\", \"Operation\": \"training\"}, \"Metrics\": {\"update.time\": {\"sum\": 3156.184196472168, \"count\": 1, \"min\": 3156.184196472168, \"max\": 3156.184196472168}}}\n",
      "\u001b[0m\n",
      "\u001b[34m[05/27/2021 11:53:18 INFO 140456583870272] #progress_metric: host=algo-1, completed 88.0 % of epochs\u001b[0m\n",
      "\u001b[34m#metrics {\"StartTime\": 1622116395.249499, \"EndTime\": 1622116398.4059503, \"Dimensions\": {\"Algorithm\": \"factorization-machines\", \"Host\": \"algo-1\", \"Operation\": \"training\", \"epoch\": 21, \"Meta\": \"training_data_iter\"}, \"Metrics\": {\"Total Records Seen\": {\"sum\": 3587536.0, \"count\": 1, \"min\": 3587536, \"max\": 3587536}, \"Total Batches Seen\": {\"sum\": 28029.0, \"count\": 1, \"min\": 28029, \"max\": 28029}, \"Max Records Seen Between Resets\": {\"sum\": 163064.0, \"count\": 1, \"min\": 163064, \"max\": 163064}, \"Max Batches Seen Between Resets\": {\"sum\": 1274.0, \"count\": 1, \"min\": 1274, \"max\": 1274}, \"Reset Count\": {\"sum\": 23.0, \"count\": 1, \"min\": 23, \"max\": 23}, \"Number of Records Since Last Reset\": {\"sum\": 163064.0, \"count\": 1, \"min\": 163064, \"max\": 163064}, \"Number of Batches Since Last Reset\": {\"sum\": 1274.0, \"count\": 1, \"min\": 1274, \"max\": 1274}}}\n",
      "\u001b[0m\n",
      "\u001b[34m[05/27/2021 11:53:18 INFO 140456583870272] #throughput_metric: host=algo-1, train throughput=51658.55408585151 records/second\u001b[0m\n",
      "\u001b[34m[05/27/2021 11:53:18 INFO 140456583870272] #quality_metric: host=algo-1, epoch=22, batch=0 train rmse <loss>=0.7826761580037398\u001b[0m\n",
      "\u001b[34m[05/27/2021 11:53:18 INFO 140456583870272] #quality_metric: host=algo-1, epoch=22, batch=0 train mse <loss>=0.6125819683074951\u001b[0m\n",
      "\u001b[34m[05/27/2021 11:53:18 INFO 140456583870272] #quality_metric: host=algo-1, epoch=22, batch=0 train absolute_loss <loss>=0.7079694867134094\u001b[0m\n",
      "\u001b[34m[05/27/2021 11:53:19 INFO 140456583870272] Iter[22] Batch [500]#011Speed: 49633.17 samples/sec\u001b[0m\n",
      "\u001b[34m[05/27/2021 11:53:19 INFO 140456583870272] #quality_metric: host=algo-1, epoch=22, batch=500 train rmse <loss>=0.9476076186130756\u001b[0m\n",
      "\u001b[34m[05/27/2021 11:53:19 INFO 140456583870272] #quality_metric: host=algo-1, epoch=22, batch=500 train mse <loss>=0.8979601988535442\u001b[0m\n",
      "\u001b[34m[05/27/2021 11:53:19 INFO 140456583870272] #quality_metric: host=algo-1, epoch=22, batch=500 train absolute_loss <loss>=0.7332515464333479\u001b[0m\n",
      "\u001b[34m[05/27/2021 11:53:20 INFO 140456583870272] Iter[22] Batch [1000]#011Speed: 51667.18 samples/sec\u001b[0m\n",
      "\u001b[34m[05/27/2021 11:53:20 INFO 140456583870272] #quality_metric: host=algo-1, epoch=22, batch=1000 train rmse <loss>=0.9731500222609561\u001b[0m\n",
      "\u001b[34m[05/27/2021 11:53:20 INFO 140456583870272] #quality_metric: host=algo-1, epoch=22, batch=1000 train mse <loss>=0.9470209658264995\u001b[0m\n",
      "\u001b[34m[05/27/2021 11:53:20 INFO 140456583870272] #quality_metric: host=algo-1, epoch=22, batch=1000 train absolute_loss <loss>=0.7610965756090966\u001b[0m\n",
      "\u001b[34m[2021-05-27 11:53:21.618] [tensorio] [info] epoch_stats={\"data_pipeline\": \"/opt/ml/input/data/train\", \"epoch\": 46, \"duration\": 3209, \"num_examples\": 1274, \"num_bytes\": 10436096}\u001b[0m\n",
      "\u001b[34m[05/27/2021 11:53:21 INFO 140456583870272] #quality_metric: host=algo-1, epoch=22, train rmse <loss>=0.9849552558644277\u001b[0m\n",
      "\u001b[34m[05/27/2021 11:53:21 INFO 140456583870272] #quality_metric: host=algo-1, epoch=22, train mse <loss>=0.9701368560549603\u001b[0m\n",
      "\u001b[34m[05/27/2021 11:53:21 INFO 140456583870272] #quality_metric: host=algo-1, epoch=22, train absolute_loss <loss>=0.7736047244100032\u001b[0m\n",
      "\u001b[34m#metrics {\"StartTime\": 1622116398.4057949, \"EndTime\": 1622116401.6192136, \"Dimensions\": {\"Algorithm\": \"factorization-machines\", \"Host\": \"algo-1\", \"Operation\": \"training\"}, \"Metrics\": {\"update.time\": {\"sum\": 3212.226629257202, \"count\": 1, \"min\": 3212.226629257202, \"max\": 3212.226629257202}}}\n",
      "\u001b[0m\n",
      "\u001b[34m[05/27/2021 11:53:21 INFO 140456583870272] #progress_metric: host=algo-1, completed 92.0 % of epochs\u001b[0m\n",
      "\u001b[34m#metrics {\"StartTime\": 1622116398.4069571, \"EndTime\": 1622116401.6194487, \"Dimensions\": {\"Algorithm\": \"factorization-machines\", \"Host\": \"algo-1\", \"Operation\": \"training\", \"epoch\": 22, \"Meta\": \"training_data_iter\"}, \"Metrics\": {\"Total Records Seen\": {\"sum\": 3750600.0, \"count\": 1, \"min\": 3750600, \"max\": 3750600}, \"Total Batches Seen\": {\"sum\": 29303.0, \"count\": 1, \"min\": 29303, \"max\": 29303}, \"Max Records Seen Between Resets\": {\"sum\": 163064.0, \"count\": 1, \"min\": 163064, \"max\": 163064}, \"Max Batches Seen Between Resets\": {\"sum\": 1274.0, \"count\": 1, \"min\": 1274, \"max\": 1274}, \"Reset Count\": {\"sum\": 24.0, \"count\": 1, \"min\": 24, \"max\": 24}, \"Number of Records Since Last Reset\": {\"sum\": 163064.0, \"count\": 1, \"min\": 163064, \"max\": 163064}, \"Number of Batches Since Last Reset\": {\"sum\": 1274.0, \"count\": 1, \"min\": 1274, \"max\": 1274}}}\n",
      "\u001b[0m\n",
      "\u001b[34m[05/27/2021 11:53:21 INFO 140456583870272] #throughput_metric: host=algo-1, train throughput=50757.20870939512 records/second\u001b[0m\n",
      "\u001b[34m[05/27/2021 11:53:21 INFO 140456583870272] #quality_metric: host=algo-1, epoch=23, batch=0 train rmse <loss>=0.7795412832391687\u001b[0m\n",
      "\u001b[34m[05/27/2021 11:53:21 INFO 140456583870272] #quality_metric: host=algo-1, epoch=23, batch=0 train mse <loss>=0.6076846122741699\u001b[0m\n",
      "\u001b[34m[05/27/2021 11:53:21 INFO 140456583870272] #quality_metric: host=algo-1, epoch=23, batch=0 train absolute_loss <loss>=0.7035856246948242\u001b[0m\n",
      "\u001b[34m[05/27/2021 11:53:22 INFO 140456583870272] Iter[23] Batch [500]#011Speed: 51106.08 samples/sec\u001b[0m\n",
      "\u001b[34m[05/27/2021 11:53:22 INFO 140456583870272] #quality_metric: host=algo-1, epoch=23, batch=500 train rmse <loss>=0.9437863280534359\u001b[0m\n",
      "\u001b[34m[05/27/2021 11:53:22 INFO 140456583870272] #quality_metric: host=algo-1, epoch=23, batch=500 train mse <loss>=0.8907326330205876\u001b[0m\n",
      "\u001b[34m[05/27/2021 11:53:22 INFO 140456583870272] #quality_metric: host=algo-1, epoch=23, batch=500 train absolute_loss <loss>=0.7295376013614936\u001b[0m\n",
      "\u001b[34m[05/27/2021 11:53:24 INFO 140456583870272] Iter[23] Batch [1000]#011Speed: 52843.38 samples/sec\u001b[0m\n",
      "\u001b[34m[05/27/2021 11:53:24 INFO 140456583870272] #quality_metric: host=algo-1, epoch=23, batch=1000 train rmse <loss>=0.9692762803526044\u001b[0m\n",
      "\u001b[34m[05/27/2021 11:53:24 INFO 140456583870272] #quality_metric: host=algo-1, epoch=23, batch=1000 train mse <loss>=0.9394965076541806\u001b[0m\n",
      "\u001b[34m[05/27/2021 11:53:24 INFO 140456583870272] #quality_metric: host=algo-1, epoch=23, batch=1000 train absolute_loss <loss>=0.757336334986882\u001b[0m\n",
      "\u001b[34m[2021-05-27 11:53:24.760] [tensorio] [info] epoch_stats={\"data_pipeline\": \"/opt/ml/input/data/train\", \"epoch\": 48, \"duration\": 3138, \"num_examples\": 1274, \"num_bytes\": 10436096}\u001b[0m\n",
      "\u001b[34m[05/27/2021 11:53:24 INFO 140456583870272] #quality_metric: host=algo-1, epoch=23, train rmse <loss>=0.9810172482213286\u001b[0m\n",
      "\u001b[34m[05/27/2021 11:53:24 INFO 140456583870272] #quality_metric: host=algo-1, epoch=23, train mse <loss>=0.9623948413077479\u001b[0m\n",
      "\u001b[34m[05/27/2021 11:53:24 INFO 140456583870272] #quality_metric: host=algo-1, epoch=23, train absolute_loss <loss>=0.7697830857062826\u001b[0m\n",
      "\u001b[34m#metrics {\"StartTime\": 1622116401.6192932, \"EndTime\": 1622116404.7611609, \"Dimensions\": {\"Algorithm\": \"factorization-machines\", \"Host\": \"algo-1\", \"Operation\": \"training\"}, \"Metrics\": {\"update.time\": {\"sum\": 3140.6986713409424, \"count\": 1, \"min\": 3140.6986713409424, \"max\": 3140.6986713409424}}}\n",
      "\u001b[0m\n",
      "\u001b[34m[05/27/2021 11:53:24 INFO 140456583870272] #progress_metric: host=algo-1, completed 96.0 % of epochs\u001b[0m\n",
      "\u001b[34m#metrics {\"StartTime\": 1622116401.6204364, \"EndTime\": 1622116404.7614155, \"Dimensions\": {\"Algorithm\": \"factorization-machines\", \"Host\": \"algo-1\", \"Operation\": \"training\", \"epoch\": 23, \"Meta\": \"training_data_iter\"}, \"Metrics\": {\"Total Records Seen\": {\"sum\": 3913664.0, \"count\": 1, \"min\": 3913664, \"max\": 3913664}, \"Total Batches Seen\": {\"sum\": 30577.0, \"count\": 1, \"min\": 30577, \"max\": 30577}, \"Max Records Seen Between Resets\": {\"sum\": 163064.0, \"count\": 1, \"min\": 163064, \"max\": 163064}, \"Max Batches Seen Between Resets\": {\"sum\": 1274.0, \"count\": 1, \"min\": 1274, \"max\": 1274}, \"Reset Count\": {\"sum\": 25.0, \"count\": 1, \"min\": 25, \"max\": 25}, \"Number of Records Since Last Reset\": {\"sum\": 163064.0, \"count\": 1, \"min\": 163064, \"max\": 163064}, \"Number of Batches Since Last Reset\": {\"sum\": 1274.0, \"count\": 1, \"min\": 1274, \"max\": 1274}}}\n",
      "\u001b[0m\n",
      "\u001b[34m[05/27/2021 11:53:24 INFO 140456583870272] #throughput_metric: host=algo-1, train throughput=51913.17893393916 records/second\u001b[0m\n",
      "\u001b[34m[05/27/2021 11:53:24 INFO 140456583870272] #quality_metric: host=algo-1, epoch=24, batch=0 train rmse <loss>=0.7764294869240417\u001b[0m\n",
      "\u001b[34m[05/27/2021 11:53:24 INFO 140456583870272] #quality_metric: host=algo-1, epoch=24, batch=0 train mse <loss>=0.6028427481651306\u001b[0m\n",
      "\u001b[34m[05/27/2021 11:53:24 INFO 140456583870272] #quality_metric: host=algo-1, epoch=24, batch=0 train absolute_loss <loss>=0.6992284059524536\u001b[0m\n",
      "\u001b[34m[05/27/2021 11:53:26 INFO 140456583870272] Iter[24] Batch [500]#011Speed: 51601.84 samples/sec\u001b[0m\n",
      "\u001b[34m[05/27/2021 11:53:26 INFO 140456583870272] #quality_metric: host=algo-1, epoch=24, batch=500 train rmse <loss>=0.9400765168444793\u001b[0m\n",
      "\u001b[34m[05/27/2021 11:53:26 INFO 140456583870272] #quality_metric: host=algo-1, epoch=24, batch=500 train mse <loss>=0.8837438575224487\u001b[0m\n",
      "\u001b[34m[05/27/2021 11:53:26 INFO 140456583870272] #quality_metric: host=algo-1, epoch=24, batch=500 train absolute_loss <loss>=0.7259386215143337\u001b[0m\n",
      "\u001b[34m[05/27/2021 11:53:27 INFO 140456583870272] Iter[24] Batch [1000]#011Speed: 52709.28 samples/sec\u001b[0m\n",
      "\u001b[34m[05/27/2021 11:53:27 INFO 140456583870272] #quality_metric: host=algo-1, epoch=24, batch=1000 train rmse <loss>=0.9655154595842943\u001b[0m\n",
      "\u001b[34m[05/27/2021 11:53:27 INFO 140456583870272] #quality_metric: host=algo-1, epoch=24, batch=1000 train mse <loss>=0.9322201026962711\u001b[0m\n",
      "\u001b[34m[05/27/2021 11:53:27 INFO 140456583870272] #quality_metric: host=algo-1, epoch=24, batch=1000 train absolute_loss <loss>=0.7536874423612963\u001b[0m\n",
      "\u001b[34m[2021-05-27 11:53:27.886] [tensorio] [info] epoch_stats={\"data_pipeline\": \"/opt/ml/input/data/train\", \"epoch\": 50, \"duration\": 3122, \"num_examples\": 1274, \"num_bytes\": 10436096}\u001b[0m\n",
      "\u001b[34m[05/27/2021 11:53:27 INFO 140456583870272] #quality_metric: host=algo-1, epoch=24, train rmse <loss>=0.9771901908207689\u001b[0m\n",
      "\u001b[34m[05/27/2021 11:53:27 INFO 140456583870272] #quality_metric: host=algo-1, epoch=24, train mse <loss>=0.9549006690363308\u001b[0m\n",
      "\u001b[34m[05/27/2021 11:53:27 INFO 140456583870272] #quality_metric: host=algo-1, epoch=24, train absolute_loss <loss>=0.7660702869319467\u001b[0m\n",
      "\u001b[34m[05/27/2021 11:53:27 INFO 140456583870272] #quality_metric: host=algo-1, train rmse <loss>=0.9771901908207689\u001b[0m\n",
      "\u001b[34m[05/27/2021 11:53:27 INFO 140456583870272] #quality_metric: host=algo-1, train mse <loss>=0.9549006690363308\u001b[0m\n",
      "\u001b[34m[05/27/2021 11:53:27 INFO 140456583870272] #quality_metric: host=algo-1, train absolute_loss <loss>=0.7660702869319467\u001b[0m\n",
      "\u001b[34m#metrics {\"StartTime\": 1622116404.7612438, \"EndTime\": 1622116407.8876173, \"Dimensions\": {\"Algorithm\": \"factorization-machines\", \"Host\": \"algo-1\", \"Operation\": \"training\"}, \"Metrics\": {\"update.time\": {\"sum\": 3125.3676414489746, \"count\": 1, \"min\": 3125.3676414489746, \"max\": 3125.3676414489746}}}\n",
      "\u001b[0m\n",
      "\u001b[34m[05/27/2021 11:53:27 INFO 140456583870272] #progress_metric: host=algo-1, completed 100.0 % of epochs\u001b[0m\n",
      "\u001b[34m#metrics {\"StartTime\": 1622116404.7622142, \"EndTime\": 1622116407.8878965, \"Dimensions\": {\"Algorithm\": \"factorization-machines\", \"Host\": \"algo-1\", \"Operation\": \"training\", \"epoch\": 24, \"Meta\": \"training_data_iter\"}, \"Metrics\": {\"Total Records Seen\": {\"sum\": 4076728.0, \"count\": 1, \"min\": 4076728, \"max\": 4076728}, \"Total Batches Seen\": {\"sum\": 31851.0, \"count\": 1, \"min\": 31851, \"max\": 31851}, \"Max Records Seen Between Resets\": {\"sum\": 163064.0, \"count\": 1, \"min\": 163064, \"max\": 163064}, \"Max Batches Seen Between Resets\": {\"sum\": 1274.0, \"count\": 1, \"min\": 1274, \"max\": 1274}, \"Reset Count\": {\"sum\": 26.0, \"count\": 1, \"min\": 26, \"max\": 26}, \"Number of Records Since Last Reset\": {\"sum\": 163064.0, \"count\": 1, \"min\": 163064, \"max\": 163064}, \"Number of Batches Since Last Reset\": {\"sum\": 1274.0, \"count\": 1, \"min\": 1274, \"max\": 1274}}}\n",
      "\u001b[0m\n",
      "\u001b[34m[05/27/2021 11:53:27 INFO 140456583870272] #throughput_metric: host=algo-1, train throughput=52165.98502643842 records/second\u001b[0m\n",
      "\u001b[34m[05/27/2021 11:53:27 WARNING 140456583870272] wait_for_all_workers will not sync workers since the kv store is not running distributed\u001b[0m\n",
      "\u001b[34m[05/27/2021 11:53:27 INFO 140456583870272] Pulling entire model from kvstore to finalize\u001b[0m\n",
      "\u001b[34m#metrics {\"StartTime\": 1622116407.8877003, \"EndTime\": 1622116407.8938189, \"Dimensions\": {\"Algorithm\": \"factorization-machines\", \"Host\": \"algo-1\", \"Operation\": \"training\"}, \"Metrics\": {\"finalize.time\": {\"sum\": 5.458354949951172, \"count\": 1, \"min\": 5.458354949951172, \"max\": 5.458354949951172}}}\n",
      "\u001b[0m\n",
      "\u001b[34m[05/27/2021 11:53:27 INFO 140456583870272] Saved checkpoint to \"/tmp/tmphhm3yp0e/state-0001.params\"\u001b[0m\n",
      "\u001b[34m[2021-05-27 11:53:27.923] [tensorio] [info] epoch_stats={\"data_pipeline\": \"/opt/ml/input/data/test\", \"epoch\": 0, \"duration\": 81121, \"num_examples\": 1, \"num_bytes\": 8192}\u001b[0m\n",
      "\u001b[34m[2021-05-27 11:53:28.309] [tensorio] [info] epoch_stats={\"data_pipeline\": \"/opt/ml/input/data/test\", \"epoch\": 1, \"duration\": 385, \"num_examples\": 82, \"num_bytes\": 667904}\u001b[0m\n",
      "\u001b[34m#metrics {\"StartTime\": 1622116407.9234006, \"EndTime\": 1622116408.30972, \"Dimensions\": {\"Algorithm\": \"factorization-machines\", \"Host\": \"algo-1\", \"Operation\": \"training\", \"Meta\": \"test_data_iter\"}, \"Metrics\": {\"Total Records Seen\": {\"sum\": 10436.0, \"count\": 1, \"min\": 10436, \"max\": 10436}, \"Total Batches Seen\": {\"sum\": 82.0, \"count\": 1, \"min\": 82, \"max\": 82}, \"Max Records Seen Between Resets\": {\"sum\": 10436.0, \"count\": 1, \"min\": 10436, \"max\": 10436}, \"Max Batches Seen Between Resets\": {\"sum\": 82.0, \"count\": 1, \"min\": 82, \"max\": 82}, \"Reset Count\": {\"sum\": 1.0, \"count\": 1, \"min\": 1, \"max\": 1}, \"Number of Records Since Last Reset\": {\"sum\": 10436.0, \"count\": 1, \"min\": 10436, \"max\": 10436}, \"Number of Batches Since Last Reset\": {\"sum\": 82.0, \"count\": 1, \"min\": 82, \"max\": 82}}}\n",
      "\u001b[0m\n",
      "\u001b[34m[05/27/2021 11:53:28 INFO 140456583870272] #test_score (algo-1) : ('rmse', 1.1145366712959572)\u001b[0m\n",
      "\u001b[34m[05/27/2021 11:53:28 INFO 140456583870272] #test_score (algo-1) : ('mse', 1.2421919916634725)\u001b[0m\n",
      "\u001b[34m[05/27/2021 11:53:28 INFO 140456583870272] #test_score (algo-1) : ('absolute_loss', 0.8771166883697451)\u001b[0m\n",
      "\u001b[34m[05/27/2021 11:53:28 INFO 140456583870272] #quality_metric: host=algo-1, test rmse <loss>=1.1145366712959572\u001b[0m\n",
      "\u001b[34m[05/27/2021 11:53:28 INFO 140456583870272] #quality_metric: host=algo-1, test mse <loss>=1.2421919916634725\u001b[0m\n",
      "\u001b[34m[05/27/2021 11:53:28 INFO 140456583870272] #quality_metric: host=algo-1, test absolute_loss <loss>=0.8771166883697451\u001b[0m\n",
      "\u001b[34m#metrics {\"StartTime\": 1622116407.8939264, \"EndTime\": 1622116408.3109467, \"Dimensions\": {\"Algorithm\": \"factorization-machines\", \"Host\": \"algo-1\", \"Operation\": \"training\"}, \"Metrics\": {\"setuptime\": {\"sum\": 31.74138069152832, \"count\": 1, \"min\": 31.74138069152832, \"max\": 31.74138069152832}, \"totaltime\": {\"sum\": 81553.33042144775, \"count\": 1, \"min\": 81553.33042144775, \"max\": 81553.33042144775}}}\n",
      "\u001b[0m\n",
      "\n",
      "2021-05-27 11:53:48 Uploading - Uploading generated training model\n",
      "2021-05-27 11:53:48 Completed - Training job completed\n",
      "ProfilerReport-1622116102: NoIssuesFound\n",
      "Training seconds: 160\n",
      "Billable seconds: 160\n"
     ]
    }
   ],
   "source": [
    "from sagemaker import get_execution_role\n",
    "from sagemaker import image_uris\n",
    "\n",
    "output_prefix = 's3://' + bucket + '/sagemaker-fm/model'\n",
    "instance_type='ml.m4.xlarge'\n",
    "batch_size = 128\n",
    "\n",
    "fm = sagemaker.estimator.Estimator(\n",
    "    image_uris.retrieve(\"factorization-machines\",boto3.Session().region_name),\n",
    "    role, \n",
    "    instance_count=1, \n",
    "    instance_type=instance_type,\n",
    "    output_path=output_prefix,\n",
    "    sagemaker_session=sagemaker.Session())\n",
    "\n",
    "fm.set_hyperparameters(feature_dim=X_train.shape[1],\n",
    "                       predictor_type='regressor',\n",
    "                     # predictor_type='binary_classifier',\n",
    "                       mini_batch_size=batch_size,\n",
    "                       num_factors=64,\n",
    "                       epochs=25,\n",
    "                       clip_gradient=5.0,\n",
    "                       rescale_grad=1.0/batch_size)\n",
    "\n",
    "fm.fit({'train': fm_train_data_path, 'test': fm_test_data_path})"
   ]
  },
  {
   "cell_type": "markdown",
   "metadata": {},
   "source": [
    "**Question:** What does changing the `batch_size` and `epochs` do to the final metric?  "
   ]
  },
  {
   "cell_type": "markdown",
   "metadata": {},
   "source": [
    "**Answer:** There are a couple of things to notice here. The `predictor_type` is set to `'regressor'` because you are trying to predict the star rating. The `batch_size` is set to 128. This value can be tuned for relatively minor improvements in fit and speed, but selecting a reasonable value relative to the dataset is appropriate in most cases. `num_factors` is set to 64. As mentioned initially, factorization machines find a lower dimensional representation of the interactions for all features. Making this value smaller provides a more parsimonious (simple) model, closer to a linear model, but may sacrifice information about interactions. Making it larger provides a higher dimensional representation of feature interactions but adds computational complexity and can lead to overfitting. In a practical application, time should be invested to tune this parameter to the appropriate value."
   ]
  },
  {
   "cell_type": "markdown",
   "metadata": {},
   "source": [
    "**Question:** Check the output of the model. What is the meaning of the metrics used? Is there a difference between the training and testing sets? If yes, what is the meaning of that?  "
   ]
  },
  {
   "cell_type": "markdown",
   "metadata": {},
   "source": [
    "**Answer:** The **MSE**, **RMSE**, and **Absolute loss** are considerably lower in the training set than in the testing dataset. This might indicate that the model is being molded to the pattern of the training set and not the general pattern on the reviews. This phenomenon is called overfitting."
   ]
  },
  {
   "cell_type": "markdown",
   "metadata": {},
   "source": [
    "### Evaluate\n",
    "\n",
    "Congratulations! You have successfully launched an Amazon SageMaker training job. Now what? Well, you need a way to verify that your model is actually predicting coherent values. How do you do this?\n",
    "\n",
    "Start by calculating a naive baseline to approximate how well your model is doing. The simplest estimate would be to assume every user item rating is just the average rating over all ratings. This is basically saying that you have a model that only learned to output the mean value of all reviews.\n",
    "\n",
    "**Note:** You could do better by using each individual video's average; however, in this case, it doesn't really matter because the same conclusions would hold."
   ]
  },
  {
   "cell_type": "markdown",
   "metadata": {},
   "source": [
    "Calculate the mean of `star_rating` to get the `naive_guess`. Then, calculate the naive MSE by squaring the naive guess from the test `star_rating` and getting an average.\n",
    "\n",
    "$average(test(star\\_rating) - naive\\_guess)^2)$"
   ]
  },
  {
   "cell_type": "code",
   "execution_count": 32,
   "metadata": {
    "scrolled": true
   },
   "outputs": [
    {
     "name": "stdout",
     "output_type": "stream",
     "text": [
      "Naive MSE: 1.5018689895554682\n"
     ]
    }
   ],
   "source": [
    "naive_guess = np.mean(train_df['star_rating'])\n",
    "print('Naive MSE:', np.mean((test_df['star_rating'] - naive_guess) ** 2))"
   ]
  },
  {
   "cell_type": "markdown",
   "metadata": {},
   "source": [
    "Now, calculate predictions for your test dataset. To this end, you'll need to _deploy_ the model you just trained.\n",
    "\n",
    "**Note:** This will align closely to your CloudWatch output above but may differ slightly due to skipping partial mini-batches in the `eval_net` function.\n",
    "\n",
    "Use `<estimator_name>.deploy` with `initial_instance_count=1, instance_type=ml.m4.xlarge`."
   ]
  },
  {
   "cell_type": "code",
   "execution_count": 33,
   "metadata": {},
   "outputs": [
    {
     "name": "stdout",
     "output_type": "stream",
     "text": [
      "---------------!"
     ]
    }
   ],
   "source": [
    "fm_predictor = fm.deploy(initial_instance_count=1, instance_type='ml.m4.xlarge')"
   ]
  },
  {
   "cell_type": "markdown",
   "metadata": {},
   "source": [
    "Now that your endpoint is 'InService', evaluate how your model performs on the test set. Compare that test set performance to the performance on the training set. \n",
    "\n",
    "### Key questions to consider:\n",
    "1. How does your model's performance on the test set compare to the training set? What can you deduce from this comparison? \n",
    "\n",
    "2. Are there obvious differences between the outcomes of metrics like accuracy, precision, and recall? If so, why might you be seeing those differences? \n",
    "\n",
    "3. Given your business situation and goals, which metric(s) is most important for you to consider here? Why?\n",
    "\n",
    "4. Is the outcome for the metric(s) you consider most important sufficient for what you need from a business standpoint? If not, what are some things you might change in your next iteration (in the feature engineering section, which is coming up next)? \n",
    "\n",
    "Use the cells below to answer these and other questions. Insert and delete cells where needed.\n",
    "\n",
    "#### <span style=\"color: blue;\">Project presentation: Record questions to these and other similar questions you might answer in this section in your project presentations. Record key details and decisions you've made in your project presentations.</span>"
   ]
  },
  {
   "cell_type": "markdown",
   "metadata": {},
   "source": [
    "The deployment process involves creating an instance of the specified size, in this case `ml.m4.xlarge`, with the model you trained and saved on Amazon S3. To get a prediction, you need to pass your data in a serialized form of JSON. The output you get from the inference will be in serialized JSON form as well, so you also need to deserialize it to get the predicted values."
   ]
  },
  {
   "cell_type": "code",
   "execution_count": 34,
   "metadata": {},
   "outputs": [
    {
     "name": "stdout",
     "output_type": "stream",
     "text": [
      "Accepted content type: application/json\n"
     ]
    }
   ],
   "source": [
    "# Create a serializer function for the predictor\n",
    "import json\n",
    "from sagemaker.deserializers import JSONDeserializer\n",
    "from sagemaker.serializers import BaseSerializer\n",
    "\n",
    "class fm_serializer(BaseSerializer):\n",
    "    CONTENT_TYPE='application/json'\n",
    "    def serialize(data):\n",
    "            js = {'instances': []}\n",
    "            for row in data:\n",
    "                js['instances'].append({'features': row.tolist()})\n",
    "            return json.dumps(js)\n",
    "fm_predictor.serializer = fm_serializer\n",
    "fm_predictor.deserializer = JSONDeserializer()\n",
    "print(f\"Accepted content type: {fm_predictor.content_type}\")"
   ]
  },
  {
   "cell_type": "markdown",
   "metadata": {},
   "source": [
    "Check how your training set did. Use the endpoint to get predictions from your model.\n",
    "\n",
    "First, look at what a single prediction looks like."
   ]
  },
  {
   "cell_type": "markdown",
   "metadata": {},
   "source": [
    "Amazon SageMaker model containers must respond to requests within 60 seconds. The model itself can have a maximum processing time of 60 seconds before responding to the /invocations. To do that, call the `predict` function for 5 rows at a time and then add those rows to a list. "
   ]
  },
  {
   "cell_type": "code",
   "execution_count": 35,
   "metadata": {},
   "outputs": [],
   "source": [
    "# Pass the X_train data to the predictor deployed \n",
    "ytrain_p = []\n",
    "for i in range(0, 1000, 5):\n",
    "    preds = fm_predictor.predict(X_train[i:i + 5].toarray())['predictions']\n",
    "    p = [ytrain_p.append(x['score']) for x in preds]"
   ]
  },
  {
   "cell_type": "markdown",
   "metadata": {},
   "source": [
    "**Question:** Now that you have inferences, do a sanity check. What are the minimum and maximum values predicted in the inferences? Do those correspond to the minimum and maximum values in the training data?"
   ]
  },
  {
   "cell_type": "code",
   "execution_count": 36,
   "metadata": {},
   "outputs": [
    {
     "name": "stdout",
     "output_type": "stream",
     "text": [
      "The minimum rating predicted is:  3.150850296020508 and the maximum is:  4.861355304718018\n"
     ]
    }
   ],
   "source": [
    "print('The minimum rating predicted is: ', min(ytrain_p), 'and the maximum is: ',max(ytrain_p))"
   ]
  },
  {
   "cell_type": "markdown",
   "metadata": {},
   "source": [
    "Now, check your test dataset."
   ]
  },
  {
   "cell_type": "code",
   "execution_count": 37,
   "metadata": {},
   "outputs": [],
   "source": [
    "Y_pred = []\n",
    "for i in range(0, X_test.shape[0], 5):\n",
    "    preds = fm_predictor.predict(X_test[i:i+5].toarray())['predictions']\n",
    "    p = [Y_pred.append(x['score']) for x in preds]"
   ]
  },
  {
   "cell_type": "markdown",
   "metadata": {},
   "source": [
    "**Question:** How are the min and max values alike in the predictions? Bonus point if you check the entire distribution (histogram)."
   ]
  },
  {
   "cell_type": "code",
   "execution_count": 38,
   "metadata": {},
   "outputs": [
    {
     "data": {
      "text/plain": [
       "(5.030704975128174, 2.609497308731079)"
      ]
     },
     "execution_count": 38,
     "metadata": {},
     "output_type": "execute_result"
    }
   ],
   "source": [
    "max(Y_pred), min(Y_pred)"
   ]
  },
  {
   "cell_type": "code",
   "execution_count": 39,
   "metadata": {},
   "outputs": [
    {
     "data": {
      "text/plain": [
       "<AxesSubplot:>"
      ]
     },
     "execution_count": 39,
     "metadata": {},
     "output_type": "execute_result"
    },
    {
     "data": {
      "image/png": "[encoded data removed]",
      "text/plain": [
       "<Figure size 432x288 with 1 Axes>"
      ]
     },
     "metadata": {
      "needs_background": "light"
     },
     "output_type": "display_data"
    }
   ],
   "source": [
    "sns.distplot(Y_pred, kde=False, bins=4)"
   ]
  },
  {
   "cell_type": "markdown",
   "metadata": {},
   "source": [
    "Finally, calculate the mean squared error for the test set and see how much of an improvement it is from the baseline."
   ]
  },
  {
   "cell_type": "code",
   "execution_count": 40,
   "metadata": {},
   "outputs": [
    {
     "name": "stdout",
     "output_type": "stream",
     "text": [
      "MSE: 1.242191995213853\n"
     ]
    }
   ],
   "source": [
    "print('MSE:', np.mean((test_df['star_rating'] - Y_pred) ** 2))"
   ]
  },
  {
   "cell_type": "markdown",
   "metadata": {},
   "source": [
    "For recommender systems, subjective accuracy also matters. Get some recommendations for a random user to see if they make intuitive sense.\n",
    "\n",
    "Try using user number 200, and see what they have watched and rated highly."
   ]
  },
  {
   "cell_type": "code",
   "execution_count": 41,
   "metadata": {},
   "outputs": [
    {
     "data": {
      "text/html": [
       "<div>\n",
       "<style scoped>\n",
       "    .dataframe tbody tr th:only-of-type {\n",
       "        vertical-align: middle;\n",
       "    }\n",
       "\n",
       "    .dataframe tbody tr th {\n",
       "        vertical-align: top;\n",
       "    }\n",
       "\n",
       "    .dataframe thead th {\n",
       "        text-align: right;\n",
       "    }\n",
       "</style>\n",
       "<table border=\"1\" class=\"dataframe\">\n",
       "  <thead>\n",
       "    <tr style=\"text-align: right;\">\n",
       "      <th></th>\n",
       "      <th>customer_id</th>\n",
       "      <th>product_id</th>\n",
       "      <th>star_rating</th>\n",
       "      <th>product_title</th>\n",
       "      <th>user</th>\n",
       "      <th>item</th>\n",
       "    </tr>\n",
       "  </thead>\n",
       "  <tbody>\n",
       "    <tr>\n",
       "      <th>60486</th>\n",
       "      <td>43080952</td>\n",
       "      <td>B00DTOYJJ2</td>\n",
       "      <td>5</td>\n",
       "      <td>Breaking Bad The Final Season</td>\n",
       "      <td>200</td>\n",
       "      <td>75</td>\n",
       "    </tr>\n",
       "    <tr>\n",
       "      <th>14249</th>\n",
       "      <td>43080952</td>\n",
       "      <td>B00VFTA70I</td>\n",
       "      <td>5</td>\n",
       "      <td>The Imitation Game</td>\n",
       "      <td>200</td>\n",
       "      <td>87</td>\n",
       "    </tr>\n",
       "    <tr>\n",
       "      <th>28407</th>\n",
       "      <td>43080952</td>\n",
       "      <td>B00KG2NGPS</td>\n",
       "      <td>5</td>\n",
       "      <td>The Monuments Men</td>\n",
       "      <td>200</td>\n",
       "      <td>149</td>\n",
       "    </tr>\n",
       "    <tr>\n",
       "      <th>71978</th>\n",
       "      <td>43080952</td>\n",
       "      <td>B00TPJHW7Q</td>\n",
       "      <td>5</td>\n",
       "      <td>The Theory of Everything</td>\n",
       "      <td>200</td>\n",
       "      <td>157</td>\n",
       "    </tr>\n",
       "    <tr>\n",
       "      <th>6753</th>\n",
       "      <td>43080952</td>\n",
       "      <td>B00IIVJU3Q</td>\n",
       "      <td>5</td>\n",
       "      <td>Philomena</td>\n",
       "      <td>200</td>\n",
       "      <td>179</td>\n",
       "    </tr>\n",
       "    <tr>\n",
       "      <th>84419</th>\n",
       "      <td>43080952</td>\n",
       "      <td>B0047WJ12K</td>\n",
       "      <td>5</td>\n",
       "      <td>Inception</td>\n",
       "      <td>200</td>\n",
       "      <td>476</td>\n",
       "    </tr>\n",
       "    <tr>\n",
       "      <th>161384</th>\n",
       "      <td>43080952</td>\n",
       "      <td>B00DGNO3WE</td>\n",
       "      <td>5</td>\n",
       "      <td>Quartet</td>\n",
       "      <td>200</td>\n",
       "      <td>1106</td>\n",
       "    </tr>\n",
       "    <tr>\n",
       "      <th>119440</th>\n",
       "      <td>43080952</td>\n",
       "      <td>B0059R5Q08</td>\n",
       "      <td>5</td>\n",
       "      <td>Jane Eyre</td>\n",
       "      <td>200</td>\n",
       "      <td>2632</td>\n",
       "    </tr>\n",
       "    <tr>\n",
       "      <th>167594</th>\n",
       "      <td>43080952</td>\n",
       "      <td>B001VLKWUA</td>\n",
       "      <td>5</td>\n",
       "      <td>Out of Africa</td>\n",
       "      <td>200</td>\n",
       "      <td>3187</td>\n",
       "    </tr>\n",
       "    <tr>\n",
       "      <th>136597</th>\n",
       "      <td>43080952</td>\n",
       "      <td>B00TF87WQI</td>\n",
       "      <td>5</td>\n",
       "      <td>Rosewater</td>\n",
       "      <td>200</td>\n",
       "      <td>3481</td>\n",
       "    </tr>\n",
       "    <tr>\n",
       "      <th>118790</th>\n",
       "      <td>43080952</td>\n",
       "      <td>B001P4NZ9I</td>\n",
       "      <td>5</td>\n",
       "      <td>Louis CK: Chewed Up</td>\n",
       "      <td>200</td>\n",
       "      <td>3657</td>\n",
       "    </tr>\n",
       "    <tr>\n",
       "      <th>99775</th>\n",
       "      <td>43080952</td>\n",
       "      <td>B00SH00N3Y</td>\n",
       "      <td>4</td>\n",
       "      <td>Lucy</td>\n",
       "      <td>200</td>\n",
       "      <td>26</td>\n",
       "    </tr>\n",
       "    <tr>\n",
       "      <th>102549</th>\n",
       "      <td>43080952</td>\n",
       "      <td>B00S65TBHY</td>\n",
       "      <td>4</td>\n",
       "      <td>Gone Girl</td>\n",
       "      <td>200</td>\n",
       "      <td>40</td>\n",
       "    </tr>\n",
       "    <tr>\n",
       "      <th>40897</th>\n",
       "      <td>43080952</td>\n",
       "      <td>B00I8H6MGS</td>\n",
       "      <td>4</td>\n",
       "      <td>Dallas Buyers Club</td>\n",
       "      <td>200</td>\n",
       "      <td>41</td>\n",
       "    </tr>\n",
       "    <tr>\n",
       "      <th>40443</th>\n",
       "      <td>43080952</td>\n",
       "      <td>B00J8CG6KE</td>\n",
       "      <td>4</td>\n",
       "      <td>Wolf Of Wall Street</td>\n",
       "      <td>200</td>\n",
       "      <td>44</td>\n",
       "    </tr>\n",
       "    <tr>\n",
       "      <th>27118</th>\n",
       "      <td>43080952</td>\n",
       "      <td>B00TPJE3ZK</td>\n",
       "      <td>4</td>\n",
       "      <td>Birdman</td>\n",
       "      <td>200</td>\n",
       "      <td>71</td>\n",
       "    </tr>\n",
       "    <tr>\n",
       "      <th>3368</th>\n",
       "      <td>43080952</td>\n",
       "      <td>B00XVPL8G6</td>\n",
       "      <td>4</td>\n",
       "      <td>American Sniper</td>\n",
       "      <td>200</td>\n",
       "      <td>96</td>\n",
       "    </tr>\n",
       "    <tr>\n",
       "      <th>45654</th>\n",
       "      <td>43080952</td>\n",
       "      <td>B00J2PEU3W</td>\n",
       "      <td>4</td>\n",
       "      <td>Saving Mr. Banks</td>\n",
       "      <td>200</td>\n",
       "      <td>111</td>\n",
       "    </tr>\n",
       "    <tr>\n",
       "      <th>28279</th>\n",
       "      <td>43080952</td>\n",
       "      <td>B00IMY9TNK</td>\n",
       "      <td>4</td>\n",
       "      <td>Nebraska</td>\n",
       "      <td>200</td>\n",
       "      <td>195</td>\n",
       "    </tr>\n",
       "    <tr>\n",
       "      <th>93385</th>\n",
       "      <td>43080952</td>\n",
       "      <td>B00TF874XE</td>\n",
       "      <td>4</td>\n",
       "      <td>Nightcrawler</td>\n",
       "      <td>200</td>\n",
       "      <td>277</td>\n",
       "    </tr>\n",
       "    <tr>\n",
       "      <th>34018</th>\n",
       "      <td>43080952</td>\n",
       "      <td>B00RNRD8RA</td>\n",
       "      <td>4</td>\n",
       "      <td>The Interview</td>\n",
       "      <td>200</td>\n",
       "      <td>367</td>\n",
       "    </tr>\n",
       "    <tr>\n",
       "      <th>20026</th>\n",
       "      <td>43080952</td>\n",
       "      <td>B00XJDYITO</td>\n",
       "      <td>4</td>\n",
       "      <td>Still Alice</td>\n",
       "      <td>200</td>\n",
       "      <td>383</td>\n",
       "    </tr>\n",
       "    <tr>\n",
       "      <th>12546</th>\n",
       "      <td>43080952</td>\n",
       "      <td>B006IGZWB2</td>\n",
       "      <td>4</td>\n",
       "      <td>The Help</td>\n",
       "      <td>200</td>\n",
       "      <td>452</td>\n",
       "    </tr>\n",
       "    <tr>\n",
       "      <th>123745</th>\n",
       "      <td>43080952</td>\n",
       "      <td>B001Q2J8BS</td>\n",
       "      <td>4</td>\n",
       "      <td>Burn After Reading</td>\n",
       "      <td>200</td>\n",
       "      <td>3217</td>\n",
       "    </tr>\n",
       "    <tr>\n",
       "      <th>26130</th>\n",
       "      <td>43080952</td>\n",
       "      <td>B00797MB0O</td>\n",
       "      <td>4</td>\n",
       "      <td>Young Adult</td>\n",
       "      <td>200</td>\n",
       "      <td>3589</td>\n",
       "    </tr>\n",
       "    <tr>\n",
       "      <th>150894</th>\n",
       "      <td>43080952</td>\n",
       "      <td>B001AITGWE</td>\n",
       "      <td>4</td>\n",
       "      <td>Falling Down</td>\n",
       "      <td>200</td>\n",
       "      <td>4967</td>\n",
       "    </tr>\n",
       "    <tr>\n",
       "      <th>28625</th>\n",
       "      <td>43080952</td>\n",
       "      <td>B00IMYSCR4</td>\n",
       "      <td>3</td>\n",
       "      <td>Gravity</td>\n",
       "      <td>200</td>\n",
       "      <td>15</td>\n",
       "    </tr>\n",
       "    <tr>\n",
       "      <th>55116</th>\n",
       "      <td>43080952</td>\n",
       "      <td>B00HYTSTNU</td>\n",
       "      <td>3</td>\n",
       "      <td>Captain Phillips</td>\n",
       "      <td>200</td>\n",
       "      <td>47</td>\n",
       "    </tr>\n",
       "    <tr>\n",
       "      <th>142138</th>\n",
       "      <td>43080952</td>\n",
       "      <td>B00HZ4ASEC</td>\n",
       "      <td>3</td>\n",
       "      <td>Last Vegas</td>\n",
       "      <td>200</td>\n",
       "      <td>105</td>\n",
       "    </tr>\n",
       "    <tr>\n",
       "      <th>6913</th>\n",
       "      <td>43080952</td>\n",
       "      <td>B00JP5ONY0</td>\n",
       "      <td>3</td>\n",
       "      <td>The Secret Life of Walter Mitty</td>\n",
       "      <td>200</td>\n",
       "      <td>117</td>\n",
       "    </tr>\n",
       "    <tr>\n",
       "      <th>112562</th>\n",
       "      <td>43080952</td>\n",
       "      <td>B00J2PRBNS</td>\n",
       "      <td>3</td>\n",
       "      <td>American Hustle</td>\n",
       "      <td>200</td>\n",
       "      <td>136</td>\n",
       "    </tr>\n",
       "    <tr>\n",
       "      <th>56580</th>\n",
       "      <td>43080952</td>\n",
       "      <td>B00QGKVB4W</td>\n",
       "      <td>3</td>\n",
       "      <td>The Hundred-Foot Journey (Theatrical)</td>\n",
       "      <td>200</td>\n",
       "      <td>198</td>\n",
       "    </tr>\n",
       "    <tr>\n",
       "      <th>50080</th>\n",
       "      <td>43080952</td>\n",
       "      <td>B00JJH3HCS</td>\n",
       "      <td>3</td>\n",
       "      <td>August: Osage County</td>\n",
       "      <td>200</td>\n",
       "      <td>205</td>\n",
       "    </tr>\n",
       "    <tr>\n",
       "      <th>74850</th>\n",
       "      <td>43080952</td>\n",
       "      <td>B00H8C4HZ2</td>\n",
       "      <td>3</td>\n",
       "      <td>Lee Daniels' The Butler</td>\n",
       "      <td>200</td>\n",
       "      <td>230</td>\n",
       "    </tr>\n",
       "    <tr>\n",
       "      <th>40084</th>\n",
       "      <td>43080952</td>\n",
       "      <td>B00L23RCPU</td>\n",
       "      <td>3</td>\n",
       "      <td>The Grand Budapest Hotel</td>\n",
       "      <td>200</td>\n",
       "      <td>232</td>\n",
       "    </tr>\n",
       "    <tr>\n",
       "      <th>97041</th>\n",
       "      <td>43080952</td>\n",
       "      <td>B00HAQAQME</td>\n",
       "      <td>3</td>\n",
       "      <td>Blue Jasmine</td>\n",
       "      <td>200</td>\n",
       "      <td>270</td>\n",
       "    </tr>\n",
       "    <tr>\n",
       "      <th>45571</th>\n",
       "      <td>43080952</td>\n",
       "      <td>B00VFTBPSG</td>\n",
       "      <td>3</td>\n",
       "      <td>Wild</td>\n",
       "      <td>200</td>\n",
       "      <td>352</td>\n",
       "    </tr>\n",
       "    <tr>\n",
       "      <th>43350</th>\n",
       "      <td>43080952</td>\n",
       "      <td>B00HNBS8MQ</td>\n",
       "      <td>3</td>\n",
       "      <td>Thanks For Sharing</td>\n",
       "      <td>200</td>\n",
       "      <td>711</td>\n",
       "    </tr>\n",
       "    <tr>\n",
       "      <th>121649</th>\n",
       "      <td>43080952</td>\n",
       "      <td>B00WG1FMCW</td>\n",
       "      <td>3</td>\n",
       "      <td>Cake</td>\n",
       "      <td>200</td>\n",
       "      <td>1216</td>\n",
       "    </tr>\n",
       "    <tr>\n",
       "      <th>155565</th>\n",
       "      <td>43080952</td>\n",
       "      <td>B00G32OMF8</td>\n",
       "      <td>3</td>\n",
       "      <td>Before Midnight</td>\n",
       "      <td>200</td>\n",
       "      <td>2461</td>\n",
       "    </tr>\n",
       "    <tr>\n",
       "      <th>74333</th>\n",
       "      <td>43080952</td>\n",
       "      <td>B00ST1OBS4</td>\n",
       "      <td>2</td>\n",
       "      <td>The Judge (2014)</td>\n",
       "      <td>200</td>\n",
       "      <td>35</td>\n",
       "    </tr>\n",
       "    <tr>\n",
       "      <th>97168</th>\n",
       "      <td>43080952</td>\n",
       "      <td>B00RVC3YKI</td>\n",
       "      <td>2</td>\n",
       "      <td>Boyhood</td>\n",
       "      <td>200</td>\n",
       "      <td>557</td>\n",
       "    </tr>\n",
       "    <tr>\n",
       "      <th>72804</th>\n",
       "      <td>43080952</td>\n",
       "      <td>B00U7B21A4</td>\n",
       "      <td>2</td>\n",
       "      <td>Foxcatcher</td>\n",
       "      <td>200</td>\n",
       "      <td>859</td>\n",
       "    </tr>\n",
       "    <tr>\n",
       "      <th>57296</th>\n",
       "      <td>43080952</td>\n",
       "      <td>B001DM1VXE</td>\n",
       "      <td>2</td>\n",
       "      <td>Pi</td>\n",
       "      <td>200</td>\n",
       "      <td>1752</td>\n",
       "    </tr>\n",
       "    <tr>\n",
       "      <th>29821</th>\n",
       "      <td>43080952</td>\n",
       "      <td>B005KL3R6I</td>\n",
       "      <td>1</td>\n",
       "      <td>Bridesmaids</td>\n",
       "      <td>200</td>\n",
       "      <td>562</td>\n",
       "    </tr>\n",
       "    <tr>\n",
       "      <th>115522</th>\n",
       "      <td>43080952</td>\n",
       "      <td>B001H6BIOS</td>\n",
       "      <td>1</td>\n",
       "      <td>Then She Found Me</td>\n",
       "      <td>200</td>\n",
       "      <td>1743</td>\n",
       "    </tr>\n",
       "  </tbody>\n",
       "</table>\n",
       "</div>"
      ],
      "text/plain": [
       "        customer_id  product_id  star_rating  \\\n",
       "60486      43080952  B00DTOYJJ2            5   \n",
       "14249      43080952  B00VFTA70I            5   \n",
       "28407      43080952  B00KG2NGPS            5   \n",
       "71978      43080952  B00TPJHW7Q            5   \n",
       "6753       43080952  B00IIVJU3Q            5   \n",
       "84419      43080952  B0047WJ12K            5   \n",
       "161384     43080952  B00DGNO3WE            5   \n",
       "119440     43080952  B0059R5Q08            5   \n",
       "167594     43080952  B001VLKWUA            5   \n",
       "136597     43080952  B00TF87WQI            5   \n",
       "118790     43080952  B001P4NZ9I            5   \n",
       "99775      43080952  B00SH00N3Y            4   \n",
       "102549     43080952  B00S65TBHY            4   \n",
       "40897      43080952  B00I8H6MGS            4   \n",
       "40443      43080952  B00J8CG6KE            4   \n",
       "27118      43080952  B00TPJE3ZK            4   \n",
       "3368       43080952  B00XVPL8G6            4   \n",
       "45654      43080952  B00J2PEU3W            4   \n",
       "28279      43080952  B00IMY9TNK            4   \n",
       "93385      43080952  B00TF874XE            4   \n",
       "34018      43080952  B00RNRD8RA            4   \n",
       "20026      43080952  B00XJDYITO            4   \n",
       "12546      43080952  B006IGZWB2            4   \n",
       "123745     43080952  B001Q2J8BS            4   \n",
       "26130      43080952  B00797MB0O            4   \n",
       "150894     43080952  B001AITGWE            4   \n",
       "28625      43080952  B00IMYSCR4            3   \n",
       "55116      43080952  B00HYTSTNU            3   \n",
       "142138     43080952  B00HZ4ASEC            3   \n",
       "6913       43080952  B00JP5ONY0            3   \n",
       "112562     43080952  B00J2PRBNS            3   \n",
       "56580      43080952  B00QGKVB4W            3   \n",
       "50080      43080952  B00JJH3HCS            3   \n",
       "74850      43080952  B00H8C4HZ2            3   \n",
       "40084      43080952  B00L23RCPU            3   \n",
       "97041      43080952  B00HAQAQME            3   \n",
       "45571      43080952  B00VFTBPSG            3   \n",
       "43350      43080952  B00HNBS8MQ            3   \n",
       "121649     43080952  B00WG1FMCW            3   \n",
       "155565     43080952  B00G32OMF8            3   \n",
       "74333      43080952  B00ST1OBS4            2   \n",
       "97168      43080952  B00RVC3YKI            2   \n",
       "72804      43080952  B00U7B21A4            2   \n",
       "57296      43080952  B001DM1VXE            2   \n",
       "29821      43080952  B005KL3R6I            1   \n",
       "115522     43080952  B001H6BIOS            1   \n",
       "\n",
       "                                product_title  user  item  \n",
       "60486           Breaking Bad The Final Season   200    75  \n",
       "14249                      The Imitation Game   200    87  \n",
       "28407                       The Monuments Men   200   149  \n",
       "71978                The Theory of Everything   200   157  \n",
       "6753                                Philomena   200   179  \n",
       "84419                               Inception   200   476  \n",
       "161384                                Quartet   200  1106  \n",
       "119440                              Jane Eyre   200  2632  \n",
       "167594                          Out of Africa   200  3187  \n",
       "136597                              Rosewater   200  3481  \n",
       "118790                    Louis CK: Chewed Up   200  3657  \n",
       "99775                                    Lucy   200    26  \n",
       "102549                              Gone Girl   200    40  \n",
       "40897                      Dallas Buyers Club   200    41  \n",
       "40443                     Wolf Of Wall Street   200    44  \n",
       "27118                                 Birdman   200    71  \n",
       "3368                          American Sniper   200    96  \n",
       "45654                        Saving Mr. Banks   200   111  \n",
       "28279                                Nebraska   200   195  \n",
       "93385                            Nightcrawler   200   277  \n",
       "34018                           The Interview   200   367  \n",
       "20026                             Still Alice   200   383  \n",
       "12546                                The Help   200   452  \n",
       "123745                     Burn After Reading   200  3217  \n",
       "26130                             Young Adult   200  3589  \n",
       "150894                           Falling Down   200  4967  \n",
       "28625                                 Gravity   200    15  \n",
       "55116                        Captain Phillips   200    47  \n",
       "142138                             Last Vegas   200   105  \n",
       "6913          The Secret Life of Walter Mitty   200   117  \n",
       "112562                        American Hustle   200   136  \n",
       "56580   The Hundred-Foot Journey (Theatrical)   200   198  \n",
       "50080                    August: Osage County   200   205  \n",
       "74850                 Lee Daniels' The Butler   200   230  \n",
       "40084                The Grand Budapest Hotel   200   232  \n",
       "97041                            Blue Jasmine   200   270  \n",
       "45571                                    Wild   200   352  \n",
       "43350                      Thanks For Sharing   200   711  \n",
       "121649                                   Cake   200  1216  \n",
       "155565                        Before Midnight   200  2461  \n",
       "74333                        The Judge (2014)   200    35  \n",
       "97168                                 Boyhood   200   557  \n",
       "72804                              Foxcatcher   200   859  \n",
       "57296                                      Pi   200  1752  \n",
       "29821                             Bridesmaids   200   562  \n",
       "115522                      Then She Found Me   200  1743  "
      ]
     },
     "execution_count": 41,
     "metadata": {},
     "output_type": "execute_result"
    }
   ],
   "source": [
    "reduced_df[reduced_df['user'] == 200].sort_values(\n",
    "    ['star_rating', 'item'], ascending=[False, True])"
   ]
  },
  {
   "cell_type": "markdown",
   "metadata": {},
   "source": [
    "As you can see, this user likes to watch comedies, romance, and light-hearted movies and dislikes drama and fantasy movies. Let's see how your model predicts movie ratings for this user."
   ]
  },
  {
   "cell_type": "code",
   "execution_count": 42,
   "metadata": {},
   "outputs": [],
   "source": [
    "def prepare_predictions(user_id, number_movies, columns):\n",
    "    # Create the sparse matrix \n",
    "    X = lil_matrix((number_movies, columns)).astype('float32')\n",
    "    movie_index_start = columns - number_movies\n",
    "\n",
    "    # Fill out the matrix. Each row will be the same user with every possible movie.\n",
    "    for row in range(number_movies):\n",
    "        X[row, user_id - 1] = 1\n",
    "        X[row, movie_index_start + row] = 1\n",
    "\n",
    "    return X\n",
    "\n",
    "user_200 = prepare_predictions(200, products.shape[0], customers.shape[0] + products.shape[0])"
   ]
  },
  {
   "cell_type": "markdown",
   "metadata": {},
   "source": [
    "Now create a list of all the ratings that the model would predict for user 200 for all movies."
   ]
  },
  {
   "cell_type": "code",
   "execution_count": 43,
   "metadata": {},
   "outputs": [],
   "source": [
    "pred_200 = []\n",
    "for i in range(0, user_200.shape[0], 5):\n",
    "    preds = fm_predictor.predict(user_200[i:i+5].toarray())['predictions']\n",
    "    p = [pred_200.append(x['score']) for x in preds]"
   ]
  },
  {
   "cell_type": "markdown",
   "metadata": {},
   "source": [
    "Now loop through and predict user 200's ratings for every common video in the catalog to see which ones to recommend or not recommend. \n",
    "\n",
    "Create a new dataframe `titles` by using the `reduced_df` dataframe to group by the items. Use the `product_title` column and create another column `score` and add the values from `pred_200` to it."
   ]
  },
  {
   "cell_type": "code",
   "execution_count": 44,
   "metadata": {},
   "outputs": [],
   "source": [
    "titles = reduced_df.groupby('item')['product_title'].first().reset_index()\n",
    "titles['score'] = pred_200"
   ]
  },
  {
   "cell_type": "markdown",
   "metadata": {},
   "source": [
    "**Question:** What products got the highest score?  \n",
    "\n",
    "**Hint**: Use the `sort_values` function to sort columns `score` and `item` and use parameter `asecnding=[False,True]`"
   ]
  },
  {
   "cell_type": "code",
   "execution_count": 45,
   "metadata": {},
   "outputs": [
    {
     "data": {
      "text/html": [
       "<div>\n",
       "<style scoped>\n",
       "    .dataframe tbody tr th:only-of-type {\n",
       "        vertical-align: middle;\n",
       "    }\n",
       "\n",
       "    .dataframe tbody tr th {\n",
       "        vertical-align: top;\n",
       "    }\n",
       "\n",
       "    .dataframe thead th {\n",
       "        text-align: right;\n",
       "    }\n",
       "</style>\n",
       "<table border=\"1\" class=\"dataframe\">\n",
       "  <thead>\n",
       "    <tr style=\"text-align: right;\">\n",
       "      <th></th>\n",
       "      <th>item</th>\n",
       "      <th>product_title</th>\n",
       "      <th>score</th>\n",
       "    </tr>\n",
       "  </thead>\n",
       "  <tbody>\n",
       "    <tr>\n",
       "      <th>24</th>\n",
       "      <td>24</td>\n",
       "      <td>John Adams Season 1</td>\n",
       "      <td>4.038062</td>\n",
       "    </tr>\n",
       "    <tr>\n",
       "      <th>5</th>\n",
       "      <td>5</td>\n",
       "      <td>Downton Abbey Season 3</td>\n",
       "      <td>4.036657</td>\n",
       "    </tr>\n",
       "    <tr>\n",
       "      <th>3409</th>\n",
       "      <td>3409</td>\n",
       "      <td>Still Mine</td>\n",
       "      <td>4.002437</td>\n",
       "    </tr>\n",
       "    <tr>\n",
       "      <th>6</th>\n",
       "      <td>6</td>\n",
       "      <td>Justified Season 4</td>\n",
       "      <td>4.000693</td>\n",
       "    </tr>\n",
       "    <tr>\n",
       "      <th>20</th>\n",
       "      <td>20</td>\n",
       "      <td>Band of Brothers Season 1</td>\n",
       "      <td>3.990752</td>\n",
       "    </tr>\n",
       "    <tr>\n",
       "      <th>...</th>\n",
       "      <td>...</td>\n",
       "      <td>...</td>\n",
       "      <td>...</td>\n",
       "    </tr>\n",
       "    <tr>\n",
       "      <th>3008</th>\n",
       "      <td>3008</td>\n",
       "      <td>Don Jon</td>\n",
       "      <td>3.423711</td>\n",
       "    </tr>\n",
       "    <tr>\n",
       "      <th>1850</th>\n",
       "      <td>1850</td>\n",
       "      <td>The Sorcerer and the White Snake</td>\n",
       "      <td>3.423175</td>\n",
       "    </tr>\n",
       "    <tr>\n",
       "      <th>5132</th>\n",
       "      <td>5132</td>\n",
       "      <td>Really</td>\n",
       "      <td>3.419029</td>\n",
       "    </tr>\n",
       "    <tr>\n",
       "      <th>380</th>\n",
       "      <td>380</td>\n",
       "      <td>All Is Lost</td>\n",
       "      <td>3.416741</td>\n",
       "    </tr>\n",
       "    <tr>\n",
       "      <th>578</th>\n",
       "      <td>578</td>\n",
       "      <td>Transparent Season 1</td>\n",
       "      <td>3.413863</td>\n",
       "    </tr>\n",
       "  </tbody>\n",
       "</table>\n",
       "<p>6659 rows × 3 columns</p>\n",
       "</div>"
      ],
      "text/plain": [
       "      item                     product_title     score\n",
       "24      24               John Adams Season 1  4.038062\n",
       "5        5            Downton Abbey Season 3  4.036657\n",
       "3409  3409                        Still Mine  4.002437\n",
       "6        6                Justified Season 4  4.000693\n",
       "20      20         Band of Brothers Season 1  3.990752\n",
       "...    ...                               ...       ...\n",
       "3008  3008                           Don Jon  3.423711\n",
       "1850  1850  The Sorcerer and the White Snake  3.423175\n",
       "5132  5132                            Really  3.419029\n",
       "380    380                       All Is Lost  3.416741\n",
       "578    578              Transparent Season 1  3.413863\n",
       "\n",
       "[6659 rows x 3 columns]"
      ]
     },
     "execution_count": 45,
     "metadata": {},
     "output_type": "execute_result"
    }
   ],
   "source": [
    "titles.sort_values(['score', 'item'], ascending=[False, True])"
   ]
  },
  {
   "cell_type": "code",
   "execution_count": null,
   "metadata": {},
   "outputs": [],
   "source": [
    "# Enter your Answer here"
   ]
  },
  {
   "cell_type": "markdown",
   "metadata": {},
   "source": [
    "**Question:** What can you conclude from the highly rated and lowest rated shows for the user? "
   ]
  },
  {
   "cell_type": "code",
   "execution_count": null,
   "metadata": {},
   "outputs": [],
   "source": [
    "# Enter your Answer here"
   ]
  },
  {
   "cell_type": "markdown",
   "metadata": {},
   "source": [
    "See if your recommendations have correlations with other users. Try user 201. Perform the same operations as you did for user 200."
   ]
  },
  {
   "cell_type": "code",
   "execution_count": 46,
   "metadata": {},
   "outputs": [],
   "source": [
    "user_201 = prepare_predictions(201, products.shape[0], customers.shape[0] + products.shape[0])\n",
    "\n",
    "pred_201 = []\n",
    "for i in range(0, user_201.shape[0], 5):\n",
    "    preds = fm_predictor.predict(user_201[i:i+5].toarray())['predictions']\n",
    "    p = [pred_201.append(x['score']) for x in preds]"
   ]
  },
  {
   "cell_type": "code",
   "execution_count": 47,
   "metadata": {},
   "outputs": [
    {
     "data": {
      "text/plain": [
       "<matplotlib.collections.PathCollection at 0x7fb6cdf39f28>"
      ]
     },
     "execution_count": 47,
     "metadata": {},
     "output_type": "execute_result"
    },
    {
     "data": {
      "image/png": "[encoded data removed]",
      "text/plain": [
       "<Figure size 432x288 with 1 Axes>"
      ]
     },
     "metadata": {
      "needs_background": "light"
     },
     "output_type": "display_data"
    }
   ],
   "source": [
    "plt.scatter(pred_200, pred_201)\n",
    "plt.show()"
   ]
  },
  {
   "cell_type": "markdown",
   "metadata": {},
   "source": [
    "**Question:** What can you conclude from the scatter plot between the two users?  "
   ]
  },
  {
   "cell_type": "code",
   "execution_count": null,
   "metadata": {},
   "outputs": [],
   "source": [
    "# Enter your answer here:"
   ]
  },
  {
   "cell_type": "markdown",
   "metadata": {},
   "source": [
    "Delete the endpoint you created for inference because you won't be using it anymore."
   ]
  },
  {
   "cell_type": "code",
   "execution_count": 48,
   "metadata": {},
   "outputs": [
    {
     "name": "stderr",
     "output_type": "stream",
     "text": [
      "The endpoint attribute has been renamed in sagemaker>=2.\n",
      "See: https://sagemaker.readthedocs.io/en/stable/v2.html for details.\n"
     ]
    }
   ],
   "source": [
    "sagemaker.Session().delete_endpoint(fm_predictor.endpoint)"
   ]
  },
  {
   "cell_type": "markdown",
   "metadata": {},
   "source": [
    "## <span style=\"color:red\"> End of Lab 3 </span>\n",
    "\n",
    "Save the project file to your local computer. Follow these steps:\n",
    "\n",
    "1. At the top of the page, click the **File** menu. \n",
    "\n",
    "1. Select **Download as**, and click **Notebook(.ipynb)**.  \n",
    "\n",
    "This downloads the current notebook to the default download folder on your computer."
   ]
  },
  {
   "cell_type": "markdown",
   "metadata": {},
   "source": [
    "# Iteration II\n",
    "\n",
    "# Step 4: Feature engineering\n",
    "\n",
    "You've now gone through one iteration of training and evaluating your model. Given that the outcome you reached for your model the first time probably wasn't sufficient for solving your business problem, what are some things you could change about your data to possibly improve model performance?\n",
    "\n",
    "### Key questions to consider:\n",
    "1. How might changing the machine learning problem help your dataset? You tried to use regression to solve the problem; can classification help?\n",
    "2. What do you need to do to change the machine learning problem to a machine learning classification problem? Write down the new problem statement for classification.\n",
    "\n",
    "#### <span style=\"color: blue;\">Project presentation: Record key decisions and methods you use in this section in your project presentations, as well as any new performance metrics you obtain after evaluating your model again.</span>"
   ]
  },
  {
   "cell_type": "markdown",
   "metadata": {},
   "source": [
    "Now change the training datasets to have a binary output depending on the rating they get. You will consider recommending something to a user when the rating is 5 stars, and you will save again as a protobuf format in Amazon S3. Do the following:  \n",
    "\n",
    "1. Use the `loadDataset` function with the option `regression=False` to create your training datasets.   \n",
    "2. Write the dataset as a protobuf format.  \n",
    "3. Retrain the model using `predictor_type='binary_classifier'`.   \n",
    "4. Deploy your model to an endpoint and evaluate the model, similar to how you did before on the test set.   \n",
    "5. Inspect how you did on the test set using a confusion matrix.   "
   ]
  },
  {
   "cell_type": "code",
   "execution_count": 49,
   "metadata": {},
   "outputs": [],
   "source": [
    "X_train_class, Y_train_class = loadDataset(train_df, customers.shape[0], \n",
    "                               products.shape[0], regressor=False)\n",
    "X_test_class, Y_test_class = loadDataset(test_df, customers.shape[0], \n",
    "                             products.shape[0], regressor=False)"
   ]
  },
  {
   "cell_type": "code",
   "execution_count": 50,
   "metadata": {},
   "outputs": [
    {
     "name": "stdout",
     "output_type": "stream",
     "text": [
      "Training data S3 path:  s3://qls-4279222-10873a7655e1b13e-labbucket-1l60tfo955a52/sagemaker-fm/train_class\n",
      "Test data S3 path:  s3://qls-4279222-10873a7655e1b13e-labbucket-1l60tfo955a52/sagemaker-fm/test_class\n"
     ]
    }
   ],
   "source": [
    "# Write dataset as a protobuf\n",
    "\n",
    "fm_train_data_path = writeDatasetToProtobuf(X_train_class, bucket, prefix, 'train_class', \"sparse\", Y_train_class)    \n",
    "fm_test_data_path  = writeDatasetToProtobuf(X_test_class, bucket, prefix, 'test_class', \"sparse\", Y_test_class)    \n",
    "  \n",
    "print(\"Training data S3 path: \", fm_train_data_path)\n",
    "print(\"Test data S3 path: \", fm_test_data_path)"
   ]
  },
  {
   "cell_type": "markdown",
   "metadata": {},
   "source": [
    "### Sample code\n",
    "\n",
    "```\n",
    "fm_train_data_path = writeDatasetToProtobuf(X_train_class, bucket, prefix, 'train_class', \"sparse\", Y_train_class)    \n",
    "fm_test_data_path  = writeDatasetToProtobuf(X_test_class, bucket, prefix, 'test_class', \"sparse\", Y_test_class) \n",
    "```"
   ]
  },
  {
   "cell_type": "markdown",
   "metadata": {},
   "source": [
    "Finally, retrain the model, changing from regression to binary classification. Use the same code and settings that you did when you trained your model previously, but change the `predictor_type='binary_classifier`."
   ]
  },
  {
   "cell_type": "code",
   "execution_count": 51,
   "metadata": {
    "jupyter": {
     "outputs_hidden": true
    }
   },
   "outputs": [
    {
     "name": "stdout",
     "output_type": "stream",
     "text": [
      "2021-05-27 12:23:05 Starting - Starting the training job...\n",
      "2021-05-27 12:23:06 Starting - Launching requested ML instancesProfilerReport-1622118184: InProgress\n",
      "......\n",
      "2021-05-27 12:24:19 Starting - Preparing the instances for training.........\n",
      "2021-05-27 12:25:59 Downloading - Downloading input data\n",
      "2021-05-27 12:25:59 Training - Downloading the training image.....\u001b[34mDocker entrypoint called with argument(s): train\u001b[0m\n",
      "\u001b[34mRunning default environment configuration script\u001b[0m\n",
      "\u001b[34m/opt/amazon/lib/python3.7/site-packages/jsonref.py:8: DeprecationWarning: Using or importing the ABCs from 'collections' instead of from 'collections.abc' is deprecated since Python 3.3,and in 3.9 it will stop working\n",
      "  from collections import Mapping, MutableMapping, Sequence\u001b[0m\n",
      "\u001b[34m/opt/amazon/lib/python3.7/site-packages/algorithm/network_builder.py:87: DeprecationWarning: invalid escape sequence \\s\n",
      "  \"\"\"\u001b[0m\n",
      "\u001b[34m/opt/amazon/lib/python3.7/site-packages/algorithm/network_builder.py:120: DeprecationWarning: invalid escape sequence \\s\n",
      "  \"\"\"\u001b[0m\n",
      "\u001b[34m[05/27/2021 12:26:44 INFO 140333397227328] Reading default configuration from /opt/amazon/lib/python3.7/site-packages/algorithm/resources/default-conf.json: {'epochs': 1, 'mini_batch_size': '1000', 'use_bias': 'true', 'use_linear': 'true', 'bias_lr': '0.1', 'linear_lr': '0.001', 'factors_lr': '0.0001', 'bias_wd': '0.01', 'linear_wd': '0.001', 'factors_wd': '0.00001', 'bias_init_method': 'normal', 'bias_init_sigma': '0.01', 'linear_init_method': 'normal', 'linear_init_sigma': '0.01', 'factors_init_method': 'normal', 'factors_init_sigma': '0.001', 'batch_metrics_publish_interval': '500', '_data_format': 'record', '_kvstore': 'auto', '_learning_rate': '1.0', '_log_level': 'info', '_num_gpus': 'auto', '_num_kv_servers': 'auto', '_optimizer': 'adam', '_tuning_objective_metric': '', '_use_full_symbolic': 'true', '_wd': '1.0'}\u001b[0m\n",
      "\u001b[34m[05/27/2021 12:26:44 INFO 140333397227328] Merging with provided configuration from /opt/ml/input/config/hyperparameters.json: {'feature_dim': '17095', 'predictor_type': 'binary_classifier', 'rescale_grad': '0.001953125', 'clip_gradient': '5.0', 'num_factors': '128', 'epochs': '25', 'mini_batch_size': '512'}\u001b[0m\n",
      "\u001b[34m[05/27/2021 12:26:44 INFO 140333397227328] Final configuration: {'epochs': '25', 'mini_batch_size': '512', 'use_bias': 'true', 'use_linear': 'true', 'bias_lr': '0.1', 'linear_lr': '0.001', 'factors_lr': '0.0001', 'bias_wd': '0.01', 'linear_wd': '0.001', 'factors_wd': '0.00001', 'bias_init_method': 'normal', 'bias_init_sigma': '0.01', 'linear_init_method': 'normal', 'linear_init_sigma': '0.01', 'factors_init_method': 'normal', 'factors_init_sigma': '0.001', 'batch_metrics_publish_interval': '500', '_data_format': 'record', '_kvstore': 'auto', '_learning_rate': '1.0', '_log_level': 'info', '_num_gpus': 'auto', '_num_kv_servers': 'auto', '_optimizer': 'adam', '_tuning_objective_metric': '', '_use_full_symbolic': 'true', '_wd': '1.0', 'feature_dim': '17095', 'predictor_type': 'binary_classifier', 'rescale_grad': '0.001953125', 'clip_gradient': '5.0', 'num_factors': '128'}\u001b[0m\n",
      "\u001b[34m[05/27/2021 12:26:44 WARNING 140333397227328] Loggers have already been setup.\u001b[0m\n",
      "\u001b[34mProcess 1 is a worker.\u001b[0m\n",
      "\u001b[34m[05/27/2021 12:26:44 INFO 140333397227328] Using default worker.\u001b[0m\n",
      "\u001b[34m[05/27/2021 12:26:44 INFO 140333397227328] Checkpoint loading and saving are disabled.\u001b[0m\n",
      "\u001b[34m[2021-05-27 12:26:44.804] [tensorio] [warning] TensorIO is already initialized; ignoring the initialization routine.\u001b[0m\n",
      "\u001b[34m[2021-05-27 12:26:44.807] [tensorio] [info] epoch_stats={\"data_pipeline\": \"/opt/ml/input/data/train\", \"epoch\": 0, \"duration\": 12, \"num_examples\": 1, \"num_bytes\": 32768}\u001b[0m\n",
      "\u001b[34m[05/27/2021 12:26:44 INFO 140333397227328] nvidia-smi: took 0.030 seconds to run.\u001b[0m\n",
      "\u001b[34m[05/27/2021 12:26:44 INFO 140333397227328] nvidia-smi identified 0 GPUs.\u001b[0m\n",
      "\u001b[34m[05/27/2021 12:26:44 INFO 140333397227328] Number of GPUs being used: 0\u001b[0m\n",
      "\u001b[34m[05/27/2021 12:26:44 INFO 140333397227328] [Sparse network] Building a sparse network.\u001b[0m\n",
      "\u001b[34m[05/27/2021 12:26:44 INFO 140333397227328] Create Store: local\u001b[0m\n",
      "\u001b[34m#metrics {\"StartTime\": 1622118404.7952967, \"EndTime\": 1622118404.8431995, \"Dimensions\": {\"Algorithm\": \"factorization-machines\", \"Host\": \"algo-1\", \"Operation\": \"training\"}, \"Metrics\": {\"initialize.time\": {\"sum\": 37.325143814086914, \"count\": 1, \"min\": 37.325143814086914, \"max\": 37.325143814086914}}}\n",
      "\u001b[0m\n",
      "\u001b[34m#metrics {\"StartTime\": 1622118404.843387, \"EndTime\": 1622118404.843425, \"Dimensions\": {\"Algorithm\": \"factorization-machines\", \"Host\": \"algo-1\", \"Operation\": \"training\", \"Meta\": \"init_train_data_iter\"}, \"Metrics\": {\"Total Records Seen\": {\"sum\": 512.0, \"count\": 1, \"min\": 512, \"max\": 512}, \"Total Batches Seen\": {\"sum\": 1.0, \"count\": 1, \"min\": 1, \"max\": 1}, \"Max Records Seen Between Resets\": {\"sum\": 512.0, \"count\": 1, \"min\": 512, \"max\": 512}, \"Max Batches Seen Between Resets\": {\"sum\": 1.0, \"count\": 1, \"min\": 1, \"max\": 1}, \"Reset Count\": {\"sum\": 1.0, \"count\": 1, \"min\": 1, \"max\": 1}, \"Number of Records Since Last Reset\": {\"sum\": 0.0, \"count\": 1, \"min\": 0, \"max\": 0}, \"Number of Batches Since Last Reset\": {\"sum\": 0.0, \"count\": 1, \"min\": 0, \"max\": 0}}}\n",
      "\u001b[0m\n",
      "\u001b[34m[12:26:44] /opt/brazil-pkg-cache/packages/AIAlgorithmsMXNet/AIAlgorithmsMXNet-1.1.x.204642.0/AL2_x86_64/generic-flavor/src/src/kvstore/./kvstore_local.h:280: Warning: non-default weights detected during kvstore pull. This call has been ignored. Please make sure to use row_sparse_pull with row_ids.\u001b[0m\n",
      "\u001b[34m[12:26:44] /opt/brazil-pkg-cache/packages/AIAlgorithmsMXNet/AIAlgorithmsMXNet-1.1.x.204642.0/AL2_x86_64/generic-flavor/src/src/kvstore/./kvstore_local.h:280: Warning: non-default weights detected during kvstore pull. This call has been ignored. Please make sure to use row_sparse_pull with row_ids.\u001b[0m\n",
      "\u001b[34m[05/27/2021 12:26:45 INFO 140333397227328] #quality_metric: host=algo-1, epoch=0, batch=0 train binary_classification_accuracy <score>=0.5625\u001b[0m\n",
      "\u001b[34m[05/27/2021 12:26:45 INFO 140333397227328] #quality_metric: host=algo-1, epoch=0, batch=0 train binary_classification_cross_entropy <loss>=0.6907323598861694\u001b[0m\n",
      "\u001b[34m[05/27/2021 12:26:45 INFO 140333397227328] #quality_metric: host=algo-1, epoch=0, batch=0 train binary_f_1.000 <score>=0.6981132075471698\u001b[0m\n",
      "\u001b[34m[2021-05-27 12:26:47.529] [tensorio] [info] epoch_stats={\"data_pipeline\": \"/opt/ml/input/data/train\", \"epoch\": 2, \"duration\": 2564, \"num_examples\": 319, \"num_bytes\": 10436096}\u001b[0m\n",
      "\u001b[34m[05/27/2021 12:26:47 INFO 140333397227328] #quality_metric: host=algo-1, epoch=0, train binary_classification_accuracy <score>=0.524600803291536\u001b[0m\n",
      "\u001b[34m[05/27/2021 12:26:47 INFO 140333397227328] #quality_metric: host=algo-1, epoch=0, train binary_classification_cross_entropy <loss>=0.6921996599454491\u001b[0m\n",
      "\u001b[34m[05/27/2021 12:26:47 INFO 140333397227328] #quality_metric: host=algo-1, epoch=0, train binary_f_1.000 <score>=0.49248326709893325\u001b[0m\n",
      "\u001b[34m#metrics {\"StartTime\": 1622118404.843313, \"EndTime\": 1622118407.531177, \"Dimensions\": {\"Algorithm\": \"factorization-machines\", \"Host\": \"algo-1\", \"Operation\": \"training\"}, \"Metrics\": {\"epochs\": {\"sum\": 25.0, \"count\": 1, \"min\": 25, \"max\": 25}, \"update.time\": {\"sum\": 2687.424898147583, \"count\": 1, \"min\": 2687.424898147583, \"max\": 2687.424898147583}}}\n",
      "\u001b[0m\n",
      "\u001b[34m[05/27/2021 12:26:47 INFO 140333397227328] #progress_metric: host=algo-1, completed 4.0 % of epochs\u001b[0m\n",
      "\u001b[34m#metrics {\"StartTime\": 1622118404.8437083, \"EndTime\": 1622118407.531948, \"Dimensions\": {\"Algorithm\": \"factorization-machines\", \"Host\": \"algo-1\", \"Operation\": \"training\", \"epoch\": 0, \"Meta\": \"training_data_iter\"}, \"Metrics\": {\"Total Records Seen\": {\"sum\": 163576.0, \"count\": 1, \"min\": 163576, \"max\": 163576}, \"Total Batches Seen\": {\"sum\": 320.0, \"count\": 1, \"min\": 320, \"max\": 320}, \"Max Records Seen Between Resets\": {\"sum\": 163064.0, \"count\": 1, \"min\": 163064, \"max\": 163064}, \"Max Batches Seen Between Resets\": {\"sum\": 319.0, \"count\": 1, \"min\": 319, \"max\": 319}, \"Reset Count\": {\"sum\": 2.0, \"count\": 1, \"min\": 2, \"max\": 2}, \"Number of Records Since Last Reset\": {\"sum\": 163064.0, \"count\": 1, \"min\": 163064, \"max\": 163064}, \"Number of Batches Since Last Reset\": {\"sum\": 319.0, \"count\": 1, \"min\": 319, \"max\": 319}}}\n",
      "\u001b[0m\n",
      "\u001b[34m[05/27/2021 12:26:47 INFO 140333397227328] #throughput_metric: host=algo-1, train throughput=60649.78534441371 records/second\u001b[0m\n",
      "\u001b[34m[05/27/2021 12:26:47 INFO 140333397227328] #quality_metric: host=algo-1, epoch=1, batch=0 train binary_classification_accuracy <score>=0.279296875\u001b[0m\n",
      "\u001b[34m[05/27/2021 12:26:47 INFO 140333397227328] #quality_metric: host=algo-1, epoch=1, batch=0 train binary_classification_cross_entropy <loss>=0.7119829654693604\u001b[0m\n",
      "\u001b[34m[05/27/2021 12:26:47 INFO 140333397227328] #quality_metric: host=algo-1, epoch=1, batch=0 train binary_f_1.000 <score>=0.0\u001b[0m\n",
      "\u001b[34m[2021-05-27 12:26:49.735] [tensorio] [info] epoch_stats={\"data_pipeline\": \"/opt/ml/input/data/train\", \"epoch\": 4, \"duration\": 2196, \"num_examples\": 319, \"num_bytes\": 10436096}\u001b[0m\n",
      "\u001b[34m[05/27/2021 12:26:49 INFO 140333397227328] #quality_metric: host=algo-1, epoch=1, train binary_classification_accuracy <score>=0.5553854819749217\u001b[0m\n",
      "\u001b[34m[05/27/2021 12:26:49 INFO 140333397227328] #quality_metric: host=algo-1, epoch=1, train binary_classification_cross_entropy <loss>=0.6843786534844521\u001b[0m\n",
      "\u001b[34m[05/27/2021 12:26:49 INFO 140333397227328] #quality_metric: host=algo-1, epoch=1, train binary_f_1.000 <score>=0.5186461799525394\u001b[0m\n",
      "\u001b[34m#metrics {\"StartTime\": 1622118407.5315342, \"EndTime\": 1622118409.7356737, \"Dimensions\": {\"Algorithm\": \"factorization-machines\", \"Host\": \"algo-1\", \"Operation\": \"training\"}, \"Metrics\": {\"update.time\": {\"sum\": 2202.9802799224854, \"count\": 1, \"min\": 2202.9802799224854, \"max\": 2202.9802799224854}}}\n",
      "\u001b[0m\n",
      "\u001b[34m[05/27/2021 12:26:49 INFO 140333397227328] #progress_metric: host=algo-1, completed 8.0 % of epochs\u001b[0m\n",
      "\u001b[34m#metrics {\"StartTime\": 1622118407.532655, \"EndTime\": 1622118409.735963, \"Dimensions\": {\"Algorithm\": \"factorization-machines\", \"Host\": \"algo-1\", \"Operation\": \"training\", \"epoch\": 1, \"Meta\": \"training_data_iter\"}, \"Metrics\": {\"Total Records Seen\": {\"sum\": 326640.0, \"count\": 1, \"min\": 326640, \"max\": 326640}, \"Total Batches Seen\": {\"sum\": 639.0, \"count\": 1, \"min\": 639, \"max\": 639}, \"Max Records Seen Between Resets\": {\"sum\": 163064.0, \"count\": 1, \"min\": 163064, \"max\": 163064}, \"Max Batches Seen Between Resets\": {\"sum\": 319.0, \"count\": 1, \"min\": 319, \"max\": 319}, \"Reset Count\": {\"sum\": 3.0, \"count\": 1, \"min\": 3, \"max\": 3}, \"Number of Records Since Last Reset\": {\"sum\": 163064.0, \"count\": 1, \"min\": 163064, \"max\": 163064}, \"Number of Batches Since Last Reset\": {\"sum\": 319.0, \"count\": 1, \"min\": 319, \"max\": 319}}}\n",
      "\u001b[0m\n",
      "\u001b[34m[05/27/2021 12:26:49 INFO 140333397227328] #throughput_metric: host=algo-1, train throughput=74002.4601978441 records/second\u001b[0m\n",
      "\u001b[34m[05/27/2021 12:26:49 INFO 140333397227328] #quality_metric: host=algo-1, epoch=2, batch=0 train binary_classification_accuracy <score>=0.29296875\u001b[0m\n",
      "\u001b[34m[05/27/2021 12:26:49 INFO 140333397227328] #quality_metric: host=algo-1, epoch=2, batch=0 train binary_classification_cross_entropy <loss>=0.7036352157592773\u001b[0m\n",
      "\u001b[34m[05/27/2021 12:26:49 INFO 140333397227328] #quality_metric: host=algo-1, epoch=2, batch=0 train binary_f_1.000 <score>=0.03723404255319149\u001b[0m\n",
      "\u001b[34m[2021-05-27 12:26:51.810] [tensorio] [info] epoch_stats={\"data_pipeline\": \"/opt/ml/input/data/train\", \"epoch\": 6, \"duration\": 2072, \"num_examples\": 319, \"num_bytes\": 10436096}\u001b[0m\n",
      "\u001b[34m[05/27/2021 12:26:51 INFO 140333397227328] #quality_metric: host=algo-1, epoch=2, train binary_classification_accuracy <score>=0.5872538695141066\u001b[0m\n",
      "\u001b[34m[05/27/2021 12:26:51 INFO 140333397227328] #quality_metric: host=algo-1, epoch=2, train binary_classification_cross_entropy <loss>=0.6760422432310529\u001b[0m\n",
      "\u001b[34m[05/27/2021 12:26:51 INFO 140333397227328] #quality_metric: host=algo-1, epoch=2, train binary_f_1.000 <score>=0.5536420157718054\u001b[0m\n",
      "\u001b[34m#metrics {\"StartTime\": 1622118409.735769, \"EndTime\": 1622118411.8115633, \"Dimensions\": {\"Algorithm\": \"factorization-machines\", \"Host\": \"algo-1\", \"Operation\": \"training\"}, \"Metrics\": {\"update.time\": {\"sum\": 2075.2193927764893, \"count\": 1, \"min\": 2075.2193927764893, \"max\": 2075.2193927764893}}}\n",
      "\u001b[0m\n",
      "\u001b[34m[05/27/2021 12:26:51 INFO 140333397227328] #progress_metric: host=algo-1, completed 12.0 % of epochs\u001b[0m\n",
      "\u001b[34m#metrics {\"StartTime\": 1622118409.7363064, \"EndTime\": 1622118411.811863, \"Dimensions\": {\"Algorithm\": \"factorization-machines\", \"Host\": \"algo-1\", \"Operation\": \"training\", \"epoch\": 2, \"Meta\": \"training_data_iter\"}, \"Metrics\": {\"Total Records Seen\": {\"sum\": 489704.0, \"count\": 1, \"min\": 489704, \"max\": 489704}, \"Total Batches Seen\": {\"sum\": 958.0, \"count\": 1, \"min\": 958, \"max\": 958}, \"Max Records Seen Between Resets\": {\"sum\": 163064.0, \"count\": 1, \"min\": 163064, \"max\": 163064}, \"Max Batches Seen Between Resets\": {\"sum\": 319.0, \"count\": 1, \"min\": 319, \"max\": 319}, \"Reset Count\": {\"sum\": 4.0, \"count\": 1, \"min\": 4, \"max\": 4}, \"Number of Records Since Last Reset\": {\"sum\": 163064.0, \"count\": 1, \"min\": 163064, \"max\": 163064}, \"Number of Batches Since Last Reset\": {\"sum\": 319.0, \"count\": 1, \"min\": 319, \"max\": 319}}}\n",
      "\u001b[0m\n",
      "\u001b[34m[05/27/2021 12:26:51 INFO 140333397227328] #throughput_metric: host=algo-1, train throughput=78558.06058690317 records/second\u001b[0m\n",
      "\u001b[34m[05/27/2021 12:26:51 INFO 140333397227328] #quality_metric: host=algo-1, epoch=3, batch=0 train binary_classification_accuracy <score>=0.39453125\u001b[0m\n",
      "\u001b[34m[05/27/2021 12:26:51 INFO 140333397227328] #quality_metric: host=algo-1, epoch=3, batch=0 train binary_classification_cross_entropy <loss>=0.6953371167182922\u001b[0m\n",
      "\u001b[34m[05/27/2021 12:26:51 INFO 140333397227328] #quality_metric: host=algo-1, epoch=3, batch=0 train binary_f_1.000 <score>=0.27906976744186046\u001b[0m\n",
      "\u001b[34m[2021-05-27 12:26:53.944] [tensorio] [info] epoch_stats={\"data_pipeline\": \"/opt/ml/input/data/train\", \"epoch\": 8, \"duration\": 2131, \"num_examples\": 319, \"num_bytes\": 10436096}\u001b[0m\n",
      "\u001b[34m[05/27/2021 12:26:53 INFO 140333397227328] #quality_metric: host=algo-1, epoch=3, train binary_classification_accuracy <score>=0.6141751567398119\u001b[0m\n",
      "\u001b[34m[05/27/2021 12:26:53 INFO 140333397227328] #quality_metric: host=algo-1, epoch=3, train binary_classification_cross_entropy <loss>=0.6684366197421633\u001b[0m\n",
      "\u001b[34m[05/27/2021 12:26:53 INFO 140333397227328] #quality_metric: host=algo-1, epoch=3, train binary_f_1.000 <score>=0.5849021803570252\u001b[0m\n",
      "\u001b[34m#metrics {\"StartTime\": 1622118411.8116598, \"EndTime\": 1622118413.94569, \"Dimensions\": {\"Algorithm\": \"factorization-machines\", \"Host\": \"algo-1\", \"Operation\": \"training\"}, \"Metrics\": {\"update.time\": {\"sum\": 2133.455276489258, \"count\": 1, \"min\": 2133.455276489258, \"max\": 2133.455276489258}}}\n",
      "\u001b[0m\n",
      "\u001b[34m[05/27/2021 12:26:53 INFO 140333397227328] #progress_metric: host=algo-1, completed 16.0 % of epochs\u001b[0m\n",
      "\u001b[34m#metrics {\"StartTime\": 1622118411.812199, \"EndTime\": 1622118413.9459386, \"Dimensions\": {\"Algorithm\": \"factorization-machines\", \"Host\": \"algo-1\", \"Operation\": \"training\", \"epoch\": 3, \"Meta\": \"training_data_iter\"}, \"Metrics\": {\"Total Records Seen\": {\"sum\": 652768.0, \"count\": 1, \"min\": 652768, \"max\": 652768}, \"Total Batches Seen\": {\"sum\": 1277.0, \"count\": 1, \"min\": 1277, \"max\": 1277}, \"Max Records Seen Between Resets\": {\"sum\": 163064.0, \"count\": 1, \"min\": 163064, \"max\": 163064}, \"Max Batches Seen Between Resets\": {\"sum\": 319.0, \"count\": 1, \"min\": 319, \"max\": 319}, \"Reset Count\": {\"sum\": 5.0, \"count\": 1, \"min\": 5, \"max\": 5}, \"Number of Records Since Last Reset\": {\"sum\": 163064.0, \"count\": 1, \"min\": 163064, \"max\": 163064}, \"Number of Batches Since Last Reset\": {\"sum\": 319.0, \"count\": 1, \"min\": 319, \"max\": 319}}}\n",
      "\u001b[0m\n",
      "\u001b[34m[05/27/2021 12:26:53 INFO 140333397227328] #throughput_metric: host=algo-1, train throughput=76416.8169576198 records/second\u001b[0m\n",
      "\u001b[34m[05/27/2021 12:26:53 INFO 140333397227328] #quality_metric: host=algo-1, epoch=4, batch=0 train binary_classification_accuracy <score>=0.546875\u001b[0m\n",
      "\u001b[34m[05/27/2021 12:26:53 INFO 140333397227328] #quality_metric: host=algo-1, epoch=4, batch=0 train binary_classification_cross_entropy <loss>=0.6874581575393677\u001b[0m\n",
      "\u001b[34m[05/27/2021 12:26:53 INFO 140333397227328] #quality_metric: host=algo-1, epoch=4, batch=0 train binary_f_1.000 <score>=0.5606060606060606\u001b[0m\n",
      "\n",
      "2021-05-27 12:26:59 Training - Training image download completed. Training in progress.\u001b[34m[2021-05-27 12:26:55.974] [tensorio] [info] epoch_stats={\"data_pipeline\": \"/opt/ml/input/data/train\", \"epoch\": 10, \"duration\": 2026, \"num_examples\": 319, \"num_bytes\": 10436096}\u001b[0m\n",
      "\u001b[34m[05/27/2021 12:26:55 INFO 140333397227328] #quality_metric: host=algo-1, epoch=4, train binary_classification_accuracy <score>=0.6383106387147336\u001b[0m\n",
      "\u001b[34m[05/27/2021 12:26:55 INFO 140333397227328] #quality_metric: host=algo-1, epoch=4, train binary_classification_cross_entropy <loss>=0.6616284097997372\u001b[0m\n",
      "\u001b[34m[05/27/2021 12:26:55 INFO 140333397227328] #quality_metric: host=algo-1, epoch=4, train binary_f_1.000 <score>=0.6139105655987347\u001b[0m\n",
      "\u001b[34m#metrics {\"StartTime\": 1622118413.945778, \"EndTime\": 1622118415.9747102, \"Dimensions\": {\"Algorithm\": \"factorization-machines\", \"Host\": \"algo-1\", \"Operation\": \"training\"}, \"Metrics\": {\"update.time\": {\"sum\": 2028.4836292266846, \"count\": 1, \"min\": 2028.4836292266846, \"max\": 2028.4836292266846}}}\n",
      "\u001b[0m\n",
      "\u001b[34m[05/27/2021 12:26:55 INFO 140333397227328] #progress_metric: host=algo-1, completed 20.0 % of epochs\u001b[0m\n",
      "\u001b[34m#metrics {\"StartTime\": 1622118413.946196, \"EndTime\": 1622118415.9749608, \"Dimensions\": {\"Algorithm\": \"factorization-machines\", \"Host\": \"algo-1\", \"Operation\": \"training\", \"epoch\": 4, \"Meta\": \"training_data_iter\"}, \"Metrics\": {\"Total Records Seen\": {\"sum\": 815832.0, \"count\": 1, \"min\": 815832, \"max\": 815832}, \"Total Batches Seen\": {\"sum\": 1596.0, \"count\": 1, \"min\": 1596, \"max\": 1596}, \"Max Records Seen Between Resets\": {\"sum\": 163064.0, \"count\": 1, \"min\": 163064, \"max\": 163064}, \"Max Batches Seen Between Resets\": {\"sum\": 319.0, \"count\": 1, \"min\": 319, \"max\": 319}, \"Reset Count\": {\"sum\": 6.0, \"count\": 1, \"min\": 6, \"max\": 6}, \"Number of Records Since Last Reset\": {\"sum\": 163064.0, \"count\": 1, \"min\": 163064, \"max\": 163064}, \"Number of Batches Since Last Reset\": {\"sum\": 319.0, \"count\": 1, \"min\": 319, \"max\": 319}}}\n",
      "\u001b[0m\n",
      "\u001b[34m[05/27/2021 12:26:55 INFO 140333397227328] #throughput_metric: host=algo-1, train throughput=80370.99727960257 records/second\u001b[0m\n",
      "\u001b[34m[05/27/2021 12:26:55 INFO 140333397227328] #quality_metric: host=algo-1, epoch=5, batch=0 train binary_classification_accuracy <score>=0.61328125\u001b[0m\n",
      "\u001b[34m[05/27/2021 12:26:55 INFO 140333397227328] #quality_metric: host=algo-1, epoch=5, batch=0 train binary_classification_cross_entropy <loss>=0.6800594329833984\u001b[0m\n",
      "\u001b[34m[05/27/2021 12:26:55 INFO 140333397227328] #quality_metric: host=algo-1, epoch=5, batch=0 train binary_f_1.000 <score>=0.6550522648083623\u001b[0m\n",
      "\u001b[34m[2021-05-27 12:26:58.089] [tensorio] [info] epoch_stats={\"data_pipeline\": \"/opt/ml/input/data/train\", \"epoch\": 12, \"duration\": 2112, \"num_examples\": 319, \"num_bytes\": 10436096}\u001b[0m\n",
      "\u001b[34m[05/27/2021 12:26:58 INFO 140333397227328] #quality_metric: host=algo-1, epoch=5, train binary_classification_accuracy <score>=0.6583561912225705\u001b[0m\n",
      "\u001b[34m[05/27/2021 12:26:58 INFO 140333397227328] #quality_metric: host=algo-1, epoch=5, train binary_classification_cross_entropy <loss>=0.6555171326783757\u001b[0m\n",
      "\u001b[34m[05/27/2021 12:26:58 INFO 140333397227328] #quality_metric: host=algo-1, epoch=5, train binary_f_1.000 <score>=0.637991436356559\u001b[0m\n",
      "\u001b[34m#metrics {\"StartTime\": 1622118415.9747987, \"EndTime\": 1622118418.0905998, \"Dimensions\": {\"Algorithm\": \"factorization-machines\", \"Host\": \"algo-1\", \"Operation\": \"training\"}, \"Metrics\": {\"update.time\": {\"sum\": 2115.3459548950195, \"count\": 1, \"min\": 2115.3459548950195, \"max\": 2115.3459548950195}}}\n",
      "\u001b[0m\n",
      "\u001b[34m[05/27/2021 12:26:58 INFO 140333397227328] #progress_metric: host=algo-1, completed 24.0 % of epochs\u001b[0m\n",
      "\u001b[34m#metrics {\"StartTime\": 1622118415.9752235, \"EndTime\": 1622118418.0908356, \"Dimensions\": {\"Algorithm\": \"factorization-machines\", \"Host\": \"algo-1\", \"Operation\": \"training\", \"epoch\": 5, \"Meta\": \"training_data_iter\"}, \"Metrics\": {\"Total Records Seen\": {\"sum\": 978896.0, \"count\": 1, \"min\": 978896, \"max\": 978896}, \"Total Batches Seen\": {\"sum\": 1915.0, \"count\": 1, \"min\": 1915, \"max\": 1915}, \"Max Records Seen Between Resets\": {\"sum\": 163064.0, \"count\": 1, \"min\": 163064, \"max\": 163064}, \"Max Batches Seen Between Resets\": {\"sum\": 319.0, \"count\": 1, \"min\": 319, \"max\": 319}, \"Reset Count\": {\"sum\": 7.0, \"count\": 1, \"min\": 7, \"max\": 7}, \"Number of Records Since Last Reset\": {\"sum\": 163064.0, \"count\": 1, \"min\": 163064, \"max\": 163064}, \"Number of Batches Since Last Reset\": {\"sum\": 319.0, \"count\": 1, \"min\": 319, \"max\": 319}}}\n",
      "\u001b[0m\n",
      "\u001b[34m[05/27/2021 12:26:58 INFO 140333397227328] #throughput_metric: host=algo-1, train throughput=77071.62390254858 records/second\u001b[0m\n",
      "\u001b[34m[05/27/2021 12:26:58 INFO 140333397227328] #quality_metric: host=algo-1, epoch=6, batch=0 train binary_classification_accuracy <score>=0.669921875\u001b[0m\n",
      "\u001b[34m[05/27/2021 12:26:58 INFO 140333397227328] #quality_metric: host=algo-1, epoch=6, batch=0 train binary_classification_cross_entropy <loss>=0.6731142401695251\u001b[0m\n",
      "\u001b[34m[05/27/2021 12:26:58 INFO 140333397227328] #quality_metric: host=algo-1, epoch=6, batch=0 train binary_f_1.000 <score>=0.7252032520325203\u001b[0m\n",
      "\u001b[34m[2021-05-27 12:27:00.268] [tensorio] [info] epoch_stats={\"data_pipeline\": \"/opt/ml/input/data/train\", \"epoch\": 14, \"duration\": 2175, \"num_examples\": 319, \"num_bytes\": 10436096}\u001b[0m\n",
      "\u001b[34m[05/27/2021 12:27:00 INFO 140333397227328] #quality_metric: host=algo-1, epoch=6, train binary_classification_accuracy <score>=0.6737424079153606\u001b[0m\n",
      "\u001b[34m[05/27/2021 12:27:00 INFO 140333397227328] #quality_metric: host=algo-1, epoch=6, train binary_classification_cross_entropy <loss>=0.6499887760903768\u001b[0m\n",
      "\u001b[34m[05/27/2021 12:27:00 INFO 140333397227328] #quality_metric: host=algo-1, epoch=6, train binary_f_1.000 <score>=0.6563614437630185\u001b[0m\n",
      "\u001b[34m#metrics {\"StartTime\": 1622118418.0906801, \"EndTime\": 1622118420.2693071, \"Dimensions\": {\"Algorithm\": \"factorization-machines\", \"Host\": \"algo-1\", \"Operation\": \"training\"}, \"Metrics\": {\"update.time\": {\"sum\": 2178.1704425811768, \"count\": 1, \"min\": 2178.1704425811768, \"max\": 2178.1704425811768}}}\n",
      "\u001b[0m\n",
      "\u001b[34m[05/27/2021 12:27:00 INFO 140333397227328] #progress_metric: host=algo-1, completed 28.0 % of epochs\u001b[0m\n",
      "\u001b[34m#metrics {\"StartTime\": 1622118418.091101, \"EndTime\": 1622118420.2696157, \"Dimensions\": {\"Algorithm\": \"factorization-machines\", \"Host\": \"algo-1\", \"Operation\": \"training\", \"epoch\": 6, \"Meta\": \"training_data_iter\"}, \"Metrics\": {\"Total Records Seen\": {\"sum\": 1141960.0, \"count\": 1, \"min\": 1141960, \"max\": 1141960}, \"Total Batches Seen\": {\"sum\": 2234.0, \"count\": 1, \"min\": 2234, \"max\": 2234}, \"Max Records Seen Between Resets\": {\"sum\": 163064.0, \"count\": 1, \"min\": 163064, \"max\": 163064}, \"Max Batches Seen Between Resets\": {\"sum\": 319.0, \"count\": 1, \"min\": 319, \"max\": 319}, \"Reset Count\": {\"sum\": 8.0, \"count\": 1, \"min\": 8, \"max\": 8}, \"Number of Records Since Last Reset\": {\"sum\": 163064.0, \"count\": 1, \"min\": 163064, \"max\": 163064}, \"Number of Batches Since Last Reset\": {\"sum\": 319.0, \"count\": 1, \"min\": 319, \"max\": 319}}}\n",
      "\u001b[0m\n",
      "\u001b[34m[05/27/2021 12:27:00 INFO 140333397227328] #throughput_metric: host=algo-1, train throughput=74845.52590281857 records/second\u001b[0m\n",
      "\u001b[34m[05/27/2021 12:27:00 INFO 140333397227328] #quality_metric: host=algo-1, epoch=7, batch=0 train binary_classification_accuracy <score>=0.681640625\u001b[0m\n",
      "\u001b[34m[05/27/2021 12:27:00 INFO 140333397227328] #quality_metric: host=algo-1, epoch=7, batch=0 train binary_classification_cross_entropy <loss>=0.6665745377540588\u001b[0m\n",
      "\u001b[34m[05/27/2021 12:27:00 INFO 140333397227328] #quality_metric: host=algo-1, epoch=7, batch=0 train binary_f_1.000 <score>=0.7392\u001b[0m\n",
      "\u001b[34m[2021-05-27 12:27:02.625] [tensorio] [info] epoch_stats={\"data_pipeline\": \"/opt/ml/input/data/train\", \"epoch\": 16, \"duration\": 2353, \"num_examples\": 319, \"num_bytes\": 10436096}\u001b[0m\n",
      "\u001b[34m[05/27/2021 12:27:02 INFO 140333397227328] #quality_metric: host=algo-1, epoch=7, train binary_classification_accuracy <score>=0.6862815928683386\u001b[0m\n",
      "\u001b[34m[05/27/2021 12:27:02 INFO 140333397227328] #quality_metric: host=algo-1, epoch=7, train binary_classification_cross_entropy <loss>=0.6449441291321781\u001b[0m\n",
      "\u001b[34m[05/27/2021 12:27:02 INFO 140333397227328] #quality_metric: host=algo-1, epoch=7, train binary_f_1.000 <score>=0.6712181975680965\u001b[0m\n",
      "\u001b[34m#metrics {\"StartTime\": 1622118420.2694135, \"EndTime\": 1622118422.6259792, \"Dimensions\": {\"Algorithm\": \"factorization-machines\", \"Host\": \"algo-1\", \"Operation\": \"training\"}, \"Metrics\": {\"update.time\": {\"sum\": 2355.9885025024414, \"count\": 1, \"min\": 2355.9885025024414, \"max\": 2355.9885025024414}}}\n",
      "\u001b[0m\n",
      "\u001b[34m[05/27/2021 12:27:02 INFO 140333397227328] #progress_metric: host=algo-1, completed 32.0 % of epochs\u001b[0m\n",
      "\u001b[34m#metrics {\"StartTime\": 1622118420.2699566, \"EndTime\": 1622118422.6262152, \"Dimensions\": {\"Algorithm\": \"factorization-machines\", \"Host\": \"algo-1\", \"Operation\": \"training\", \"epoch\": 7, \"Meta\": \"training_data_iter\"}, \"Metrics\": {\"Total Records Seen\": {\"sum\": 1305024.0, \"count\": 1, \"min\": 1305024, \"max\": 1305024}, \"Total Batches Seen\": {\"sum\": 2553.0, \"count\": 1, \"min\": 2553, \"max\": 2553}, \"Max Records Seen Between Resets\": {\"sum\": 163064.0, \"count\": 1, \"min\": 163064, \"max\": 163064}, \"Max Batches Seen Between Resets\": {\"sum\": 319.0, \"count\": 1, \"min\": 319, \"max\": 319}, \"Reset Count\": {\"sum\": 9.0, \"count\": 1, \"min\": 9, \"max\": 9}, \"Number of Records Since Last Reset\": {\"sum\": 163064.0, \"count\": 1, \"min\": 163064, \"max\": 163064}, \"Number of Batches Since Last Reset\": {\"sum\": 319.0, \"count\": 1, \"min\": 319, \"max\": 319}}}\n",
      "\u001b[0m\n",
      "\u001b[34m[05/27/2021 12:27:02 INFO 140333397227328] #throughput_metric: host=algo-1, train throughput=69199.69074494338 records/second\u001b[0m\n",
      "\u001b[34m[05/27/2021 12:27:02 INFO 140333397227328] #quality_metric: host=algo-1, epoch=8, batch=0 train binary_classification_accuracy <score>=0.6953125\u001b[0m\n",
      "\u001b[34m[05/27/2021 12:27:02 INFO 140333397227328] #quality_metric: host=algo-1, epoch=8, batch=0 train binary_classification_cross_entropy <loss>=0.6603913903236389\u001b[0m\n",
      "\u001b[34m[05/27/2021 12:27:02 INFO 140333397227328] #quality_metric: host=algo-1, epoch=8, batch=0 train binary_f_1.000 <score>=0.7547169811320755\u001b[0m\n",
      "\u001b[34m[2021-05-27 12:27:04.780] [tensorio] [info] epoch_stats={\"data_pipeline\": \"/opt/ml/input/data/train\", \"epoch\": 18, \"duration\": 2151, \"num_examples\": 319, \"num_bytes\": 10436096}\u001b[0m\n",
      "\u001b[34m[05/27/2021 12:27:04 INFO 140333397227328] #quality_metric: host=algo-1, epoch=8, train binary_classification_accuracy <score>=0.695998236677116\u001b[0m\n",
      "\u001b[34m[05/27/2021 12:27:04 INFO 140333397227328] #quality_metric: host=algo-1, epoch=8, train binary_classification_cross_entropy <loss>=0.64030184342196\u001b[0m\n",
      "\u001b[34m[05/27/2021 12:27:04 INFO 140333397227328] #quality_metric: host=algo-1, epoch=8, train binary_f_1.000 <score>=0.6824710622242118\u001b[0m\n",
      "\u001b[34m#metrics {\"StartTime\": 1622118422.62606, \"EndTime\": 1622118424.7808158, \"Dimensions\": {\"Algorithm\": \"factorization-machines\", \"Host\": \"algo-1\", \"Operation\": \"training\"}, \"Metrics\": {\"update.time\": {\"sum\": 2154.2723178863525, \"count\": 1, \"min\": 2154.2723178863525, \"max\": 2154.2723178863525}}}\n",
      "\u001b[0m\n",
      "\u001b[34m[05/27/2021 12:27:04 INFO 140333397227328] #progress_metric: host=algo-1, completed 36.0 % of epochs\u001b[0m\n",
      "\u001b[34m#metrics {\"StartTime\": 1622118422.6265156, \"EndTime\": 1622118424.7810678, \"Dimensions\": {\"Algorithm\": \"factorization-machines\", \"Host\": \"algo-1\", \"Operation\": \"training\", \"epoch\": 8, \"Meta\": \"training_data_iter\"}, \"Metrics\": {\"Total Records Seen\": {\"sum\": 1468088.0, \"count\": 1, \"min\": 1468088, \"max\": 1468088}, \"Total Batches Seen\": {\"sum\": 2872.0, \"count\": 1, \"min\": 2872, \"max\": 2872}, \"Max Records Seen Between Resets\": {\"sum\": 163064.0, \"count\": 1, \"min\": 163064, \"max\": 163064}, \"Max Batches Seen Between Resets\": {\"sum\": 319.0, \"count\": 1, \"min\": 319, \"max\": 319}, \"Reset Count\": {\"sum\": 10.0, \"count\": 1, \"min\": 10, \"max\": 10}, \"Number of Records Since Last Reset\": {\"sum\": 163064.0, \"count\": 1, \"min\": 163064, \"max\": 163064}, \"Number of Batches Since Last Reset\": {\"sum\": 319.0, \"count\": 1, \"min\": 319, \"max\": 319}}}\n",
      "\u001b[0m\n",
      "\u001b[34m[05/27/2021 12:27:04 INFO 140333397227328] #throughput_metric: host=algo-1, train throughput=75678.11577001438 records/second\u001b[0m\n",
      "\u001b[34m[05/27/2021 12:27:04 INFO 140333397227328] #quality_metric: host=algo-1, epoch=9, batch=0 train binary_classification_accuracy <score>=0.71875\u001b[0m\n",
      "\u001b[34m[05/27/2021 12:27:04 INFO 140333397227328] #quality_metric: host=algo-1, epoch=9, batch=0 train binary_classification_cross_entropy <loss>=0.6545206308364868\u001b[0m\n",
      "\u001b[34m[05/27/2021 12:27:04 INFO 140333397227328] #quality_metric: host=algo-1, epoch=9, batch=0 train binary_f_1.000 <score>=0.7784615384615384\u001b[0m\n",
      "\u001b[34m[2021-05-27 12:27:07.293] [tensorio] [info] epoch_stats={\"data_pipeline\": \"/opt/ml/input/data/train\", \"epoch\": 20, \"duration\": 2510, \"num_examples\": 319, \"num_bytes\": 10436096}\u001b[0m\n",
      "\u001b[34m[05/27/2021 12:27:07 INFO 140333397227328] #quality_metric: host=algo-1, epoch=9, train binary_classification_accuracy <score>=0.70436177507837\u001b[0m\n",
      "\u001b[34m[05/27/2021 12:27:07 INFO 140333397227328] #quality_metric: host=algo-1, epoch=9, train binary_classification_cross_entropy <loss>=0.6359961855000463\u001b[0m\n",
      "\u001b[34m[05/27/2021 12:27:07 INFO 140333397227328] #quality_metric: host=algo-1, epoch=9, train binary_f_1.000 <score>=0.6921164048153438\u001b[0m\n",
      "\u001b[34m#metrics {\"StartTime\": 1622118424.7808905, \"EndTime\": 1622118427.2946491, \"Dimensions\": {\"Algorithm\": \"factorization-machines\", \"Host\": \"algo-1\", \"Operation\": \"training\"}, \"Metrics\": {\"update.time\": {\"sum\": 2513.2551193237305, \"count\": 1, \"min\": 2513.2551193237305, \"max\": 2513.2551193237305}}}\n",
      "\u001b[0m\n",
      "\u001b[34m[05/27/2021 12:27:07 INFO 140333397227328] #progress_metric: host=algo-1, completed 40.0 % of epochs\u001b[0m\n",
      "\u001b[34m#metrics {\"StartTime\": 1622118424.7813609, \"EndTime\": 1622118427.294968, \"Dimensions\": {\"Algorithm\": \"factorization-machines\", \"Host\": \"algo-1\", \"Operation\": \"training\", \"epoch\": 9, \"Meta\": \"training_data_iter\"}, \"Metrics\": {\"Total Records Seen\": {\"sum\": 1631152.0, \"count\": 1, \"min\": 1631152, \"max\": 1631152}, \"Total Batches Seen\": {\"sum\": 3191.0, \"count\": 1, \"min\": 3191, \"max\": 3191}, \"Max Records Seen Between Resets\": {\"sum\": 163064.0, \"count\": 1, \"min\": 163064, \"max\": 163064}, \"Max Batches Seen Between Resets\": {\"sum\": 319.0, \"count\": 1, \"min\": 319, \"max\": 319}, \"Reset Count\": {\"sum\": 11.0, \"count\": 1, \"min\": 11, \"max\": 11}, \"Number of Records Since Last Reset\": {\"sum\": 163064.0, \"count\": 1, \"min\": 163064, \"max\": 163064}, \"Number of Batches Since Last Reset\": {\"sum\": 319.0, \"count\": 1, \"min\": 319, \"max\": 319}}}\n",
      "\u001b[0m\n",
      "\u001b[34m[05/27/2021 12:27:07 INFO 140333397227328] #throughput_metric: host=algo-1, train throughput=64868.53649772874 records/second\u001b[0m\n",
      "\u001b[34m[05/27/2021 12:27:07 INFO 140333397227328] #quality_metric: host=algo-1, epoch=10, batch=0 train binary_classification_accuracy <score>=0.72265625\u001b[0m\n",
      "\u001b[34m[05/27/2021 12:27:07 INFO 140333397227328] #quality_metric: host=algo-1, epoch=10, batch=0 train binary_classification_cross_entropy <loss>=0.6489248275756836\u001b[0m\n",
      "\u001b[34m[05/27/2021 12:27:07 INFO 140333397227328] #quality_metric: host=algo-1, epoch=10, batch=0 train binary_f_1.000 <score>=0.7835365853658537\u001b[0m\n",
      "\u001b[34m[2021-05-27 12:27:09.744] [tensorio] [info] epoch_stats={\"data_pipeline\": \"/opt/ml/input/data/train\", \"epoch\": 22, \"duration\": 2446, \"num_examples\": 319, \"num_bytes\": 10436096}\u001b[0m\n",
      "\u001b[34m[05/27/2021 12:27:09 INFO 140333397227328] #quality_metric: host=algo-1, epoch=10, train binary_classification_accuracy <score>=0.7113232268808778\u001b[0m\n",
      "\u001b[34m[05/27/2021 12:27:09 INFO 140333397227328] #quality_metric: host=algo-1, epoch=10, train binary_classification_cross_entropy <loss>=0.6319741021876798\u001b[0m\n",
      "\u001b[34m[05/27/2021 12:27:09 INFO 140333397227328] #quality_metric: host=algo-1, epoch=10, train binary_f_1.000 <score>=0.7000604344921912\u001b[0m\n",
      "\u001b[34m#metrics {\"StartTime\": 1622118427.2947543, \"EndTime\": 1622118429.7452073, \"Dimensions\": {\"Algorithm\": \"factorization-machines\", \"Host\": \"algo-1\", \"Operation\": \"training\"}, \"Metrics\": {\"update.time\": {\"sum\": 2449.8558044433594, \"count\": 1, \"min\": 2449.8558044433594, \"max\": 2449.8558044433594}}}\n",
      "\u001b[0m\n",
      "\u001b[34m[05/27/2021 12:27:09 INFO 140333397227328] #progress_metric: host=algo-1, completed 44.0 % of epochs\u001b[0m\n",
      "\u001b[34m#metrics {\"StartTime\": 1622118427.2953188, \"EndTime\": 1622118429.745454, \"Dimensions\": {\"Algorithm\": \"factorization-machines\", \"Host\": \"algo-1\", \"Operation\": \"training\", \"epoch\": 10, \"Meta\": \"training_data_iter\"}, \"Metrics\": {\"Total Records Seen\": {\"sum\": 1794216.0, \"count\": 1, \"min\": 1794216, \"max\": 1794216}, \"Total Batches Seen\": {\"sum\": 3510.0, \"count\": 1, \"min\": 3510, \"max\": 3510}, \"Max Records Seen Between Resets\": {\"sum\": 163064.0, \"count\": 1, \"min\": 163064, \"max\": 163064}, \"Max Batches Seen Between Resets\": {\"sum\": 319.0, \"count\": 1, \"min\": 319, \"max\": 319}, \"Reset Count\": {\"sum\": 12.0, \"count\": 1, \"min\": 12, \"max\": 12}, \"Number of Records Since Last Reset\": {\"sum\": 163064.0, \"count\": 1, \"min\": 163064, \"max\": 163064}, \"Number of Batches Since Last Reset\": {\"sum\": 319.0, \"count\": 1, \"min\": 319, \"max\": 319}}}\n",
      "\u001b[0m\n",
      "\u001b[34m[05/27/2021 12:27:09 INFO 140333397227328] #throughput_metric: host=algo-1, train throughput=66549.40885083607 records/second\u001b[0m\n",
      "\u001b[34m[05/27/2021 12:27:09 INFO 140333397227328] #quality_metric: host=algo-1, epoch=11, batch=0 train binary_classification_accuracy <score>=0.73046875\u001b[0m\n",
      "\u001b[34m[05/27/2021 12:27:09 INFO 140333397227328] #quality_metric: host=algo-1, epoch=11, batch=0 train binary_classification_cross_entropy <loss>=0.6435718536376953\u001b[0m\n",
      "\u001b[34m[05/27/2021 12:27:09 INFO 140333397227328] #quality_metric: host=algo-1, epoch=11, batch=0 train binary_f_1.000 <score>=0.7909090909090909\u001b[0m\n",
      "\u001b[34m[2021-05-27 12:27:11.786] [tensorio] [info] epoch_stats={\"data_pipeline\": \"/opt/ml/input/data/train\", \"epoch\": 24, \"duration\": 2039, \"num_examples\": 319, \"num_bytes\": 10436096}\u001b[0m\n",
      "\u001b[34m[05/27/2021 12:27:11 INFO 140333397227328] #quality_metric: host=algo-1, epoch=11, train binary_classification_accuracy <score>=0.7174397531347962\u001b[0m\n",
      "\u001b[34m[05/27/2021 12:27:11 INFO 140333397227328] #quality_metric: host=algo-1, epoch=11, train binary_classification_cross_entropy <loss>=0.6281925974221065\u001b[0m\n",
      "\u001b[34m[05/27/2021 12:27:11 INFO 140333397227328] #quality_metric: host=algo-1, epoch=11, train binary_f_1.000 <score>=0.7068128684692011\u001b[0m\n",
      "\u001b[34m#metrics {\"StartTime\": 1622118429.7452955, \"EndTime\": 1622118431.7875168, \"Dimensions\": {\"Algorithm\": \"factorization-machines\", \"Host\": \"algo-1\", \"Operation\": \"training\"}, \"Metrics\": {\"update.time\": {\"sum\": 2041.727066040039, \"count\": 1, \"min\": 2041.727066040039, \"max\": 2041.727066040039}}}\n",
      "\u001b[0m\n",
      "\u001b[34m[05/27/2021 12:27:11 INFO 140333397227328] #progress_metric: host=algo-1, completed 48.0 % of epochs\u001b[0m\n",
      "\u001b[34m#metrics {\"StartTime\": 1622118429.7457557, \"EndTime\": 1622118431.7878218, \"Dimensions\": {\"Algorithm\": \"factorization-machines\", \"Host\": \"algo-1\", \"Operation\": \"training\", \"epoch\": 11, \"Meta\": \"training_data_iter\"}, \"Metrics\": {\"Total Records Seen\": {\"sum\": 1957280.0, \"count\": 1, \"min\": 1957280, \"max\": 1957280}, \"Total Batches Seen\": {\"sum\": 3829.0, \"count\": 1, \"min\": 3829, \"max\": 3829}, \"Max Records Seen Between Resets\": {\"sum\": 163064.0, \"count\": 1, \"min\": 163064, \"max\": 163064}, \"Max Batches Seen Between Resets\": {\"sum\": 319.0, \"count\": 1, \"min\": 319, \"max\": 319}, \"Reset Count\": {\"sum\": 13.0, \"count\": 1, \"min\": 13, \"max\": 13}, \"Number of Records Since Last Reset\": {\"sum\": 163064.0, \"count\": 1, \"min\": 163064, \"max\": 163064}, \"Number of Batches Since Last Reset\": {\"sum\": 319.0, \"count\": 1, \"min\": 319, \"max\": 319}}}\n",
      "\u001b[0m\n",
      "\u001b[34m[05/27/2021 12:27:11 INFO 140333397227328] #throughput_metric: host=algo-1, train throughput=79846.53031200552 records/second\u001b[0m\n",
      "\u001b[34m[05/27/2021 12:27:11 INFO 140333397227328] #quality_metric: host=algo-1, epoch=12, batch=0 train binary_classification_accuracy <score>=0.740234375\u001b[0m\n",
      "\u001b[34m[05/27/2021 12:27:11 INFO 140333397227328] #quality_metric: host=algo-1, epoch=12, batch=0 train binary_classification_cross_entropy <loss>=0.6384344100952148\u001b[0m\n",
      "\u001b[34m[05/27/2021 12:27:11 INFO 140333397227328] #quality_metric: host=algo-1, epoch=12, batch=0 train binary_f_1.000 <score>=0.800599700149925\u001b[0m\n",
      "\u001b[34m[2021-05-27 12:27:13.915] [tensorio] [info] epoch_stats={\"data_pipeline\": \"/opt/ml/input/data/train\", \"epoch\": 26, \"duration\": 2125, \"num_examples\": 319, \"num_bytes\": 10436096}\u001b[0m\n",
      "\u001b[34m[05/27/2021 12:27:13 INFO 140333397227328] #quality_metric: host=algo-1, epoch=12, train binary_classification_accuracy <score>=0.7230542221786834\u001b[0m\n",
      "\u001b[34m[05/27/2021 12:27:13 INFO 140333397227328] #quality_metric: host=algo-1, epoch=12, train binary_classification_cross_entropy <loss>=0.6246166253538341\u001b[0m\n",
      "\u001b[34m[05/27/2021 12:27:13 INFO 140333397227328] #quality_metric: host=algo-1, epoch=12, train binary_f_1.000 <score>=0.7128665105089093\u001b[0m\n",
      "\u001b[34m#metrics {\"StartTime\": 1622118431.7876134, \"EndTime\": 1622118433.9162915, \"Dimensions\": {\"Algorithm\": \"factorization-machines\", \"Host\": \"algo-1\", \"Operation\": \"training\"}, \"Metrics\": {\"update.time\": {\"sum\": 2128.1182765960693, \"count\": 1, \"min\": 2128.1182765960693, \"max\": 2128.1182765960693}}}\n",
      "\u001b[0m\n",
      "\u001b[34m[05/27/2021 12:27:13 INFO 140333397227328] #progress_metric: host=algo-1, completed 52.0 % of epochs\u001b[0m\n",
      "\u001b[34m#metrics {\"StartTime\": 1622118431.78814, \"EndTime\": 1622118433.916524, \"Dimensions\": {\"Algorithm\": \"factorization-machines\", \"Host\": \"algo-1\", \"Operation\": \"training\", \"epoch\": 12, \"Meta\": \"training_data_iter\"}, \"Metrics\": {\"Total Records Seen\": {\"sum\": 2120344.0, \"count\": 1, \"min\": 2120344, \"max\": 2120344}, \"Total Batches Seen\": {\"sum\": 4148.0, \"count\": 1, \"min\": 4148, \"max\": 4148}, \"Max Records Seen Between Resets\": {\"sum\": 163064.0, \"count\": 1, \"min\": 163064, \"max\": 163064}, \"Max Batches Seen Between Resets\": {\"sum\": 319.0, \"count\": 1, \"min\": 319, \"max\": 319}, \"Reset Count\": {\"sum\": 14.0, \"count\": 1, \"min\": 14, \"max\": 14}, \"Number of Records Since Last Reset\": {\"sum\": 163064.0, \"count\": 1, \"min\": 163064, \"max\": 163064}, \"Number of Batches Since Last Reset\": {\"sum\": 319.0, \"count\": 1, \"min\": 319, \"max\": 319}}}\n",
      "\u001b[0m\n",
      "\u001b[34m[05/27/2021 12:27:13 INFO 140333397227328] #throughput_metric: host=algo-1, train throughput=76609.41635371475 records/second\u001b[0m\n",
      "\u001b[34m[05/27/2021 12:27:13 INFO 140333397227328] #quality_metric: host=algo-1, epoch=13, batch=0 train binary_classification_accuracy <score>=0.74609375\u001b[0m\n",
      "\u001b[34m[05/27/2021 12:27:13 INFO 140333397227328] #quality_metric: host=algo-1, epoch=13, batch=0 train binary_classification_cross_entropy <loss>=0.6334893107414246\u001b[0m\n",
      "\u001b[34m[05/27/2021 12:27:13 INFO 140333397227328] #quality_metric: host=algo-1, epoch=13, batch=0 train binary_f_1.000 <score>=0.8065476190476191\u001b[0m\n",
      "\u001b[34m[2021-05-27 12:27:16.000] [tensorio] [info] epoch_stats={\"data_pipeline\": \"/opt/ml/input/data/train\", \"epoch\": 28, \"duration\": 2081, \"num_examples\": 319, \"num_bytes\": 10436096}\u001b[0m\n",
      "\u001b[34m[05/27/2021 12:27:16 INFO 140333397227328] #quality_metric: host=algo-1, epoch=13, train binary_classification_accuracy <score>=0.728001322492163\u001b[0m\n",
      "\u001b[34m[05/27/2021 12:27:16 INFO 140333397227328] #quality_metric: host=algo-1, epoch=13, train binary_classification_cross_entropy <loss>=0.6212174195480945\u001b[0m\n",
      "\u001b[34m[05/27/2021 12:27:16 INFO 140333397227328] #quality_metric: host=algo-1, epoch=13, train binary_f_1.000 <score>=0.7183781625007132\u001b[0m\n",
      "\u001b[34m#metrics {\"StartTime\": 1622118433.9163706, \"EndTime\": 1622118436.0013022, \"Dimensions\": {\"Algorithm\": \"factorization-machines\", \"Host\": \"algo-1\", \"Operation\": \"training\"}, \"Metrics\": {\"update.time\": {\"sum\": 2084.4945907592773, \"count\": 1, \"min\": 2084.4945907592773, \"max\": 2084.4945907592773}}}\n",
      "\u001b[0m\n",
      "\u001b[34m[05/27/2021 12:27:16 INFO 140333397227328] #progress_metric: host=algo-1, completed 56.0 % of epochs\u001b[0m\n",
      "\u001b[34m#metrics {\"StartTime\": 1622118433.9167757, \"EndTime\": 1622118436.0015395, \"Dimensions\": {\"Algorithm\": \"factorization-machines\", \"Host\": \"algo-1\", \"Operation\": \"training\", \"epoch\": 13, \"Meta\": \"training_data_iter\"}, \"Metrics\": {\"Total Records Seen\": {\"sum\": 2283408.0, \"count\": 1, \"min\": 2283408, \"max\": 2283408}, \"Total Batches Seen\": {\"sum\": 4467.0, \"count\": 1, \"min\": 4467, \"max\": 4467}, \"Max Records Seen Between Resets\": {\"sum\": 163064.0, \"count\": 1, \"min\": 163064, \"max\": 163064}, \"Max Batches Seen Between Resets\": {\"sum\": 319.0, \"count\": 1, \"min\": 319, \"max\": 319}, \"Reset Count\": {\"sum\": 15.0, \"count\": 1, \"min\": 15, \"max\": 15}, \"Number of Records Since Last Reset\": {\"sum\": 163064.0, \"count\": 1, \"min\": 163064, \"max\": 163064}, \"Number of Batches Since Last Reset\": {\"sum\": 319.0, \"count\": 1, \"min\": 319, \"max\": 319}}}\n",
      "\u001b[0m\n",
      "\u001b[34m[05/27/2021 12:27:16 INFO 140333397227328] #throughput_metric: host=algo-1, train throughput=78212.28395745884 records/second\u001b[0m\n",
      "\u001b[34m[05/27/2021 12:27:16 INFO 140333397227328] #quality_metric: host=algo-1, epoch=14, batch=0 train binary_classification_accuracy <score>=0.763671875\u001b[0m\n",
      "\u001b[34m[05/27/2021 12:27:16 INFO 140333397227328] #quality_metric: host=algo-1, epoch=14, batch=0 train binary_classification_cross_entropy <loss>=0.6287170648574829\u001b[0m\n",
      "\u001b[34m[05/27/2021 12:27:16 INFO 140333397227328] #quality_metric: host=algo-1, epoch=14, batch=0 train binary_f_1.000 <score>=0.8223201174743024\u001b[0m\n",
      "\u001b[34m[2021-05-27 12:27:18.092] [tensorio] [info] epoch_stats={\"data_pipeline\": \"/opt/ml/input/data/train\", \"epoch\": 30, \"duration\": 2089, \"num_examples\": 319, \"num_bytes\": 10436096}\u001b[0m\n",
      "\u001b[34m[05/27/2021 12:27:18 INFO 140333397227328] #quality_metric: host=algo-1, epoch=14, train binary_classification_accuracy <score>=0.7327769886363636\u001b[0m\n",
      "\u001b[34m[05/27/2021 12:27:18 INFO 140333397227328] #quality_metric: host=algo-1, epoch=14, train binary_classification_cross_entropy <loss>=0.6179712216682195\u001b[0m\n",
      "\u001b[34m[05/27/2021 12:27:18 INFO 140333397227328] #quality_metric: host=algo-1, epoch=14, train binary_f_1.000 <score>=0.7237291032352401\u001b[0m\n",
      "\u001b[34m#metrics {\"StartTime\": 1622118436.0013824, \"EndTime\": 1622118438.093424, \"Dimensions\": {\"Algorithm\": \"factorization-machines\", \"Host\": \"algo-1\", \"Operation\": \"training\"}, \"Metrics\": {\"update.time\": {\"sum\": 2091.597080230713, \"count\": 1, \"min\": 2091.597080230713, \"max\": 2091.597080230713}}}\n",
      "\u001b[0m\n",
      "\u001b[34m[05/27/2021 12:27:18 INFO 140333397227328] #progress_metric: host=algo-1, completed 60.0 % of epochs\u001b[0m\n",
      "\u001b[34m#metrics {\"StartTime\": 1622118436.0017962, \"EndTime\": 1622118438.0936697, \"Dimensions\": {\"Algorithm\": \"factorization-machines\", \"Host\": \"algo-1\", \"Operation\": \"training\", \"epoch\": 14, \"Meta\": \"training_data_iter\"}, \"Metrics\": {\"Total Records Seen\": {\"sum\": 2446472.0, \"count\": 1, \"min\": 2446472, \"max\": 2446472}, \"Total Batches Seen\": {\"sum\": 4786.0, \"count\": 1, \"min\": 4786, \"max\": 4786}, \"Max Records Seen Between Resets\": {\"sum\": 163064.0, \"count\": 1, \"min\": 163064, \"max\": 163064}, \"Max Batches Seen Between Resets\": {\"sum\": 319.0, \"count\": 1, \"min\": 319, \"max\": 319}, \"Reset Count\": {\"sum\": 16.0, \"count\": 1, \"min\": 16, \"max\": 16}, \"Number of Records Since Last Reset\": {\"sum\": 163064.0, \"count\": 1, \"min\": 163064, \"max\": 163064}, \"Number of Batches Since Last Reset\": {\"sum\": 319.0, \"count\": 1, \"min\": 319, \"max\": 319}}}\n",
      "\u001b[0m\n",
      "\u001b[34m[05/27/2021 12:27:18 INFO 140333397227328] #throughput_metric: host=algo-1, train throughput=77946.52461405961 records/second\u001b[0m\n",
      "\u001b[34m[05/27/2021 12:27:18 INFO 140333397227328] #quality_metric: host=algo-1, epoch=15, batch=0 train binary_classification_accuracy <score>=0.763671875\u001b[0m\n",
      "\u001b[34m[05/27/2021 12:27:18 INFO 140333397227328] #quality_metric: host=algo-1, epoch=15, batch=0 train binary_classification_cross_entropy <loss>=0.6241011023521423\u001b[0m\n",
      "\u001b[34m[05/27/2021 12:27:18 INFO 140333397227328] #quality_metric: host=algo-1, epoch=15, batch=0 train binary_f_1.000 <score>=0.8228404099560761\u001b[0m\n",
      "\u001b[34m[2021-05-27 12:27:20.195] [tensorio] [info] epoch_stats={\"data_pipeline\": \"/opt/ml/input/data/train\", \"epoch\": 32, \"duration\": 2099, \"num_examples\": 319, \"num_bytes\": 10436096}\u001b[0m\n",
      "\u001b[34m[05/27/2021 12:27:20 INFO 140333397227328] #quality_metric: host=algo-1, epoch=15, train binary_classification_accuracy <score>=0.7371914184952978\u001b[0m\n",
      "\u001b[34m[05/27/2021 12:27:20 INFO 140333397227328] #quality_metric: host=algo-1, epoch=15, train binary_classification_cross_entropy <loss>=0.6148582782864944\u001b[0m\n",
      "\u001b[34m[05/27/2021 12:27:20 INFO 140333397227328] #quality_metric: host=algo-1, epoch=15, train binary_f_1.000 <score>=0.7285009487666034\u001b[0m\n",
      "\u001b[34m#metrics {\"StartTime\": 1622118438.0935106, \"EndTime\": 1622118440.1963725, \"Dimensions\": {\"Algorithm\": \"factorization-machines\", \"Host\": \"algo-1\", \"Operation\": \"training\"}, \"Metrics\": {\"update.time\": {\"sum\": 2102.328300476074, \"count\": 1, \"min\": 2102.328300476074, \"max\": 2102.328300476074}}}\n",
      "\u001b[0m\n",
      "\u001b[34m[05/27/2021 12:27:20 INFO 140333397227328] #progress_metric: host=algo-1, completed 64.0 % of epochs\u001b[0m\n",
      "\u001b[34m#metrics {\"StartTime\": 1622118438.094009, \"EndTime\": 1622118440.1966858, \"Dimensions\": {\"Algorithm\": \"factorization-machines\", \"Host\": \"algo-1\", \"Operation\": \"training\", \"epoch\": 15, \"Meta\": \"training_data_iter\"}, \"Metrics\": {\"Total Records Seen\": {\"sum\": 2609536.0, \"count\": 1, \"min\": 2609536, \"max\": 2609536}, \"Total Batches Seen\": {\"sum\": 5105.0, \"count\": 1, \"min\": 5105, \"max\": 5105}, \"Max Records Seen Between Resets\": {\"sum\": 163064.0, \"count\": 1, \"min\": 163064, \"max\": 163064}, \"Max Batches Seen Between Resets\": {\"sum\": 319.0, \"count\": 1, \"min\": 319, \"max\": 319}, \"Reset Count\": {\"sum\": 17.0, \"count\": 1, \"min\": 17, \"max\": 17}, \"Number of Records Since Last Reset\": {\"sum\": 163064.0, \"count\": 1, \"min\": 163064, \"max\": 163064}, \"Number of Batches Since Last Reset\": {\"sum\": 319.0, \"count\": 1, \"min\": 319, \"max\": 319}}}\n",
      "\u001b[0m\n",
      "\u001b[34m[05/27/2021 12:27:20 INFO 140333397227328] #throughput_metric: host=algo-1, train throughput=77544.83170002484 records/second\u001b[0m\n",
      "\u001b[34m[05/27/2021 12:27:20 INFO 140333397227328] #quality_metric: host=algo-1, epoch=16, batch=0 train binary_classification_accuracy <score>=0.771484375\u001b[0m\n",
      "\u001b[34m[05/27/2021 12:27:20 INFO 140333397227328] #quality_metric: host=algo-1, epoch=16, batch=0 train binary_classification_cross_entropy <loss>=0.6196275949478149\u001b[0m\n",
      "\u001b[34m[05/27/2021 12:27:20 INFO 140333397227328] #quality_metric: host=algo-1, epoch=16, batch=0 train binary_f_1.000 <score>=0.8296943231441049\u001b[0m\n",
      "\u001b[34m[2021-05-27 12:27:22.238] [tensorio] [info] epoch_stats={\"data_pipeline\": \"/opt/ml/input/data/train\", \"epoch\": 34, \"duration\": 2039, \"num_examples\": 319, \"num_bytes\": 10436096}\u001b[0m\n",
      "\u001b[34m[05/27/2021 12:27:22 INFO 140333397227328] #quality_metric: host=algo-1, epoch=16, train binary_classification_accuracy <score>=0.7412813479623824\u001b[0m\n",
      "\u001b[34m[05/27/2021 12:27:22 INFO 140333397227328] #quality_metric: host=algo-1, epoch=16, train binary_classification_cross_entropy <loss>=0.6118620579892938\u001b[0m\n",
      "\u001b[34m[05/27/2021 12:27:22 INFO 140333397227328] #quality_metric: host=algo-1, epoch=16, train binary_f_1.000 <score>=0.7328308949052238\u001b[0m\n",
      "\u001b[34m#metrics {\"StartTime\": 1622118440.1964686, \"EndTime\": 1622118442.2388856, \"Dimensions\": {\"Algorithm\": \"factorization-machines\", \"Host\": \"algo-1\", \"Operation\": \"training\"}, \"Metrics\": {\"update.time\": {\"sum\": 2041.8319702148438, \"count\": 1, \"min\": 2041.8319702148438, \"max\": 2041.8319702148438}}}\n",
      "\u001b[0m\n",
      "\u001b[34m[05/27/2021 12:27:22 INFO 140333397227328] #progress_metric: host=algo-1, completed 68.0 % of epochs\u001b[0m\n",
      "\u001b[34m#metrics {\"StartTime\": 1622118440.1970198, \"EndTime\": 1622118442.2391992, \"Dimensions\": {\"Algorithm\": \"factorization-machines\", \"Host\": \"algo-1\", \"Operation\": \"training\", \"epoch\": 16, \"Meta\": \"training_data_iter\"}, \"Metrics\": {\"Total Records Seen\": {\"sum\": 2772600.0, \"count\": 1, \"min\": 2772600, \"max\": 2772600}, \"Total Batches Seen\": {\"sum\": 5424.0, \"count\": 1, \"min\": 5424, \"max\": 5424}, \"Max Records Seen Between Resets\": {\"sum\": 163064.0, \"count\": 1, \"min\": 163064, \"max\": 163064}, \"Max Batches Seen Between Resets\": {\"sum\": 319.0, \"count\": 1, \"min\": 319, \"max\": 319}, \"Reset Count\": {\"sum\": 18.0, \"count\": 1, \"min\": 18, \"max\": 18}, \"Number of Records Since Last Reset\": {\"sum\": 163064.0, \"count\": 1, \"min\": 163064, \"max\": 163064}, \"Number of Batches Since Last Reset\": {\"sum\": 319.0, \"count\": 1, \"min\": 319, \"max\": 319}}}\n",
      "\u001b[0m\n",
      "\u001b[34m[05/27/2021 12:27:22 INFO 140333397227328] #throughput_metric: host=algo-1, train throughput=79841.82314208178 records/second\u001b[0m\n",
      "\u001b[34m[05/27/2021 12:27:22 INFO 140333397227328] #quality_metric: host=algo-1, epoch=17, batch=0 train binary_classification_accuracy <score>=0.78125\u001b[0m\n",
      "\u001b[34m[05/27/2021 12:27:22 INFO 140333397227328] #quality_metric: host=algo-1, epoch=17, batch=0 train binary_classification_cross_entropy <loss>=0.6152846813201904\u001b[0m\n",
      "\u001b[34m[05/27/2021 12:27:22 INFO 140333397227328] #quality_metric: host=algo-1, epoch=17, batch=0 train binary_f_1.000 <score>=0.8376811594202899\u001b[0m\n",
      "\u001b[34m[2021-05-27 12:27:24.328] [tensorio] [info] epoch_stats={\"data_pipeline\": \"/opt/ml/input/data/train\", \"epoch\": 36, \"duration\": 2086, \"num_examples\": 319, \"num_bytes\": 10436096}\u001b[0m\n",
      "\u001b[34m[05/27/2021 12:27:24 INFO 140333397227328] #quality_metric: host=algo-1, epoch=17, train binary_classification_accuracy <score>=0.7450284090909091\u001b[0m\n",
      "\u001b[34m[05/27/2021 12:27:24 INFO 140333397227328] #quality_metric: host=algo-1, epoch=17, train binary_classification_cross_entropy <loss>=0.6089686415038512\u001b[0m\n",
      "\u001b[34m[05/27/2021 12:27:24 INFO 140333397227328] #quality_metric: host=algo-1, epoch=17, train binary_f_1.000 <score>=0.7369365271881949\u001b[0m\n",
      "\u001b[34m#metrics {\"StartTime\": 1622118442.2389834, \"EndTime\": 1622118444.3292978, \"Dimensions\": {\"Algorithm\": \"factorization-machines\", \"Host\": \"algo-1\", \"Operation\": \"training\"}, \"Metrics\": {\"update.time\": {\"sum\": 2089.740991592407, \"count\": 1, \"min\": 2089.740991592407, \"max\": 2089.740991592407}}}\n",
      "\u001b[0m\n",
      "\u001b[34m[05/27/2021 12:27:24 INFO 140333397227328] #progress_metric: host=algo-1, completed 72.0 % of epochs\u001b[0m\n",
      "\u001b[34m#metrics {\"StartTime\": 1622118442.2395175, \"EndTime\": 1622118444.3296015, \"Dimensions\": {\"Algorithm\": \"factorization-machines\", \"Host\": \"algo-1\", \"Operation\": \"training\", \"epoch\": 17, \"Meta\": \"training_data_iter\"}, \"Metrics\": {\"Total Records Seen\": {\"sum\": 2935664.0, \"count\": 1, \"min\": 2935664, \"max\": 2935664}, \"Total Batches Seen\": {\"sum\": 5743.0, \"count\": 1, \"min\": 5743, \"max\": 5743}, \"Max Records Seen Between Resets\": {\"sum\": 163064.0, \"count\": 1, \"min\": 163064, \"max\": 163064}, \"Max Batches Seen Between Resets\": {\"sum\": 319.0, \"count\": 1, \"min\": 319, \"max\": 319}, \"Reset Count\": {\"sum\": 19.0, \"count\": 1, \"min\": 19, \"max\": 19}, \"Number of Records Since Last Reset\": {\"sum\": 163064.0, \"count\": 1, \"min\": 163064, \"max\": 163064}, \"Number of Batches Since Last Reset\": {\"sum\": 319.0, \"count\": 1, \"min\": 319, \"max\": 319}}}\n",
      "\u001b[0m\n",
      "\u001b[34m[05/27/2021 12:27:24 INFO 140333397227328] #throughput_metric: host=algo-1, train throughput=78012.24551330345 records/second\u001b[0m\n",
      "\u001b[34m[05/27/2021 12:27:24 INFO 140333397227328] #quality_metric: host=algo-1, epoch=18, batch=0 train binary_classification_accuracy <score>=0.783203125\u001b[0m\n",
      "\u001b[34m[05/27/2021 12:27:24 INFO 140333397227328] #quality_metric: host=algo-1, epoch=18, batch=0 train binary_classification_cross_entropy <loss>=0.6110621690750122\u001b[0m\n",
      "\u001b[34m[05/27/2021 12:27:24 INFO 140333397227328] #quality_metric: host=algo-1, epoch=18, batch=0 train binary_f_1.000 <score>=0.8393632416787264\u001b[0m\n",
      "\u001b[34m[2021-05-27 12:27:26.373] [tensorio] [info] epoch_stats={\"data_pipeline\": \"/opt/ml/input/data/train\", \"epoch\": 38, \"duration\": 2041, \"num_examples\": 319, \"num_bytes\": 10436096}\u001b[0m\n",
      "\u001b[34m[05/27/2021 12:27:26 INFO 140333397227328] #quality_metric: host=algo-1, epoch=18, train binary_classification_accuracy <score>=0.7487571022727273\u001b[0m\n",
      "\u001b[34m[05/27/2021 12:27:26 INFO 140333397227328] #quality_metric: host=algo-1, epoch=18, train binary_classification_cross_entropy <loss>=0.6061662469164331\u001b[0m\n",
      "\u001b[34m[05/27/2021 12:27:26 INFO 140333397227328] #quality_metric: host=algo-1, epoch=18, train binary_f_1.000 <score>=0.7408408541168\u001b[0m\n",
      "\u001b[34m#metrics {\"StartTime\": 1622118444.3293998, \"EndTime\": 1622118446.373894, \"Dimensions\": {\"Algorithm\": \"factorization-machines\", \"Host\": \"algo-1\", \"Operation\": \"training\"}, \"Metrics\": {\"update.time\": {\"sum\": 2043.9558029174805, \"count\": 1, \"min\": 2043.9558029174805, \"max\": 2043.9558029174805}}}\n",
      "\u001b[0m\n",
      "\u001b[34m[05/27/2021 12:27:26 INFO 140333397227328] #progress_metric: host=algo-1, completed 76.0 % of epochs\u001b[0m\n",
      "\u001b[34m#metrics {\"StartTime\": 1622118444.329909, \"EndTime\": 1622118446.3741424, \"Dimensions\": {\"Algorithm\": \"factorization-machines\", \"Host\": \"algo-1\", \"Operation\": \"training\", \"epoch\": 18, \"Meta\": \"training_data_iter\"}, \"Metrics\": {\"Total Records Seen\": {\"sum\": 3098728.0, \"count\": 1, \"min\": 3098728, \"max\": 3098728}, \"Total Batches Seen\": {\"sum\": 6062.0, \"count\": 1, \"min\": 6062, \"max\": 6062}, \"Max Records Seen Between Resets\": {\"sum\": 163064.0, \"count\": 1, \"min\": 163064, \"max\": 163064}, \"Max Batches Seen Between Resets\": {\"sum\": 319.0, \"count\": 1, \"min\": 319, \"max\": 319}, \"Reset Count\": {\"sum\": 20.0, \"count\": 1, \"min\": 20, \"max\": 20}, \"Number of Records Since Last Reset\": {\"sum\": 163064.0, \"count\": 1, \"min\": 163064, \"max\": 163064}, \"Number of Batches Since Last Reset\": {\"sum\": 319.0, \"count\": 1, \"min\": 319, \"max\": 319}}}\n",
      "\u001b[0m\n",
      "\u001b[34m[05/27/2021 12:27:26 INFO 140333397227328] #throughput_metric: host=algo-1, train throughput=79761.99770675797 records/second\u001b[0m\n",
      "\u001b[34m[05/27/2021 12:27:26 INFO 140333397227328] #quality_metric: host=algo-1, epoch=19, batch=0 train binary_classification_accuracy <score>=0.791015625\u001b[0m\n",
      "\u001b[34m[05/27/2021 12:27:26 INFO 140333397227328] #quality_metric: host=algo-1, epoch=19, batch=0 train binary_classification_cross_entropy <loss>=0.606951117515564\u001b[0m\n",
      "\u001b[34m[05/27/2021 12:27:26 INFO 140333397227328] #quality_metric: host=algo-1, epoch=19, batch=0 train binary_f_1.000 <score>=0.8455988455988456\u001b[0m\n",
      "\u001b[34m[2021-05-27 12:27:28.376] [tensorio] [info] epoch_stats={\"data_pipeline\": \"/opt/ml/input/data/train\", \"epoch\": 40, \"duration\": 2000, \"num_examples\": 319, \"num_bytes\": 10436096}\u001b[0m\n",
      "\u001b[34m[05/27/2021 12:27:28 INFO 140333397227328] #quality_metric: host=algo-1, epoch=19, train binary_classification_accuracy <score>=0.7524184463166145\u001b[0m\n",
      "\u001b[34m[05/27/2021 12:27:28 INFO 140333397227328] #quality_metric: host=algo-1, epoch=19, train binary_classification_cross_entropy <loss>=0.603444823277034\u001b[0m\n",
      "\u001b[34m[05/27/2021 12:27:28 INFO 140333397227328] #quality_metric: host=algo-1, epoch=19, train binary_f_1.000 <score>=0.744743304064589\u001b[0m\n",
      "\u001b[34m#metrics {\"StartTime\": 1622118446.3739784, \"EndTime\": 1622118448.377222, \"Dimensions\": {\"Algorithm\": \"factorization-machines\", \"Host\": \"algo-1\", \"Operation\": \"training\"}, \"Metrics\": {\"update.time\": {\"sum\": 2002.758502960205, \"count\": 1, \"min\": 2002.758502960205, \"max\": 2002.758502960205}}}\n",
      "\u001b[0m\n",
      "\u001b[34m[05/27/2021 12:27:28 INFO 140333397227328] #progress_metric: host=algo-1, completed 80.0 % of epochs\u001b[0m\n",
      "\u001b[34m#metrics {\"StartTime\": 1622118446.3744323, \"EndTime\": 1622118448.377508, \"Dimensions\": {\"Algorithm\": \"factorization-machines\", \"Host\": \"algo-1\", \"Operation\": \"training\", \"epoch\": 19, \"Meta\": \"training_data_iter\"}, \"Metrics\": {\"Total Records Seen\": {\"sum\": 3261792.0, \"count\": 1, \"min\": 3261792, \"max\": 3261792}, \"Total Batches Seen\": {\"sum\": 6381.0, \"count\": 1, \"min\": 6381, \"max\": 6381}, \"Max Records Seen Between Resets\": {\"sum\": 163064.0, \"count\": 1, \"min\": 163064, \"max\": 163064}, \"Max Batches Seen Between Resets\": {\"sum\": 319.0, \"count\": 1, \"min\": 319, \"max\": 319}, \"Reset Count\": {\"sum\": 21.0, \"count\": 1, \"min\": 21, \"max\": 21}, \"Number of Records Since Last Reset\": {\"sum\": 163064.0, \"count\": 1, \"min\": 163064, \"max\": 163064}, \"Number of Batches Since Last Reset\": {\"sum\": 319.0, \"count\": 1, \"min\": 319, \"max\": 319}}}\n",
      "\u001b[0m\n",
      "\u001b[34m[05/27/2021 12:27:28 INFO 140333397227328] #throughput_metric: host=algo-1, train throughput=81401.50309114817 records/second\u001b[0m\n",
      "\u001b[34m[05/27/2021 12:27:28 INFO 140333397227328] #quality_metric: host=algo-1, epoch=20, batch=0 train binary_classification_accuracy <score>=0.798828125\u001b[0m\n",
      "\u001b[34m[05/27/2021 12:27:28 INFO 140333397227328] #quality_metric: host=algo-1, epoch=20, batch=0 train binary_classification_cross_entropy <loss>=0.6029435992240906\u001b[0m\n",
      "\u001b[34m[05/27/2021 12:27:28 INFO 140333397227328] #quality_metric: host=algo-1, epoch=20, batch=0 train binary_f_1.000 <score>=0.8522238163558106\u001b[0m\n",
      "\u001b[34m[2021-05-27 12:27:30.658] [tensorio] [info] epoch_stats={\"data_pipeline\": \"/opt/ml/input/data/train\", \"epoch\": 42, \"duration\": 2278, \"num_examples\": 319, \"num_bytes\": 10436096}\u001b[0m\n",
      "\u001b[34m[05/27/2021 12:27:30 INFO 140333397227328] #quality_metric: host=algo-1, epoch=20, train binary_classification_accuracy <score>=0.7554369122257053\u001b[0m\n",
      "\u001b[34m[05/27/2021 12:27:30 INFO 140333397227328] #quality_metric: host=algo-1, epoch=20, train binary_classification_cross_entropy <loss>=0.6007957749979623\u001b[0m\n",
      "\u001b[34m[05/27/2021 12:27:30 INFO 140333397227328] #quality_metric: host=algo-1, epoch=20, train binary_f_1.000 <score>=0.7479746611816369\u001b[0m\n",
      "\u001b[34m#metrics {\"StartTime\": 1622118448.3773415, \"EndTime\": 1622118450.658903, \"Dimensions\": {\"Algorithm\": \"factorization-machines\", \"Host\": \"algo-1\", \"Operation\": \"training\"}, \"Metrics\": {\"update.time\": {\"sum\": 2281.097650527954, \"count\": 1, \"min\": 2281.097650527954, \"max\": 2281.097650527954}}}\n",
      "\u001b[0m\n",
      "\u001b[34m[05/27/2021 12:27:30 INFO 140333397227328] #progress_metric: host=algo-1, completed 84.0 % of epochs\u001b[0m\n",
      "\u001b[34m#metrics {\"StartTime\": 1622118448.37777, \"EndTime\": 1622118450.6591964, \"Dimensions\": {\"Algorithm\": \"factorization-machines\", \"Host\": \"algo-1\", \"Operation\": \"training\", \"epoch\": 20, \"Meta\": \"training_data_iter\"}, \"Metrics\": {\"Total Records Seen\": {\"sum\": 3424856.0, \"count\": 1, \"min\": 3424856, \"max\": 3424856}, \"Total Batches Seen\": {\"sum\": 6700.0, \"count\": 1, \"min\": 6700, \"max\": 6700}, \"Max Records Seen Between Resets\": {\"sum\": 163064.0, \"count\": 1, \"min\": 163064, \"max\": 163064}, \"Max Batches Seen Between Resets\": {\"sum\": 319.0, \"count\": 1, \"min\": 319, \"max\": 319}, \"Reset Count\": {\"sum\": 22.0, \"count\": 1, \"min\": 22, \"max\": 22}, \"Number of Records Since Last Reset\": {\"sum\": 163064.0, \"count\": 1, \"min\": 163064, \"max\": 163064}, \"Number of Batches Since Last Reset\": {\"sum\": 319.0, \"count\": 1, \"min\": 319, \"max\": 319}}}\n",
      "\u001b[0m\n",
      "\u001b[34m[05/27/2021 12:27:30 INFO 140333397227328] #throughput_metric: host=algo-1, train throughput=71469.56273258383 records/second\u001b[0m\n",
      "\u001b[34m[05/27/2021 12:27:30 INFO 140333397227328] #quality_metric: host=algo-1, epoch=21, batch=0 train binary_classification_accuracy <score>=0.796875\u001b[0m\n",
      "\u001b[34m[05/27/2021 12:27:30 INFO 140333397227328] #quality_metric: host=algo-1, epoch=21, batch=0 train binary_classification_cross_entropy <loss>=0.5990326404571533\u001b[0m\n",
      "\u001b[34m[05/27/2021 12:27:30 INFO 140333397227328] #quality_metric: host=algo-1, epoch=21, batch=0 train binary_f_1.000 <score>=0.8514285714285714\u001b[0m\n",
      "\u001b[34m[2021-05-27 12:27:32.701] [tensorio] [info] epoch_stats={\"data_pipeline\": \"/opt/ml/input/data/train\", \"epoch\": 44, \"duration\": 2040, \"num_examples\": 319, \"num_bytes\": 10436096}\u001b[0m\n",
      "\u001b[34m[05/27/2021 12:27:32 INFO 140333397227328] #quality_metric: host=algo-1, epoch=21, train binary_classification_accuracy <score>=0.7583512931034483\u001b[0m\n",
      "\u001b[34m[05/27/2021 12:27:32 INFO 140333397227328] #quality_metric: host=algo-1, epoch=21, train binary_classification_cross_entropy <loss>=0.598211706618904\u001b[0m\n",
      "\u001b[34m[05/27/2021 12:27:32 INFO 140333397227328] #quality_metric: host=algo-1, epoch=21, train binary_f_1.000 <score>=0.7510407993338885\u001b[0m\n",
      "\u001b[34m#metrics {\"StartTime\": 1622118450.6589973, \"EndTime\": 1622118452.7024045, \"Dimensions\": {\"Algorithm\": \"factorization-machines\", \"Host\": \"algo-1\", \"Operation\": \"training\"}, \"Metrics\": {\"update.time\": {\"sum\": 2042.8416728973389, \"count\": 1, \"min\": 2042.8416728973389, \"max\": 2042.8416728973389}}}\n",
      "\u001b[0m\n",
      "\u001b[34m[05/27/2021 12:27:32 INFO 140333397227328] #progress_metric: host=algo-1, completed 88.0 % of epochs\u001b[0m\n",
      "\u001b[34m#metrics {\"StartTime\": 1622118450.6595166, \"EndTime\": 1622118452.702655, \"Dimensions\": {\"Algorithm\": \"factorization-machines\", \"Host\": \"algo-1\", \"Operation\": \"training\", \"epoch\": 21, \"Meta\": \"training_data_iter\"}, \"Metrics\": {\"Total Records Seen\": {\"sum\": 3587920.0, \"count\": 1, \"min\": 3587920, \"max\": 3587920}, \"Total Batches Seen\": {\"sum\": 7019.0, \"count\": 1, \"min\": 7019, \"max\": 7019}, \"Max Records Seen Between Resets\": {\"sum\": 163064.0, \"count\": 1, \"min\": 163064, \"max\": 163064}, \"Max Batches Seen Between Resets\": {\"sum\": 319.0, \"count\": 1, \"min\": 319, \"max\": 319}, \"Reset Count\": {\"sum\": 23.0, \"count\": 1, \"min\": 23, \"max\": 23}, \"Number of Records Since Last Reset\": {\"sum\": 163064.0, \"count\": 1, \"min\": 163064, \"max\": 163064}, \"Number of Batches Since Last Reset\": {\"sum\": 319.0, \"count\": 1, \"min\": 319, \"max\": 319}}}\n",
      "\u001b[0m\n",
      "\u001b[34m[05/27/2021 12:27:32 INFO 140333397227328] #throughput_metric: host=algo-1, train throughput=79805.7315410007 records/second\u001b[0m\n",
      "\u001b[34m[05/27/2021 12:27:32 INFO 140333397227328] #quality_metric: host=algo-1, epoch=22, batch=0 train binary_classification_accuracy <score>=0.80078125\u001b[0m\n",
      "\u001b[34m[05/27/2021 12:27:32 INFO 140333397227328] #quality_metric: host=algo-1, epoch=22, batch=0 train binary_classification_cross_entropy <loss>=0.595211923122406\u001b[0m\n",
      "\u001b[34m[05/27/2021 12:27:32 INFO 140333397227328] #quality_metric: host=algo-1, epoch=22, batch=0 train binary_f_1.000 <score>=0.8547008547008547\u001b[0m\n",
      "\u001b[34m[2021-05-27 12:27:34.838] [tensorio] [info] epoch_stats={\"data_pipeline\": \"/opt/ml/input/data/train\", \"epoch\": 46, \"duration\": 2133, \"num_examples\": 319, \"num_bytes\": 10436096}\u001b[0m\n",
      "\u001b[34m[05/27/2021 12:27:34 INFO 140333397227328] #quality_metric: host=algo-1, epoch=22, train binary_classification_accuracy <score>=0.7617065047021944\u001b[0m\n",
      "\u001b[34m[05/27/2021 12:27:34 INFO 140333397227328] #quality_metric: host=algo-1, epoch=22, train binary_classification_cross_entropy <loss>=0.5956862251212978\u001b[0m\n",
      "\u001b[34m[05/27/2021 12:27:34 INFO 140333397227328] #quality_metric: host=algo-1, epoch=22, train binary_f_1.000 <score>=0.7545501557710985\u001b[0m\n",
      "\u001b[34m#metrics {\"StartTime\": 1622118452.7024934, \"EndTime\": 1622118454.839339, \"Dimensions\": {\"Algorithm\": \"factorization-machines\", \"Host\": \"algo-1\", \"Operation\": \"training\"}, \"Metrics\": {\"update.time\": {\"sum\": 2136.3954544067383, \"count\": 1, \"min\": 2136.3954544067383, \"max\": 2136.3954544067383}}}\n",
      "\u001b[0m\n",
      "\u001b[34m[05/27/2021 12:27:34 INFO 140333397227328] #progress_metric: host=algo-1, completed 92.0 % of epochs\u001b[0m\n",
      "\u001b[34m#metrics {\"StartTime\": 1622118452.7029119, \"EndTime\": 1622118454.8395863, \"Dimensions\": {\"Algorithm\": \"factorization-machines\", \"Host\": \"algo-1\", \"Operation\": \"training\", \"epoch\": 22, \"Meta\": \"training_data_iter\"}, \"Metrics\": {\"Total Records Seen\": {\"sum\": 3750984.0, \"count\": 1, \"min\": 3750984, \"max\": 3750984}, \"Total Batches Seen\": {\"sum\": 7338.0, \"count\": 1, \"min\": 7338, \"max\": 7338}, \"Max Records Seen Between Resets\": {\"sum\": 163064.0, \"count\": 1, \"min\": 163064, \"max\": 163064}, \"Max Batches Seen Between Resets\": {\"sum\": 319.0, \"count\": 1, \"min\": 319, \"max\": 319}, \"Reset Count\": {\"sum\": 24.0, \"count\": 1, \"min\": 24, \"max\": 24}, \"Number of Records Since Last Reset\": {\"sum\": 163064.0, \"count\": 1, \"min\": 163064, \"max\": 163064}, \"Number of Batches Since Last Reset\": {\"sum\": 319.0, \"count\": 1, \"min\": 319, \"max\": 319}}}\n",
      "\u001b[0m\n",
      "\u001b[34m[05/27/2021 12:27:34 INFO 140333397227328] #throughput_metric: host=algo-1, train throughput=76312.01089706169 records/second\u001b[0m\n",
      "\u001b[34m[05/27/2021 12:27:34 INFO 140333397227328] #quality_metric: host=algo-1, epoch=23, batch=0 train binary_classification_accuracy <score>=0.802734375\u001b[0m\n",
      "\u001b[34m[05/27/2021 12:27:34 INFO 140333397227328] #quality_metric: host=algo-1, epoch=23, batch=0 train binary_classification_cross_entropy <loss>=0.5914758443832397\u001b[0m\n",
      "\u001b[34m[05/27/2021 12:27:34 INFO 140333397227328] #quality_metric: host=algo-1, epoch=23, batch=0 train binary_f_1.000 <score>=0.8559201141226819\u001b[0m\n",
      "\u001b[34m[2021-05-27 12:27:36.919] [tensorio] [info] epoch_stats={\"data_pipeline\": \"/opt/ml/input/data/train\", \"epoch\": 48, \"duration\": 2078, \"num_examples\": 319, \"num_bytes\": 10436096}\u001b[0m\n",
      "\u001b[34m[05/27/2021 12:27:36 INFO 140333397227328] #quality_metric: host=algo-1, epoch=23, train binary_classification_accuracy <score>=0.7647188479623824\u001b[0m\n",
      "\u001b[34m[05/27/2021 12:27:36 INFO 140333397227328] #quality_metric: host=algo-1, epoch=23, train binary_classification_cross_entropy <loss>=0.5932137775570622\u001b[0m\n",
      "\u001b[34m[05/27/2021 12:27:36 INFO 140333397227328] #quality_metric: host=algo-1, epoch=23, train binary_f_1.000 <score>=0.7577324137235371\u001b[0m\n",
      "\u001b[34m#metrics {\"StartTime\": 1622118454.839425, \"EndTime\": 1622118456.9206665, \"Dimensions\": {\"Algorithm\": \"factorization-machines\", \"Host\": \"algo-1\", \"Operation\": \"training\"}, \"Metrics\": {\"update.time\": {\"sum\": 2080.782890319824, \"count\": 1, \"min\": 2080.782890319824, \"max\": 2080.782890319824}}}\n",
      "\u001b[0m\n",
      "\u001b[34m[05/27/2021 12:27:36 INFO 140333397227328] #progress_metric: host=algo-1, completed 96.0 % of epochs\u001b[0m\n",
      "\u001b[34m#metrics {\"StartTime\": 1622118454.8398483, \"EndTime\": 1622118456.9209735, \"Dimensions\": {\"Algorithm\": \"factorization-machines\", \"Host\": \"algo-1\", \"Operation\": \"training\", \"epoch\": 23, \"Meta\": \"training_data_iter\"}, \"Metrics\": {\"Total Records Seen\": {\"sum\": 3914048.0, \"count\": 1, \"min\": 3914048, \"max\": 3914048}, \"Total Batches Seen\": {\"sum\": 7657.0, \"count\": 1, \"min\": 7657, \"max\": 7657}, \"Max Records Seen Between Resets\": {\"sum\": 163064.0, \"count\": 1, \"min\": 163064, \"max\": 163064}, \"Max Batches Seen Between Resets\": {\"sum\": 319.0, \"count\": 1, \"min\": 319, \"max\": 319}, \"Reset Count\": {\"sum\": 25.0, \"count\": 1, \"min\": 25, \"max\": 25}, \"Number of Records Since Last Reset\": {\"sum\": 163064.0, \"count\": 1, \"min\": 163064, \"max\": 163064}, \"Number of Batches Since Last Reset\": {\"sum\": 319.0, \"count\": 1, \"min\": 319, \"max\": 319}}}\n",
      "\u001b[0m\n",
      "\u001b[34m[05/27/2021 12:27:36 INFO 140333397227328] #throughput_metric: host=algo-1, train throughput=78347.51816538916 records/second\u001b[0m\n",
      "\u001b[34m[05/27/2021 12:27:36 INFO 140333397227328] #quality_metric: host=algo-1, epoch=24, batch=0 train binary_classification_accuracy <score>=0.8046875\u001b[0m\n",
      "\u001b[34m[05/27/2021 12:27:36 INFO 140333397227328] #quality_metric: host=algo-1, epoch=24, batch=0 train binary_classification_cross_entropy <loss>=0.5878197550773621\u001b[0m\n",
      "\u001b[34m[05/27/2021 12:27:36 INFO 140333397227328] #quality_metric: host=algo-1, epoch=24, batch=0 train binary_f_1.000 <score>=0.8583569405099151\u001b[0m\n",
      "\u001b[34m[2021-05-27 12:27:39.006] [tensorio] [info] epoch_stats={\"data_pipeline\": \"/opt/ml/input/data/train\", \"epoch\": 50, \"duration\": 2082, \"num_examples\": 319, \"num_bytes\": 10436096}\u001b[0m\n",
      "\u001b[34m[05/27/2021 12:27:39 INFO 140333397227328] #quality_metric: host=algo-1, epoch=24, train binary_classification_accuracy <score>=0.7673944455329154\u001b[0m\n",
      "\u001b[34m[05/27/2021 12:27:39 INFO 140333397227328] #quality_metric: host=algo-1, epoch=24, train binary_classification_cross_entropy <loss>=0.5907895323998502\u001b[0m\n",
      "\u001b[34m[05/27/2021 12:27:39 INFO 140333397227328] #quality_metric: host=algo-1, epoch=24, train binary_f_1.000 <score>=0.7606006566137132\u001b[0m\n",
      "\u001b[34m[05/27/2021 12:27:39 INFO 140333397227328] #quality_metric: host=algo-1, train binary_classification_accuracy <score>=0.7673944455329154\u001b[0m\n",
      "\u001b[34m[05/27/2021 12:27:39 INFO 140333397227328] #quality_metric: host=algo-1, train binary_classification_cross_entropy <loss>=0.5907895323998502\u001b[0m\n",
      "\u001b[34m[05/27/2021 12:27:39 INFO 140333397227328] #quality_metric: host=algo-1, train binary_f_1.000 <score>=0.7606006566137132\u001b[0m\n",
      "\u001b[34m#metrics {\"StartTime\": 1622118456.920769, \"EndTime\": 1622118459.0071003, \"Dimensions\": {\"Algorithm\": \"factorization-machines\", \"Host\": \"algo-1\", \"Operation\": \"training\"}, \"Metrics\": {\"update.time\": {\"sum\": 2085.7436656951904, \"count\": 1, \"min\": 2085.7436656951904, \"max\": 2085.7436656951904}}}\n",
      "\u001b[0m\n",
      "\u001b[34m[05/27/2021 12:27:39 INFO 140333397227328] #progress_metric: host=algo-1, completed 100.0 % of epochs\u001b[0m\n",
      "\u001b[34m#metrics {\"StartTime\": 1622118456.921321, \"EndTime\": 1622118459.0073895, \"Dimensions\": {\"Algorithm\": \"factorization-machines\", \"Host\": \"algo-1\", \"Operation\": \"training\", \"epoch\": 24, \"Meta\": \"training_data_iter\"}, \"Metrics\": {\"Total Records Seen\": {\"sum\": 4077112.0, \"count\": 1, \"min\": 4077112, \"max\": 4077112}, \"Total Batches Seen\": {\"sum\": 7976.0, \"count\": 1, \"min\": 7976, \"max\": 7976}, \"Max Records Seen Between Resets\": {\"sum\": 163064.0, \"count\": 1, \"min\": 163064, \"max\": 163064}, \"Max Batches Seen Between Resets\": {\"sum\": 319.0, \"count\": 1, \"min\": 319, \"max\": 319}, \"Reset Count\": {\"sum\": 26.0, \"count\": 1, \"min\": 26, \"max\": 26}, \"Number of Records Since Last Reset\": {\"sum\": 163064.0, \"count\": 1, \"min\": 163064, \"max\": 163064}, \"Number of Batches Since Last Reset\": {\"sum\": 319.0, \"count\": 1, \"min\": 319, \"max\": 319}}}\n",
      "\u001b[0m\n",
      "\u001b[34m[05/27/2021 12:27:39 INFO 140333397227328] #throughput_metric: host=algo-1, train throughput=78162.24745961835 records/second\u001b[0m\n",
      "\u001b[34m[05/27/2021 12:27:39 WARNING 140333397227328] wait_for_all_workers will not sync workers since the kv store is not running distributed\u001b[0m\n",
      "\u001b[34m[05/27/2021 12:27:39 INFO 140333397227328] Pulling entire model from kvstore to finalize\u001b[0m\n",
      "\u001b[34m#metrics {\"StartTime\": 1622118459.007187, \"EndTime\": 1622118459.0129187, \"Dimensions\": {\"Algorithm\": \"factorization-machines\", \"Host\": \"algo-1\", \"Operation\": \"training\"}, \"Metrics\": {\"finalize.time\": {\"sum\": 5.121707916259766, \"count\": 1, \"min\": 5.121707916259766, \"max\": 5.121707916259766}}}\n",
      "\u001b[0m\n",
      "\u001b[34m[05/27/2021 12:27:39 INFO 140333397227328] Saved checkpoint to \"/tmp/tmpexyh65bd/state-0001.params\"\u001b[0m\n",
      "\u001b[34m[2021-05-27 12:27:39.066] [tensorio] [info] epoch_stats={\"data_pipeline\": \"/opt/ml/input/data/test\", \"epoch\": 0, \"duration\": 54262, \"num_examples\": 1, \"num_bytes\": 32768}\u001b[0m\n",
      "\u001b[34m[2021-05-27 12:27:39.281] [tensorio] [info] epoch_stats={\"data_pipeline\": \"/opt/ml/input/data/test\", \"epoch\": 1, \"duration\": 214, \"num_examples\": 21, \"num_bytes\": 667904}\u001b[0m\n",
      "\u001b[34m#metrics {\"StartTime\": 1622118459.0661864, \"EndTime\": 1622118459.28115, \"Dimensions\": {\"Algorithm\": \"factorization-machines\", \"Host\": \"algo-1\", \"Operation\": \"training\", \"Meta\": \"test_data_iter\"}, \"Metrics\": {\"Total Records Seen\": {\"sum\": 10436.0, \"count\": 1, \"min\": 10436, \"max\": 10436}, \"Total Batches Seen\": {\"sum\": 21.0, \"count\": 1, \"min\": 21, \"max\": 21}, \"Max Records Seen Between Resets\": {\"sum\": 10436.0, \"count\": 1, \"min\": 10436, \"max\": 10436}, \"Max Batches Seen Between Resets\": {\"sum\": 21.0, \"count\": 1, \"min\": 21, \"max\": 21}, \"Reset Count\": {\"sum\": 1.0, \"count\": 1, \"min\": 1, \"max\": 1}, \"Number of Records Since Last Reset\": {\"sum\": 10436.0, \"count\": 1, \"min\": 10436, \"max\": 10436}, \"Number of Batches Since Last Reset\": {\"sum\": 21.0, \"count\": 1, \"min\": 21, \"max\": 21}}}\n",
      "\u001b[0m\n",
      "\u001b[34m[05/27/2021 12:27:39 INFO 140333397227328] #test_score (algo-1) : ('binary_classification_accuracy', 0.693369106937524)\u001b[0m\n",
      "\u001b[34m[05/27/2021 12:27:39 INFO 140333397227328] #test_score (algo-1) : ('binary_classification_cross_entropy', 0.6315090125344548)\u001b[0m\n",
      "\u001b[34m[05/27/2021 12:27:39 INFO 140333397227328] #test_score (algo-1) : ('binary_f_1.000', 0.675390545749645)\u001b[0m\n",
      "\u001b[34m[05/27/2021 12:27:39 INFO 140333397227328] #quality_metric: host=algo-1, test binary_classification_accuracy <score>=0.693369106937524\u001b[0m\n",
      "\u001b[34m[05/27/2021 12:27:39 INFO 140333397227328] #quality_metric: host=algo-1, test binary_classification_cross_entropy <loss>=0.6315090125344548\u001b[0m\n",
      "\u001b[34m[05/27/2021 12:27:39 INFO 140333397227328] #quality_metric: host=algo-1, test binary_f_1.000 <score>=0.675390545749645\u001b[0m\n",
      "\u001b[34m#metrics {\"StartTime\": 1622118459.012983, \"EndTime\": 1622118459.2820888, \"Dimensions\": {\"Algorithm\": \"factorization-machines\", \"Host\": \"algo-1\", \"Operation\": \"training\"}, \"Metrics\": {\"setuptime\": {\"sum\": 25.96902847290039, \"count\": 1, \"min\": 25.96902847290039, \"max\": 25.96902847290039}, \"totaltime\": {\"sum\": 54518.84174346924, \"count\": 1, \"min\": 54518.84174346924, \"max\": 54518.84174346924}}}\n",
      "\u001b[0m\n",
      "\n",
      "2021-05-27 12:27:59 Uploading - Uploading generated training model\n",
      "2021-05-27 12:27:59 Completed - Training job completed\n",
      "Training seconds: 136\n",
      "Billable seconds: 136\n"
     ]
    }
   ],
   "source": [
    "from sagemaker import get_execution_role\n",
    "from sagemaker import image_uris\n",
    "\n",
    "#output_prefix= 's3://<LabBucketName>/sagemaker-fm/model'\n",
    "\n",
    "output_prefix = 's3://' + bucket + '/sagemaker-fm/model'\n",
    "instance_type='ml.m4.xlarge'\n",
    "batch_size = 512\n",
    "\n",
    "fm = sagemaker.estimator.Estimator(\n",
    "    image_uris.retrieve(\"factorization-machines\",boto3.Session().region_name),\n",
    "    role, \n",
    "    instance_count=1, \n",
    "    instance_type=instance_type,\n",
    "    output_path=output_prefix,\n",
    "    sagemaker_session=sagemaker.Session()\n",
    ")\n",
    "\n",
    "fm.set_hyperparameters(feature_dim=X_train.shape[1],\n",
    "                     # predictor_type='regressor',\n",
    "                       predictor_type='binary_classifier',\n",
    "                       mini_batch_size=batch_size,\n",
    "                       num_factors=128,\n",
    "                       epochs=25,\n",
    "                       clip_gradient=5.0,\n",
    "                       rescale_grad=1.0/batch_size\n",
    "                       )\n",
    "\n",
    "fm.fit({'train': fm_train_data_path, 'test': fm_test_data_path})"
   ]
  },
  {
   "cell_type": "markdown",
   "metadata": {},
   "source": [
    "### Sample code \n",
    "```\n",
    "from sagemaker import get_execution_role\n",
    "from sagemaker import image_uris\n",
    "\n",
    "#output_prefix= 's3://<LabBucketName>/sagemaker-fm/model'\n",
    "\n",
    "output_prefix = 's3://' + bucket + '/sagemaker-fm/model'\n",
    "instance_type='ml.m4.xlarge'\n",
    "batch_size = 512\n",
    "\n",
    "fm = sagemaker.estimator.Estimator(\n",
    "    image_uris.retrieve(\"factorization-machines\",boto3.Session().region_name),\n",
    "    role, \n",
    "    instance_count=1, \n",
    "    instance_type=instance_type,\n",
    "    output_path=output_prefix,\n",
    "    sagemaker_session=sagemaker.Session()\n",
    ")\n",
    "\n",
    "fm.set_hyperparameters(feature_dim=X_train.shape[1],\n",
    "                     # predictor_type='regressor',\n",
    "                       predictor_type='binary_classifier',\n",
    "                       mini_batch_size=batch_size,\n",
    "                       num_factors=128,\n",
    "                       epochs=25,\n",
    "                       clip_gradient=5.0,\n",
    "                       rescale_grad=1.0/batch_size\n",
    "                       )\n",
    "\n",
    "fm.fit({'train': fm_train_data_path, 'test': fm_test_data_path})\n",
    "```"
   ]
  },
  {
   "cell_type": "markdown",
   "metadata": {},
   "source": [
    "Evaluate the performance of this new model. Deploy the model, determine a serializer, and then pass the test data."
   ]
  },
  {
   "cell_type": "code",
   "execution_count": 52,
   "metadata": {},
   "outputs": [
    {
     "name": "stdout",
     "output_type": "stream",
     "text": [
      "---------------!"
     ]
    }
   ],
   "source": [
    "from sagemaker import deserializers\n",
    "fm_predictor = fm.deploy(initial_instance_count=1, \n",
    "                         instance_type='ml.m4.xlarge', \n",
    "                         serializer=fm_serializer, \n",
    "                         deserializer=JSONDeserializer())"
   ]
  },
  {
   "cell_type": "code",
   "execution_count": 53,
   "metadata": {},
   "outputs": [],
   "source": [
    "# Pass the testing data to the classifier and get all the predictions\n",
    "Y_pred = []\n",
    "for i in range(0, X_test_class.shape[0], 5):\n",
    "    preds = fm_predictor.predict(X_test_class[i:i+5].toarray())['predictions']\n",
    "    p = [Y_pred.append(x['score']) for x in preds]"
   ]
  },
  {
   "cell_type": "markdown",
   "metadata": {},
   "source": [
    "#### Inspect the results\n",
    "\n",
    "To inspect how well the classifier is doing, calculate and plot a confusion matrix. Use the implementation from **Scikit-Learn**."
   ]
  },
  {
   "cell_type": "code",
   "execution_count": 54,
   "metadata": {},
   "outputs": [],
   "source": [
    "from sklearn.metrics import confusion_matrix"
   ]
  },
  {
   "cell_type": "code",
   "execution_count": 55,
   "metadata": {},
   "outputs": [
    {
     "name": "stdout",
     "output_type": "stream",
     "text": [
      "[[3907 1128]\n",
      " [2072 3329]]\n"
     ]
    },
    {
     "data": {
      "text/plain": [
       "<AxesSubplot:>"
      ]
     },
     "execution_count": 55,
     "metadata": {},
     "output_type": "execute_result"
    },
    {
     "data": {
      "image/png": "[encoded data removed]",
      "text/plain": [
       "<Figure size 432x288 with 2 Axes>"
      ]
     },
     "metadata": {
      "needs_background": "light"
     },
     "output_type": "display_data"
    }
   ],
   "source": [
    "true = Y_test_class.astype(int)\n",
    "predicted = [1 if value > 0.5 else 0 for value in Y_pred]\n",
    "conf_matrix = confusion_matrix(true, predicted)\n",
    "print(conf_matrix)\n",
    "sns.heatmap(conf_matrix)"
   ]
  },
  {
   "cell_type": "markdown",
   "metadata": {},
   "source": [
    "**Question:** What is the accuracy of your model?  \n",
    "\n",
    "**Hint**:\n",
    "$$ Accuracy = \\frac{TP + TN}{TP + FP + FN + TN} $$"
   ]
  },
  {
   "cell_type": "code",
   "execution_count": 56,
   "metadata": {},
   "outputs": [
    {
     "data": {
      "text/plain": [
       "0.693369106937524"
      ]
     },
     "execution_count": 56,
     "metadata": {},
     "output_type": "execute_result"
    }
   ],
   "source": [
    "# Accuracy\n",
    "(conf_matrix[0, 0] + conf_matrix[1, 1]) / conf_matrix.sum()"
   ]
  },
  {
   "cell_type": "markdown",
   "metadata": {},
   "source": [
    "**Question:** How did your model do compared to a naive baseline model of predicting everything as 1?"
   ]
  },
  {
   "cell_type": "code",
   "execution_count": 57,
   "metadata": {},
   "outputs": [
    {
     "data": {
      "text/plain": [
       "False    50.317003\n",
       "True     49.682997\n",
       "Name: star_rating, dtype: float64"
      ]
     },
     "execution_count": 57,
     "metadata": {},
     "output_type": "execute_result"
    }
   ],
   "source": [
    "(reduced_df.star_rating > 4).value_counts() / reduced_df.shape[0] * 100"
   ]
  },
  {
   "cell_type": "code",
   "execution_count": null,
   "metadata": {},
   "outputs": [],
   "source": [
    "# Enter your answer here"
   ]
  },
  {
   "cell_type": "code",
   "execution_count": 58,
   "metadata": {},
   "outputs": [
    {
     "name": "stderr",
     "output_type": "stream",
     "text": [
      "The endpoint attribute has been renamed in sagemaker>=2.\n",
      "See: https://sagemaker.readthedocs.io/en/stable/v2.html for details.\n"
     ]
    }
   ],
   "source": [
    "# Delete inference endpoint\n",
    "sagemaker.Session().delete_endpoint(fm_predictor.endpoint)"
   ]
  },
  {
   "cell_type": "markdown",
   "metadata": {},
   "source": [
    "## Combining powers with KNN\n",
    "\n",
    "You saw that your classifier model is doing a better job than the regressor model. Now, see if you can repackage it to fit a k-nearest neighbor (KNN) model to predict the *k closest* items to the one a customer likes and then recommend those, instead of predicting the ratings (regressor) or whether a user would like a movie or not (binary classification).\n",
    "\n",
    "Start by downloading the model from Amazon S3. Then, repackage it to fit a KNN model.\n",
    "\n",
    "**Note:** Make sure the kernel you are using is `conda_mxnet_p36` so you can run the next cells."
   ]
  },
  {
   "cell_type": "markdown",
   "metadata": {},
   "source": [
    "### Download model data"
   ]
  },
  {
   "cell_type": "code",
   "execution_count": 59,
   "metadata": {},
   "outputs": [
    {
     "name": "stdout",
     "output_type": "stream",
     "text": [
      "Model Path: s3://qls-4279222-10873a7655e1b13e-labbucket-1l60tfo955a52/sagemaker-fm/model/factorization-machines-2021-05-27-12-23-04-830/output/model.tar.gz\n"
     ]
    },
    {
     "data": {
      "text/plain": [
       "0"
      ]
     },
     "execution_count": 59,
     "metadata": {},
     "output_type": "execute_result"
    },
    {
     "data": {
      "text/plain": [
       "0"
      ]
     },
     "execution_count": 59,
     "metadata": {},
     "output_type": "execute_result"
    },
    {
     "data": {
      "text/plain": [
       "0"
      ]
     },
     "execution_count": 59,
     "metadata": {},
     "output_type": "execute_result"
    },
    {
     "data": {
      "text/plain": [
       "0"
      ]
     },
     "execution_count": 59,
     "metadata": {},
     "output_type": "execute_result"
    },
    {
     "data": {
      "text/plain": [
       "0"
      ]
     },
     "execution_count": 59,
     "metadata": {},
     "output_type": "execute_result"
    }
   ],
   "source": [
    "import mxnet as mx\n",
    "model_file_name = 'model.tar.gz'\n",
    "model_full_path = f'{fm.output_path}/{fm.latest_training_job.job_name}/output/{model_file_name}'\n",
    "print(f'Model Path: {model_full_path}')\n",
    "\n",
    "# Download FM model \n",
    "os.system('aws s3 cp ' + model_full_path + ' .')\n",
    "\n",
    "# Extract model file for loading to MXNet\n",
    "os.system('tar xzvf ' + model_file_name)\n",
    "os.system('unzip -o model_algo-1')\n",
    "os.system('mv symbol.json model-symbol.json')\n",
    "os.system('mv params model-0000.params')"
   ]
  },
  {
   "cell_type": "markdown",
   "metadata": {},
   "source": [
    "### Extract model data to create item and user latent matrixes"
   ]
  },
  {
   "cell_type": "markdown",
   "metadata": {},
   "source": [
    "Now you are going to extract the values that represent each user and item after training a factorization machine. The result of the training is two matrices that, when multiplied together, will represent the target values (zero or one) as closely as possible.\n",
    "\n",
    "In more mathematical terms, factorization machines model output consists of three N-dimensional arrays (ndarrays):\n",
    "\n",
    "    V – a (N x k) matrix, where:\n",
    "        k is the dimension of the latent space\n",
    "        N is the total count of users and items\n",
    "    w – an N-dimensional vector\n",
    "    b – a single number: the bias term\n",
    "\n",
    "To extract these values, which you will use as features, you need to first load the model. Then, extract the values of each of the three matrices and build the `knn_item_matrix` and t`knn_user_matrix` matrices."
   ]
  },
  {
   "cell_type": "code",
   "execution_count": 60,
   "metadata": {},
   "outputs": [],
   "source": [
    "# Extract model data\n",
    "m = mx.module.Module.load('./model', 0, False, label_names=['out_label'])\n",
    "V = m._arg_params['v'].asnumpy()\n",
    "w = m._arg_params['w1_weight'].asnumpy()\n",
    "b = m._arg_params['w0_weight'].asnumpy()\n",
    "\n",
    "nb_users = customers.shape[0]\n",
    "nb_item = products.shape[0]\n",
    "\n",
    "# Item latent matrix - concat(V[i], w[i]).  \n",
    "knn_item_matrix = np.concatenate((V[nb_users:], w[nb_users:]), axis=1)\n",
    "knn_train_label = np.arange(1,nb_item+1)\n",
    "\n",
    "# User latent matrix - concat (V[u], 1) \n",
    "ones = np.ones(nb_users).reshape((nb_users, 1))\n",
    "knn_user_matrix = np.concatenate((V[:nb_users], ones), axis=1)"
   ]
  },
  {
   "cell_type": "markdown",
   "metadata": {},
   "source": [
    "## Building KNN model\n",
    "\n",
    "Now that you have the training data, you can now feed it to a KNN model. As you did before, you need to save the protobuf IO formatted data to Amazon S3, instantiate the model, and set the hyperparameters.\n",
    "\n",
    "Start by setting up the path and the estimator."
   ]
  },
  {
   "cell_type": "code",
   "execution_count": 61,
   "metadata": {},
   "outputs": [
    {
     "name": "stdout",
     "output_type": "stream",
     "text": [
      "KNN train features shape =  (6659, 129)\n",
      "Uploaded KNN train data: s3://qls-4279222-10873a7655e1b13e-labbucket-1l60tfo955a52/knn/train_knn\n"
     ]
    }
   ],
   "source": [
    "print('KNN train features shape = ', knn_item_matrix.shape)\n",
    "knn_prefix = 'knn'\n",
    "train_key = 'train_knn'\n",
    "knn_output_prefix  = f's3://{bucket}/{knn_prefix}/output'\n",
    "knn_train_data_path = writeDatasetToProtobuf(knn_item_matrix, bucket, \n",
    "                                             knn_prefix, train_key, \n",
    "                                             \"dense\", \n",
    "                                             knn_train_label)\n",
    "print(f'Uploaded KNN train data: {knn_train_data_path}')\n",
    "\n",
    "nb_recommendations = 100\n",
    "\n",
    "# Set up the estimator\n",
    "knn = sagemaker.estimator.Estimator(\n",
    "    image_uris.retrieve(\"knn\",boto3.Session().region_name),\n",
    "    get_execution_role(),\n",
    "    instance_count=1,\n",
    "    instance_type=instance_type,\n",
    "    output_path=knn_output_prefix,\n",
    "    sagemaker_session=sagemaker.Session()\n",
    ")"
   ]
  },
  {
   "cell_type": "markdown",
   "metadata": {},
   "source": [
    "Now, you will set the hyperparameters. Note that this approach uses the default `index_type` parameter for KNN. It is precise but can be slow for large datasets. In such cases, you may want to use a different `index_type` parameter leading to an approximate, yet faster answer.\n",
    "\n",
    "For more information about index types, see [k-NN Hyperparameters](https://docs.aws.amazon.com/sagemaker/latest/dg/kNN_hyperparameters.html)."
   ]
  },
  {
   "cell_type": "code",
   "execution_count": 62,
   "metadata": {
    "jupyter": {
     "outputs_hidden": true
    }
   },
   "outputs": [
    {
     "name": "stdout",
     "output_type": "stream",
     "text": [
      "2021-05-27 12:49:46 Starting - Starting the training job...\n",
      "2021-05-27 12:50:09 Starting - Launching requested ML instancesProfilerReport-1622119786: InProgress\n",
      ".........\n",
      "2021-05-27 12:51:29 Starting - Preparing the instances for training......\n",
      "2021-05-27 12:52:30 Downloading - Downloading input data\n",
      "2021-05-27 12:52:30 Training - Downloading the training image....................\u001b[34mDocker entrypoint called with argument(s): train\u001b[0m\n",
      "\u001b[34mRunning default environment configuration script\u001b[0m\n",
      "\u001b[34m[05/27/2021 12:55:50 INFO 140219167778624] Reading default configuration from /opt/amazon/lib/python3.7/site-packages/algorithm/resources/default-conf.json: {'_kvstore': 'dist_async', '_log_level': 'info', '_num_gpus': 'auto', '_num_kv_servers': '1', '_tuning_objective_metric': '', '_faiss_index_nprobe': '5', 'epochs': '1', 'feature_dim': 'auto', 'faiss_index_ivf_nlists': 'auto', 'index_metric': 'L2', 'index_type': 'faiss.Flat', 'mini_batch_size': '5000', '_enable_profiler': 'false'}\u001b[0m\n",
      "\u001b[34m[05/27/2021 12:55:50 INFO 140219167778624] Merging with provided configuration from /opt/ml/input/config/hyperparameters.json: {'feature_dim': '129', 'predictor_type': 'classifier', 'sample_size': '200000', 'index_metric': 'INNER_PRODUCT', 'k': '100'}\u001b[0m\n",
      "\u001b[34m[05/27/2021 12:55:50 INFO 140219167778624] Final configuration: {'_kvstore': 'dist_async', '_log_level': 'info', '_num_gpus': 'auto', '_num_kv_servers': '1', '_tuning_objective_metric': '', '_faiss_index_nprobe': '5', 'epochs': '1', 'feature_dim': '129', 'faiss_index_ivf_nlists': 'auto', 'index_metric': 'INNER_PRODUCT', 'index_type': 'faiss.Flat', 'mini_batch_size': '5000', '_enable_profiler': 'false', 'predictor_type': 'classifier', 'sample_size': '200000', 'k': '100'}\u001b[0m\n",
      "\u001b[34m[05/27/2021 12:55:56 WARNING 140219167778624] Loggers have already been setup.\u001b[0m\n",
      "\u001b[34m[05/27/2021 12:55:56 INFO 140219167778624] Final configuration: {'_kvstore': 'dist_async', '_log_level': 'info', '_num_gpus': 'auto', '_num_kv_servers': '1', '_tuning_objective_metric': '', '_faiss_index_nprobe': '5', 'epochs': '1', 'feature_dim': '129', 'faiss_index_ivf_nlists': 'auto', 'index_metric': 'INNER_PRODUCT', 'index_type': 'faiss.Flat', 'mini_batch_size': '5000', '_enable_profiler': 'false', 'predictor_type': 'classifier', 'sample_size': '200000', 'k': '100'}\u001b[0m\n",
      "\u001b[34m[05/27/2021 12:55:56 WARNING 140219167778624] Loggers have already been setup.\u001b[0m\n",
      "\u001b[34m[05/27/2021 12:55:56 INFO 140219167778624] Launching parameter server for role scheduler\u001b[0m\n",
      "\u001b[34m[05/27/2021 12:55:56 INFO 140219167778624] {'ENVROOT': '/opt/amazon', 'PROTOCOL_BUFFERS_PYTHON_IMPLEMENTATION': 'cpp', 'HOSTNAME': 'ip-10-0-212-214.us-west-2.compute.internal', 'TRAINING_JOB_NAME': 'knn-2021-05-27-12-49-46-284', 'NVIDIA_REQUIRE_CUDA': 'cuda>=9.0', 'TRAINING_JOB_ARN': 'arn:aws:sagemaker:us-west-2:382345190154:training-job/knn-2021-05-27-12-49-46-284', 'AWS_CONTAINER_CREDENTIALS_RELATIVE_URI': '/v2/credentials/a242b008-cdde-41cb-a7f9-61ec1a8dc7af', 'CANONICAL_ENVROOT': '/opt/amazon', 'PYTHONUNBUFFERED': 'TRUE', 'NVIDIA_VISIBLE_DEVICES': 'void', 'LD_LIBRARY_PATH': '/opt/amazon/lib/python3.7/site-packages/cv2/../../../../lib:/usr/local/nvidia/lib64:/opt/amazon/lib', 'NVIDIA_DRIVER_CAPABILITIES': 'compute,utility', 'AWS_EXECUTION_ENV': 'AWS_ECS_EC2', 'PATH': '/opt/amazon/bin:/usr/local/nvidia/bin:/usr/local/sbin:/usr/local/bin:/usr/sbin:/usr/bin:/sbin:/bin:/opt/amazon/bin:/opt/amazon/bin', 'PWD': '/', 'LANG': 'en_US.utf8', 'AWS_REGION': 'us-west-2', 'SAGEMAKER_METRICS_DIRECTORY': '/opt/ml/output/metrics/sagemaker', 'HOME': '/root', 'SHLVL': '1', 'PROTOCOL_BUFFERS_PYTHON_IMPLEMENTATION_VERSION': '2', 'OMP_NUM_THREADS': '2', 'ECS_CONTAINER_METADATA_URI': 'http://169.254.170.2/v3/9b0d44c6-bcf8-4b29-9fcd-3b2a078a5ae8', 'DMLC_INTERFACE': 'eth0', 'ECS_CONTAINER_METADATA_URI_V4': 'http://169.254.170.2/v4/9b0d44c6-bcf8-4b29-9fcd-3b2a078a5ae8', 'SAGEMAKER_HTTP_PORT': '8080', 'SAGEMAKER_DATA_PATH': '/opt/ml'}\u001b[0m\n",
      "\u001b[34m[05/27/2021 12:55:56 INFO 140219167778624] envs={'ENVROOT': '/opt/amazon', 'PROTOCOL_BUFFERS_PYTHON_IMPLEMENTATION': 'cpp', 'HOSTNAME': 'ip-10-0-212-214.us-west-2.compute.internal', 'TRAINING_JOB_NAME': 'knn-2021-05-27-12-49-46-284', 'NVIDIA_REQUIRE_CUDA': 'cuda>=9.0', 'TRAINING_JOB_ARN': 'arn:aws:sagemaker:us-west-2:382345190154:training-job/knn-2021-05-27-12-49-46-284', 'AWS_CONTAINER_CREDENTIALS_RELATIVE_URI': '/v2/credentials/a242b008-cdde-41cb-a7f9-61ec1a8dc7af', 'CANONICAL_ENVROOT': '/opt/amazon', 'PYTHONUNBUFFERED': 'TRUE', 'NVIDIA_VISIBLE_DEVICES': 'void', 'LD_LIBRARY_PATH': '/opt/amazon/lib/python3.7/site-packages/cv2/../../../../lib:/usr/local/nvidia/lib64:/opt/amazon/lib', 'NVIDIA_DRIVER_CAPABILITIES': 'compute,utility', 'AWS_EXECUTION_ENV': 'AWS_ECS_EC2', 'PATH': '/opt/amazon/bin:/usr/local/nvidia/bin:/usr/local/sbin:/usr/local/bin:/usr/sbin:/usr/bin:/sbin:/bin:/opt/amazon/bin:/opt/amazon/bin', 'PWD': '/', 'LANG': 'en_US.utf8', 'AWS_REGION': 'us-west-2', 'SAGEMAKER_METRICS_DIRECTORY': '/opt/ml/output/metrics/sagemaker', 'HOME': '/root', 'SHLVL': '1', 'PROTOCOL_BUFFERS_PYTHON_IMPLEMENTATION_VERSION': '2', 'OMP_NUM_THREADS': '2', 'ECS_CONTAINER_METADATA_URI': 'http://169.254.170.2/v3/9b0d44c6-bcf8-4b29-9fcd-3b2a078a5ae8', 'DMLC_INTERFACE': 'eth0', 'ECS_CONTAINER_METADATA_URI_V4': 'http://169.254.170.2/v4/9b0d44c6-bcf8-4b29-9fcd-3b2a078a5ae8', 'SAGEMAKER_HTTP_PORT': '8080', 'SAGEMAKER_DATA_PATH': '/opt/ml', 'DMLC_ROLE': 'scheduler', 'DMLC_PS_ROOT_URI': '10.0.212.214', 'DMLC_PS_ROOT_PORT': '9000', 'DMLC_NUM_SERVER': '1', 'DMLC_NUM_WORKER': '1'}\u001b[0m\n",
      "\u001b[34m[05/27/2021 12:55:56 INFO 140219167778624] Launching parameter server for role server\u001b[0m\n",
      "\u001b[34m[05/27/2021 12:55:56 INFO 140219167778624] {'ENVROOT': '/opt/amazon', 'PROTOCOL_BUFFERS_PYTHON_IMPLEMENTATION': 'cpp', 'HOSTNAME': 'ip-10-0-212-214.us-west-2.compute.internal', 'TRAINING_JOB_NAME': 'knn-2021-05-27-12-49-46-284', 'NVIDIA_REQUIRE_CUDA': 'cuda>=9.0', 'TRAINING_JOB_ARN': 'arn:aws:sagemaker:us-west-2:382345190154:training-job/knn-2021-05-27-12-49-46-284', 'AWS_CONTAINER_CREDENTIALS_RELATIVE_URI': '/v2/credentials/a242b008-cdde-41cb-a7f9-61ec1a8dc7af', 'CANONICAL_ENVROOT': '/opt/amazon', 'PYTHONUNBUFFERED': 'TRUE', 'NVIDIA_VISIBLE_DEVICES': 'void', 'LD_LIBRARY_PATH': '/opt/amazon/lib/python3.7/site-packages/cv2/../../../../lib:/usr/local/nvidia/lib64:/opt/amazon/lib', 'NVIDIA_DRIVER_CAPABILITIES': 'compute,utility', 'AWS_EXECUTION_ENV': 'AWS_ECS_EC2', 'PATH': '/opt/amazon/bin:/usr/local/nvidia/bin:/usr/local/sbin:/usr/local/bin:/usr/sbin:/usr/bin:/sbin:/bin:/opt/amazon/bin:/opt/amazon/bin', 'PWD': '/', 'LANG': 'en_US.utf8', 'AWS_REGION': 'us-west-2', 'SAGEMAKER_METRICS_DIRECTORY': '/opt/ml/output/metrics/sagemaker', 'HOME': '/root', 'SHLVL': '1', 'PROTOCOL_BUFFERS_PYTHON_IMPLEMENTATION_VERSION': '2', 'OMP_NUM_THREADS': '2', 'ECS_CONTAINER_METADATA_URI': 'http://169.254.170.2/v3/9b0d44c6-bcf8-4b29-9fcd-3b2a078a5ae8', 'DMLC_INTERFACE': 'eth0', 'ECS_CONTAINER_METADATA_URI_V4': 'http://169.254.170.2/v4/9b0d44c6-bcf8-4b29-9fcd-3b2a078a5ae8', 'SAGEMAKER_HTTP_PORT': '8080', 'SAGEMAKER_DATA_PATH': '/opt/ml'}\u001b[0m\n",
      "\u001b[34m[05/27/2021 12:55:56 INFO 140219167778624] envs={'ENVROOT': '/opt/amazon', 'PROTOCOL_BUFFERS_PYTHON_IMPLEMENTATION': 'cpp', 'HOSTNAME': 'ip-10-0-212-214.us-west-2.compute.internal', 'TRAINING_JOB_NAME': 'knn-2021-05-27-12-49-46-284', 'NVIDIA_REQUIRE_CUDA': 'cuda>=9.0', 'TRAINING_JOB_ARN': 'arn:aws:sagemaker:us-west-2:382345190154:training-job/knn-2021-05-27-12-49-46-284', 'AWS_CONTAINER_CREDENTIALS_RELATIVE_URI': '/v2/credentials/a242b008-cdde-41cb-a7f9-61ec1a8dc7af', 'CANONICAL_ENVROOT': '/opt/amazon', 'PYTHONUNBUFFERED': 'TRUE', 'NVIDIA_VISIBLE_DEVICES': 'void', 'LD_LIBRARY_PATH': '/opt/amazon/lib/python3.7/site-packages/cv2/../../../../lib:/usr/local/nvidia/lib64:/opt/amazon/lib', 'NVIDIA_DRIVER_CAPABILITIES': 'compute,utility', 'AWS_EXECUTION_ENV': 'AWS_ECS_EC2', 'PATH': '/opt/amazon/bin:/usr/local/nvidia/bin:/usr/local/sbin:/usr/local/bin:/usr/sbin:/usr/bin:/sbin:/bin:/opt/amazon/bin:/opt/amazon/bin', 'PWD': '/', 'LANG': 'en_US.utf8', 'AWS_REGION': 'us-west-2', 'SAGEMAKER_METRICS_DIRECTORY': '/opt/ml/output/metrics/sagemaker', 'HOME': '/root', 'SHLVL': '1', 'PROTOCOL_BUFFERS_PYTHON_IMPLEMENTATION_VERSION': '2', 'OMP_NUM_THREADS': '2', 'ECS_CONTAINER_METADATA_URI': 'http://169.254.170.2/v3/9b0d44c6-bcf8-4b29-9fcd-3b2a078a5ae8', 'DMLC_INTERFACE': 'eth0', 'ECS_CONTAINER_METADATA_URI_V4': 'http://169.254.170.2/v4/9b0d44c6-bcf8-4b29-9fcd-3b2a078a5ae8', 'SAGEMAKER_HTTP_PORT': '8080', 'SAGEMAKER_DATA_PATH': '/opt/ml', 'DMLC_ROLE': 'server', 'DMLC_PS_ROOT_URI': '10.0.212.214', 'DMLC_PS_ROOT_PORT': '9000', 'DMLC_NUM_SERVER': '1', 'DMLC_NUM_WORKER': '1'}\u001b[0m\n",
      "\u001b[34m[05/27/2021 12:55:56 INFO 140219167778624] Environment: {'ENVROOT': '/opt/amazon', 'PROTOCOL_BUFFERS_PYTHON_IMPLEMENTATION': 'cpp', 'HOSTNAME': 'ip-10-0-212-214.us-west-2.compute.internal', 'TRAINING_JOB_NAME': 'knn-2021-05-27-12-49-46-284', 'NVIDIA_REQUIRE_CUDA': 'cuda>=9.0', 'TRAINING_JOB_ARN': 'arn:aws:sagemaker:us-west-2:382345190154:training-job/knn-2021-05-27-12-49-46-284', 'AWS_CONTAINER_CREDENTIALS_RELATIVE_URI': '/v2/credentials/a242b008-cdde-41cb-a7f9-61ec1a8dc7af', 'CANONICAL_ENVROOT': '/opt/amazon', 'PYTHONUNBUFFERED': 'TRUE', 'NVIDIA_VISIBLE_DEVICES': 'void', 'LD_LIBRARY_PATH': '/opt/amazon/lib/python3.7/site-packages/cv2/../../../../lib:/usr/local/nvidia/lib64:/opt/amazon/lib', 'NVIDIA_DRIVER_CAPABILITIES': 'compute,utility', 'AWS_EXECUTION_ENV': 'AWS_ECS_EC2', 'PATH': '/opt/amazon/bin:/usr/local/nvidia/bin:/usr/local/sbin:/usr/local/bin:/usr/sbin:/usr/bin:/sbin:/bin:/opt/amazon/bin:/opt/amazon/bin', 'PWD': '/', 'LANG': 'en_US.utf8', 'AWS_REGION': 'us-west-2', 'SAGEMAKER_METRICS_DIRECTORY': '/opt/ml/output/metrics/sagemaker', 'HOME': '/root', 'SHLVL': '1', 'PROTOCOL_BUFFERS_PYTHON_IMPLEMENTATION_VERSION': '2', 'OMP_NUM_THREADS': '2', 'ECS_CONTAINER_METADATA_URI': 'http://169.254.170.2/v3/9b0d44c6-bcf8-4b29-9fcd-3b2a078a5ae8', 'DMLC_INTERFACE': 'eth0', 'ECS_CONTAINER_METADATA_URI_V4': 'http://169.254.170.2/v4/9b0d44c6-bcf8-4b29-9fcd-3b2a078a5ae8', 'SAGEMAKER_HTTP_PORT': '8080', 'SAGEMAKER_DATA_PATH': '/opt/ml', 'DMLC_ROLE': 'worker', 'DMLC_PS_ROOT_URI': '10.0.212.214', 'DMLC_PS_ROOT_PORT': '9000', 'DMLC_NUM_SERVER': '1', 'DMLC_NUM_WORKER': '1'}\u001b[0m\n",
      "\u001b[34mProcess 48 is a shell:scheduler.\u001b[0m\n",
      "\u001b[34mProcess 57 is a shell:server.\u001b[0m\n",
      "\u001b[34mProcess 1 is a worker.\u001b[0m\n",
      "\u001b[34m[05/27/2021 12:55:56 INFO 140219167778624] Using default worker.\u001b[0m\n",
      "\u001b[34m[05/27/2021 12:55:56 INFO 140219167778624] Checkpoint loading and saving are disabled.\u001b[0m\n",
      "\u001b[34m[05/27/2021 12:55:56 INFO 140219167778624] nvidia-smi: took 0.038 seconds to run.\u001b[0m\n",
      "\u001b[34m[05/27/2021 12:55:56 INFO 140219167778624] nvidia-smi identified 0 GPUs.\u001b[0m\n",
      "\u001b[34m[05/27/2021 12:55:56 INFO 140219167778624] Create Store: dist_async\u001b[0m\n",
      "\u001b[34m[12:55:56] ../src/base.cc:47: Please install cuda driver for GPU use.  No cuda driver detected.\u001b[0m\n",
      "\u001b[34m[12:55:57] ../src/base.cc:47: Please install cuda driver for GPU use.  No cuda driver detected.\u001b[0m\n",
      "\u001b[34m[12:55:57] ../src/base.cc:47: Please install cuda driver for GPU use.  No cuda driver detected.\u001b[0m\n",
      "\u001b[34m[05/27/2021 12:55:58 ERROR 140219167778624] nvidia-smi: failed to run (127): b'/bin/sh: nvidia-smi: command not found'/\u001b[0m\n",
      "\u001b[34m[05/27/2021 12:55:58 WARNING 140219167778624] Could not determine free memory in MB for GPU device with ID (0).\u001b[0m\n",
      "\u001b[34m[05/27/2021 12:55:58 INFO 140219167778624] Using per-worker sample size = 200000 (Available virtual memory = 15020929024 bytes, GPU free memory = 0 bytes, number of workers = 1). If an out-of-memory error occurs, choose a larger instance type, use dimension reduction, decrease sample_size, and/or decrease mini_batch_size.\u001b[0m\n",
      "\u001b[34m[05/27/2021 12:55:58 INFO 140219167778624] Starting cluster...\u001b[0m\n",
      "\u001b[34m[05/27/2021 12:55:58 INFO 140217176545024] concurrency model: async\u001b[0m\n",
      "\u001b[34m[05/27/2021 12:55:58 INFO 140217176545024] masquerade (NAT) address: None\u001b[0m\n",
      "\u001b[34m[05/27/2021 12:55:58 INFO 140217176545024] passive ports: None\u001b[0m\n",
      "\u001b[34m[05/27/2021 12:55:58 INFO 140219167778624] ...Cluster started\u001b[0m\n",
      "\u001b[34m[05/27/2021 12:55:58 INFO 140219167778624] Verifying connection to 0 peer cluster(s)...\u001b[0m\n",
      "\u001b[34m[05/27/2021 12:55:58 INFO 140219167778624] ...Verified connection to 0 peer cluster(s)\u001b[0m\n",
      "\u001b[34m#metrics {\"StartTime\": 1622120158.1038857, \"EndTime\": 1622120158.1039345, \"Dimensions\": {\"Algorithm\": \"AWS/KNN\", \"Host\": \"algo-1\", \"Operation\": \"training\", \"Meta\": \"init_train_data_iter\"}, \"Metrics\": {\"Total Records Seen\": {\"sum\": 0.0, \"count\": 1, \"min\": 0, \"max\": 0}, \"Total Batches Seen\": {\"sum\": 0.0, \"count\": 1, \"min\": 0, \"max\": 0}, \"Max Records Seen Between Resets\": {\"sum\": 0.0, \"count\": 1, \"min\": 0, \"max\": 0}, \"Max Batches Seen Between Resets\": {\"sum\": 0.0, \"count\": 1, \"min\": 0, \"max\": 0}, \"Reset Count\": {\"sum\": 0.0, \"count\": 1, \"min\": 0, \"max\": 0}, \"Number of Records Since Last Reset\": {\"sum\": 0.0, \"count\": 1, \"min\": 0, \"max\": 0}, \"Number of Batches Since Last Reset\": {\"sum\": 0.0, \"count\": 1, \"min\": 0, \"max\": 0}}}\n",
      "\u001b[0m\n",
      "\u001b[34m[05/27/2021 12:55:58 INFO 140217176545024] >>> starting FTP server on 0.0.0.0:8999, pid=1 <<<\u001b[0m\n",
      "\u001b[34m[2021-05-27 12:55:58.104] [tensorio] [info] epoch_stats={\"data_pipeline\": \"/opt/ml/input/data/train\", \"epoch\": 0, \"duration\": 1249, \"num_examples\": 1, \"num_bytes\": 2820000}\u001b[0m\n",
      "\u001b[34m[2021-05-27 12:55:58.292] [tensorio] [info] epoch_stats={\"data_pipeline\": \"/opt/ml/input/data/train\", \"epoch\": 1, \"duration\": 187, \"num_examples\": 2, \"num_bytes\": 3755676}\u001b[0m\n",
      "\u001b[34m[05/27/2021 12:55:58 INFO 140219167778624] #progress_metric: host=algo-1, completed 100.0 % of epochs\u001b[0m\n",
      "\u001b[34m#metrics {\"StartTime\": 1622120158.1048493, \"EndTime\": 1622120158.2998724, \"Dimensions\": {\"Algorithm\": \"AWS/KNN\", \"Host\": \"algo-1\", \"Operation\": \"training\", \"epoch\": 0, \"Meta\": \"training_data_iter\"}, \"Metrics\": {\"Total Records Seen\": {\"sum\": 6659.0, \"count\": 1, \"min\": 6659, \"max\": 6659}, \"Total Batches Seen\": {\"sum\": 2.0, \"count\": 1, \"min\": 2, \"max\": 2}, \"Max Records Seen Between Resets\": {\"sum\": 6659.0, \"count\": 1, \"min\": 6659, \"max\": 6659}, \"Max Batches Seen Between Resets\": {\"sum\": 2.0, \"count\": 1, \"min\": 2, \"max\": 2}, \"Reset Count\": {\"sum\": 1.0, \"count\": 1, \"min\": 1, \"max\": 1}, \"Number of Records Since Last Reset\": {\"sum\": 6659.0, \"count\": 1, \"min\": 6659, \"max\": 6659}, \"Number of Batches Since Last Reset\": {\"sum\": 2.0, \"count\": 1, \"min\": 2, \"max\": 2}}}\n",
      "\u001b[0m\n",
      "\u001b[34m[05/27/2021 12:55:58 INFO 140219167778624] #throughput_metric: host=algo-1, train throughput=34111.902136370074 records/second\u001b[0m\n",
      "\u001b[34m[05/27/2021 12:55:58 INFO 140219167778624] Getting reservoir sample from algo-1...\u001b[0m\n",
      "\u001b[34m[05/27/2021 12:55:58 INFO 140217176545024] 10.0.212.214:52810-[] FTP session opened (connect)\u001b[0m\n",
      "\u001b[34m[05/27/2021 12:55:58 INFO 140217176545024] 10.0.212.214:52810-[anonymous] USER 'anonymous' logged in.\u001b[0m\n",
      "\u001b[34m[05/27/2021 12:55:58 INFO 140217176545024] 10.0.212.214:52810-[anonymous] RETR /opt/rs completed=1 bytes=3516552 seconds=0.004\u001b[0m\n",
      "\u001b[34m[05/27/2021 12:55:58 INFO 140217176545024] 10.0.212.214:52810-[anonymous] FTP session closed (disconnect).\u001b[0m\n",
      "\u001b[34m[05/27/2021 12:55:58 INFO 140219167778624] ...Got reservoir sample from algo-1: data=(6659, 129), labels=(6659,), NaNs=0\u001b[0m\n",
      "\u001b[34m[05/27/2021 12:55:58 INFO 140219167778624] Training index...\u001b[0m\n",
      "\u001b[34m[05/27/2021 12:55:58 INFO 140219167778624] ...Finished training index in 0 second(s)\u001b[0m\n",
      "\u001b[34m[05/27/2021 12:55:58 INFO 140219167778624] Adding data to index...\u001b[0m\n",
      "\u001b[34m[05/27/2021 12:55:58 INFO 140219167778624] ...Finished adding data to index in 0 second(s)\u001b[0m\n",
      "\u001b[34m#metrics {\"StartTime\": 1622120156.8548508, \"EndTime\": 1622120158.35594, \"Dimensions\": {\"Algorithm\": \"AWS/KNN\", \"Host\": \"algo-1\", \"Operation\": \"training\"}, \"Metrics\": {\"initialize.time\": {\"sum\": 1228.8622856140137, \"count\": 1, \"min\": 1228.8622856140137, \"max\": 1228.8622856140137}, \"epochs\": {\"sum\": 1.0, \"count\": 1, \"min\": 1, \"max\": 1}, \"update.time\": {\"sum\": 194.7309970855713, \"count\": 1, \"min\": 194.7309970855713, \"max\": 194.7309970855713}, \"finalize.time\": {\"sum\": 46.20647430419922, \"count\": 1, \"min\": 46.20647430419922, \"max\": 46.20647430419922}, \"model.serialize.time\": {\"sum\": 9.366035461425781, \"count\": 1, \"min\": 9.366035461425781, \"max\": 9.366035461425781}}}\n",
      "\u001b[0m\n",
      "\u001b[34m[05/27/2021 12:55:58 INFO 140219167778624] Test data is not provided.\u001b[0m\n",
      "\u001b[34m[05/27/2021 12:55:58 INFO 140217176545024] >>> shutting down FTP server, 0 socket(s), pid=1 <<<\u001b[0m\n",
      "\u001b[34m#metrics {\"StartTime\": 1622120158.3560824, \"EndTime\": 1622120158.4145002, \"Dimensions\": {\"Algorithm\": \"AWS/KNN\", \"Host\": \"algo-1\", \"Operation\": \"training\"}, \"Metrics\": {\"setuptime\": {\"sum\": 16.987085342407227, \"count\": 1, \"min\": 16.987085342407227, \"max\": 16.987085342407227}, \"totaltime\": {\"sum\": 2178.341865539551, \"count\": 1, \"min\": 2178.341865539551, \"max\": 2178.341865539551}}}\n",
      "\u001b[0m\n",
      "\n",
      "2021-05-27 12:56:10 Uploading - Uploading generated training model\n",
      "2021-05-27 12:56:10 Completed - Training job completed\n",
      "Training seconds: 227\n",
      "Billable seconds: 227\n"
     ]
    }
   ],
   "source": [
    "knn.set_hyperparameters(feature_dim=knn_item_matrix.shape[1], \n",
    "                        k=nb_recommendations, \n",
    "                        index_metric=\"INNER_PRODUCT\", \n",
    "                        predictor_type='classifier', \n",
    "                        sample_size=200000)\n",
    "\n",
    "\n",
    "knn.fit({'train': knn_train_data_path})"
   ]
  },
  {
   "cell_type": "markdown",
   "metadata": {},
   "source": [
    "Now that you have a trained model, save it so you can reference it for batch inference."
   ]
  },
  {
   "cell_type": "code",
   "execution_count": 64,
   "metadata": {},
   "outputs": [
    {
     "name": "stdout",
     "output_type": "stream",
     "text": [
      "created model:  knn-2021-05-27-12-49-46-284\n",
      "saved the model\n"
     ]
    }
   ],
   "source": [
    "knn_model_name =  knn.latest_training_job.job_name\n",
    "print(\"created model: \", knn_model_name)\n",
    "\n",
    "# Save the model so that you can reference it in the next step during batch inference\n",
    "sm = boto3.client(service_name='sagemaker')\n",
    "primary_container = {\n",
    "    'Image': knn.image_uri,\n",
    "    'ModelDataUrl': knn.model_data,\n",
    "}\n",
    "\n",
    "knn_model = sm.create_model(\n",
    "        ModelName = knn.latest_training_job.job_name,\n",
    "        ExecutionRoleArn = knn.role,\n",
    "        PrimaryContainer = primary_container)\n",
    "print(\"saved the model\")"
   ]
  },
  {
   "cell_type": "markdown",
   "metadata": {},
   "source": [
    "## Batch transform\n",
    "\n",
    "To see the predictions your model made, you would have to create inferences and see if they make sense. You could repeat the process as last time and check one user at a time with all possible combinations of items. However, Amazon SageMaker provides a batch transform job that you can use to do inference over the entire dataset. For more information, see [Get Inferences for an Entire Dataset with Batch Transform](https://docs.aws.amazon.com/sagemaker/latest/dg/how-it-works-batch.html).\n",
    "\n",
    "In this section, you will use a batch transform to predict the top 100 recommendations for all the users."
   ]
  },
  {
   "cell_type": "code",
   "execution_count": 65,
   "metadata": {
    "jupyter": {
     "outputs_hidden": true
    }
   },
   "outputs": [
    {
     "name": "stdout",
     "output_type": "stream",
     "text": [
      "Batch inference data path:  s3://qls-4279222-10873a7655e1b13e-labbucket-1l60tfo955a52/knn/train_knn\n",
      ".....................................................\u001b[34mDocker entrypoint called with argument(s): serve\u001b[0m\n",
      "\u001b[34mRunning default environment configuration script\u001b[0m\n",
      "\u001b[34m[05/27/2021 13:06:34 INFO 140112650258240] Memory profiler is not enabled by the environment variable ENABLE_PROFILER.\u001b[0m\n",
      "\u001b[34m[05/27/2021 13:06:39 WARNING 140112650258240] Loggers have already been setup.\u001b[0m\n",
      "\u001b[34m[05/27/2021 13:06:39 INFO 140112650258240] loaded entry point class algorithm.serve.server_config:config_api\u001b[0m\n",
      "\u001b[34m[05/27/2021 13:06:39 INFO 140112650258240] loading entry points\u001b[0m\n",
      "\u001b[34m[05/27/2021 13:06:39 INFO 140112650258240] loaded request iterator application/json\u001b[0m\n",
      "\u001b[34m[05/27/2021 13:06:39 INFO 140112650258240] loaded request iterator application/jsonlines\u001b[0m\n",
      "\u001b[34m[05/27/2021 13:06:39 INFO 140112650258240] loaded request iterator application/x-recordio-protobuf\u001b[0m\n",
      "\u001b[34m[05/27/2021 13:06:39 INFO 140112650258240] loaded request iterator text/csv\u001b[0m\n",
      "\u001b[34m[05/27/2021 13:06:39 INFO 140112650258240] loaded response encoder application/json\u001b[0m\n",
      "\u001b[34m[05/27/2021 13:06:39 INFO 140112650258240] loaded response encoder application/jsonlines\u001b[0m\n",
      "\u001b[34m[05/27/2021 13:06:39 INFO 140112650258240] loaded response encoder application/x-recordio-protobuf\u001b[0m\n",
      "\u001b[34m[05/27/2021 13:06:39 INFO 140112650258240] loaded entry point class algorithm:model\u001b[0m\n",
      "\u001b[34m[05/27/2021 13:06:39 INFO 140112650258240] Number of server workers: 1\u001b[0m\n",
      "\u001b[34m[2021-05-27 13:06:39 +0000] [1] [INFO] Starting gunicorn 20.0.4\u001b[0m\n",
      "\u001b[34m[2021-05-27 13:06:39 +0000] [1] [INFO] Listening at: http://0.0.0.0:8080 (1)\u001b[0m\n",
      "\u001b[34m[2021-05-27 13:06:39 +0000] [1] [INFO] Using worker: sync\u001b[0m\n",
      "\u001b[34m[2021-05-27 13:06:39 +0000] [57] [INFO] Booting worker with pid: 57\u001b[0m\n",
      "\u001b[34m[05/27/2021 13:06:39 INFO 140112650258240] loading model...\u001b[0m\n",
      "\u001b[34m[05/27/2021 13:06:39 INFO 140112650258240] nvidia-smi: took 0.033 seconds to run.\u001b[0m\n",
      "\u001b[34m[05/27/2021 13:06:39 INFO 140112650258240] nvidia-smi identified 0 GPUs.\u001b[0m\n",
      "\u001b[34m[05/27/2021 13:06:39 INFO 140112650258240] ...model loaded.\u001b[0m\n",
      "\u001b[34m#metrics {\"StartTime\": 1622120799.8427634, \"EndTime\": 1622120800.1758208, \"Dimensions\": {\"Algorithm\": \"KNNModel\", \"Host\": \"UNKNOWN\", \"Operation\": \"scoring\"}, \"Metrics\": {\"execution_parameters.count\": {\"sum\": 1.0, \"count\": 1, \"min\": 1, \"max\": 1}}}\n",
      "\u001b[0m\n",
      "\u001b[34m[05/27/2021 13:06:40 INFO 140112650258240] Searching index...\u001b[0m\n",
      "\u001b[34m[05/27/2021 13:06:41 INFO 140112650258240] ...Done searching index in 0 second(s)\u001b[0m\n",
      "\n",
      "\u001b[34m[2021-05-27 13:06:41.262] [tensorio] [info] epoch_stats={\"data_pipeline\": \"/tmp/tmprb6b4h58/tmpqt4up6ti\", \"epoch\": 0, \"duration\": 456, \"num_examples\": 1, \"num_bytes\": 6291100}\u001b[0m\n",
      "\u001b[35m[2021-05-27 13:06:41.262] [tensorio] [info] epoch_stats={\"data_pipeline\": \"/tmp/tmprb6b4h58/tmpqt4up6ti\", \"epoch\": 0, \"duration\": 456, \"num_examples\": 1, \"num_bytes\": 6291100}\u001b[0m\n",
      "\u001b[32m2021-05-27T13:06:40.185:[sagemaker logs]: MaxConcurrentTransforms=1, MaxPayloadInMB=6, BatchStrategy=MULTI_RECORD\u001b[0m\n",
      "\u001b[34m#metrics {\"StartTime\": 1622120800.1759987, \"EndTime\": 1622120802.3860478, \"Dimensions\": {\"Algorithm\": \"KNNModel\", \"Host\": \"UNKNOWN\", \"Operation\": \"scoring\"}, \"Metrics\": {\"model.evaluate.time\": {\"sum\": 444.36120986938477, \"count\": 1, \"min\": 444.36120986938477, \"max\": 444.36120986938477}, \"invocations.count\": {\"sum\": 1.0, \"count\": 1, \"min\": 1, \"max\": 1}}}\n",
      "\u001b[0m\n",
      "\u001b[34m[2021-05-27 13:06:42.518] [tensorio] [warning] TensorIO is already initialized; ignoring the initialization routine.\u001b[0m\n",
      "\u001b[34m[05/27/2021 13:06:42 INFO 140112650258240] Searching index...\u001b[0m\n",
      "\u001b[34m[05/27/2021 13:06:42 INFO 140112650258240] ...Done searching index in 0 second(s)\u001b[0m\n",
      "\u001b[34m[2021-05-27 13:06:42.828] [tensorio] [info] epoch_stats={\"data_pipeline\": \"/tmp/tmp2bo4pm5q/tmp2g46_tw_\", \"epoch\": 0, \"duration\": 309, \"num_examples\": 1, \"num_bytes\": 4771060}\u001b[0m\n",
      "\u001b[35m#metrics {\"StartTime\": 1622120800.1759987, \"EndTime\": 1622120802.3860478, \"Dimensions\": {\"Algorithm\": \"KNNModel\", \"Host\": \"UNKNOWN\", \"Operation\": \"scoring\"}, \"Metrics\": {\"model.evaluate.time\": {\"sum\": 444.36120986938477, \"count\": 1, \"min\": 444.36120986938477, \"max\": 444.36120986938477}, \"invocations.count\": {\"sum\": 1.0, \"count\": 1, \"min\": 1, \"max\": 1}}}\n",
      "\u001b[0m\n",
      "\u001b[35m[2021-05-27 13:06:42.518] [tensorio] [warning] TensorIO is already initialized; ignoring the initialization routine.\u001b[0m\n",
      "\u001b[35m[05/27/2021 13:06:42 INFO 140112650258240] Searching index...\u001b[0m\n",
      "\u001b[35m[05/27/2021 13:06:42 INFO 140112650258240] ...Done searching index in 0 second(s)\u001b[0m\n",
      "\u001b[35m[2021-05-27 13:06:42.828] [tensorio] [info] epoch_stats={\"data_pipeline\": \"/tmp/tmp2bo4pm5q/tmp2g46_tw_\", \"epoch\": 0, \"duration\": 309, \"num_examples\": 1, \"num_bytes\": 4771060}\u001b[0m\n",
      "\u001b[34m#metrics {\"StartTime\": 1622120802.3861475, \"EndTime\": 1622120803.669814, \"Dimensions\": {\"Algorithm\": \"KNNModel\", \"Host\": \"UNKNOWN\", \"Operation\": \"scoring\"}, \"Metrics\": {\"model.evaluate.time\": {\"sum\": 300.7371425628662, \"count\": 1, \"min\": 300.7371425628662, \"max\": 300.7371425628662}, \"invocations.count\": {\"sum\": 1.0, \"count\": 1, \"min\": 1, \"max\": 1}}}\n",
      "\u001b[0m\n",
      "\u001b[35m#metrics {\"StartTime\": 1622120802.3861475, \"EndTime\": 1622120803.669814, \"Dimensions\": {\"Algorithm\": \"KNNModel\", \"Host\": \"UNKNOWN\", \"Operation\": \"scoring\"}, \"Metrics\": {\"model.evaluate.time\": {\"sum\": 300.7371425628662, \"count\": 1, \"min\": 300.7371425628662, \"max\": 300.7371425628662}, \"invocations.count\": {\"sum\": 1.0, \"count\": 1, \"min\": 1, \"max\": 1}}}\n",
      "\u001b[0m\n",
      "\u001b[34mDocker entrypoint called with argument(s): serve\u001b[0m\n",
      "\u001b[34mRunning default environment configuration script\u001b[0m\n",
      "\u001b[34m[05/27/2021 13:06:34 INFO 140112650258240] Memory profiler is not enabled by the environment variable ENABLE_PROFILER.\u001b[0m\n",
      "\u001b[35mDocker entrypoint called with argument(s): serve\u001b[0m\n",
      "\u001b[35mRunning default environment configuration script\u001b[0m\n",
      "\u001b[35m[05/27/2021 13:06:34 INFO 140112650258240] Memory profiler is not enabled by the environment variable ENABLE_PROFILER.\u001b[0m\n",
      "\u001b[34m[05/27/2021 13:06:39 WARNING 140112650258240] Loggers have already been setup.\u001b[0m\n",
      "\u001b[34m[05/27/2021 13:06:39 INFO 140112650258240] loaded entry point class algorithm.serve.server_config:config_api\u001b[0m\n",
      "\u001b[34m[05/27/2021 13:06:39 INFO 140112650258240] loading entry points\u001b[0m\n",
      "\u001b[34m[05/27/2021 13:06:39 INFO 140112650258240] loaded request iterator application/json\u001b[0m\n",
      "\u001b[34m[05/27/2021 13:06:39 INFO 140112650258240] loaded request iterator application/jsonlines\u001b[0m\n",
      "\u001b[34m[05/27/2021 13:06:39 INFO 140112650258240] loaded request iterator application/x-recordio-protobuf\u001b[0m\n",
      "\u001b[34m[05/27/2021 13:06:39 INFO 140112650258240] loaded request iterator text/csv\u001b[0m\n",
      "\u001b[34m[05/27/2021 13:06:39 INFO 140112650258240] loaded response encoder application/json\u001b[0m\n",
      "\u001b[34m[05/27/2021 13:06:39 INFO 140112650258240] loaded response encoder application/jsonlines\u001b[0m\n",
      "\u001b[34m[05/27/2021 13:06:39 INFO 140112650258240] loaded response encoder application/x-recordio-protobuf\u001b[0m\n",
      "\u001b[34m[05/27/2021 13:06:39 INFO 140112650258240] loaded entry point class algorithm:model\u001b[0m\n",
      "\u001b[34m[05/27/2021 13:06:39 INFO 140112650258240] Number of server workers: 1\u001b[0m\n",
      "\u001b[35m[05/27/2021 13:06:39 WARNING 140112650258240] Loggers have already been setup.\u001b[0m\n",
      "\u001b[35m[05/27/2021 13:06:39 INFO 140112650258240] loaded entry point class algorithm.serve.server_config:config_api\u001b[0m\n",
      "\u001b[35m[05/27/2021 13:06:39 INFO 140112650258240] loading entry points\u001b[0m\n",
      "\u001b[35m[05/27/2021 13:06:39 INFO 140112650258240] loaded request iterator application/json\u001b[0m\n",
      "\u001b[35m[05/27/2021 13:06:39 INFO 140112650258240] loaded request iterator application/jsonlines\u001b[0m\n",
      "\u001b[35m[05/27/2021 13:06:39 INFO 140112650258240] loaded request iterator application/x-recordio-protobuf\u001b[0m\n",
      "\u001b[35m[05/27/2021 13:06:39 INFO 140112650258240] loaded request iterator text/csv\u001b[0m\n",
      "\u001b[35m[05/27/2021 13:06:39 INFO 140112650258240] loaded response encoder application/json\u001b[0m\n",
      "\u001b[35m[05/27/2021 13:06:39 INFO 140112650258240] loaded response encoder application/jsonlines\u001b[0m\n",
      "\u001b[35m[05/27/2021 13:06:39 INFO 140112650258240] loaded response encoder application/x-recordio-protobuf\u001b[0m\n",
      "\u001b[35m[05/27/2021 13:06:39 INFO 140112650258240] loaded entry point class algorithm:model\u001b[0m\n",
      "\u001b[35m[05/27/2021 13:06:39 INFO 140112650258240] Number of server workers: 1\u001b[0m\n",
      "\u001b[34m[2021-05-27 13:06:39 +0000] [1] [INFO] Starting gunicorn 20.0.4\u001b[0m\n",
      "\u001b[34m[2021-05-27 13:06:39 +0000] [1] [INFO] Listening at: http://0.0.0.0:8080 (1)\u001b[0m\n",
      "\u001b[34m[2021-05-27 13:06:39 +0000] [1] [INFO] Using worker: sync\u001b[0m\n",
      "\u001b[34m[2021-05-27 13:06:39 +0000] [57] [INFO] Booting worker with pid: 57\u001b[0m\n",
      "\u001b[34m[05/27/2021 13:06:39 INFO 140112650258240] loading model...\u001b[0m\n",
      "\u001b[34m[05/27/2021 13:06:39 INFO 140112650258240] nvidia-smi: took 0.033 seconds to run.\u001b[0m\n",
      "\u001b[34m[05/27/2021 13:06:39 INFO 140112650258240] nvidia-smi identified 0 GPUs.\u001b[0m\n",
      "\u001b[34m[05/27/2021 13:06:39 INFO 140112650258240] ...model loaded.\u001b[0m\n",
      "\u001b[35m[2021-05-27 13:06:39 +0000] [1] [INFO] Starting gunicorn 20.0.4\u001b[0m\n",
      "\u001b[35m[2021-05-27 13:06:39 +0000] [1] [INFO] Listening at: http://0.0.0.0:8080 (1)\u001b[0m\n",
      "\u001b[35m[2021-05-27 13:06:39 +0000] [1] [INFO] Using worker: sync\u001b[0m\n",
      "\u001b[35m[2021-05-27 13:06:39 +0000] [57] [INFO] Booting worker with pid: 57\u001b[0m\n",
      "\u001b[35m[05/27/2021 13:06:39 INFO 140112650258240] loading model...\u001b[0m\n",
      "\u001b[35m[05/27/2021 13:06:39 INFO 140112650258240] nvidia-smi: took 0.033 seconds to run.\u001b[0m\n",
      "\u001b[35m[05/27/2021 13:06:39 INFO 140112650258240] nvidia-smi identified 0 GPUs.\u001b[0m\n",
      "\u001b[35m[05/27/2021 13:06:39 INFO 140112650258240] ...model loaded.\u001b[0m\n",
      "\u001b[34m#metrics {\"StartTime\": 1622120799.8427634, \"EndTime\": 1622120800.1758208, \"Dimensions\": {\"Algorithm\": \"KNNModel\", \"Host\": \"UNKNOWN\", \"Operation\": \"scoring\"}, \"Metrics\": {\"execution_parameters.count\": {\"sum\": 1.0, \"count\": 1, \"min\": 1, \"max\": 1}}}\n",
      "\u001b[0m\n",
      "\u001b[35m#metrics {\"StartTime\": 1622120799.8427634, \"EndTime\": 1622120800.1758208, \"Dimensions\": {\"Algorithm\": \"KNNModel\", \"Host\": \"UNKNOWN\", \"Operation\": \"scoring\"}, \"Metrics\": {\"execution_parameters.count\": {\"sum\": 1.0, \"count\": 1, \"min\": 1, \"max\": 1}}}\n",
      "\u001b[0m\n",
      "\u001b[34m[05/27/2021 13:06:40 INFO 140112650258240] Searching index...\u001b[0m\n",
      "\u001b[34m[05/27/2021 13:06:41 INFO 140112650258240] ...Done searching index in 0 second(s)\u001b[0m\n",
      "\u001b[35m[05/27/2021 13:06:40 INFO 140112650258240] Searching index...\u001b[0m\n",
      "\u001b[35m[05/27/2021 13:06:41 INFO 140112650258240] ...Done searching index in 0 second(s)\u001b[0m\n",
      "\u001b[34m[2021-05-27 13:06:41.262] [tensorio] [info] epoch_stats={\"data_pipeline\": \"/tmp/tmprb6b4h58/tmpqt4up6ti\", \"epoch\": 0, \"duration\": 456, \"num_examples\": 1, \"num_bytes\": 6291100}\u001b[0m\n",
      "\u001b[35m[2021-05-27 13:06:41.262] [tensorio] [info] epoch_stats={\"data_pipeline\": \"/tmp/tmprb6b4h58/tmpqt4up6ti\", \"epoch\": 0, \"duration\": 456, \"num_examples\": 1, \"num_bytes\": 6291100}\u001b[0m\n",
      "\u001b[32m2021-05-27T13:06:40.185:[sagemaker logs]: MaxConcurrentTransforms=1, MaxPayloadInMB=6, BatchStrategy=MULTI_RECORD\u001b[0m\n",
      "\u001b[34m#metrics {\"StartTime\": 1622120800.1759987, \"EndTime\": 1622120802.3860478, \"Dimensions\": {\"Algorithm\": \"KNNModel\", \"Host\": \"UNKNOWN\", \"Operation\": \"scoring\"}, \"Metrics\": {\"model.evaluate.time\": {\"sum\": 444.36120986938477, \"count\": 1, \"min\": 444.36120986938477, \"max\": 444.36120986938477}, \"invocations.count\": {\"sum\": 1.0, \"count\": 1, \"min\": 1, \"max\": 1}}}\n",
      "\u001b[0m\n",
      "\u001b[34m[2021-05-27 13:06:42.518] [tensorio] [warning] TensorIO is already initialized; ignoring the initialization routine.\u001b[0m\n",
      "\u001b[34m[05/27/2021 13:06:42 INFO 140112650258240] Searching index...\u001b[0m\n",
      "\u001b[34m[05/27/2021 13:06:42 INFO 140112650258240] ...Done searching index in 0 second(s)\u001b[0m\n",
      "\u001b[34m[2021-05-27 13:06:42.828] [tensorio] [info] epoch_stats={\"data_pipeline\": \"/tmp/tmp2bo4pm5q/tmp2g46_tw_\", \"epoch\": 0, \"duration\": 309, \"num_examples\": 1, \"num_bytes\": 4771060}\u001b[0m\n",
      "\u001b[35m#metrics {\"StartTime\": 1622120800.1759987, \"EndTime\": 1622120802.3860478, \"Dimensions\": {\"Algorithm\": \"KNNModel\", \"Host\": \"UNKNOWN\", \"Operation\": \"scoring\"}, \"Metrics\": {\"model.evaluate.time\": {\"sum\": 444.36120986938477, \"count\": 1, \"min\": 444.36120986938477, \"max\": 444.36120986938477}, \"invocations.count\": {\"sum\": 1.0, \"count\": 1, \"min\": 1, \"max\": 1}}}\n",
      "\u001b[0m\n",
      "\u001b[35m[2021-05-27 13:06:42.518] [tensorio] [warning] TensorIO is already initialized; ignoring the initialization routine.\u001b[0m\n",
      "\u001b[35m[05/27/2021 13:06:42 INFO 140112650258240] Searching index...\u001b[0m\n",
      "\u001b[35m[05/27/2021 13:06:42 INFO 140112650258240] ...Done searching index in 0 second(s)\u001b[0m\n",
      "\u001b[35m[2021-05-27 13:06:42.828] [tensorio] [info] epoch_stats={\"data_pipeline\": \"/tmp/tmp2bo4pm5q/tmp2g46_tw_\", \"epoch\": 0, \"duration\": 309, \"num_examples\": 1, \"num_bytes\": 4771060}\u001b[0m\n",
      "\u001b[34m#metrics {\"StartTime\": 1622120802.3861475, \"EndTime\": 1622120803.669814, \"Dimensions\": {\"Algorithm\": \"KNNModel\", \"Host\": \"UNKNOWN\", \"Operation\": \"scoring\"}, \"Metrics\": {\"model.evaluate.time\": {\"sum\": 300.7371425628662, \"count\": 1, \"min\": 300.7371425628662, \"max\": 300.7371425628662}, \"invocations.count\": {\"sum\": 1.0, \"count\": 1, \"min\": 1, \"max\": 1}}}\n",
      "\u001b[0m\n",
      "\u001b[35m#metrics {\"StartTime\": 1622120802.3861475, \"EndTime\": 1622120803.669814, \"Dimensions\": {\"Algorithm\": \"KNNModel\", \"Host\": \"UNKNOWN\", \"Operation\": \"scoring\"}, \"Metrics\": {\"model.evaluate.time\": {\"sum\": 300.7371425628662, \"count\": 1, \"min\": 300.7371425628662, \"max\": 300.7371425628662}, \"invocations.count\": {\"sum\": 1.0, \"count\": 1, \"min\": 1, \"max\": 1}}}\n",
      "\u001b[0m\n"
     ]
    }
   ],
   "source": [
    "# Upload inference data to S3\n",
    "knn_batch_data_path = writeDatasetToProtobuf(knn_user_matrix,\n",
    "                                             bucket, \n",
    "                                             knn_prefix, \n",
    "                                             train_key, \n",
    "                                             \"dense\")\n",
    "print (\"Batch inference data path: \",knn_batch_data_path)\n",
    "\n",
    "# Initialize the transformer object\n",
    "transformer =sagemaker.transformer.Transformer(\n",
    "    base_transform_job_name=\"knn\",\n",
    "    model_name=knn_model_name,\n",
    "    instance_count=1,\n",
    "    instance_type=instance_type,\n",
    "    output_path=knn_output_prefix,\n",
    "    accept=\"application/jsonlines; verbose=true\",\n",
    "    \n",
    ")\n",
    "\n",
    "# Start a transform job\n",
    "transformer.transform(knn_batch_data_path, \n",
    "                      content_type='application/x-recordio-protobuf',\n",
    "                      split_type='RecordIO')\n",
    "transformer.wait()"
   ]
  },
  {
   "cell_type": "markdown",
   "metadata": {},
   "source": [
    "You are now free to examine the predictions. Download them first."
   ]
  },
  {
   "cell_type": "code",
   "execution_count": 66,
   "metadata": {},
   "outputs": [],
   "source": [
    "# Download predictions \n",
    "results_file_name = \"inference_output\"\n",
    "inference_output_file = \"knn/output/train_knn.out\"\n",
    "s3_client = boto3.client('s3')\n",
    "s3_client.download_file(bucket, inference_output_file, results_file_name)"
   ]
  },
  {
   "cell_type": "code",
   "execution_count": 67,
   "metadata": {},
   "outputs": [],
   "source": [
    "# Open file and load it to memory\n",
    "with open(results_file_name) as f:\n",
    "    results = f.readlines() "
   ]
  },
  {
   "cell_type": "markdown",
   "metadata": {},
   "source": [
    "The results contain the 100 nearest neighbor movie IDs with their corresponding distances. See how it looks for user number 200."
   ]
  },
  {
   "cell_type": "code",
   "execution_count": 68,
   "metadata": {
    "scrolled": true
   },
   "outputs": [
    {
     "name": "stdout",
     "output_type": "stream",
     "text": [
      "Recommended movie Ids for user #200 : [4217, 2854, 1035, 944, 1108, 2721, 6050, 435, 170, 1832, 6016, 6269, 965, 1, 213, 5931, 287, 261, 6381, 1625, 3141, 362, 788, 141, 38, 1370, 6054, 94, 622, 994, 25, 1170, 5859, 334, 203, 152, 633, 2195, 167, 4629, 34, 1194, 79, 895, 343, 2757, 5887, 184, 23, 1919, 6474, 8, 2475, 3621, 7, 252, 496, 11, 936, 3400, 1953, 4471, 1955, 913, 208, 1799, 4, 415, 1253, 2710, 393, 2613, 404, 115, 6, 1736, 3151, 2818, 290, 28, 64, 779, 1826, 1218, 139, 390, 578, 4780, 4791, 6349, 201, 62, 37, 71, 86, 1981, 2000, 3130, 76, 468]\n",
      "Movie distances for user #200 : [0.1824, 0.1829, 0.183, 0.1833, 0.1834, 0.1838, 0.1841, 0.1845, 0.1845, 0.1845, 0.1859, 0.1865, 0.1867, 0.1868, 0.1868, 0.1874, 0.1878, 0.1883, 0.1884, 0.1885, 0.1898, 0.1901, 0.192, 0.1926, 0.1931, 0.1934, 0.1935, 0.1939, 0.195, 0.1975, 0.1981, 0.1991, 0.1997, 0.2003, 0.2013, 0.2014, 0.2043, 0.2046, 0.205, 0.2058, 0.2058, 0.2083, 0.2095, 0.2095, 0.2108, 0.2121, 0.2143, 0.2155, 0.2163, 0.2195, 0.2196, 0.2197, 0.2197, 0.2198, 0.22, 0.2217, 0.2226, 0.2233, 0.2234, 0.2234, 0.2241, 0.2253, 0.2255, 0.2258, 0.2265, 0.2275, 0.2279, 0.2289, 0.2296, 0.231, 0.2324, 0.2331, 0.2339, 0.2352, 0.2359, 0.2368, 0.2385, 0.2397, 0.2404, 0.2407, 0.2444, 0.2465, 0.2484, 0.2488, 0.2489, 0.249, 0.249, 0.2498, 0.2534, 0.2546, 0.2569, 0.2578, 0.2657, 0.2704, 0.2709, 0.2741, 0.2825, 0.2837, 0.2955, 0.3315]\n"
     ]
    }
   ],
   "source": [
    "test_user_idx = 200\n",
    "u_one_json = json.loads(results[test_user_idx])\n",
    "recommended_movies = [int(movie_id) for movie_id in u_one_json['labels']]\n",
    "distances = [round(distance, 4) for distance in u_one_json['distances']]\n",
    "\n",
    "print(f'Recommended movie Ids for user #{test_user_idx} : {recommended_movies}')\n",
    "\n",
    "print(f'Movie distances for user #{test_user_idx} : {distances}')"
   ]
  },
  {
   "cell_type": "markdown",
   "metadata": {},
   "source": [
    "You got the movies closest to user 200's tastes. Now, you can see the titles."
   ]
  },
  {
   "cell_type": "code",
   "execution_count": 69,
   "metadata": {},
   "outputs": [
    {
     "data": {
      "text/plain": [
       "array(['Downton Abbey Season 1', 'Grimm Season 1', 'Interstellar',\n",
       "       'Alphas Season 1', 'Sneaky Pete - Season 1',\n",
       "       'The Americans Season 1', 'The Good Wife, Season 4',\n",
       "       'Grimm Season 3', 'Under The Dome, Season 1', 'Justified Season 4',\n",
       "       'Justified Season 1', 'Luther Season 1', 'The Unit Season 1',\n",
       "       'Mud', 'The Naked Archaeologist', 'Birdman', 'Red',\n",
       "       'Transparent Season 1', 'Masterpiece: Inspector Lewis, Season 4',\n",
       "       'Gone Girl', 'World War Z', 'Vikings Season 1', \"You've Got Mail\",\n",
       "       'Fringe: The Complete First Season', 'Call the Midwife Season 1',\n",
       "       'Labor Day', 'Hercules (2014 Extended Cut)',\n",
       "       'True Blood: Season 1', 'Gravity', 'A Little Chaos', 'Pilot',\n",
       "       'Eureka Season 4', 'Riddick', 'The Good Lie', 'Life of Pi',\n",
       "       '3 Days to Kill', 'The Last Stand', 'Disney, Secret of the Wings',\n",
       "       'The Lone Ranger (2013)', 'After Earth', 'Ouija',\n",
       "       'Eastbound & Down: Season 1', 'Firefly Season 1', 'Jack Reacher',\n",
       "       'Skyfall', 'Django Unchained', 'Suits Season 1', 'The Reader',\n",
       "       'The Heat', 'Chef', 'The Hunger Games: Catching Fire',\n",
       "       'Teenage Mutant Ninja Turtles', 'I, Frankenstein',\n",
       "       'Paul Blart: Mall Cop 2', 'Beetlejuice',\n",
       "       'Snow White & The Huntsman', 'Begin Again',\n",
       "       \"Gortimer Gibbon's Life on Normal Street - Season 1\",\n",
       "       'Sherlock Season 1', 'Harry Potter and the Goblet of Fire',\n",
       "       \"Ender's Game\", 'G.I. Joe: Retaliation', 'Awkward. Season 2',\n",
       "       'Rio', 'Total Recall', '300: Rise of an Empire', 'Kick-Ass 2',\n",
       "       'Sharknado', 'Wild', 'Unknown (2011)', 'Godzilla (2014)',\n",
       "       'Veronica Mars Season 2', 'The Duchess',\n",
       "       'The Roman Empire in the First Century', 'Roman Holiday',\n",
       "       'The West Wing: The Complete Fourth Season', 'The Big Lebowski',\n",
       "       'Outlander', 'The Matrix', 'Castle Season 1',\n",
       "       'The Shield, Season 2', 'Solomon Kane',\n",
       "       'Ice Age: Continental Drift', 'Chocolat', 'The Great Raid',\n",
       "       'The Lovely Bones', 'Annie', 'Catfish', 'The League Season 6',\n",
       "       'Trance', 'The Adventures Of Milo And Otis', 'Blended (2014)',\n",
       "       \"Coal Miner's Daughter\", 'Fireproof',\n",
       "       'Friday Night Lights Season 1'], dtype=object)"
      ]
     },
     "execution_count": 69,
     "metadata": {},
     "output_type": "execute_result"
    }
   ],
   "source": [
    "titles_200 = reduced_df[reduced_df.item.isin(recommended_movies)].product_title.unique()\n",
    "titles_200"
   ]
  },
  {
   "cell_type": "markdown",
   "metadata": {},
   "source": [
    "Compare them with the favorite movies for user 200."
   ]
  },
  {
   "cell_type": "code",
   "execution_count": 70,
   "metadata": {},
   "outputs": [
    {
     "data": {
      "text/html": [
       "<div>\n",
       "<style scoped>\n",
       "    .dataframe tbody tr th:only-of-type {\n",
       "        vertical-align: middle;\n",
       "    }\n",
       "\n",
       "    .dataframe tbody tr th {\n",
       "        vertical-align: top;\n",
       "    }\n",
       "\n",
       "    .dataframe thead th {\n",
       "        text-align: right;\n",
       "    }\n",
       "</style>\n",
       "<table border=\"1\" class=\"dataframe\">\n",
       "  <thead>\n",
       "    <tr style=\"text-align: right;\">\n",
       "      <th></th>\n",
       "      <th>customer_id</th>\n",
       "      <th>product_id</th>\n",
       "      <th>star_rating</th>\n",
       "      <th>product_title</th>\n",
       "      <th>user</th>\n",
       "      <th>item</th>\n",
       "    </tr>\n",
       "  </thead>\n",
       "  <tbody>\n",
       "    <tr>\n",
       "      <th>6753</th>\n",
       "      <td>43080952</td>\n",
       "      <td>B00IIVJU3Q</td>\n",
       "      <td>5</td>\n",
       "      <td>Philomena</td>\n",
       "      <td>200</td>\n",
       "      <td>179</td>\n",
       "    </tr>\n",
       "    <tr>\n",
       "      <th>14249</th>\n",
       "      <td>43080952</td>\n",
       "      <td>B00VFTA70I</td>\n",
       "      <td>5</td>\n",
       "      <td>The Imitation Game</td>\n",
       "      <td>200</td>\n",
       "      <td>87</td>\n",
       "    </tr>\n",
       "    <tr>\n",
       "      <th>28407</th>\n",
       "      <td>43080952</td>\n",
       "      <td>B00KG2NGPS</td>\n",
       "      <td>5</td>\n",
       "      <td>The Monuments Men</td>\n",
       "      <td>200</td>\n",
       "      <td>149</td>\n",
       "    </tr>\n",
       "    <tr>\n",
       "      <th>60486</th>\n",
       "      <td>43080952</td>\n",
       "      <td>B00DTOYJJ2</td>\n",
       "      <td>5</td>\n",
       "      <td>Breaking Bad The Final Season</td>\n",
       "      <td>200</td>\n",
       "      <td>75</td>\n",
       "    </tr>\n",
       "    <tr>\n",
       "      <th>71978</th>\n",
       "      <td>43080952</td>\n",
       "      <td>B00TPJHW7Q</td>\n",
       "      <td>5</td>\n",
       "      <td>The Theory of Everything</td>\n",
       "      <td>200</td>\n",
       "      <td>157</td>\n",
       "    </tr>\n",
       "    <tr>\n",
       "      <th>84419</th>\n",
       "      <td>43080952</td>\n",
       "      <td>B0047WJ12K</td>\n",
       "      <td>5</td>\n",
       "      <td>Inception</td>\n",
       "      <td>200</td>\n",
       "      <td>476</td>\n",
       "    </tr>\n",
       "    <tr>\n",
       "      <th>118790</th>\n",
       "      <td>43080952</td>\n",
       "      <td>B001P4NZ9I</td>\n",
       "      <td>5</td>\n",
       "      <td>Louis CK: Chewed Up</td>\n",
       "      <td>200</td>\n",
       "      <td>3657</td>\n",
       "    </tr>\n",
       "    <tr>\n",
       "      <th>119440</th>\n",
       "      <td>43080952</td>\n",
       "      <td>B0059R5Q08</td>\n",
       "      <td>5</td>\n",
       "      <td>Jane Eyre</td>\n",
       "      <td>200</td>\n",
       "      <td>2632</td>\n",
       "    </tr>\n",
       "    <tr>\n",
       "      <th>136597</th>\n",
       "      <td>43080952</td>\n",
       "      <td>B00TF87WQI</td>\n",
       "      <td>5</td>\n",
       "      <td>Rosewater</td>\n",
       "      <td>200</td>\n",
       "      <td>3481</td>\n",
       "    </tr>\n",
       "    <tr>\n",
       "      <th>161384</th>\n",
       "      <td>43080952</td>\n",
       "      <td>B00DGNO3WE</td>\n",
       "      <td>5</td>\n",
       "      <td>Quartet</td>\n",
       "      <td>200</td>\n",
       "      <td>1106</td>\n",
       "    </tr>\n",
       "    <tr>\n",
       "      <th>167594</th>\n",
       "      <td>43080952</td>\n",
       "      <td>B001VLKWUA</td>\n",
       "      <td>5</td>\n",
       "      <td>Out of Africa</td>\n",
       "      <td>200</td>\n",
       "      <td>3187</td>\n",
       "    </tr>\n",
       "  </tbody>\n",
       "</table>\n",
       "</div>"
      ],
      "text/plain": [
       "        customer_id  product_id  star_rating                  product_title  \\\n",
       "6753       43080952  B00IIVJU3Q            5                      Philomena   \n",
       "14249      43080952  B00VFTA70I            5             The Imitation Game   \n",
       "28407      43080952  B00KG2NGPS            5              The Monuments Men   \n",
       "60486      43080952  B00DTOYJJ2            5  Breaking Bad The Final Season   \n",
       "71978      43080952  B00TPJHW7Q            5       The Theory of Everything   \n",
       "84419      43080952  B0047WJ12K            5                      Inception   \n",
       "118790     43080952  B001P4NZ9I            5            Louis CK: Chewed Up   \n",
       "119440     43080952  B0059R5Q08            5                      Jane Eyre   \n",
       "136597     43080952  B00TF87WQI            5                      Rosewater   \n",
       "161384     43080952  B00DGNO3WE            5                        Quartet   \n",
       "167594     43080952  B001VLKWUA            5                  Out of Africa   \n",
       "\n",
       "        user  item  \n",
       "6753     200   179  \n",
       "14249    200    87  \n",
       "28407    200   149  \n",
       "60486    200    75  \n",
       "71978    200   157  \n",
       "84419    200   476  \n",
       "118790   200  3657  \n",
       "119440   200  2632  \n",
       "136597   200  3481  \n",
       "161384   200  1106  \n",
       "167594   200  3187  "
      ]
     },
     "execution_count": 70,
     "metadata": {},
     "output_type": "execute_result"
    }
   ],
   "source": [
    "reduced_df.query('user==200 & star_rating == 5')"
   ]
  },
  {
   "cell_type": "markdown",
   "metadata": {},
   "source": [
    "**Question:** Do you think these recommendations make sense? Explain why or why not."
   ]
  },
  {
   "cell_type": "code",
   "execution_count": null,
   "metadata": {},
   "outputs": [],
   "source": [
    "# Enter your answer here:"
   ]
  },
  {
   "cell_type": "code",
   "execution_count": 71,
   "metadata": {},
   "outputs": [
    {
     "data": {
      "text/plain": [
       "1"
      ]
     },
     "execution_count": 71,
     "metadata": {},
     "output_type": "execute_result"
    }
   ],
   "source": [
    "np.isin(titles_200, titles.tail(100).product_title.unique()).sum()"
   ]
  },
  {
   "cell_type": "markdown",
   "metadata": {},
   "source": [
    "**Super bonus question:** Recover the predictions for user 201, and see how they compare with user 200. Are they still correlated? Do you think this approach was an improvement over the first regressor?"
   ]
  },
  {
   "cell_type": "code",
   "execution_count": 72,
   "metadata": {},
   "outputs": [],
   "source": [
    "# Recover the predictions for user 201\n",
    "\n",
    "test_user_idx = 201\n",
    "u_one_json = json.loads(results[test_user_idx])\n",
    "recommended_movies_201 = [int(movie_id) for movie_id in u_one_json['labels']]"
   ]
  },
  {
   "cell_type": "code",
   "execution_count": 73,
   "metadata": {},
   "outputs": [
    {
     "data": {
      "text/plain": [
       "array(['Downton Abbey Season 1', 'Grimm Season 1',\n",
       "       'Escobar: Paradise Lost', 'Interstellar', 'Alphas Season 1',\n",
       "       'Sneaky Pete - Season 1', 'The Good Wife, Season 4',\n",
       "       'Grimm Season 3', 'Under The Dome, Season 1', 'Justified Season 4',\n",
       "       'Upstairs Downstairs Season 1', 'Justified Season 1',\n",
       "       'Lie to Me Season 2', 'The Unit Season 1', 'Duck Dynasty Season 2',\n",
       "       'Mud', 'The Naked Archaeologist', 'Birdman', 'Red',\n",
       "       'Transparent Season 1', 'Masterpiece: Inspector Lewis, Season 4',\n",
       "       'Gone Girl', 'The Americans Season 1', 'Veep: Season 1',\n",
       "       'World War Z', 'Vikings Season 1', \"You've Got Mail\",\n",
       "       'Call the Midwife Season 1', 'Labor Day',\n",
       "       'Hercules (2014 Extended Cut)', 'Gravity', 'Shenandoah',\n",
       "       'A Little Chaos', 'Birdsong Season 1', 'Pilot', 'Eureka Season 4',\n",
       "       'Riddick', 'The Good Lie', 'Life of Pi', '3 Days to Kill',\n",
       "       'The Last Stand', 'The Lone Ranger (2013)', 'Despicable Me 2',\n",
       "       'After Earth', 'Ouija', 'Eastbound & Down: Season 1',\n",
       "       'Jack Reacher', 'Skyfall', 'Django Unchained', 'Suits Season 1',\n",
       "       'When Trumpets Fade', 'The Glades Season 3', 'The Reader',\n",
       "       'Sons Of Anarchy Season 4', 'The Heat', 'Chef',\n",
       "       'The Hunger Games: Catching Fire', 'Teenage Mutant Ninja Turtles',\n",
       "       'I, Frankenstein', 'Paul Blart: Mall Cop 2', 'Beetlejuice',\n",
       "       'Begin Again',\n",
       "       \"Gortimer Gibbon's Life on Normal Street - Season 1\",\n",
       "       'Sherlock Season 1', 'Harry Potter and the Goblet of Fire',\n",
       "       'Bridesmaids Unrated', \"Ender's Game\", 'G.I. Joe: Retaliation',\n",
       "       'Awkward. Season 2', 'Total Recall', 'Transcendence (2014)',\n",
       "       '300: Rise of an Empire', 'Kick-Ass 2', '_Duplicate_Annabelle',\n",
       "       'Star Trek Original (Remastered) Season 2', 'Sharknado', 'Wild',\n",
       "       'Godzilla (2014)', 'Veronica Mars Season 2', 'The Duchess',\n",
       "       'Roman Holiday', 'The West Wing: The Complete Fourth Season',\n",
       "       'Outlander', 'Ground War: The Evolution of the Battlefield',\n",
       "       'The Matrix', 'The Shield, Season 2', 'Solomon Kane',\n",
       "       'Ice Age: Continental Drift', 'The Wolverine', 'Chocolat',\n",
       "       'The Great Raid', 'The Lovely Bones', 'Annie',\n",
       "       'Ripper Street, Season 2', 'Catfish', 'Trance',\n",
       "       'The Adventures Of Milo And Otis', 'Blended (2014)', 'Fireproof'],\n",
       "      dtype=object)"
      ]
     },
     "execution_count": 73,
     "metadata": {},
     "output_type": "execute_result"
    }
   ],
   "source": [
    "# Print out recommendations\n",
    "\n",
    "titles_201 = reduced_df[reduced_df.item.isin(recommended_movies_201)].product_title.unique()\n",
    "titles_201"
   ]
  },
  {
   "cell_type": "code",
   "execution_count": 74,
   "metadata": {},
   "outputs": [
    {
     "name": "stdout",
     "output_type": "stream",
     "text": [
      "The recommendations for \"user 201\" that are present in \"user 200\" are: 81 out of: 95\n"
     ]
    }
   ],
   "source": [
    "# Compare the two predictions\n",
    "\n",
    "overlap = np.isin(titles_200, titles_201).sum()\n",
    "print(f'The recommendations for \"user 201\" that are present in \"user 200\" are: {overlap} out of: {len(titles_200)}')"
   ]
  },
  {
   "cell_type": "code",
   "execution_count": 75,
   "metadata": {},
   "outputs": [
    {
     "data": {
      "text/html": [
       "<div>\n",
       "<style scoped>\n",
       "    .dataframe tbody tr th:only-of-type {\n",
       "        vertical-align: middle;\n",
       "    }\n",
       "\n",
       "    .dataframe tbody tr th {\n",
       "        vertical-align: top;\n",
       "    }\n",
       "\n",
       "    .dataframe thead th {\n",
       "        text-align: right;\n",
       "    }\n",
       "</style>\n",
       "<table border=\"1\" class=\"dataframe\">\n",
       "  <thead>\n",
       "    <tr style=\"text-align: right;\">\n",
       "      <th></th>\n",
       "      <th>customer_id</th>\n",
       "      <th>product_id</th>\n",
       "      <th>star_rating</th>\n",
       "      <th>product_title</th>\n",
       "      <th>user</th>\n",
       "      <th>item</th>\n",
       "    </tr>\n",
       "  </thead>\n",
       "  <tbody>\n",
       "    <tr>\n",
       "      <th>6616</th>\n",
       "      <td>51970325</td>\n",
       "      <td>B00ESNE696</td>\n",
       "      <td>5</td>\n",
       "      <td>The Good Wife, Season 5</td>\n",
       "      <td>201</td>\n",
       "      <td>336</td>\n",
       "    </tr>\n",
       "    <tr>\n",
       "      <th>9313</th>\n",
       "      <td>51970325</td>\n",
       "      <td>B0064MGU98</td>\n",
       "      <td>5</td>\n",
       "      <td>The Good Wife, Season 1</td>\n",
       "      <td>201</td>\n",
       "      <td>667</td>\n",
       "    </tr>\n",
       "    <tr>\n",
       "      <th>9349</th>\n",
       "      <td>51970325</td>\n",
       "      <td>B005HFB85Y</td>\n",
       "      <td>5</td>\n",
       "      <td>Philly Season 1</td>\n",
       "      <td>201</td>\n",
       "      <td>4285</td>\n",
       "    </tr>\n",
       "    <tr>\n",
       "      <th>21229</th>\n",
       "      <td>51970325</td>\n",
       "      <td>B00CW8DRU8</td>\n",
       "      <td>5</td>\n",
       "      <td>The Newsroom: Season 1</td>\n",
       "      <td>201</td>\n",
       "      <td>218</td>\n",
       "    </tr>\n",
       "    <tr>\n",
       "      <th>25844</th>\n",
       "      <td>51970325</td>\n",
       "      <td>B00COGXGNQ</td>\n",
       "      <td>5</td>\n",
       "      <td>Safe Haven</td>\n",
       "      <td>201</td>\n",
       "      <td>581</td>\n",
       "    </tr>\n",
       "    <tr>\n",
       "      <th>47019</th>\n",
       "      <td>51970325</td>\n",
       "      <td>B004BGSGLO</td>\n",
       "      <td>5</td>\n",
       "      <td>As Time Goes By Season 3</td>\n",
       "      <td>201</td>\n",
       "      <td>2212</td>\n",
       "    </tr>\n",
       "    <tr>\n",
       "      <th>47048</th>\n",
       "      <td>51970325</td>\n",
       "      <td>B004BGQA8A</td>\n",
       "      <td>5</td>\n",
       "      <td>As Time Goes By Season 1</td>\n",
       "      <td>201</td>\n",
       "      <td>1537</td>\n",
       "    </tr>\n",
       "    <tr>\n",
       "      <th>66576</th>\n",
       "      <td>51970325</td>\n",
       "      <td>B004BGS3C6</td>\n",
       "      <td>5</td>\n",
       "      <td>As Time Goes By Season 2</td>\n",
       "      <td>201</td>\n",
       "      <td>2177</td>\n",
       "    </tr>\n",
       "    <tr>\n",
       "      <th>66608</th>\n",
       "      <td>51970325</td>\n",
       "      <td>B004BTUON4</td>\n",
       "      <td>5</td>\n",
       "      <td>As Time Goes By Season 5</td>\n",
       "      <td>201</td>\n",
       "      <td>2793</td>\n",
       "    </tr>\n",
       "    <tr>\n",
       "      <th>78467</th>\n",
       "      <td>51970325</td>\n",
       "      <td>B0031KE9C6</td>\n",
       "      <td>5</td>\n",
       "      <td>Veronica Mars Season One</td>\n",
       "      <td>201</td>\n",
       "      <td>2165</td>\n",
       "    </tr>\n",
       "    <tr>\n",
       "      <th>89545</th>\n",
       "      <td>51970325</td>\n",
       "      <td>B00IUBXPEY</td>\n",
       "      <td>5</td>\n",
       "      <td>The Hunger Games: Catching Fire</td>\n",
       "      <td>201</td>\n",
       "      <td>28</td>\n",
       "    </tr>\n",
       "    <tr>\n",
       "      <th>96626</th>\n",
       "      <td>51970325</td>\n",
       "      <td>B00DQIT734</td>\n",
       "      <td>5</td>\n",
       "      <td>Suits Season 3</td>\n",
       "      <td>201</td>\n",
       "      <td>602</td>\n",
       "    </tr>\n",
       "    <tr>\n",
       "      <th>104031</th>\n",
       "      <td>51970325</td>\n",
       "      <td>B008BQ8VOC</td>\n",
       "      <td>5</td>\n",
       "      <td>Suits Season 2</td>\n",
       "      <td>201</td>\n",
       "      <td>1613</td>\n",
       "    </tr>\n",
       "    <tr>\n",
       "      <th>110522</th>\n",
       "      <td>51970325</td>\n",
       "      <td>B007IVN8QW</td>\n",
       "      <td>5</td>\n",
       "      <td>Dance Academy Season 1</td>\n",
       "      <td>201</td>\n",
       "      <td>4179</td>\n",
       "    </tr>\n",
       "    <tr>\n",
       "      <th>112770</th>\n",
       "      <td>51970325</td>\n",
       "      <td>B005544V6A</td>\n",
       "      <td>5</td>\n",
       "      <td>Suits Season 1</td>\n",
       "      <td>201</td>\n",
       "      <td>2009</td>\n",
       "    </tr>\n",
       "    <tr>\n",
       "      <th>131848</th>\n",
       "      <td>51970325</td>\n",
       "      <td>B00A954YS0</td>\n",
       "      <td>5</td>\n",
       "      <td>Dance Academy Season 2</td>\n",
       "      <td>201</td>\n",
       "      <td>6152</td>\n",
       "    </tr>\n",
       "    <tr>\n",
       "      <th>148312</th>\n",
       "      <td>51970325</td>\n",
       "      <td>B009JZWO3I</td>\n",
       "      <td>5</td>\n",
       "      <td>The Good Wife, Season 4</td>\n",
       "      <td>201</td>\n",
       "      <td>1218</td>\n",
       "    </tr>\n",
       "    <tr>\n",
       "      <th>151569</th>\n",
       "      <td>51970325</td>\n",
       "      <td>B007O62JG6</td>\n",
       "      <td>5</td>\n",
       "      <td>Tangled Ever After (Short)</td>\n",
       "      <td>201</td>\n",
       "      <td>1896</td>\n",
       "    </tr>\n",
       "    <tr>\n",
       "      <th>170853</th>\n",
       "      <td>51970325</td>\n",
       "      <td>B00196YNWU</td>\n",
       "      <td>5</td>\n",
       "      <td>Annie</td>\n",
       "      <td>201</td>\n",
       "      <td>5938</td>\n",
       "    </tr>\n",
       "  </tbody>\n",
       "</table>\n",
       "</div>"
      ],
      "text/plain": [
       "        customer_id  product_id  star_rating                    product_title  \\\n",
       "6616       51970325  B00ESNE696            5          The Good Wife, Season 5   \n",
       "9313       51970325  B0064MGU98            5          The Good Wife, Season 1   \n",
       "9349       51970325  B005HFB85Y            5                  Philly Season 1   \n",
       "21229      51970325  B00CW8DRU8            5           The Newsroom: Season 1   \n",
       "25844      51970325  B00COGXGNQ            5                       Safe Haven   \n",
       "47019      51970325  B004BGSGLO            5         As Time Goes By Season 3   \n",
       "47048      51970325  B004BGQA8A            5         As Time Goes By Season 1   \n",
       "66576      51970325  B004BGS3C6            5         As Time Goes By Season 2   \n",
       "66608      51970325  B004BTUON4            5         As Time Goes By Season 5   \n",
       "78467      51970325  B0031KE9C6            5         Veronica Mars Season One   \n",
       "89545      51970325  B00IUBXPEY            5  The Hunger Games: Catching Fire   \n",
       "96626      51970325  B00DQIT734            5                   Suits Season 3   \n",
       "104031     51970325  B008BQ8VOC            5                   Suits Season 2   \n",
       "110522     51970325  B007IVN8QW            5           Dance Academy Season 1   \n",
       "112770     51970325  B005544V6A            5                   Suits Season 1   \n",
       "131848     51970325  B00A954YS0            5           Dance Academy Season 2   \n",
       "148312     51970325  B009JZWO3I            5          The Good Wife, Season 4   \n",
       "151569     51970325  B007O62JG6            5       Tangled Ever After (Short)   \n",
       "170853     51970325  B00196YNWU            5                            Annie   \n",
       "\n",
       "        user  item  \n",
       "6616     201   336  \n",
       "9313     201   667  \n",
       "9349     201  4285  \n",
       "21229    201   218  \n",
       "25844    201   581  \n",
       "47019    201  2212  \n",
       "47048    201  1537  \n",
       "66576    201  2177  \n",
       "66608    201  2793  \n",
       "78467    201  2165  \n",
       "89545    201    28  \n",
       "96626    201   602  \n",
       "104031   201  1613  \n",
       "110522   201  4179  \n",
       "112770   201  2009  \n",
       "131848   201  6152  \n",
       "148312   201  1218  \n",
       "151569   201  1896  \n",
       "170853   201  5938  "
      ]
     },
     "execution_count": 75,
     "metadata": {},
     "output_type": "execute_result"
    }
   ],
   "source": [
    "# Compare with user 201 likes\n",
    "\n",
    "reduced_df.query('user==201 & star_rating == 5')"
   ]
  },
  {
   "cell_type": "code",
   "execution_count": 76,
   "metadata": {},
   "outputs": [
    {
     "name": "stdout",
     "output_type": "stream",
     "text": [
      "The recommendations for \"user 900\" that are present in \"user 200\" are: 81 out of: 95\n"
     ]
    },
    {
     "data": {
      "text/html": [
       "<div>\n",
       "<style scoped>\n",
       "    .dataframe tbody tr th:only-of-type {\n",
       "        vertical-align: middle;\n",
       "    }\n",
       "\n",
       "    .dataframe tbody tr th {\n",
       "        vertical-align: top;\n",
       "    }\n",
       "\n",
       "    .dataframe thead th {\n",
       "        text-align: right;\n",
       "    }\n",
       "</style>\n",
       "<table border=\"1\" class=\"dataframe\">\n",
       "  <thead>\n",
       "    <tr style=\"text-align: right;\">\n",
       "      <th></th>\n",
       "      <th>customer_id</th>\n",
       "      <th>product_id</th>\n",
       "      <th>star_rating</th>\n",
       "      <th>product_title</th>\n",
       "      <th>user</th>\n",
       "      <th>item</th>\n",
       "    </tr>\n",
       "  </thead>\n",
       "  <tbody>\n",
       "    <tr>\n",
       "      <th>4745</th>\n",
       "      <td>35806677</td>\n",
       "      <td>B00ECU34ZM</td>\n",
       "      <td>5</td>\n",
       "      <td>Oblivion</td>\n",
       "      <td>900</td>\n",
       "      <td>21</td>\n",
       "    </tr>\n",
       "    <tr>\n",
       "      <th>52574</th>\n",
       "      <td>35806677</td>\n",
       "      <td>B0046B8GEQ</td>\n",
       "      <td>5</td>\n",
       "      <td>Despicable Me</td>\n",
       "      <td>900</td>\n",
       "      <td>239</td>\n",
       "    </tr>\n",
       "    <tr>\n",
       "      <th>61982</th>\n",
       "      <td>35806677</td>\n",
       "      <td>B000UU2YKE</td>\n",
       "      <td>5</td>\n",
       "      <td>Battlestar Galactica Season 1</td>\n",
       "      <td>900</td>\n",
       "      <td>5804</td>\n",
       "    </tr>\n",
       "    <tr>\n",
       "      <th>62258</th>\n",
       "      <td>35806677</td>\n",
       "      <td>B00HUNOS2G</td>\n",
       "      <td>5</td>\n",
       "      <td>Riddick</td>\n",
       "      <td>900</td>\n",
       "      <td>290</td>\n",
       "    </tr>\n",
       "    <tr>\n",
       "      <th>70465</th>\n",
       "      <td>35806677</td>\n",
       "      <td>B00IMYZL2S</td>\n",
       "      <td>5</td>\n",
       "      <td>Thor: The Dark World</td>\n",
       "      <td>900</td>\n",
       "      <td>137</td>\n",
       "    </tr>\n",
       "    <tr>\n",
       "      <th>75063</th>\n",
       "      <td>35806677</td>\n",
       "      <td>B00JJHDX9A</td>\n",
       "      <td>5</td>\n",
       "      <td>The Hobbit: The Desolation of Smaug</td>\n",
       "      <td>900</td>\n",
       "      <td>319</td>\n",
       "    </tr>\n",
       "    <tr>\n",
       "      <th>75865</th>\n",
       "      <td>35806677</td>\n",
       "      <td>B001GZPZXU</td>\n",
       "      <td>5</td>\n",
       "      <td>Cinderella Man</td>\n",
       "      <td>900</td>\n",
       "      <td>4260</td>\n",
       "    </tr>\n",
       "    <tr>\n",
       "      <th>83735</th>\n",
       "      <td>35806677</td>\n",
       "      <td>B00HB8UWCU</td>\n",
       "      <td>5</td>\n",
       "      <td>Escape Plan</td>\n",
       "      <td>900</td>\n",
       "      <td>125</td>\n",
       "    </tr>\n",
       "    <tr>\n",
       "      <th>98489</th>\n",
       "      <td>35806677</td>\n",
       "      <td>B005NFVZTM</td>\n",
       "      <td>5</td>\n",
       "      <td>X-men: First Class</td>\n",
       "      <td>900</td>\n",
       "      <td>906</td>\n",
       "    </tr>\n",
       "    <tr>\n",
       "      <th>110584</th>\n",
       "      <td>35806677</td>\n",
       "      <td>B00BUCW54Q</td>\n",
       "      <td>5</td>\n",
       "      <td>Jack Reacher</td>\n",
       "      <td>900</td>\n",
       "      <td>231</td>\n",
       "    </tr>\n",
       "    <tr>\n",
       "      <th>124240</th>\n",
       "      <td>35806677</td>\n",
       "      <td>B001MXKLNA</td>\n",
       "      <td>5</td>\n",
       "      <td>The Pink Panther Show Season 1</td>\n",
       "      <td>900</td>\n",
       "      <td>1436</td>\n",
       "    </tr>\n",
       "    <tr>\n",
       "      <th>139899</th>\n",
       "      <td>35806677</td>\n",
       "      <td>B00E8B1358</td>\n",
       "      <td>5</td>\n",
       "      <td>G.I. Joe: Retaliation</td>\n",
       "      <td>900</td>\n",
       "      <td>1013</td>\n",
       "    </tr>\n",
       "    <tr>\n",
       "      <th>147561</th>\n",
       "      <td>35806677</td>\n",
       "      <td>B00AYB0TOW</td>\n",
       "      <td>5</td>\n",
       "      <td>Dredd</td>\n",
       "      <td>900</td>\n",
       "      <td>194</td>\n",
       "    </tr>\n",
       "    <tr>\n",
       "      <th>167251</th>\n",
       "      <td>35806677</td>\n",
       "      <td>B000VK99Z6</td>\n",
       "      <td>5</td>\n",
       "      <td>Hot Fuzz</td>\n",
       "      <td>900</td>\n",
       "      <td>1943</td>\n",
       "    </tr>\n",
       "  </tbody>\n",
       "</table>\n",
       "</div>"
      ],
      "text/plain": [
       "        customer_id  product_id  star_rating  \\\n",
       "4745       35806677  B00ECU34ZM            5   \n",
       "52574      35806677  B0046B8GEQ            5   \n",
       "61982      35806677  B000UU2YKE            5   \n",
       "62258      35806677  B00HUNOS2G            5   \n",
       "70465      35806677  B00IMYZL2S            5   \n",
       "75063      35806677  B00JJHDX9A            5   \n",
       "75865      35806677  B001GZPZXU            5   \n",
       "83735      35806677  B00HB8UWCU            5   \n",
       "98489      35806677  B005NFVZTM            5   \n",
       "110584     35806677  B00BUCW54Q            5   \n",
       "124240     35806677  B001MXKLNA            5   \n",
       "139899     35806677  B00E8B1358            5   \n",
       "147561     35806677  B00AYB0TOW            5   \n",
       "167251     35806677  B000VK99Z6            5   \n",
       "\n",
       "                              product_title  user  item  \n",
       "4745                               Oblivion   900    21  \n",
       "52574                         Despicable Me   900   239  \n",
       "61982         Battlestar Galactica Season 1   900  5804  \n",
       "62258                               Riddick   900   290  \n",
       "70465                  Thor: The Dark World   900   137  \n",
       "75063   The Hobbit: The Desolation of Smaug   900   319  \n",
       "75865                        Cinderella Man   900  4260  \n",
       "83735                           Escape Plan   900   125  \n",
       "98489                    X-men: First Class   900   906  \n",
       "110584                         Jack Reacher   900   231  \n",
       "124240       The Pink Panther Show Season 1   900  1436  \n",
       "139899                G.I. Joe: Retaliation   900  1013  \n",
       "147561                                Dredd   900   194  \n",
       "167251                             Hot Fuzz   900  1943  "
      ]
     },
     "execution_count": 76,
     "metadata": {},
     "output_type": "execute_result"
    }
   ],
   "source": [
    "test_user_idx = 900\n",
    "u_one_json = json.loads(results[test_user_idx])\n",
    "recommended_movies_900 = [int(movie_id) for movie_id in u_one_json['labels']]\n",
    "titles_900 = reduced_df[reduced_df.item.isin(recommended_movies_201)].product_title.unique()\n",
    "overlap_900 = np.isin(titles_200, titles_900).sum()\n",
    "print(f'The recommendations for \"user 900\" that are present in \"user 200\" are: {overlap} out of: {len(titles_200)}')\n",
    "reduced_df.query('user==900 & star_rating == 5')"
   ]
  },
  {
   "cell_type": "code",
   "execution_count": null,
   "metadata": {},
   "outputs": [],
   "source": [
    "# Enter your answer here:"
   ]
  },
  {
   "cell_type": "markdown",
   "metadata": {},
   "source": [
    "There are a number of things you can do to improve these models, such as adding features besides rating, trying different feature selection, hyperparameter tuning, and changing the models. The most sophisticated recommendation algorithms are based on deep learning. This can also be explored."
   ]
  },
  {
   "cell_type": "markdown",
   "metadata": {},
   "source": [
    "That is it! You now have a working recommender system that can tell you the top 100 movies for a user. Feel free to optimize and play with the hyperparameters and data to see if you can create an even better recommender system."
   ]
  },
  {
   "cell_type": "markdown",
   "metadata": {},
   "source": [
    "## Final thoughts\n",
    "\n",
    "In this notebook, you used different techniques to create a recommendations system using only Amazon SageMaker built-in algorithms. You learned how to prepare data in different formats and do feature engineering. You were able to identify problems with your trained models and reframe the problem in different ways to achieve an end result. \n",
    "\n",
    "As you can see now, training a model requires a lot of steps, preparation, and validation. It is not a streamlined process but an iterative one. You can think of this as a virtuous cycle that usually has the following steps:\n",
    "\n",
    "- Define the (business) problem.\n",
    "- Frame the problem as a machine learning problem.\n",
    "- Prepare data and perform freature engineerin.\n",
    "- Train and evaluate the model.\n",
    "- Deploy the model (inference).\n",
    "- Monitor and evaluate.\n",
    "\n",
    "Every step has its own challenges, and each of the steps feeds each other. So it is important to pay attention to the entire pipeline, not only the model training.\n"
   ]
  }
 ],
 "metadata": {
  "kernelspec": {
   "display_name": "conda_mxnet_p36",
   "language": "python",
   "name": "conda_mxnet_p36"
  },
  "language_info": {
   "codemirror_mode": {
    "name": "ipython",
    "version": 3
   },
   "file_extension": ".py",
   "mimetype": "text/x-python",
   "name": "python",
   "nbconvert_exporter": "python",
   "pygments_lexer": "ipython3",
   "version": "3.6.13"
  }
 },
 "nbformat": 4,
 "nbformat_minor": 4
}
